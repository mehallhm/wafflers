{
 "cells": [
  {
   "cell_type": "code",
   "execution_count": 2,
   "metadata": {},
   "outputs": [
    {
     "name": "stderr",
     "output_type": "stream",
     "text": [
      "/opt/homebrew/Caskroom/miniconda/base/envs/wafflers/lib/python3.11/site-packages/pandasdmx/remote.py:11: RuntimeWarning: optional dependency requests_cache is not installed; cache options to Session() have no effect\n",
      "  warn(\n"
     ]
    }
   ],
   "source": [
    "import pandas as pd\n",
    "import numpy as np\n",
    "import plotly.express as px\n",
    "import seaborn as sns\n",
    "import matplotlib.pyplot as plt\n",
    "import pandasdmx as sdmx\n",
    "from functools import reduce"
   ]
  },
  {
   "cell_type": "code",
   "execution_count": 7,
   "metadata": {},
   "outputs": [],
   "source": [
    "def melt_smdx_dataframe(df: pd.DataFrame) -> pd.DataFrame:\n",
    "\t\"\"\"\n",
    "\tGiven an ESTAT smdx dataframe, convert the datetimes to years and melt\n",
    "\n",
    "\t:param df: The raw SDMX parsed dataframe from ESTAT\n",
    "\t:returns: A melted dataframe with the columns of:\n",
    "\t\t`year` - the year of the observation\n",
    "\t\t`geo` - the country of the observation\n",
    "\t\t`value` - the value of the observation\n",
    "\t\"\"\"\n",
    "\tdf = df.reset_index()\n",
    "\tdf[\"year\"] = df[\"TIME_PERIOD\"].dt.year\n",
    "\tdf = df.drop(\"TIME_PERIOD\", axis=1)\n",
    "\treturn pd.melt(df, id_vars=\"year\")\n",
    "\n",
    "def merge_dataframes(dataframes: list[pd.DataFrame]) -> pd.DataFrame:\n",
    "\t\"\"\"\n",
    "\t\"\"\"\n",
    "\tfor i, df in enumerate(dataframes):\n",
    "\t\tdf.columns = [\"geo\", \"year\", i]\n",
    "\n",
    "\tmerged_df = reduce(lambda l, r: pd.merge(l, r, left_on=[\"year\", \"geo\"], right_on=[\"year\", \"geo\"]), dataframes)\n",
    "\treturn merged_df\n",
    "\n",
    "def fill_holes(df: pd.DataFrame) -> pd.DataFrame:\n",
    "\t\"\"\"\n",
    "\t\"\"\"\n",
    "\tlin_reg = lambda X, Y: np.matmul(np.linalg.inv(np.matmul(X.T, X)), np.matmul(X.T, Y))\n",
    "\n",
    "\tdfs = []\n",
    "\n",
    "\tfor name, group in df.groupby('geo'):\n",
    "\t\tcols = [[name for _ in range(len(group.index))]]\n",
    "\t\tfor i in range(1, len(group.columns)):\n",
    "\t\t\td = group.iloc[:, i:i+1].to_numpy()\n",
    "\n",
    "\t\t\tmissing_mask = np.isnan(d) | (d == 0)\n",
    "\t\t\tpresent_mask = ~missing_mask\n",
    "\n",
    "\t\t\tmissing_mask = missing_mask.reshape(1, -1)[0]\n",
    "\t\t\tpresent_mask = present_mask.reshape(1, -1)[0]\n",
    "\n",
    "\t\t\tif not np.any(missing_mask):\n",
    "\t\t\t\td = d.reshape(1, -1)[0]\n",
    "\t\t\t\tcols.append(d)\n",
    "\t\t\t\tcontinue\n",
    "\n",
    "\t\t\tif not np.any(present_mask):\n",
    "\t\t\t\td = d.reshape(1, -1)[0]\n",
    "\t\t\t\tcols.append(d)\n",
    "\t\t\t\tcontinue\n",
    "\n",
    "\t\t\tx_present = np.pad(np.arange(len(d))[present_mask].reshape(-1, 1), ((0, 0), (1, 0)), mode=\"constant\", constant_values=1)\n",
    "\t\t\ty_present = d[present_mask]\n",
    "\n",
    "\t\t\tw = lin_reg(x_present, y_present)\n",
    "\n",
    "\t\t\tx_missing = np.pad(np.arange(len(d))[missing_mask].reshape(-1, 1), ((0, 0), (1, 0)), mode=\"constant\", constant_values=1)\n",
    "\t\t\ty_missing_pred = np.matmul(x_missing, w)\n",
    "\n",
    "\t\t\td[missing_mask] = y_missing_pred\n",
    "\t\t\td = d.reshape(1, -1)[0]\n",
    "\n",
    "\t\t\tcols.append(d)\n",
    "\t\t\t\n",
    "\t\tdfs.append(pd.DataFrame(cols).T)\t\n",
    "\t\t\n",
    "\tdf_unswissed = pd.concat(dfs, axis=0)\n",
    "\tdf_unswissed.columns = df.columns\n",
    "\treturn df_unswissed\n",
    "\n",
    "def standardize(df: pd.DataFrame) -> pd.DataFrame:\n",
    "\t\"\"\"\n",
    "\t\"\"\"\n",
    "\tdf_standard = pd.DataFrame()\n",
    "\tfor feat in df.columns:\n",
    "\t\tif feat == \"geo\": continue\n",
    "\t\tdf_standard[f'{feat}'] = ((df[feat] - df[feat].mean()) / df[feat].std())\n",
    "\tdf_standard[\"geo\"] = df[\"geo\"]\n",
    "\n",
    "\treturn df_standard"
   ]
  },
  {
   "cell_type": "code",
   "execution_count": 27,
   "metadata": {},
   "outputs": [
    {
     "name": "stderr",
     "output_type": "stream",
     "text": [
      "2024-06-05 23:46:41,043 pandasdmx.reader.sdmxml - INFO: Use supplied dsd=… argument for non–structure-specific message\n",
      "2024-06-05 23:46:41,240 pandasdmx.reader.sdmxml - INFO: Use supplied dsd=… argument for non–structure-specific message\n",
      "/opt/homebrew/Caskroom/miniconda/base/envs/wafflers/lib/python3.11/functools.py:909: FutureWarning: 'A' is deprecated and will be removed in a future version, please use 'Y' instead.\n",
      "  return dispatch(args[0].__class__)(*args, **kw)\n",
      "2024-06-05 23:46:41,456 pandasdmx.reader.sdmxml - INFO: Use supplied dsd=… argument for non–structure-specific message\n",
      "/var/folders/jk/vqmr1l1d1dnflmyh1qdjmhk40000gn/T/ipykernel_97540/3566454452.py:46: FutureWarning: Downcasting object dtype arrays on .fillna, .ffill, .bfill is deprecated and will change in a future version. Call result.infer_objects(copy=False) instead. To opt-in to the future behavior, set `pd.set_option('future.no_silent_downcasting', True)`\n",
      "  df_dummies = df_dummies.fillna(0)\n"
     ]
    },
    {
     "data": {
      "text/plain": [
       "array([3.89988871e-17, 4.61239971e-01, 5.29738712e-01])"
      ]
     },
     "execution_count": 27,
     "metadata": {},
     "output_type": "execute_result"
    }
   ],
   "source": [
    "estat = sdmx.Request(\"ESTAT\")\n",
    "resp = estat.data(\n",
    "\t\"ENV_AIR_GGE\",\n",
    "\tkey={\n",
    "\t\t\"unit\": \"THS_T\",\n",
    "\t\t\"freq\": \"A\",\n",
    "\t\t\"src_crf\": \"TOTX4_MEMONIA\",\n",
    "\t\t\"airpol\": \"GHG\"\n",
    "\t}\n",
    ")\n",
    "emission_df = resp.to_pandas(datetime={'dim': 'TIME_PERIOD'}).droplevel(level=['unit', 'freq', 'src_crf', 'airpol'], axis=1)\n",
    "melted_emissions_df = melt_smdx_dataframe(emission_df)\n",
    "\n",
    "resp = estat.data(\n",
    "\t\t\"NRG_D_HHQ\",\n",
    "\t\tkey={\n",
    "\t\t\t\"siec\": \"TOTAL\",\n",
    "\t\t\t\"unit\": \"TJ\",\n",
    "\t\t\t\"nrg_bal\": \"FC_OTH_HH_E\",\n",
    "\t\t\t\"freq\": \"A\",\n",
    "\t\t}\n",
    "\t)\n",
    "household_energy_df = resp.to_pandas(datetime={'dim': 'TIME_PERIOD', 'freq': 'freq'}).droplevel(level=[\"siec\", \"unit\", \"nrg_bal\"], axis=1)\n",
    "melted_household_energy_df = melt_smdx_dataframe(household_energy_df)\n",
    "\n",
    "resp = estat.data(\n",
    "\t\"TEN00127\",\n",
    "\tkey={\n",
    "\t\t\"unit\": \"KTOE\",\n",
    "\t\t\"freq\": \"A\",\n",
    "\t\t\"siec\": \"O4652XR5210B\",\n",
    "\t\t\"nrg_bal\": \"FC_TRA_ROAD_E\"\n",
    "\t}\n",
    ")\n",
    "gas_df = resp.to_pandas(datetime={'dim': 'TIME_PERIOD'}).droplevel(level=['unit', 'freq', 'siec', \"nrg_bal\"], axis=1)\n",
    "melted_gas_df = melt_smdx_dataframe(gas_df)\n",
    "\n",
    "merged_df = merge_dataframes([melted_emissions_df, melted_household_energy_df, melted_gas_df])\n",
    "merged_df.columns = [\"year\", \"geo\", \"emissions\", \"energy\", \"gas\"]\n",
    "merged_df = merged_df.drop(merged_df[(merged_df.geo == \"EU27_2020\") | (merged_df.geo == \"EU20\")].index)\n",
    "merged_df = merged_df.drop(\"year\", axis=1)\n",
    "merged_df = fill_holes(merged_df)\n",
    "standard_df = standardize(merged_df)\n",
    "\n",
    "df_dummies = pd.get_dummies(standard_df, dtype=int, columns=[\"geo\"])\n",
    "df_dummies = df_dummies.fillna(0)\n",
    "\n",
    "#X = np.pad(df_dummies.iloc[:, 1:].to_numpy(dtype=np.float64), ((0,0), (1,0)), mode=\"constant\", constant_values=1)\n",
    "X = np.pad(standard_df.iloc[:,1:3].to_numpy(dtype=np.float64), ((0,0), (1,0)), mode=\"constant\", constant_values=1)\n",
    "y = np.array(df_dummies[\"emissions\"], dtype=np.float64)\n",
    "\n",
    "m = np.matmul(np.linalg.inv(np.matmul(X.T, X)), np.matmul(X.T, y))\n",
    "m"
   ]
  },
  {
   "cell_type": "code",
   "execution_count": 19,
   "metadata": {},
   "outputs": [],
   "source": [
    "from sklearn.metrics import r2_score"
   ]
  },
  {
   "cell_type": "code",
   "execution_count": 31,
   "metadata": {},
   "outputs": [],
   "source": [
    "np_remove = lambda a, i: np.concatenate([a[:i,], a[i + 1:,]])\n",
    "lin_reg = lambda X, Y: np.matmul(np.linalg.inv(np.matmul(X.T, X)), np.matmul(X.T, Y))\n",
    "\n",
    "def loo_cv_pred(X, Y):\n",
    "\t\"\"\"\n",
    "\tPredict Y values using leave one out cross validation\n",
    "\n",
    "\t:param X: The X features array (including bias column)\n",
    "\t:param Y: The true Y values\n",
    "\t:return: An array of the predicted Y-Vals\n",
    "\t\"\"\"\n",
    "\ty_pred = []\n",
    "\tfor i in range(len(X)):\n",
    "\t\tholdout_X = X[i]\n",
    "\t\t\n",
    "\t\tloo_X = np_remove(X, i)\n",
    "\t\tloo_y = np_remove(Y, i)\n",
    "\t\tloo_b = lin_reg(loo_X, loo_y)\n",
    "\n",
    "\t\ty_hat = np.matmul(holdout_X, loo_b)\n",
    "\t\ty_pred.append(y_hat)\n",
    "\t\n",
    "\treturn y_pred\n"
   ]
  },
  {
   "cell_type": "code",
   "execution_count": 32,
   "metadata": {},
   "outputs": [
    {
     "data": {
      "text/plain": [
       "0.9607943812769059"
      ]
     },
     "execution_count": 32,
     "metadata": {},
     "output_type": "execute_result"
    }
   ],
   "source": [
    "preds = loo_cv_pred(X, y)\n",
    "r2_score(y, preds)"
   ]
  },
  {
   "cell_type": "code",
   "execution_count": 33,
   "metadata": {},
   "outputs": [
    {
     "data": {
      "text/plain": [
       "-0.0002890124341005411"
      ]
     },
     "execution_count": 33,
     "metadata": {},
     "output_type": "execute_result"
    }
   ],
   "source": [
    "(y - preds).mean()"
   ]
  },
  {
   "cell_type": "code",
   "execution_count": null,
   "metadata": {},
   "outputs": [],
   "source": []
  }
 ],
 "metadata": {
  "kernelspec": {
   "display_name": "wafflers",
   "language": "python",
   "name": "python3"
  },
  "language_info": {
   "codemirror_mode": {
    "name": "ipython",
    "version": 3
   },
   "file_extension": ".py",
   "mimetype": "text/x-python",
   "name": "python",
   "nbconvert_exporter": "python",
   "pygments_lexer": "ipython3",
   "version": "3.11.9"
  }
 },
 "nbformat": 4,
 "nbformat_minor": 2
}
