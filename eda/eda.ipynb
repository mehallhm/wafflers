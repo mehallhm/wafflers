{
	"cells": [
		{
			"cell_type": "code",
			"execution_count": 1,
			"metadata": {},
			"outputs": [],
			"source": [
				"import scraper\n",
				"import pandas as pd\n",
				"import plotly.express as px\n",
				"import numpy as np\n",
				"import matplotlib.pyplot as plt\n",
				"import seaborn as sns"
			]
		},
		{
			"cell_type": "markdown",
			"metadata": {},
			"source": [
				"# Get the data\n",
				"### Carbon data"
			]
		},
		{
			"cell_type": "code",
			"execution_count": 2,
			"metadata": {},
			"outputs": [
				{
					"data": {
						"text/html": [
							"<div>\n",
							"<style scoped>\n",
							"    .dataframe tbody tr th:only-of-type {\n",
							"        vertical-align: middle;\n",
							"    }\n",
							"\n",
							"    .dataframe tbody tr th {\n",
							"        vertical-align: top;\n",
							"    }\n",
							"\n",
							"    .dataframe thead tr th {\n",
							"        text-align: left;\n",
							"    }\n",
							"</style>\n",
							"<table border=\"1\" class=\"dataframe\">\n",
							"  <thead>\n",
							"    <tr>\n",
							"      <th>table</th>\n",
							"      <th colspan=\"10\" halign=\"left\">1</th>\n",
							"      <th>...</th>\n",
							"      <th colspan=\"9\" halign=\"left\">65</th>\n",
							"      <th>country</th>\n",
							"    </tr>\n",
							"    <tr>\n",
							"      <th>time</th>\n",
							"      <th>1995</th>\n",
							"      <th>1996</th>\n",
							"      <th>1997</th>\n",
							"      <th>1998</th>\n",
							"      <th>1999</th>\n",
							"      <th>2000</th>\n",
							"      <th>2001</th>\n",
							"      <th>2002</th>\n",
							"      <th>2003</th>\n",
							"      <th>2004</th>\n",
							"      <th>...</th>\n",
							"      <th>2014</th>\n",
							"      <th>2015</th>\n",
							"      <th>2016</th>\n",
							"      <th>2017</th>\n",
							"      <th>2018</th>\n",
							"      <th>2019</th>\n",
							"      <th>2020</th>\n",
							"      <th>2021</th>\n",
							"      <th>2022</th>\n",
							"      <th></th>\n",
							"    </tr>\n",
							"  </thead>\n",
							"  <tbody>\n",
							"    <tr>\n",
							"      <th>0</th>\n",
							"      <td>NaN</td>\n",
							"      <td>NaN</td>\n",
							"      <td>NaN</td>\n",
							"      <td>NaN</td>\n",
							"      <td>NaN</td>\n",
							"      <td>NaN</td>\n",
							"      <td>NaN</td>\n",
							"      <td>NaN</td>\n",
							"      <td>NaN</td>\n",
							"      <td>NaN</td>\n",
							"      <td>...</td>\n",
							"      <td>416329.05</td>\n",
							"      <td>411485.90</td>\n",
							"      <td>413749.45</td>\n",
							"      <td>419976.61</td>\n",
							"      <td>426307.90</td>\n",
							"      <td>416848.48</td>\n",
							"      <td>398982.10</td>\n",
							"      <td>412683.08</td>\n",
							"      <td>384901.69</td>\n",
							"      <td>EU27_2020</td>\n",
							"    </tr>\n",
							"    <tr>\n",
							"      <th>1</th>\n",
							"      <td>NaN</td>\n",
							"      <td>NaN</td>\n",
							"      <td>NaN</td>\n",
							"      <td>NaN</td>\n",
							"      <td>NaN</td>\n",
							"      <td>NaN</td>\n",
							"      <td>NaN</td>\n",
							"      <td>NaN</td>\n",
							"      <td>NaN</td>\n",
							"      <td>NaN</td>\n",
							"      <td>...</td>\n",
							"      <td>705507.53</td>\n",
							"      <td>680904.05</td>\n",
							"      <td>668832.49</td>\n",
							"      <td>646120.22</td>\n",
							"      <td>672691.73</td>\n",
							"      <td>674474.81</td>\n",
							"      <td>601207.60</td>\n",
							"      <td>615594.09</td>\n",
							"      <td>559118.99</td>\n",
							"      <td>BE</td>\n",
							"    </tr>\n",
							"    <tr>\n",
							"      <th>2</th>\n",
							"      <td>NaN</td>\n",
							"      <td>NaN</td>\n",
							"      <td>NaN</td>\n",
							"      <td>NaN</td>\n",
							"      <td>NaN</td>\n",
							"      <td>NaN</td>\n",
							"      <td>NaN</td>\n",
							"      <td>NaN</td>\n",
							"      <td>NaN</td>\n",
							"      <td>NaN</td>\n",
							"      <td>...</td>\n",
							"      <td>371707.83</td>\n",
							"      <td>401866.25</td>\n",
							"      <td>435213.07</td>\n",
							"      <td>426494.22</td>\n",
							"      <td>423259.56</td>\n",
							"      <td>393891.37</td>\n",
							"      <td>391756.15</td>\n",
							"      <td>402387.56</td>\n",
							"      <td>386451.29</td>\n",
							"      <td>BG</td>\n",
							"    </tr>\n",
							"    <tr>\n",
							"      <th>3</th>\n",
							"      <td>NaN</td>\n",
							"      <td>NaN</td>\n",
							"      <td>NaN</td>\n",
							"      <td>NaN</td>\n",
							"      <td>NaN</td>\n",
							"      <td>NaN</td>\n",
							"      <td>NaN</td>\n",
							"      <td>NaN</td>\n",
							"      <td>NaN</td>\n",
							"      <td>NaN</td>\n",
							"      <td>...</td>\n",
							"      <td>314720.03</td>\n",
							"      <td>316332.36</td>\n",
							"      <td>329274.64</td>\n",
							"      <td>336949.27</td>\n",
							"      <td>354343.90</td>\n",
							"      <td>350563.81</td>\n",
							"      <td>330125.94</td>\n",
							"      <td>354575.61</td>\n",
							"      <td>323965.99</td>\n",
							"      <td>CZ</td>\n",
							"    </tr>\n",
							"    <tr>\n",
							"      <th>4</th>\n",
							"      <td>15662060.68</td>\n",
							"      <td>17983724.22</td>\n",
							"      <td>16436561.98</td>\n",
							"      <td>16404974.32</td>\n",
							"      <td>15656406.16</td>\n",
							"      <td>15526465.86</td>\n",
							"      <td>15575519.99</td>\n",
							"      <td>15742121.31</td>\n",
							"      <td>17348358.89</td>\n",
							"      <td>16463321.94</td>\n",
							"      <td>...</td>\n",
							"      <td>415245.59</td>\n",
							"      <td>421010.26</td>\n",
							"      <td>481782.63</td>\n",
							"      <td>511782.05</td>\n",
							"      <td>503125.28</td>\n",
							"      <td>487706.80</td>\n",
							"      <td>507731.62</td>\n",
							"      <td>502221.23</td>\n",
							"      <td>479131.26</td>\n",
							"      <td>DK</td>\n",
							"    </tr>\n",
							"  </tbody>\n",
							"</table>\n",
							"<p>5 rows × 1821 columns</p>\n",
							"</div>"
						],
						"text/plain": [
							"table            1                                                      \\\n",
							"time          1995         1996         1997         1998         1999   \n",
							"0              NaN          NaN          NaN          NaN          NaN   \n",
							"1              NaN          NaN          NaN          NaN          NaN   \n",
							"2              NaN          NaN          NaN          NaN          NaN   \n",
							"3              NaN          NaN          NaN          NaN          NaN   \n",
							"4      15662060.68  17983724.22  16436561.98  16404974.32  15656406.16   \n",
							"\n",
							"table                                                                   ...  \\\n",
							"time          2000         2001         2002         2003         2004  ...   \n",
							"0              NaN          NaN          NaN          NaN          NaN  ...   \n",
							"1              NaN          NaN          NaN          NaN          NaN  ...   \n",
							"2              NaN          NaN          NaN          NaN          NaN  ...   \n",
							"3              NaN          NaN          NaN          NaN          NaN  ...   \n",
							"4      15526465.86  15575519.99  15742121.31  17348358.89  16463321.94  ...   \n",
							"\n",
							"table         65                                                         \\\n",
							"time        2014       2015       2016       2017       2018       2019   \n",
							"0      416329.05  411485.90  413749.45  419976.61  426307.90  416848.48   \n",
							"1      705507.53  680904.05  668832.49  646120.22  672691.73  674474.81   \n",
							"2      371707.83  401866.25  435213.07  426494.22  423259.56  393891.37   \n",
							"3      314720.03  316332.36  329274.64  336949.27  354343.90  350563.81   \n",
							"4      415245.59  421010.26  481782.63  511782.05  503125.28  487706.80   \n",
							"\n",
							"table                                     country  \n",
							"time        2020       2021       2022             \n",
							"0      398982.10  412683.08  384901.69  EU27_2020  \n",
							"1      601207.60  615594.09  559118.99         BE  \n",
							"2      391756.15  402387.56  386451.29         BG  \n",
							"3      330125.94  354575.61  323965.99         CZ  \n",
							"4      507731.62  502221.23  479131.26         DK  \n",
							"\n",
							"[5 rows x 1821 columns]"
						]
					},
					"execution_count": 2,
					"metadata": {},
					"output_type": "execute_result"
				}
			],
			"source": [
				"full_carbon_df, tables = scraper.get_eurostat_dataframe(\"env_ac_ainah_r2\", lambda raw: np.arange(1, 66))\n",
				"full_carbon_df.head()"
			]
		},
		{
			"cell_type": "code",
			"execution_count": 3,
			"metadata": {},
			"outputs": [
				{
					"data": {
						"text/html": [
							"<div>\n",
							"<style scoped>\n",
							"    .dataframe tbody tr th:only-of-type {\n",
							"        vertical-align: middle;\n",
							"    }\n",
							"\n",
							"    .dataframe tbody tr th {\n",
							"        vertical-align: top;\n",
							"    }\n",
							"\n",
							"    .dataframe thead th {\n",
							"        text-align: right;\n",
							"    }\n",
							"</style>\n",
							"<table border=\"1\" class=\"dataframe\">\n",
							"  <thead>\n",
							"    <tr style=\"text-align: right;\">\n",
							"      <th>country</th>\n",
							"      <th>EU27_2020</th>\n",
							"      <th>BE</th>\n",
							"      <th>BG</th>\n",
							"      <th>CZ</th>\n",
							"      <th>DK</th>\n",
							"      <th>DE</th>\n",
							"      <th>EE</th>\n",
							"      <th>IE</th>\n",
							"      <th>EL</th>\n",
							"      <th>ES</th>\n",
							"      <th>...</th>\n",
							"      <th>RO</th>\n",
							"      <th>SI</th>\n",
							"      <th>SK</th>\n",
							"      <th>FI</th>\n",
							"      <th>SE</th>\n",
							"      <th>IS</th>\n",
							"      <th>NO</th>\n",
							"      <th>CH</th>\n",
							"      <th>RS</th>\n",
							"      <th>TR</th>\n",
							"    </tr>\n",
							"    <tr>\n",
							"      <th>time</th>\n",
							"      <th></th>\n",
							"      <th></th>\n",
							"      <th></th>\n",
							"      <th></th>\n",
							"      <th></th>\n",
							"      <th></th>\n",
							"      <th></th>\n",
							"      <th></th>\n",
							"      <th></th>\n",
							"      <th></th>\n",
							"      <th></th>\n",
							"      <th></th>\n",
							"      <th></th>\n",
							"      <th></th>\n",
							"      <th></th>\n",
							"      <th></th>\n",
							"      <th></th>\n",
							"      <th></th>\n",
							"      <th></th>\n",
							"      <th></th>\n",
							"      <th></th>\n",
							"    </tr>\n",
							"  </thead>\n",
							"  <tbody>\n",
							"    <tr>\n",
							"      <th>1995</th>\n",
							"      <td>NaN</td>\n",
							"      <td>NaN</td>\n",
							"      <td>NaN</td>\n",
							"      <td>NaN</td>\n",
							"      <td>15662060.68</td>\n",
							"      <td>NaN</td>\n",
							"      <td>NaN</td>\n",
							"      <td>NaN</td>\n",
							"      <td>NaN</td>\n",
							"      <td>NaN</td>\n",
							"      <td>...</td>\n",
							"      <td>NaN</td>\n",
							"      <td>NaN</td>\n",
							"      <td>8862865.42</td>\n",
							"      <td>NaN</td>\n",
							"      <td>NaN</td>\n",
							"      <td>12571199.07</td>\n",
							"      <td>NaN</td>\n",
							"      <td>5183706.31</td>\n",
							"      <td>NaN</td>\n",
							"      <td>NaN</td>\n",
							"    </tr>\n",
							"    <tr>\n",
							"      <th>1996</th>\n",
							"      <td>NaN</td>\n",
							"      <td>NaN</td>\n",
							"      <td>NaN</td>\n",
							"      <td>NaN</td>\n",
							"      <td>17983724.22</td>\n",
							"      <td>NaN</td>\n",
							"      <td>NaN</td>\n",
							"      <td>NaN</td>\n",
							"      <td>NaN</td>\n",
							"      <td>NaN</td>\n",
							"      <td>...</td>\n",
							"      <td>NaN</td>\n",
							"      <td>NaN</td>\n",
							"      <td>8821817.28</td>\n",
							"      <td>NaN</td>\n",
							"      <td>NaN</td>\n",
							"      <td>13419521.77</td>\n",
							"      <td>NaN</td>\n",
							"      <td>5238820.25</td>\n",
							"      <td>NaN</td>\n",
							"      <td>NaN</td>\n",
							"    </tr>\n",
							"    <tr>\n",
							"      <th>1997</th>\n",
							"      <td>NaN</td>\n",
							"      <td>NaN</td>\n",
							"      <td>NaN</td>\n",
							"      <td>NaN</td>\n",
							"      <td>16436561.98</td>\n",
							"      <td>NaN</td>\n",
							"      <td>NaN</td>\n",
							"      <td>NaN</td>\n",
							"      <td>NaN</td>\n",
							"      <td>NaN</td>\n",
							"      <td>...</td>\n",
							"      <td>NaN</td>\n",
							"      <td>NaN</td>\n",
							"      <td>8693803.51</td>\n",
							"      <td>NaN</td>\n",
							"      <td>NaN</td>\n",
							"      <td>14045761.23</td>\n",
							"      <td>NaN</td>\n",
							"      <td>5112279.33</td>\n",
							"      <td>NaN</td>\n",
							"      <td>NaN</td>\n",
							"    </tr>\n",
							"    <tr>\n",
							"      <th>1998</th>\n",
							"      <td>NaN</td>\n",
							"      <td>NaN</td>\n",
							"      <td>NaN</td>\n",
							"      <td>NaN</td>\n",
							"      <td>16404974.32</td>\n",
							"      <td>NaN</td>\n",
							"      <td>NaN</td>\n",
							"      <td>NaN</td>\n",
							"      <td>NaN</td>\n",
							"      <td>NaN</td>\n",
							"      <td>...</td>\n",
							"      <td>NaN</td>\n",
							"      <td>NaN</td>\n",
							"      <td>8542440.41</td>\n",
							"      <td>NaN</td>\n",
							"      <td>NaN</td>\n",
							"      <td>14424047.34</td>\n",
							"      <td>NaN</td>\n",
							"      <td>5276437.22</td>\n",
							"      <td>NaN</td>\n",
							"      <td>NaN</td>\n",
							"    </tr>\n",
							"    <tr>\n",
							"      <th>1999</th>\n",
							"      <td>NaN</td>\n",
							"      <td>NaN</td>\n",
							"      <td>NaN</td>\n",
							"      <td>NaN</td>\n",
							"      <td>15656406.16</td>\n",
							"      <td>NaN</td>\n",
							"      <td>NaN</td>\n",
							"      <td>NaN</td>\n",
							"      <td>NaN</td>\n",
							"      <td>NaN</td>\n",
							"      <td>...</td>\n",
							"      <td>NaN</td>\n",
							"      <td>NaN</td>\n",
							"      <td>8310800.34</td>\n",
							"      <td>NaN</td>\n",
							"      <td>NaN</td>\n",
							"      <td>15414605.09</td>\n",
							"      <td>NaN</td>\n",
							"      <td>5237620.84</td>\n",
							"      <td>NaN</td>\n",
							"      <td>NaN</td>\n",
							"    </tr>\n",
							"  </tbody>\n",
							"</table>\n",
							"<p>5 rows × 33 columns</p>\n",
							"</div>"
						],
						"text/plain": [
							"country  EU27_2020  BE  BG  CZ           DK  DE  EE  IE  EL  ES  ...  RO  SI  \\\n",
							"time                                                             ...           \n",
							"1995           NaN NaN NaN NaN  15662060.68 NaN NaN NaN NaN NaN  ... NaN NaN   \n",
							"1996           NaN NaN NaN NaN  17983724.22 NaN NaN NaN NaN NaN  ... NaN NaN   \n",
							"1997           NaN NaN NaN NaN  16436561.98 NaN NaN NaN NaN NaN  ... NaN NaN   \n",
							"1998           NaN NaN NaN NaN  16404974.32 NaN NaN NaN NaN NaN  ... NaN NaN   \n",
							"1999           NaN NaN NaN NaN  15656406.16 NaN NaN NaN NaN NaN  ... NaN NaN   \n",
							"\n",
							"country          SK  FI  SE           IS  NO          CH  RS  TR  \n",
							"time                                                              \n",
							"1995     8862865.42 NaN NaN  12571199.07 NaN  5183706.31 NaN NaN  \n",
							"1996     8821817.28 NaN NaN  13419521.77 NaN  5238820.25 NaN NaN  \n",
							"1997     8693803.51 NaN NaN  14045761.23 NaN  5112279.33 NaN NaN  \n",
							"1998     8542440.41 NaN NaN  14424047.34 NaN  5276437.22 NaN NaN  \n",
							"1999     8310800.34 NaN NaN  15414605.09 NaN  5237620.84 NaN NaN  \n",
							"\n",
							"[5 rows x 33 columns]"
						]
					},
					"execution_count": 3,
					"metadata": {},
					"output_type": "execute_result"
				}
			],
			"source": [
				"df_carbon_short = full_carbon_df.xs(1, level=\"table\", axis=1).T\n",
				"df_carbon_short.columns = full_carbon_df.xs(\"country\", axis=1)\n",
				"df_carbon_short.head()"
			]
		},
		{
			"cell_type": "code",
			"execution_count": 4,
			"metadata": {},
			"outputs": [
				{
					"data": {
						"text/html": [
							"<div>\n",
							"<style scoped>\n",
							"    .dataframe tbody tr th:only-of-type {\n",
							"        vertical-align: middle;\n",
							"    }\n",
							"\n",
							"    .dataframe tbody tr th {\n",
							"        vertical-align: top;\n",
							"    }\n",
							"\n",
							"    .dataframe thead th {\n",
							"        text-align: right;\n",
							"    }\n",
							"</style>\n",
							"<table border=\"1\" class=\"dataframe\">\n",
							"  <thead>\n",
							"    <tr style=\"text-align: right;\">\n",
							"      <th>country</th>\n",
							"      <th>EU27_2020</th>\n",
							"      <th>BE</th>\n",
							"      <th>BG</th>\n",
							"      <th>CZ</th>\n",
							"      <th>DK</th>\n",
							"      <th>DE</th>\n",
							"      <th>EE</th>\n",
							"      <th>IE</th>\n",
							"      <th>EL</th>\n",
							"      <th>ES</th>\n",
							"      <th>...</th>\n",
							"      <th>PT</th>\n",
							"      <th>RO</th>\n",
							"      <th>SI</th>\n",
							"      <th>SK</th>\n",
							"      <th>FI</th>\n",
							"      <th>SE</th>\n",
							"      <th>IS</th>\n",
							"      <th>NO</th>\n",
							"      <th>RS</th>\n",
							"      <th>TR</th>\n",
							"    </tr>\n",
							"    <tr>\n",
							"      <th>time</th>\n",
							"      <th></th>\n",
							"      <th></th>\n",
							"      <th></th>\n",
							"      <th></th>\n",
							"      <th></th>\n",
							"      <th></th>\n",
							"      <th></th>\n",
							"      <th></th>\n",
							"      <th></th>\n",
							"      <th></th>\n",
							"      <th></th>\n",
							"      <th></th>\n",
							"      <th></th>\n",
							"      <th></th>\n",
							"      <th></th>\n",
							"      <th></th>\n",
							"      <th></th>\n",
							"      <th></th>\n",
							"      <th></th>\n",
							"      <th></th>\n",
							"      <th></th>\n",
							"    </tr>\n",
							"  </thead>\n",
							"  <tbody>\n",
							"    <tr>\n",
							"      <th>2008</th>\n",
							"      <td>8626928.75</td>\n",
							"      <td>9840862.32</td>\n",
							"      <td>8374278.10</td>\n",
							"      <td>12088284.26</td>\n",
							"      <td>18472875.79</td>\n",
							"      <td>10115618.26</td>\n",
							"      <td>15495691.70</td>\n",
							"      <td>11599639.01</td>\n",
							"      <td>11023011.51</td>\n",
							"      <td>7309667.12</td>\n",
							"      <td>...</td>\n",
							"      <td>6489677.15</td>\n",
							"      <td>6792814.40</td>\n",
							"      <td>8093935.35</td>\n",
							"      <td>8115433.15</td>\n",
							"      <td>12652929.15</td>\n",
							"      <td>6147808.43</td>\n",
							"      <td>17704691.59</td>\n",
							"      <td>12308807.83</td>\n",
							"      <td>NaN</td>\n",
							"      <td>NaN</td>\n",
							"    </tr>\n",
							"    <tr>\n",
							"      <th>2009</th>\n",
							"      <td>7851179.61</td>\n",
							"      <td>8740690.23</td>\n",
							"      <td>7277828.03</td>\n",
							"      <td>11049662.42</td>\n",
							"      <td>17176547.55</td>\n",
							"      <td>9321295.50</td>\n",
							"      <td>12786692.77</td>\n",
							"      <td>10448510.06</td>\n",
							"      <td>10354690.72</td>\n",
							"      <td>6435677.13</td>\n",
							"      <td>...</td>\n",
							"      <td>6178248.19</td>\n",
							"      <td>5751828.40</td>\n",
							"      <td>7375583.00</td>\n",
							"      <td>7304968.32</td>\n",
							"      <td>12003558.20</td>\n",
							"      <td>5514200.84</td>\n",
							"      <td>16180654.34</td>\n",
							"      <td>11368305.58</td>\n",
							"      <td>NaN</td>\n",
							"      <td>NaN</td>\n",
							"    </tr>\n",
							"    <tr>\n",
							"      <th>2010</th>\n",
							"      <td>8024312.00</td>\n",
							"      <td>9243216.52</td>\n",
							"      <td>7673499.85</td>\n",
							"      <td>11228220.11</td>\n",
							"      <td>16767331.74</td>\n",
							"      <td>9667309.77</td>\n",
							"      <td>16307459.75</td>\n",
							"      <td>12043627.47</td>\n",
							"      <td>9989268.71</td>\n",
							"      <td>6098359.65</td>\n",
							"      <td>...</td>\n",
							"      <td>5739881.60</td>\n",
							"      <td>5581717.18</td>\n",
							"      <td>7437534.55</td>\n",
							"      <td>7305820.30</td>\n",
							"      <td>13441161.42</td>\n",
							"      <td>6147726.61</td>\n",
							"      <td>16184246.73</td>\n",
							"      <td>11861900.26</td>\n",
							"      <td>NaN</td>\n",
							"      <td>NaN</td>\n",
							"    </tr>\n",
							"    <tr>\n",
							"      <th>2011</th>\n",
							"      <td>7901995.31</td>\n",
							"      <td>8519668.04</td>\n",
							"      <td>8424931.82</td>\n",
							"      <td>10997932.47</td>\n",
							"      <td>16608386.02</td>\n",
							"      <td>9668751.22</td>\n",
							"      <td>16334728.68</td>\n",
							"      <td>11509752.46</td>\n",
							"      <td>9620522.32</td>\n",
							"      <td>6223872.41</td>\n",
							"      <td>...</td>\n",
							"      <td>5697688.64</td>\n",
							"      <td>5895533.44</td>\n",
							"      <td>7280437.24</td>\n",
							"      <td>7294510.54</td>\n",
							"      <td>11997445.75</td>\n",
							"      <td>5607249.35</td>\n",
							"      <td>15554875.78</td>\n",
							"      <td>12700895.28</td>\n",
							"      <td>NaN</td>\n",
							"      <td>NaN</td>\n",
							"    </tr>\n",
							"    <tr>\n",
							"      <th>2012</th>\n",
							"      <td>7728876.39</td>\n",
							"      <td>8149775.00</td>\n",
							"      <td>7808042.43</td>\n",
							"      <td>10544785.70</td>\n",
							"      <td>15347310.62</td>\n",
							"      <td>9767753.13</td>\n",
							"      <td>15694048.49</td>\n",
							"      <td>11892306.47</td>\n",
							"      <td>9558049.09</td>\n",
							"      <td>6157580.45</td>\n",
							"      <td>...</td>\n",
							"      <td>5624083.12</td>\n",
							"      <td>5748566.83</td>\n",
							"      <td>6938559.08</td>\n",
							"      <td>6765294.90</td>\n",
							"      <td>10873832.79</td>\n",
							"      <td>5236450.88</td>\n",
							"      <td>15875505.99</td>\n",
							"      <td>12425877.26</td>\n",
							"      <td>NaN</td>\n",
							"      <td>NaN</td>\n",
							"    </tr>\n",
							"  </tbody>\n",
							"</table>\n",
							"<p>5 rows × 32 columns</p>\n",
							"</div>"
						],
						"text/plain": [
							"country   EU27_2020          BE          BG           CZ           DK  \\\n",
							"time                                                                    \n",
							"2008     8626928.75  9840862.32  8374278.10  12088284.26  18472875.79   \n",
							"2009     7851179.61  8740690.23  7277828.03  11049662.42  17176547.55   \n",
							"2010     8024312.00  9243216.52  7673499.85  11228220.11  16767331.74   \n",
							"2011     7901995.31  8519668.04  8424931.82  10997932.47  16608386.02   \n",
							"2012     7728876.39  8149775.00  7808042.43  10544785.70  15347310.62   \n",
							"\n",
							"country           DE           EE           IE           EL          ES  ...  \\\n",
							"time                                                                     ...   \n",
							"2008     10115618.26  15495691.70  11599639.01  11023011.51  7309667.12  ...   \n",
							"2009      9321295.50  12786692.77  10448510.06  10354690.72  6435677.13  ...   \n",
							"2010      9667309.77  16307459.75  12043627.47   9989268.71  6098359.65  ...   \n",
							"2011      9668751.22  16334728.68  11509752.46   9620522.32  6223872.41  ...   \n",
							"2012      9767753.13  15694048.49  11892306.47   9558049.09  6157580.45  ...   \n",
							"\n",
							"country          PT          RO          SI          SK           FI  \\\n",
							"time                                                                   \n",
							"2008     6489677.15  6792814.40  8093935.35  8115433.15  12652929.15   \n",
							"2009     6178248.19  5751828.40  7375583.00  7304968.32  12003558.20   \n",
							"2010     5739881.60  5581717.18  7437534.55  7305820.30  13441161.42   \n",
							"2011     5697688.64  5895533.44  7280437.24  7294510.54  11997445.75   \n",
							"2012     5624083.12  5748566.83  6938559.08  6765294.90  10873832.79   \n",
							"\n",
							"country          SE           IS           NO  RS  TR  \n",
							"time                                                   \n",
							"2008     6147808.43  17704691.59  12308807.83 NaN NaN  \n",
							"2009     5514200.84  16180654.34  11368305.58 NaN NaN  \n",
							"2010     6147726.61  16184246.73  11861900.26 NaN NaN  \n",
							"2011     5607249.35  15554875.78  12700895.28 NaN NaN  \n",
							"2012     5236450.88  15875505.99  12425877.26 NaN NaN  \n",
							"\n",
							"[5 rows x 32 columns]"
						]
					},
					"execution_count": 4,
					"metadata": {},
					"output_type": "execute_result"
				}
			],
			"source": [
				"# Drop the rows until 2008 - when the data really begins\n",
				"df_carbon_short.drop([str(i) for i in np.arange(1995, 2008)], inplace=True)\n",
				"df_carbon_short = df_carbon_short.drop(\"CH\", axis=1)\n",
				"df_carbon_short.head()"
			]
		},
		{
			"cell_type": "code",
			"execution_count": 313,
			"metadata": {},
			"outputs": [
				{
					"data": {
						"application/vnd.plotly.v1+json": {
							"config": {
								"plotlyServerURL": "https://plot.ly"
							},
							"data": [
								{
									"hovertemplate": "country=EU27_2020<br>time=%{x}<br>value=%{y}<extra></extra>",
									"legendgroup": "EU27_2020",
									"marker": {
										"color": "#636efa",
										"symbol": "circle"
									},
									"mode": "markers",
									"name": "EU27_2020",
									"orientation": "v",
									"showlegend": true,
									"type": "scatter",
									"x": [
										"2008",
										"2009",
										"2010",
										"2011",
										"2012",
										"2013",
										"2014",
										"2015",
										"2016",
										"2017",
										"2018",
										"2019",
										"2020",
										"2021",
										"2022"
									],
									"xaxis": "x",
									"y": [
										8626928.75,
										7851179.61,
										8024312,
										7901995.31,
										7728876.39,
										7493978.46,
										7234802.44,
										7299142.02,
										7269867.78,
										7365308.32,
										7224855.15,
										6878667.56,
										6192649.36,
										6543663.17,
										6481157.74
									],
									"yaxis": "y"
								},
								{
									"hovertemplate": "country=BE<br>time=%{x}<br>value=%{y}<extra></extra>",
									"legendgroup": "BE",
									"marker": {
										"color": "#EF553B",
										"symbol": "circle"
									},
									"mode": "markers",
									"name": "BE",
									"orientation": "v",
									"showlegend": true,
									"type": "scatter",
									"x": [
										"2008",
										"2009",
										"2010",
										"2011",
										"2012",
										"2013",
										"2014",
										"2015",
										"2016",
										"2017",
										"2018",
										"2019",
										"2020",
										"2021",
										"2022"
									],
									"xaxis": "x",
									"y": [
										9840862.32,
										8740690.23,
										9243216.52,
										8519668.04,
										8149775,
										7916208.46,
										7686154.55,
										7876220.88,
										7799071.79,
										7776925.29,
										7879669.22,
										7840274.31,
										7188131.12,
										7139444.92,
										6821002.24
									],
									"yaxis": "y"
								},
								{
									"hovertemplate": "country=BG<br>time=%{x}<br>value=%{y}<extra></extra>",
									"legendgroup": "BG",
									"marker": {
										"color": "#00cc96",
										"symbol": "circle"
									},
									"mode": "markers",
									"name": "BG",
									"orientation": "v",
									"showlegend": true,
									"type": "scatter",
									"x": [
										"2008",
										"2009",
										"2010",
										"2011",
										"2012",
										"2013",
										"2014",
										"2015",
										"2016",
										"2017",
										"2018",
										"2019",
										"2020",
										"2021",
										"2022"
									],
									"xaxis": "x",
									"y": [
										8374278.1,
										7277828.03,
										7673499.85,
										8424931.82,
										7808042.43,
										7144298.7,
										7661685.75,
										8111630.72,
										7823731.5,
										8175206.26,
										7600569.84,
										7453706.39,
										6577156.14,
										7510443.21,
										8466050.23
									],
									"yaxis": "y"
								},
								{
									"hovertemplate": "country=CZ<br>time=%{x}<br>value=%{y}<extra></extra>",
									"legendgroup": "CZ",
									"marker": {
										"color": "#ab63fa",
										"symbol": "circle"
									},
									"mode": "markers",
									"name": "CZ",
									"orientation": "v",
									"showlegend": true,
									"type": "scatter",
									"x": [
										"2008",
										"2009",
										"2010",
										"2011",
										"2012",
										"2013",
										"2014",
										"2015",
										"2016",
										"2017",
										"2018",
										"2019",
										"2020",
										"2021",
										"2022"
									],
									"xaxis": "x",
									"y": [
										12088284.26,
										11049662.42,
										11228220.11,
										10997932.47,
										10544785.7,
										10067365.75,
										10008261.81,
										9937441.99,
										10111070.44,
										9905885.61,
										9963439.31,
										9416234.22,
										8426277.23,
										9081701.65,
										8901412.74
									],
									"yaxis": "y"
								},
								{
									"hovertemplate": "country=DK<br>time=%{x}<br>value=%{y}<extra></extra>",
									"legendgroup": "DK",
									"marker": {
										"color": "#FFA15A",
										"symbol": "circle"
									},
									"mode": "markers",
									"name": "DK",
									"orientation": "v",
									"showlegend": true,
									"type": "scatter",
									"x": [
										"2008",
										"2009",
										"2010",
										"2011",
										"2012",
										"2013",
										"2014",
										"2015",
										"2016",
										"2017",
										"2018",
										"2019",
										"2020",
										"2021",
										"2022"
									],
									"xaxis": "x",
									"y": [
										18472875.79,
										17176547.55,
										16767331.74,
										16608386.02,
										15347310.62,
										15031123.9,
										13930938.79,
										13829349.45,
										14258305.52,
										14200191.24,
										14551202.52,
										13944705.74,
										12272409.09,
										13090825.04,
										12372716.58
									],
									"yaxis": "y"
								},
								{
									"hovertemplate": "country=DE<br>time=%{x}<br>value=%{y}<extra></extra>",
									"legendgroup": "DE",
									"marker": {
										"color": "#19d3f3",
										"symbol": "circle"
									},
									"mode": "markers",
									"name": "DE",
									"orientation": "v",
									"showlegend": true,
									"type": "scatter",
									"x": [
										"2008",
										"2009",
										"2010",
										"2011",
										"2012",
										"2013",
										"2014",
										"2015",
										"2016",
										"2017",
										"2018",
										"2019",
										"2020",
										"2021",
										"2022"
									],
									"xaxis": "x",
									"y": [
										10115618.26,
										9321295.5,
										9667309.77,
										9668751.22,
										9767753.13,
										9890300.45,
										9336313.94,
										9357887.22,
										9211878.93,
										9040142.72,
										8728757.68,
										7930781.54,
										7039775.03,
										7528067.39,
										7391810.01
									],
									"yaxis": "y"
								},
								{
									"hovertemplate": "country=EE<br>time=%{x}<br>value=%{y}<extra></extra>",
									"legendgroup": "EE",
									"marker": {
										"color": "#FF6692",
										"symbol": "circle"
									},
									"mode": "markers",
									"name": "EE",
									"orientation": "v",
									"showlegend": true,
									"type": "scatter",
									"x": [
										"2008",
										"2009",
										"2010",
										"2011",
										"2012",
										"2013",
										"2014",
										"2015",
										"2016",
										"2017",
										"2018",
										"2019",
										"2020",
										"2021",
										"2022"
									],
									"xaxis": "x",
									"y": [
										15495691.7,
										12786692.77,
										16307459.75,
										16334728.68,
										15694048.49,
										17544493.57,
										16865413.94,
										14247370.94,
										15078665.84,
										16135658.92,
										15137532.82,
										10604154.24,
										7963695.24,
										8931589.31,
										10226904.55
									],
									"yaxis": "y"
								},
								{
									"hovertemplate": "country=IE<br>time=%{x}<br>value=%{y}<extra></extra>",
									"legendgroup": "IE",
									"marker": {
										"color": "#B6E880",
										"symbol": "circle"
									},
									"mode": "markers",
									"name": "IE",
									"orientation": "v",
									"showlegend": true,
									"type": "scatter",
									"x": [
										"2008",
										"2009",
										"2010",
										"2011",
										"2012",
										"2013",
										"2014",
										"2015",
										"2016",
										"2017",
										"2018",
										"2019",
										"2020",
										"2021",
										"2022"
									],
									"xaxis": "x",
									"y": [
										11599639.01,
										10448510.06,
										12043627.47,
										11509752.46,
										11892306.47,
										11896561.49,
										11936396.37,
										12350180.53,
										13161418.86,
										13576578.57,
										13664168.02,
										13104135.84,
										10471640.26,
										10935062.67,
										12040447.43
									],
									"yaxis": "y"
								},
								{
									"hovertemplate": "country=EL<br>time=%{x}<br>value=%{y}<extra></extra>",
									"legendgroup": "EL",
									"marker": {
										"color": "#FF97FF",
										"symbol": "circle"
									},
									"mode": "markers",
									"name": "EL",
									"orientation": "v",
									"showlegend": true,
									"type": "scatter",
									"x": [
										"2008",
										"2009",
										"2010",
										"2011",
										"2012",
										"2013",
										"2014",
										"2015",
										"2016",
										"2017",
										"2018",
										"2019",
										"2020",
										"2021",
										"2022"
									],
									"xaxis": "x",
									"y": [
										11023011.51,
										10354690.72,
										9989268.71,
										9620522.32,
										9558049.09,
										8893055.91,
										8668780.43,
										8372383.55,
										8222020.74,
										8770312.65,
										8747679.03,
										8190978.34,
										7159125.08,
										7404625.96,
										7486773.65
									],
									"yaxis": "y"
								},
								{
									"hovertemplate": "country=ES<br>time=%{x}<br>value=%{y}<extra></extra>",
									"legendgroup": "ES",
									"marker": {
										"color": "#FECB52",
										"symbol": "circle"
									},
									"mode": "markers",
									"name": "ES",
									"orientation": "v",
									"showlegend": true,
									"type": "scatter",
									"x": [
										"2008",
										"2009",
										"2010",
										"2011",
										"2012",
										"2013",
										"2014",
										"2015",
										"2016",
										"2017",
										"2018",
										"2019",
										"2020",
										"2021",
										"2022"
									],
									"xaxis": "x",
									"y": [
										7309667.12,
										6435677.13,
										6098359.65,
										6223872.41,
										6157580.45,
										5582920.07,
										5644578.55,
										5865209.93,
										5597726.47,
										5877877.61,
										5688642.44,
										5286026.97,
										4559963.59,
										4797265.04,
										4925200.55
									],
									"yaxis": "y"
								},
								{
									"hovertemplate": "country=FR<br>time=%{x}<br>value=%{y}<extra></extra>",
									"legendgroup": "FR",
									"marker": {
										"color": "#636efa",
										"symbol": "circle"
									},
									"mode": "markers",
									"name": "FR",
									"orientation": "v",
									"showlegend": true,
									"type": "scatter",
									"x": [
										"2008",
										"2009",
										"2010",
										"2011",
										"2012",
										"2013",
										"2014",
										"2015",
										"2016",
										"2017",
										"2018",
										"2019",
										"2020",
										"2021",
										"2022"
									],
									"xaxis": "x",
									"y": [
										6653317.15,
										6166276.04,
										6234057.62,
										5933114.42,
										5867591.23,
										5772556.79,
										5396696.3,
										5373290.66,
										5339385.7,
										5473355.17,
										5304094.58,
										5167548.92,
										4650664.25,
										4860548.57,
										4860614.98
									],
									"yaxis": "y"
								},
								{
									"hovertemplate": "country=HR<br>time=%{x}<br>value=%{y}<extra></extra>",
									"legendgroup": "HR",
									"marker": {
										"color": "#EF553B",
										"symbol": "circle"
									},
									"mode": "markers",
									"name": "HR",
									"orientation": "v",
									"showlegend": true,
									"type": "scatter",
									"x": [
										"2008",
										"2009",
										"2010",
										"2011",
										"2012",
										"2013",
										"2014",
										"2015",
										"2016",
										"2017",
										"2018",
										"2019",
										"2020",
										"2021",
										"2022"
									],
									"xaxis": "x",
									"y": [
										5743596.96,
										5214613.4,
										5173006.91,
										5157442.84,
										4777320.94,
										4573175.93,
										4448445.46,
										4494552.46,
										4522790.09,
										4768416.87,
										4551690.66,
										4631066.6,
										4481239.73,
										4627936.16,
										4606962.81
									],
									"yaxis": "y"
								},
								{
									"hovertemplate": "country=IT<br>time=%{x}<br>value=%{y}<extra></extra>",
									"legendgroup": "IT",
									"marker": {
										"color": "#00cc96",
										"symbol": "circle"
									},
									"mode": "markers",
									"name": "IT",
									"orientation": "v",
									"showlegend": true,
									"type": "scatter",
									"x": [
										"2008",
										"2009",
										"2010",
										"2011",
										"2012",
										"2013",
										"2014",
										"2015",
										"2016",
										"2017",
										"2018",
										"2019",
										"2020",
										"2021",
										"2022"
									],
									"xaxis": "x",
									"y": [
										7795851.87,
										6741917.65,
										6928656.17,
										6756489.81,
										6487892.06,
										5859784.44,
										5523957.09,
										5594673.93,
										5569147.23,
										5588750.03,
										5513539.82,
										5442001.72,
										4956810.63,
										5379280.59,
										5432207.73
									],
									"yaxis": "y"
								},
								{
									"hovertemplate": "country=CY<br>time=%{x}<br>value=%{y}<extra></extra>",
									"legendgroup": "CY",
									"marker": {
										"color": "#ab63fa",
										"symbol": "circle"
									},
									"mode": "markers",
									"name": "CY",
									"orientation": "v",
									"showlegend": true,
									"type": "scatter",
									"x": [
										"2008",
										"2009",
										"2010",
										"2011",
										"2012",
										"2013",
										"2014",
										"2015",
										"2016",
										"2017",
										"2018",
										"2019",
										"2020",
										"2021",
										"2022"
									],
									"xaxis": "x",
									"y": [
										11183735.7,
										10530223.3,
										9810262.08,
										8894269.75,
										8044428.37,
										7322766.43,
										7810898.18,
										7646758,
										8062773.8,
										8306246.6,
										8279133.71,
										7969957.25,
										7682750.74,
										7643435.48,
										7642788.91
									],
									"yaxis": "y"
								},
								{
									"hovertemplate": "country=LV<br>time=%{x}<br>value=%{y}<extra></extra>",
									"legendgroup": "LV",
									"marker": {
										"color": "#FFA15A",
										"symbol": "circle"
									},
									"mode": "markers",
									"name": "LV",
									"orientation": "v",
									"showlegend": true,
									"type": "scatter",
									"x": [
										"2008",
										"2009",
										"2010",
										"2011",
										"2012",
										"2013",
										"2014",
										"2015",
										"2016",
										"2017",
										"2018",
										"2019",
										"2020",
										"2021",
										"2022"
									],
									"xaxis": "x",
									"y": [
										5303185.14,
										4731464.3,
										5444515.55,
										5177981.7,
										5116481.72,
										5045809.54,
										5059065.91,
										5242554.97,
										5231307.71,
										5348290.65,
										5636546.19,
										5682612.88,
										4941039.01,
										5131370.03,
										4943358.24
									],
									"yaxis": "y"
								},
								{
									"hovertemplate": "country=LT<br>time=%{x}<br>value=%{y}<extra></extra>",
									"legendgroup": "LT",
									"marker": {
										"color": "#19d3f3",
										"symbol": "circle"
									},
									"mode": "markers",
									"name": "LT",
									"orientation": "v",
									"showlegend": true,
									"type": "scatter",
									"x": [
										"2008",
										"2009",
										"2010",
										"2011",
										"2012",
										"2013",
										"2014",
										"2015",
										"2016",
										"2017",
										"2018",
										"2019",
										"2020",
										"2021",
										"2022"
									],
									"xaxis": "x",
									"y": [
										6891628.78,
										5657549.19,
										5995297.31,
										6360230.36,
										6383491.21,
										6060614.6,
										6370309.76,
										6671007.22,
										6636496.74,
										6970335.32,
										7278184.08,
										7430063.51,
										8058967.02,
										7399266.99,
										6965986.46
									],
									"yaxis": "y"
								},
								{
									"hovertemplate": "country=LU<br>time=%{x}<br>value=%{y}<extra></extra>",
									"legendgroup": "LU",
									"marker": {
										"color": "#FF6692",
										"symbol": "circle"
									},
									"mode": "markers",
									"name": "LU",
									"orientation": "v",
									"showlegend": true,
									"type": "scatter",
									"x": [
										"2008",
										"2009",
										"2010",
										"2011",
										"2012",
										"2013",
										"2014",
										"2015",
										"2016",
										"2017",
										"2018",
										"2019",
										"2020",
										"2021",
										"2022"
									],
									"xaxis": "x",
									"y": [
										16962222.93,
										16693001.57,
										16565861.78,
										14896888.54,
										14301838.85,
										13676485.86,
										13784926.93,
										14970580.29,
										14410054.83,
										14040314.31,
										13997677.98,
										14722531.52,
										13061280.11,
										12776400.75,
										12090519.69
									],
									"yaxis": "y"
								},
								{
									"hovertemplate": "country=HU<br>time=%{x}<br>value=%{y}<extra></extra>",
									"legendgroup": "HU",
									"marker": {
										"color": "#B6E880",
										"symbol": "circle"
									},
									"mode": "markers",
									"name": "HU",
									"orientation": "v",
									"showlegend": true,
									"type": "scatter",
									"x": [
										"2008",
										"2009",
										"2010",
										"2011",
										"2012",
										"2013",
										"2014",
										"2015",
										"2016",
										"2017",
										"2018",
										"2019",
										"2020",
										"2021",
										"2022"
									],
									"xaxis": "x",
									"y": [
										6037923.19,
										5429119.41,
										5527873.99,
										5555349.42,
										5118860.96,
										4985632.75,
										5079385.95,
										5309836.06,
										5290183.46,
										5509981.5,
										5565000.66,
										5421994.89,
										5142940.18,
										5222883.12,
										5102020.49
									],
									"yaxis": "y"
								},
								{
									"hovertemplate": "country=MT<br>time=%{x}<br>value=%{y}<extra></extra>",
									"legendgroup": "MT",
									"marker": {
										"color": "#FF97FF",
										"symbol": "circle"
									},
									"mode": "markers",
									"name": "MT",
									"orientation": "v",
									"showlegend": true,
									"type": "scatter",
									"x": [
										"2008",
										"2009",
										"2010",
										"2011",
										"2012",
										"2013",
										"2014",
										"2015",
										"2016",
										"2017",
										"2018",
										"2019",
										"2020",
										"2021",
										"2022"
									],
									"xaxis": "x",
									"y": [
										7203973,
										6797318.87,
										6960574.76,
										6971615.72,
										7315305.97,
										6447085.64,
										6374488.39,
										4633918.05,
										3874020.46,
										4131167.13,
										4076519.06,
										4161781.55,
										3669234.4,
										3620338.22,
										3708475.74
									],
									"yaxis": "y"
								},
								{
									"hovertemplate": "country=NL<br>time=%{x}<br>value=%{y}<extra></extra>",
									"legendgroup": "NL",
									"marker": {
										"color": "#FECB52",
										"symbol": "circle"
									},
									"mode": "markers",
									"name": "NL",
									"orientation": "v",
									"showlegend": true,
									"type": "scatter",
									"x": [
										"2008",
										"2009",
										"2010",
										"2011",
										"2012",
										"2013",
										"2014",
										"2015",
										"2016",
										"2017",
										"2018",
										"2019",
										"2020",
										"2021",
										"2022"
									],
									"xaxis": "x",
									"y": [
										11551381.97,
										11097074.27,
										11499815.64,
										10936273.75,
										10657360.22,
										10592971.51,
										10521613.19,
										10825105.95,
										10711090.87,
										10491467.76,
										10134114.23,
										9903383.22,
										8766733.99,
										8753795.01,
										8227724.75
									],
									"yaxis": "y"
								},
								{
									"hovertemplate": "country=AT<br>time=%{x}<br>value=%{y}<extra></extra>",
									"legendgroup": "AT",
									"marker": {
										"color": "#636efa",
										"symbol": "circle"
									},
									"mode": "markers",
									"name": "AT",
									"orientation": "v",
									"showlegend": true,
									"type": "scatter",
									"x": [
										"2008",
										"2009",
										"2010",
										"2011",
										"2012",
										"2013",
										"2014",
										"2015",
										"2016",
										"2017",
										"2018",
										"2019",
										"2020",
										"2021",
										"2022"
									],
									"xaxis": "x",
									"y": [
										8097291.69,
										7308617.85,
										7700611.64,
										7481448.06,
										7098295.69,
										6888255.9,
										6561107.19,
										6612999.9,
										6464018.01,
										6743435.74,
										6412811.44,
										6733225.11,
										6017717.63,
										6421100.46,
										6063695.21
									],
									"yaxis": "y"
								},
								{
									"hovertemplate": "country=PL<br>time=%{x}<br>value=%{y}<extra></extra>",
									"legendgroup": "PL",
									"marker": {
										"color": "#EF553B",
										"symbol": "circle"
									},
									"mode": "markers",
									"name": "PL",
									"orientation": "v",
									"showlegend": true,
									"type": "scatter",
									"x": [
										"2008",
										"2009",
										"2010",
										"2011",
										"2012",
										"2013",
										"2014",
										"2015",
										"2016",
										"2017",
										"2018",
										"2019",
										"2020",
										"2021",
										"2022"
									],
									"xaxis": "x",
									"y": [
										9444706.91,
										8924261.65,
										9288855.03,
										9386433.81,
										9140778.57,
										9097624.14,
										8907491.07,
										8976477.85,
										9279493.13,
										9706232.03,
										9670243.48,
										9237050.64,
										8833756.4,
										9706927.16,
										9587311.38
									],
									"yaxis": "y"
								},
								{
									"hovertemplate": "country=PT<br>time=%{x}<br>value=%{y}<extra></extra>",
									"legendgroup": "PT",
									"marker": {
										"color": "#00cc96",
										"symbol": "circle"
									},
									"mode": "markers",
									"name": "PT",
									"orientation": "v",
									"showlegend": true,
									"type": "scatter",
									"x": [
										"2008",
										"2009",
										"2010",
										"2011",
										"2012",
										"2013",
										"2014",
										"2015",
										"2016",
										"2017",
										"2018",
										"2019",
										"2020",
										"2021",
										"2022"
									],
									"xaxis": "x",
									"y": [
										6489677.15,
										6178248.19,
										5739881.6,
										5697688.64,
										5624083.12,
										5473356.48,
										5493305.31,
										5910803.61,
										5715542.08,
										6229589.51,
										5908588.02,
										5545680.22,
										4810207.6,
										4695760.73,
										4882367.36
									],
									"yaxis": "y"
								},
								{
									"hovertemplate": "country=RO<br>time=%{x}<br>value=%{y}<extra></extra>",
									"legendgroup": "RO",
									"marker": {
										"color": "#ab63fa",
										"symbol": "circle"
									},
									"mode": "markers",
									"name": "RO",
									"orientation": "v",
									"showlegend": true,
									"type": "scatter",
									"x": [
										"2008",
										"2009",
										"2010",
										"2011",
										"2012",
										"2013",
										"2014",
										"2015",
										"2016",
										"2017",
										"2018",
										"2019",
										"2020",
										"2021",
										"2022"
									],
									"xaxis": "x",
									"y": [
										6792814.4,
										5751828.4,
										5581717.18,
										5895533.44,
										5748566.83,
										5205389.27,
										5195854.81,
										5160818.36,
										5081315.18,
										5218990.37,
										5256903.6,
										5097506.5,
										4886398.85,
										5009951.1,
										4775516.29
									],
									"yaxis": "y"
								},
								{
									"hovertemplate": "country=SI<br>time=%{x}<br>value=%{y}<extra></extra>",
									"legendgroup": "SI",
									"marker": {
										"color": "#FFA15A",
										"symbol": "circle"
									},
									"mode": "markers",
									"name": "SI",
									"orientation": "v",
									"showlegend": true,
									"type": "scatter",
									"x": [
										"2008",
										"2009",
										"2010",
										"2011",
										"2012",
										"2013",
										"2014",
										"2015",
										"2016",
										"2017",
										"2018",
										"2019",
										"2020",
										"2021",
										"2022"
									],
									"xaxis": "x",
									"y": [
										8093935.35,
										7375583,
										7437534.55,
										7280437.24,
										6938559.08,
										6798009.72,
										6112706.6,
										6231363.1,
										6484657.21,
										6547457.12,
										6628001.63,
										6513937.75,
										6220980.69,
										6120319.74,
										5858216.81
									],
									"yaxis": "y"
								},
								{
									"hovertemplate": "country=SK<br>time=%{x}<br>value=%{y}<extra></extra>",
									"legendgroup": "SK",
									"marker": {
										"color": "#19d3f3",
										"symbol": "circle"
									},
									"mode": "markers",
									"name": "SK",
									"orientation": "v",
									"showlegend": true,
									"type": "scatter",
									"x": [
										"2008",
										"2009",
										"2010",
										"2011",
										"2012",
										"2013",
										"2014",
										"2015",
										"2016",
										"2017",
										"2018",
										"2019",
										"2020",
										"2021",
										"2022"
									],
									"xaxis": "x",
									"y": [
										8115433.15,
										7304968.32,
										7305820.3,
										7294510.54,
										6765294.9,
										6676739.8,
										6405492.89,
										6471845.72,
										6515747.89,
										6638407.67,
										6633773.77,
										6145982.57,
										5635453.12,
										6232714.86,
										5658962.65
									],
									"yaxis": "y"
								},
								{
									"hovertemplate": "country=FI<br>time=%{x}<br>value=%{y}<extra></extra>",
									"legendgroup": "FI",
									"marker": {
										"color": "#FF6692",
										"symbol": "circle"
									},
									"mode": "markers",
									"name": "FI",
									"orientation": "v",
									"showlegend": true,
									"type": "scatter",
									"x": [
										"2008",
										"2009",
										"2010",
										"2011",
										"2012",
										"2013",
										"2014",
										"2015",
										"2016",
										"2017",
										"2018",
										"2019",
										"2020",
										"2021",
										"2022"
									],
									"xaxis": "x",
									"y": [
										12652929.15,
										12003558.2,
										13441161.42,
										11997445.75,
										10873832.79,
										10968185.92,
										10128634.2,
										9511454.86,
										10038993.36,
										9485754.23,
										9694404.22,
										9199287.59,
										7906406.45,
										7919041.52,
										7738452.67
									],
									"yaxis": "y"
								},
								{
									"hovertemplate": "country=SE<br>time=%{x}<br>value=%{y}<extra></extra>",
									"legendgroup": "SE",
									"marker": {
										"color": "#B6E880",
										"symbol": "circle"
									},
									"mode": "markers",
									"name": "SE",
									"orientation": "v",
									"showlegend": true,
									"type": "scatter",
									"x": [
										"2008",
										"2009",
										"2010",
										"2011",
										"2012",
										"2013",
										"2014",
										"2015",
										"2016",
										"2017",
										"2018",
										"2019",
										"2020",
										"2021",
										"2022"
									],
									"xaxis": "x",
									"y": [
										6147808.43,
										5514200.84,
										6147726.61,
										5607249.35,
										5236450.88,
										5048942.24,
										4857670.07,
										4842247.01,
										4891026.55,
										4694012.44,
										4593367.1,
										4439328.89,
										3917780.22,
										4090756.83,
										3979034.45
									],
									"yaxis": "y"
								},
								{
									"hovertemplate": "country=IS<br>time=%{x}<br>value=%{y}<extra></extra>",
									"legendgroup": "IS",
									"marker": {
										"color": "#FF97FF",
										"symbol": "circle"
									},
									"mode": "markers",
									"name": "IS",
									"orientation": "v",
									"showlegend": true,
									"type": "scatter",
									"x": [
										"2008",
										"2009",
										"2010",
										"2011",
										"2012",
										"2013",
										"2014",
										"2015",
										"2016",
										"2017",
										"2018",
										"2019",
										"2020",
										"2021",
										"2022"
									],
									"xaxis": "x",
									"y": [
										17704691.59,
										16180654.34,
										16184246.73,
										15554875.78,
										15875505.99,
										16678380.61,
										16456133.72,
										17975811.18,
										18999182.56,
										19816074.46,
										23787278.23,
										19303335.98,
										13880628.44,
										13663912.76,
										15608271.37
									],
									"yaxis": "y"
								},
								{
									"hovertemplate": "country=NO<br>time=%{x}<br>value=%{y}<extra></extra>",
									"legendgroup": "NO",
									"marker": {
										"color": "#FECB52",
										"symbol": "circle"
									},
									"mode": "markers",
									"name": "NO",
									"orientation": "v",
									"showlegend": true,
									"type": "scatter",
									"x": [
										"2008",
										"2009",
										"2010",
										"2011",
										"2012",
										"2013",
										"2014",
										"2015",
										"2016",
										"2017",
										"2018",
										"2019",
										"2020",
										"2021",
										"2022"
									],
									"xaxis": "x",
									"y": [
										12308807.83,
										11368305.58,
										11861900.26,
										12700895.28,
										12425877.26,
										12341836.36,
										12097582.9,
										13324274.85,
										11533448.95,
										11890017.84,
										12376829.9,
										12337209.38,
										11180613.64,
										11028020.94,
										11043629.85
									],
									"yaxis": "y"
								},
								{
									"hovertemplate": "country=RS<br>time=%{x}<br>value=%{y}<extra></extra>",
									"legendgroup": "RS",
									"marker": {
										"color": "#636efa",
										"symbol": "circle"
									},
									"mode": "markers",
									"name": "RS",
									"orientation": "v",
									"showlegend": true,
									"type": "scatter",
									"x": [
										"2008",
										"2009",
										"2010",
										"2011",
										"2012",
										"2013",
										"2014",
										"2015",
										"2016",
										"2017",
										"2018",
										"2019",
										"2020",
										"2021",
										"2022"
									],
									"xaxis": "x",
									"y": [
										0,
										0,
										0,
										0,
										0,
										0,
										0,
										0,
										0,
										0,
										0,
										0,
										0,
										0,
										0
									],
									"yaxis": "y"
								},
								{
									"hovertemplate": "country=TR<br>time=%{x}<br>value=%{y}<extra></extra>",
									"legendgroup": "TR",
									"marker": {
										"color": "#EF553B",
										"symbol": "circle"
									},
									"mode": "markers",
									"name": "TR",
									"orientation": "v",
									"showlegend": true,
									"type": "scatter",
									"x": [
										"2008",
										"2009",
										"2010",
										"2011",
										"2012",
										"2013",
										"2014",
										"2015",
										"2016",
										"2017",
										"2018",
										"2019",
										"2020",
										"2021",
										"2022"
									],
									"xaxis": "x",
									"y": [
										0,
										0,
										0,
										0,
										0,
										0,
										0,
										0,
										0,
										0,
										0,
										0,
										0,
										0,
										0
									],
									"yaxis": "y"
								}
							],
							"layout": {
								"legend": {
									"title": {
										"text": "country"
									},
									"tracegroupgap": 0
								},
								"margin": {
									"t": 60
								},
								"template": {
									"data": {
										"bar": [
											{
												"error_x": {
													"color": "#2a3f5f"
												},
												"error_y": {
													"color": "#2a3f5f"
												},
												"marker": {
													"line": {
														"color": "#E5ECF6",
														"width": 0.5
													},
													"pattern": {
														"fillmode": "overlay",
														"size": 10,
														"solidity": 0.2
													}
												},
												"type": "bar"
											}
										],
										"barpolar": [
											{
												"marker": {
													"line": {
														"color": "#E5ECF6",
														"width": 0.5
													},
													"pattern": {
														"fillmode": "overlay",
														"size": 10,
														"solidity": 0.2
													}
												},
												"type": "barpolar"
											}
										],
										"carpet": [
											{
												"aaxis": {
													"endlinecolor": "#2a3f5f",
													"gridcolor": "white",
													"linecolor": "white",
													"minorgridcolor": "white",
													"startlinecolor": "#2a3f5f"
												},
												"baxis": {
													"endlinecolor": "#2a3f5f",
													"gridcolor": "white",
													"linecolor": "white",
													"minorgridcolor": "white",
													"startlinecolor": "#2a3f5f"
												},
												"type": "carpet"
											}
										],
										"choropleth": [
											{
												"colorbar": {
													"outlinewidth": 0,
													"ticks": ""
												},
												"type": "choropleth"
											}
										],
										"contour": [
											{
												"colorbar": {
													"outlinewidth": 0,
													"ticks": ""
												},
												"colorscale": [
													[
														0,
														"#0d0887"
													],
													[
														0.1111111111111111,
														"#46039f"
													],
													[
														0.2222222222222222,
														"#7201a8"
													],
													[
														0.3333333333333333,
														"#9c179e"
													],
													[
														0.4444444444444444,
														"#bd3786"
													],
													[
														0.5555555555555556,
														"#d8576b"
													],
													[
														0.6666666666666666,
														"#ed7953"
													],
													[
														0.7777777777777778,
														"#fb9f3a"
													],
													[
														0.8888888888888888,
														"#fdca26"
													],
													[
														1,
														"#f0f921"
													]
												],
												"type": "contour"
											}
										],
										"contourcarpet": [
											{
												"colorbar": {
													"outlinewidth": 0,
													"ticks": ""
												},
												"type": "contourcarpet"
											}
										],
										"heatmap": [
											{
												"colorbar": {
													"outlinewidth": 0,
													"ticks": ""
												},
												"colorscale": [
													[
														0,
														"#0d0887"
													],
													[
														0.1111111111111111,
														"#46039f"
													],
													[
														0.2222222222222222,
														"#7201a8"
													],
													[
														0.3333333333333333,
														"#9c179e"
													],
													[
														0.4444444444444444,
														"#bd3786"
													],
													[
														0.5555555555555556,
														"#d8576b"
													],
													[
														0.6666666666666666,
														"#ed7953"
													],
													[
														0.7777777777777778,
														"#fb9f3a"
													],
													[
														0.8888888888888888,
														"#fdca26"
													],
													[
														1,
														"#f0f921"
													]
												],
												"type": "heatmap"
											}
										],
										"heatmapgl": [
											{
												"colorbar": {
													"outlinewidth": 0,
													"ticks": ""
												},
												"colorscale": [
													[
														0,
														"#0d0887"
													],
													[
														0.1111111111111111,
														"#46039f"
													],
													[
														0.2222222222222222,
														"#7201a8"
													],
													[
														0.3333333333333333,
														"#9c179e"
													],
													[
														0.4444444444444444,
														"#bd3786"
													],
													[
														0.5555555555555556,
														"#d8576b"
													],
													[
														0.6666666666666666,
														"#ed7953"
													],
													[
														0.7777777777777778,
														"#fb9f3a"
													],
													[
														0.8888888888888888,
														"#fdca26"
													],
													[
														1,
														"#f0f921"
													]
												],
												"type": "heatmapgl"
											}
										],
										"histogram": [
											{
												"marker": {
													"pattern": {
														"fillmode": "overlay",
														"size": 10,
														"solidity": 0.2
													}
												},
												"type": "histogram"
											}
										],
										"histogram2d": [
											{
												"colorbar": {
													"outlinewidth": 0,
													"ticks": ""
												},
												"colorscale": [
													[
														0,
														"#0d0887"
													],
													[
														0.1111111111111111,
														"#46039f"
													],
													[
														0.2222222222222222,
														"#7201a8"
													],
													[
														0.3333333333333333,
														"#9c179e"
													],
													[
														0.4444444444444444,
														"#bd3786"
													],
													[
														0.5555555555555556,
														"#d8576b"
													],
													[
														0.6666666666666666,
														"#ed7953"
													],
													[
														0.7777777777777778,
														"#fb9f3a"
													],
													[
														0.8888888888888888,
														"#fdca26"
													],
													[
														1,
														"#f0f921"
													]
												],
												"type": "histogram2d"
											}
										],
										"histogram2dcontour": [
											{
												"colorbar": {
													"outlinewidth": 0,
													"ticks": ""
												},
												"colorscale": [
													[
														0,
														"#0d0887"
													],
													[
														0.1111111111111111,
														"#46039f"
													],
													[
														0.2222222222222222,
														"#7201a8"
													],
													[
														0.3333333333333333,
														"#9c179e"
													],
													[
														0.4444444444444444,
														"#bd3786"
													],
													[
														0.5555555555555556,
														"#d8576b"
													],
													[
														0.6666666666666666,
														"#ed7953"
													],
													[
														0.7777777777777778,
														"#fb9f3a"
													],
													[
														0.8888888888888888,
														"#fdca26"
													],
													[
														1,
														"#f0f921"
													]
												],
												"type": "histogram2dcontour"
											}
										],
										"mesh3d": [
											{
												"colorbar": {
													"outlinewidth": 0,
													"ticks": ""
												},
												"type": "mesh3d"
											}
										],
										"parcoords": [
											{
												"line": {
													"colorbar": {
														"outlinewidth": 0,
														"ticks": ""
													}
												},
												"type": "parcoords"
											}
										],
										"pie": [
											{
												"automargin": true,
												"type": "pie"
											}
										],
										"scatter": [
											{
												"fillpattern": {
													"fillmode": "overlay",
													"size": 10,
													"solidity": 0.2
												},
												"type": "scatter"
											}
										],
										"scatter3d": [
											{
												"line": {
													"colorbar": {
														"outlinewidth": 0,
														"ticks": ""
													}
												},
												"marker": {
													"colorbar": {
														"outlinewidth": 0,
														"ticks": ""
													}
												},
												"type": "scatter3d"
											}
										],
										"scattercarpet": [
											{
												"marker": {
													"colorbar": {
														"outlinewidth": 0,
														"ticks": ""
													}
												},
												"type": "scattercarpet"
											}
										],
										"scattergeo": [
											{
												"marker": {
													"colorbar": {
														"outlinewidth": 0,
														"ticks": ""
													}
												},
												"type": "scattergeo"
											}
										],
										"scattergl": [
											{
												"marker": {
													"colorbar": {
														"outlinewidth": 0,
														"ticks": ""
													}
												},
												"type": "scattergl"
											}
										],
										"scattermapbox": [
											{
												"marker": {
													"colorbar": {
														"outlinewidth": 0,
														"ticks": ""
													}
												},
												"type": "scattermapbox"
											}
										],
										"scatterpolar": [
											{
												"marker": {
													"colorbar": {
														"outlinewidth": 0,
														"ticks": ""
													}
												},
												"type": "scatterpolar"
											}
										],
										"scatterpolargl": [
											{
												"marker": {
													"colorbar": {
														"outlinewidth": 0,
														"ticks": ""
													}
												},
												"type": "scatterpolargl"
											}
										],
										"scatterternary": [
											{
												"marker": {
													"colorbar": {
														"outlinewidth": 0,
														"ticks": ""
													}
												},
												"type": "scatterternary"
											}
										],
										"surface": [
											{
												"colorbar": {
													"outlinewidth": 0,
													"ticks": ""
												},
												"colorscale": [
													[
														0,
														"#0d0887"
													],
													[
														0.1111111111111111,
														"#46039f"
													],
													[
														0.2222222222222222,
														"#7201a8"
													],
													[
														0.3333333333333333,
														"#9c179e"
													],
													[
														0.4444444444444444,
														"#bd3786"
													],
													[
														0.5555555555555556,
														"#d8576b"
													],
													[
														0.6666666666666666,
														"#ed7953"
													],
													[
														0.7777777777777778,
														"#fb9f3a"
													],
													[
														0.8888888888888888,
														"#fdca26"
													],
													[
														1,
														"#f0f921"
													]
												],
												"type": "surface"
											}
										],
										"table": [
											{
												"cells": {
													"fill": {
														"color": "#EBF0F8"
													},
													"line": {
														"color": "white"
													}
												},
												"header": {
													"fill": {
														"color": "#C8D4E3"
													},
													"line": {
														"color": "white"
													}
												},
												"type": "table"
											}
										]
									},
									"layout": {
										"annotationdefaults": {
											"arrowcolor": "#2a3f5f",
											"arrowhead": 0,
											"arrowwidth": 1
										},
										"autotypenumbers": "strict",
										"coloraxis": {
											"colorbar": {
												"outlinewidth": 0,
												"ticks": ""
											}
										},
										"colorscale": {
											"diverging": [
												[
													0,
													"#8e0152"
												],
												[
													0.1,
													"#c51b7d"
												],
												[
													0.2,
													"#de77ae"
												],
												[
													0.3,
													"#f1b6da"
												],
												[
													0.4,
													"#fde0ef"
												],
												[
													0.5,
													"#f7f7f7"
												],
												[
													0.6,
													"#e6f5d0"
												],
												[
													0.7,
													"#b8e186"
												],
												[
													0.8,
													"#7fbc41"
												],
												[
													0.9,
													"#4d9221"
												],
												[
													1,
													"#276419"
												]
											],
											"sequential": [
												[
													0,
													"#0d0887"
												],
												[
													0.1111111111111111,
													"#46039f"
												],
												[
													0.2222222222222222,
													"#7201a8"
												],
												[
													0.3333333333333333,
													"#9c179e"
												],
												[
													0.4444444444444444,
													"#bd3786"
												],
												[
													0.5555555555555556,
													"#d8576b"
												],
												[
													0.6666666666666666,
													"#ed7953"
												],
												[
													0.7777777777777778,
													"#fb9f3a"
												],
												[
													0.8888888888888888,
													"#fdca26"
												],
												[
													1,
													"#f0f921"
												]
											],
											"sequentialminus": [
												[
													0,
													"#0d0887"
												],
												[
													0.1111111111111111,
													"#46039f"
												],
												[
													0.2222222222222222,
													"#7201a8"
												],
												[
													0.3333333333333333,
													"#9c179e"
												],
												[
													0.4444444444444444,
													"#bd3786"
												],
												[
													0.5555555555555556,
													"#d8576b"
												],
												[
													0.6666666666666666,
													"#ed7953"
												],
												[
													0.7777777777777778,
													"#fb9f3a"
												],
												[
													0.8888888888888888,
													"#fdca26"
												],
												[
													1,
													"#f0f921"
												]
											]
										},
										"colorway": [
											"#636efa",
											"#EF553B",
											"#00cc96",
											"#ab63fa",
											"#FFA15A",
											"#19d3f3",
											"#FF6692",
											"#B6E880",
											"#FF97FF",
											"#FECB52"
										],
										"font": {
											"color": "#2a3f5f"
										},
										"geo": {
											"bgcolor": "white",
											"lakecolor": "white",
											"landcolor": "#E5ECF6",
											"showlakes": true,
											"showland": true,
											"subunitcolor": "white"
										},
										"hoverlabel": {
											"align": "left"
										},
										"hovermode": "closest",
										"mapbox": {
											"style": "light"
										},
										"paper_bgcolor": "white",
										"plot_bgcolor": "#E5ECF6",
										"polar": {
											"angularaxis": {
												"gridcolor": "white",
												"linecolor": "white",
												"ticks": ""
											},
											"bgcolor": "#E5ECF6",
											"radialaxis": {
												"gridcolor": "white",
												"linecolor": "white",
												"ticks": ""
											}
										},
										"scene": {
											"xaxis": {
												"backgroundcolor": "#E5ECF6",
												"gridcolor": "white",
												"gridwidth": 2,
												"linecolor": "white",
												"showbackground": true,
												"ticks": "",
												"zerolinecolor": "white"
											},
											"yaxis": {
												"backgroundcolor": "#E5ECF6",
												"gridcolor": "white",
												"gridwidth": 2,
												"linecolor": "white",
												"showbackground": true,
												"ticks": "",
												"zerolinecolor": "white"
											},
											"zaxis": {
												"backgroundcolor": "#E5ECF6",
												"gridcolor": "white",
												"gridwidth": 2,
												"linecolor": "white",
												"showbackground": true,
												"ticks": "",
												"zerolinecolor": "white"
											}
										},
										"shapedefaults": {
											"line": {
												"color": "#2a3f5f"
											}
										},
										"ternary": {
											"aaxis": {
												"gridcolor": "white",
												"linecolor": "white",
												"ticks": ""
											},
											"baxis": {
												"gridcolor": "white",
												"linecolor": "white",
												"ticks": ""
											},
											"bgcolor": "#E5ECF6",
											"caxis": {
												"gridcolor": "white",
												"linecolor": "white",
												"ticks": ""
											}
										},
										"title": {
											"x": 0.05
										},
										"xaxis": {
											"automargin": true,
											"gridcolor": "white",
											"linecolor": "white",
											"ticks": "",
											"title": {
												"standoff": 15
											},
											"zerolinecolor": "white",
											"zerolinewidth": 2
										},
										"yaxis": {
											"automargin": true,
											"gridcolor": "white",
											"linecolor": "white",
											"ticks": "",
											"title": {
												"standoff": 15
											},
											"zerolinecolor": "white",
											"zerolinewidth": 2
										}
									}
								},
								"xaxis": {
									"anchor": "y",
									"domain": [
										0,
										1
									],
									"title": {
										"text": "time"
									}
								},
								"yaxis": {
									"anchor": "x",
									"domain": [
										0,
										1
									],
									"title": {
										"text": "value"
									}
								}
							}
						}
					},
					"metadata": {},
					"output_type": "display_data"
				}
			],
			"source": [
				"# Plot the carbon emissions scatterplot\n",
				"fig = px.scatter(df_carbon_short)\n",
				"fig.show()"
			]
		},
		{
			"cell_type": "code",
			"execution_count": 314,
			"metadata": {},
			"outputs": [
				{
					"data": {
						"text/plain": [
							"'<div>                            <div id=\"8d399dc7-c6fc-4dc3-ba64-df84411c89a0\" class=\"plotly-graph-div\" style=\"height:100%; width:100%;\"></div>            <script type=\"text/javascript\">                                    window.PLOTLYENV=window.PLOTLYENV || {};                                    if (document.getElementById(\"8d399dc7-c6fc-4dc3-ba64-df84411c89a0\")) {                    Plotly.newPlot(                        \"8d399dc7-c6fc-4dc3-ba64-df84411c89a0\",                        [{\"hovertemplate\":\"country=EU27_2020\\\\u003cbr\\\\u003etime=%{x}\\\\u003cbr\\\\u003evalue=%{y}\\\\u003cextra\\\\u003e\\\\u003c\\\\u002fextra\\\\u003e\",\"legendgroup\":\"EU27_2020\",\"marker\":{\"color\":\"#636efa\",\"symbol\":\"circle\"},\"mode\":\"markers\",\"name\":\"EU27_2020\",\"orientation\":\"v\",\"showlegend\":true,\"x\":[\"2008\",\"2009\",\"2010\",\"2011\",\"2012\",\"2013\",\"2014\",\"2015\",\"2016\",\"2017\",\"2018\",\"2019\",\"2020\",\"2021\",\"2022\"],\"xaxis\":\"x\",\"y\":[8626928.75,7851179.61,8024312.0,7901995.31,7728876.39,7493978.46,7234802.44,7299142.02,7269867.78,7365308.32,7224855.15,6878667.56,6192649.36,6543663.17,6481157.74],\"yaxis\":\"y\",\"type\":\"scatter\"},{\"hovertemplate\":\"country=BE\\\\u003cbr\\\\u003etime=%{x}\\\\u003cbr\\\\u003evalue=%{y}\\\\u003cextra\\\\u003e\\\\u003c\\\\u002fextra\\\\u003e\",\"legendgroup\":\"BE\",\"marker\":{\"color\":\"#EF553B\",\"symbol\":\"circle\"},\"mode\":\"markers\",\"name\":\"BE\",\"orientation\":\"v\",\"showlegend\":true,\"x\":[\"2008\",\"2009\",\"2010\",\"2011\",\"2012\",\"2013\",\"2014\",\"2015\",\"2016\",\"2017\",\"2018\",\"2019\",\"2020\",\"2021\",\"2022\"],\"xaxis\":\"x\",\"y\":[9840862.32,8740690.23,9243216.52,8519668.04,8149775.0,7916208.46,7686154.55,7876220.88,7799071.79,7776925.29,7879669.22,7840274.31,7188131.12,7139444.92,6821002.24],\"yaxis\":\"y\",\"type\":\"scatter\"},{\"hovertemplate\":\"country=BG\\\\u003cbr\\\\u003etime=%{x}\\\\u003cbr\\\\u003evalue=%{y}\\\\u003cextra\\\\u003e\\\\u003c\\\\u002fextra\\\\u003e\",\"legendgroup\":\"BG\",\"marker\":{\"color\":\"#00cc96\",\"symbol\":\"circle\"},\"mode\":\"markers\",\"name\":\"BG\",\"orientation\":\"v\",\"showlegend\":true,\"x\":[\"2008\",\"2009\",\"2010\",\"2011\",\"2012\",\"2013\",\"2014\",\"2015\",\"2016\",\"2017\",\"2018\",\"2019\",\"2020\",\"2021\",\"2022\"],\"xaxis\":\"x\",\"y\":[8374278.1,7277828.03,7673499.85,8424931.82,7808042.43,7144298.7,7661685.75,8111630.72,7823731.5,8175206.26,7600569.84,7453706.39,6577156.14,7510443.21,8466050.23],\"yaxis\":\"y\",\"type\":\"scatter\"},{\"hovertemplate\":\"country=CZ\\\\u003cbr\\\\u003etime=%{x}\\\\u003cbr\\\\u003evalue=%{y}\\\\u003cextra\\\\u003e\\\\u003c\\\\u002fextra\\\\u003e\",\"legendgroup\":\"CZ\",\"marker\":{\"color\":\"#ab63fa\",\"symbol\":\"circle\"},\"mode\":\"markers\",\"name\":\"CZ\",\"orientation\":\"v\",\"showlegend\":true,\"x\":[\"2008\",\"2009\",\"2010\",\"2011\",\"2012\",\"2013\",\"2014\",\"2015\",\"2016\",\"2017\",\"2018\",\"2019\",\"2020\",\"2021\",\"2022\"],\"xaxis\":\"x\",\"y\":[12088284.26,11049662.42,11228220.11,10997932.47,10544785.7,10067365.75,10008261.81,9937441.99,10111070.44,9905885.61,9963439.31,9416234.22,8426277.23,9081701.65,8901412.74],\"yaxis\":\"y\",\"type\":\"scatter\"},{\"hovertemplate\":\"country=DK\\\\u003cbr\\\\u003etime=%{x}\\\\u003cbr\\\\u003evalue=%{y}\\\\u003cextra\\\\u003e\\\\u003c\\\\u002fextra\\\\u003e\",\"legendgroup\":\"DK\",\"marker\":{\"color\":\"#FFA15A\",\"symbol\":\"circle\"},\"mode\":\"markers\",\"name\":\"DK\",\"orientation\":\"v\",\"showlegend\":true,\"x\":[\"2008\",\"2009\",\"2010\",\"2011\",\"2012\",\"2013\",\"2014\",\"2015\",\"2016\",\"2017\",\"2018\",\"2019\",\"2020\",\"2021\",\"2022\"],\"xaxis\":\"x\",\"y\":[18472875.79,17176547.55,16767331.74,16608386.02,15347310.62,15031123.9,13930938.79,13829349.45,14258305.52,14200191.24,14551202.52,13944705.74,12272409.09,13090825.04,12372716.58],\"yaxis\":\"y\",\"type\":\"scatter\"},{\"hovertemplate\":\"country=DE\\\\u003cbr\\\\u003etime=%{x}\\\\u003cbr\\\\u003evalue=%{y}\\\\u003cextra\\\\u003e\\\\u003c\\\\u002fextra\\\\u003e\",\"legendgroup\":\"DE\",\"marker\":{\"color\":\"#19d3f3\",\"symbol\":\"circle\"},\"mode\":\"markers\",\"name\":\"DE\",\"orientation\":\"v\",\"showlegend\":true,\"x\":[\"2008\",\"2009\",\"2010\",\"2011\",\"2012\",\"2013\",\"2014\",\"2015\",\"2016\",\"2017\",\"2018\",\"2019\",\"2020\",\"2021\",\"2022\"],\"xaxis\":\"x\",\"y\":[10115618.26,9321295.5,9667309.77,9668751.22,9767753.13,9890300.45,9336313.94,9357887.22,9211878.93,9040142.72,8728757.68,7930781.54,7039775.03,7528067.39,7391810.01],\"yaxis\":\"y\",\"type\":\"scatter\"},{\"hovertemplate\":\"country=EE\\\\u003cbr\\\\u003etime=%{x}\\\\u003cbr\\\\u003evalue=%{y}\\\\u003cextra\\\\u003e\\\\u003c\\\\u002fextra\\\\u003e\",\"legendgroup\":\"EE\",\"marker\":{\"color\":\"#FF6692\",\"symbol\":\"circle\"},\"mode\":\"markers\",\"name\":\"EE\",\"orientation\":\"v\",\"showlegend\":true,\"x\":[\"2008\",\"2009\",\"2010\",\"2011\",\"2012\",\"2013\",\"2014\",\"2015\",\"2016\",\"2017\",\"2018\",\"2019\",\"2020\",\"2021\",\"2022\"],\"xaxis\":\"x\",\"y\":[15495691.7,12786692.77,16307459.75,16334728.68,15694048.49,17544493.57,16865413.94,14247370.94,15078665.84,16135658.92,15137532.82,10604154.24,7963695.24,8931589.31,10226904.55],\"yaxis\":\"y\",\"type\":\"scatter\"},{\"hovertemplate\":\"country=IE\\\\u003cbr\\\\u003etime=%{x}\\\\u003cbr\\\\u003evalue=%{y}\\\\u003cextra\\\\u003e\\\\u003c\\\\u002fextra\\\\u003e\",\"legendgroup\":\"IE\",\"marker\":{\"color\":\"#B6E880\",\"symbol\":\"circle\"},\"mode\":\"markers\",\"name\":\"IE\",\"orientation\":\"v\",\"showlegend\":true,\"x\":[\"2008\",\"2009\",\"2010\",\"2011\",\"2012\",\"2013\",\"2014\",\"2015\",\"2016\",\"2017\",\"2018\",\"2019\",\"2020\",\"2021\",\"2022\"],\"xaxis\":\"x\",\"y\":[11599639.01,10448510.06,12043627.47,11509752.46,11892306.47,11896561.49,11936396.37,12350180.53,13161418.86,13576578.57,13664168.02,13104135.84,10471640.26,10935062.67,12040447.43],\"yaxis\":\"y\",\"type\":\"scatter\"},{\"hovertemplate\":\"country=EL\\\\u003cbr\\\\u003etime=%{x}\\\\u003cbr\\\\u003evalue=%{y}\\\\u003cextra\\\\u003e\\\\u003c\\\\u002fextra\\\\u003e\",\"legendgroup\":\"EL\",\"marker\":{\"color\":\"#FF97FF\",\"symbol\":\"circle\"},\"mode\":\"markers\",\"name\":\"EL\",\"orientation\":\"v\",\"showlegend\":true,\"x\":[\"2008\",\"2009\",\"2010\",\"2011\",\"2012\",\"2013\",\"2014\",\"2015\",\"2016\",\"2017\",\"2018\",\"2019\",\"2020\",\"2021\",\"2022\"],\"xaxis\":\"x\",\"y\":[11023011.51,10354690.72,9989268.71,9620522.32,9558049.09,8893055.91,8668780.43,8372383.55,8222020.74,8770312.65,8747679.03,8190978.34,7159125.08,7404625.96,7486773.65],\"yaxis\":\"y\",\"type\":\"scatter\"},{\"hovertemplate\":\"country=ES\\\\u003cbr\\\\u003etime=%{x}\\\\u003cbr\\\\u003evalue=%{y}\\\\u003cextra\\\\u003e\\\\u003c\\\\u002fextra\\\\u003e\",\"legendgroup\":\"ES\",\"marker\":{\"color\":\"#FECB52\",\"symbol\":\"circle\"},\"mode\":\"markers\",\"name\":\"ES\",\"orientation\":\"v\",\"showlegend\":true,\"x\":[\"2008\",\"2009\",\"2010\",\"2011\",\"2012\",\"2013\",\"2014\",\"2015\",\"2016\",\"2017\",\"2018\",\"2019\",\"2020\",\"2021\",\"2022\"],\"xaxis\":\"x\",\"y\":[7309667.12,6435677.13,6098359.65,6223872.41,6157580.45,5582920.07,5644578.55,5865209.93,5597726.47,5877877.61,5688642.44,5286026.97,4559963.59,4797265.04,4925200.55],\"yaxis\":\"y\",\"type\":\"scatter\"},{\"hovertemplate\":\"country=FR\\\\u003cbr\\\\u003etime=%{x}\\\\u003cbr\\\\u003evalue=%{y}\\\\u003cextra\\\\u003e\\\\u003c\\\\u002fextra\\\\u003e\",\"legendgroup\":\"FR\",\"marker\":{\"color\":\"#636efa\",\"symbol\":\"circle\"},\"mode\":\"markers\",\"name\":\"FR\",\"orientation\":\"v\",\"showlegend\":true,\"x\":[\"2008\",\"2009\",\"2010\",\"2011\",\"2012\",\"2013\",\"2014\",\"2015\",\"2016\",\"2017\",\"2018\",\"2019\",\"2020\",\"2021\",\"2022\"],\"xaxis\":\"x\",\"y\":[6653317.15,6166276.04,6234057.62,5933114.42,5867591.23,5772556.79,5396696.3,5373290.66,5339385.7,5473355.17,5304094.58,5167548.92,4650664.25,4860548.57,4860614.98],\"yaxis\":\"y\",\"type\":\"scatter\"},{\"hovertemplate\":\"country=HR\\\\u003cbr\\\\u003etime=%{x}\\\\u003cbr\\\\u003evalue=%{y}\\\\u003cextra\\\\u003e\\\\u003c\\\\u002fextra\\\\u003e\",\"legendgroup\":\"HR\",\"marker\":{\"color\":\"#EF553B\",\"symbol\":\"circle\"},\"mode\":\"markers\",\"name\":\"HR\",\"orientation\":\"v\",\"showlegend\":true,\"x\":[\"2008\",\"2009\",\"2010\",\"2011\",\"2012\",\"2013\",\"2014\",\"2015\",\"2016\",\"2017\",\"2018\",\"2019\",\"2020\",\"2021\",\"2022\"],\"xaxis\":\"x\",\"y\":[5743596.96,5214613.4,5173006.91,5157442.84,4777320.94,4573175.93,4448445.46,4494552.46,4522790.09,4768416.87,4551690.66,4631066.6,4481239.73,4627936.16,4606962.81],\"yaxis\":\"y\",\"type\":\"scatter\"},{\"hovertemplate\":\"country=IT\\\\u003cbr\\\\u003etime=%{x}\\\\u003cbr\\\\u003evalue=%{y}\\\\u003cextra\\\\u003e\\\\u003c\\\\u002fextra\\\\u003e\",\"legendgroup\":\"IT\",\"marker\":{\"color\":\"#00cc96\",\"symbol\":\"circle\"},\"mode\":\"markers\",\"name\":\"IT\",\"orientation\":\"v\",\"showlegend\":true,\"x\":[\"2008\",\"2009\",\"2010\",\"2011\",\"2012\",\"2013\",\"2014\",\"2015\",\"2016\",\"2017\",\"2018\",\"2019\",\"2020\",\"2021\",\"2022\"],\"xaxis\":\"x\",\"y\":[7795851.87,6741917.65,6928656.17,6756489.81,6487892.06,5859784.44,5523957.09,5594673.93,5569147.23,5588750.03,5513539.82,5442001.72,4956810.63,5379280.59,5432207.73],\"yaxis\":\"y\",\"type\":\"scatter\"},{\"hovertemplate\":\"country=CY\\\\u003cbr\\\\u003etime=%{x}\\\\u003cbr\\\\u003evalue=%{y}\\\\u003cextra\\\\u003e\\\\u003c\\\\u002fextra\\\\u003e\",\"legendgroup\":\"CY\",\"marker\":{\"color\":\"#ab63fa\",\"symbol\":\"circle\"},\"mode\":\"markers\",\"name\":\"CY\",\"orientation\":\"v\",\"showlegend\":true,\"x\":[\"2008\",\"2009\",\"2010\",\"2011\",\"2012\",\"2013\",\"2014\",\"2015\",\"2016\",\"2017\",\"2018\",\"2019\",\"2020\",\"2021\",\"2022\"],\"xaxis\":\"x\",\"y\":[11183735.7,10530223.3,9810262.08,8894269.75,8044428.37,7322766.43,7810898.18,7646758.0,8062773.8,8306246.6,8279133.71,7969957.25,7682750.74,7643435.48,7642788.91],\"yaxis\":\"y\",\"type\":\"scatter\"},{\"hovertemplate\":\"country=LV\\\\u003cbr\\\\u003etime=%{x}\\\\u003cbr\\\\u003evalue=%{y}\\\\u003cextra\\\\u003e\\\\u003c\\\\u002fextra\\\\u003e\",\"legendgroup\":\"LV\",\"marker\":{\"color\":\"#FFA15A\",\"symbol\":\"circle\"},\"mode\":\"markers\",\"name\":\"LV\",\"orientation\":\"v\",\"showlegend\":true,\"x\":[\"2008\",\"2009\",\"2010\",\"2011\",\"2012\",\"2013\",\"2014\",\"2015\",\"2016\",\"2017\",\"2018\",\"2019\",\"2020\",\"2021\",\"2022\"],\"xaxis\":\"x\",\"y\":[5303185.14,4731464.3,5444515.55,5177981.7,5116481.72,5045809.54,5059065.91,5242554.97,5231307.71,5348290.65,5636546.19,5682612.88,4941039.01,5131370.03,4943358.24],\"yaxis\":\"y\",\"type\":\"scatter\"},{\"hovertemplate\":\"country=LT\\\\u003cbr\\\\u003etime=%{x}\\\\u003cbr\\\\u003evalue=%{y}\\\\u003cextra\\\\u003e\\\\u003c\\\\u002fextra\\\\u003e\",\"legendgroup\":\"LT\",\"marker\":{\"color\":\"#19d3f3\",\"symbol\":\"circle\"},\"mode\":\"markers\",\"name\":\"LT\",\"orientation\":\"v\",\"showlegend\":true,\"x\":[\"2008\",\"2009\",\"2010\",\"2011\",\"2012\",\"2013\",\"2014\",\"2015\",\"2016\",\"2017\",\"2018\",\"2019\",\"2020\",\"2021\",\"2022\"],\"xaxis\":\"x\",\"y\":[6891628.78,5657549.19,5995297.31,6360230.36,6383491.21,6060614.6,6370309.76,6671007.22,6636496.74,6970335.32,7278184.08,7430063.51,8058967.02,7399266.99,6965986.46],\"yaxis\":\"y\",\"type\":\"scatter\"},{\"hovertemplate\":\"country=LU\\\\u003cbr\\\\u003etime=%{x}\\\\u003cbr\\\\u003evalue=%{y}\\\\u003cextra\\\\u003e\\\\u003c\\\\u002fextra\\\\u003e\",\"legendgroup\":\"LU\",\"marker\":{\"color\":\"#FF6692\",\"symbol\":\"circle\"},\"mode\":\"markers\",\"name\":\"LU\",\"orientation\":\"v\",\"showlegend\":true,\"x\":[\"2008\",\"2009\",\"2010\",\"2011\",\"2012\",\"2013\",\"2014\",\"2015\",\"2016\",\"2017\",\"2018\",\"2019\",\"2020\",\"2021\",\"2022\"],\"xaxis\":\"x\",\"y\":[16962222.93,16693001.57,16565861.78,14896888.54,14301838.85,13676485.86,13784926.93,14970580.29,14410054.83,14040314.31,13997677.98,14722531.52,13061280.11,12776400.75,12090519.69],\"yaxis\":\"y\",\"type\":\"scatter\"},{\"hovertemplate\":\"country=HU\\\\u003cbr\\\\u003etime=%{x}\\\\u003cbr\\\\u003evalue=%{y}\\\\u003cextra\\\\u003e\\\\u003c\\\\u002fextra\\\\u003e\",\"legendgroup\":\"HU\",\"marker\":{\"color\":\"#B6E880\",\"symbol\":\"circle\"},\"mode\":\"markers\",\"name\":\"HU\",\"orientation\":\"v\",\"showlegend\":true,\"x\":[\"2008\",\"2009\",\"2010\",\"2011\",\"2012\",\"2013\",\"2014\",\"2015\",\"2016\",\"2017\",\"2018\",\"2019\",\"2020\",\"2021\",\"2022\"],\"xaxis\":\"x\",\"y\":[6037923.19,5429119.41,5527873.99,5555349.42,5118860.96,4985632.75,5079385.95,5309836.06,5290183.46,5509981.5,5565000.66,5421994.89,5142940.18,5222883.12,5102020.49],\"yaxis\":\"y\",\"type\":\"scatter\"},{\"hovertemplate\":\"country=MT\\\\u003cbr\\\\u003etime=%{x}\\\\u003cbr\\\\u003evalue=%{y}\\\\u003cextra\\\\u003e\\\\u003c\\\\u002fextra\\\\u003e\",\"legendgroup\":\"MT\",\"marker\":{\"color\":\"#FF97FF\",\"symbol\":\"circle\"},\"mode\":\"markers\",\"name\":\"MT\",\"orientation\":\"v\",\"showlegend\":true,\"x\":[\"2008\",\"2009\",\"2010\",\"2011\",\"2012\",\"2013\",\"2014\",\"2015\",\"2016\",\"2017\",\"2018\",\"2019\",\"2020\",\"2021\",\"2022\"],\"xaxis\":\"x\",\"y\":[7203973.0,6797318.87,6960574.76,6971615.72,7315305.97,6447085.64,6374488.39,4633918.05,3874020.46,4131167.13,4076519.06,4161781.55,3669234.4,3620338.22,3708475.74],\"yaxis\":\"y\",\"type\":\"scatter\"},{\"hovertemplate\":\"country=NL\\\\u003cbr\\\\u003etime=%{x}\\\\u003cbr\\\\u003evalue=%{y}\\\\u003cextra\\\\u003e\\\\u003c\\\\u002fextra\\\\u003e\",\"legendgroup\":\"NL\",\"marker\":{\"color\":\"#FECB52\",\"symbol\":\"circle\"},\"mode\":\"markers\",\"name\":\"NL\",\"orientation\":\"v\",\"showlegend\":true,\"x\":[\"2008\",\"2009\",\"2010\",\"2011\",\"2012\",\"2013\",\"2014\",\"2015\",\"2016\",\"2017\",\"2018\",\"2019\",\"2020\",\"2021\",\"2022\"],\"xaxis\":\"x\",\"y\":[11551381.97,11097074.27,11499815.64,10936273.75,10657360.22,10592971.51,10521613.19,10825105.95,10711090.87,10491467.76,10134114.23,9903383.22,8766733.99,8753795.01,8227724.75],\"yaxis\":\"y\",\"type\":\"scatter\"},{\"hovertemplate\":\"country=AT\\\\u003cbr\\\\u003etime=%{x}\\\\u003cbr\\\\u003evalue=%{y}\\\\u003cextra\\\\u003e\\\\u003c\\\\u002fextra\\\\u003e\",\"legendgroup\":\"AT\",\"marker\":{\"color\":\"#636efa\",\"symbol\":\"circle\"},\"mode\":\"markers\",\"name\":\"AT\",\"orientation\":\"v\",\"showlegend\":true,\"x\":[\"2008\",\"2009\",\"2010\",\"2011\",\"2012\",\"2013\",\"2014\",\"2015\",\"2016\",\"2017\",\"2018\",\"2019\",\"2020\",\"2021\",\"2022\"],\"xaxis\":\"x\",\"y\":[8097291.69,7308617.85,7700611.64,7481448.06,7098295.69,6888255.9,6561107.19,6612999.9,6464018.01,6743435.74,6412811.44,6733225.11,6017717.63,6421100.46,6063695.21],\"yaxis\":\"y\",\"type\":\"scatter\"},{\"hovertemplate\":\"country=PL\\\\u003cbr\\\\u003etime=%{x}\\\\u003cbr\\\\u003evalue=%{y}\\\\u003cextra\\\\u003e\\\\u003c\\\\u002fextra\\\\u003e\",\"legendgroup\":\"PL\",\"marker\":{\"color\":\"#EF553B\",\"symbol\":\"circle\"},\"mode\":\"markers\",\"name\":\"PL\",\"orientation\":\"v\",\"showlegend\":true,\"x\":[\"2008\",\"2009\",\"2010\",\"2011\",\"2012\",\"2013\",\"2014\",\"2015\",\"2016\",\"2017\",\"2018\",\"2019\",\"2020\",\"2021\",\"2022\"],\"xaxis\":\"x\",\"y\":[9444706.91,8924261.65,9288855.03,9386433.81,9140778.57,9097624.14,8907491.07,8976477.85,9279493.13,9706232.03,9670243.48,9237050.64,8833756.4,9706927.16,9587311.38],\"yaxis\":\"y\",\"type\":\"scatter\"},{\"hovertemplate\":\"country=PT\\\\u003cbr\\\\u003etime=%{x}\\\\u003cbr\\\\u003evalue=%{y}\\\\u003cextra\\\\u003e\\\\u003c\\\\u002fextra\\\\u003e\",\"legendgroup\":\"PT\",\"marker\":{\"color\":\"#00cc96\",\"symbol\":\"circle\"},\"mode\":\"markers\",\"name\":\"PT\",\"orientation\":\"v\",\"showlegend\":true,\"x\":[\"2008\",\"2009\",\"2010\",\"2011\",\"2012\",\"2013\",\"2014\",\"2015\",\"2016\",\"2017\",\"2018\",\"2019\",\"2020\",\"2021\",\"2022\"],\"xaxis\":\"x\",\"y\":[6489677.15,6178248.19,5739881.6,5697688.64,5624083.12,5473356.48,5493305.31,5910803.61,5715542.08,6229589.51,5908588.02,5545680.22,4810207.6,4695760.73,4882367.36],\"yaxis\":\"y\",\"type\":\"scatter\"},{\"hovertemplate\":\"country=RO\\\\u003cbr\\\\u003etime=%{x}\\\\u003cbr\\\\u003evalue=%{y}\\\\u003cextra\\\\u003e\\\\u003c\\\\u002fextra\\\\u003e\",\"legendgroup\":\"RO\",\"marker\":{\"color\":\"#ab63fa\",\"symbol\":\"circle\"},\"mode\":\"markers\",\"name\":\"RO\",\"orientation\":\"v\",\"showlegend\":true,\"x\":[\"2008\",\"2009\",\"2010\",\"2011\",\"2012\",\"2013\",\"2014\",\"2015\",\"2016\",\"2017\",\"2018\",\"2019\",\"2020\",\"2021\",\"2022\"],\"xaxis\":\"x\",\"y\":[6792814.4,5751828.4,5581717.18,5895533.44,5748566.83,5205389.27,5195854.81,5160818.36,5081315.18,5218990.37,5256903.6,5097506.5,4886398.85,5009951.1,4775516.29],\"yaxis\":\"y\",\"type\":\"scatter\"},{\"hovertemplate\":\"country=SI\\\\u003cbr\\\\u003etime=%{x}\\\\u003cbr\\\\u003evalue=%{y}\\\\u003cextra\\\\u003e\\\\u003c\\\\u002fextra\\\\u003e\",\"legendgroup\":\"SI\",\"marker\":{\"color\":\"#FFA15A\",\"symbol\":\"circle\"},\"mode\":\"markers\",\"name\":\"SI\",\"orientation\":\"v\",\"showlegend\":true,\"x\":[\"2008\",\"2009\",\"2010\",\"2011\",\"2012\",\"2013\",\"2014\",\"2015\",\"2016\",\"2017\",\"2018\",\"2019\",\"2020\",\"2021\",\"2022\"],\"xaxis\":\"x\",\"y\":[8093935.35,7375583.0,7437534.55,7280437.24,6938559.08,6798009.72,6112706.6,6231363.1,6484657.21,6547457.12,6628001.63,6513937.75,6220980.69,6120319.74,5858216.81],\"yaxis\":\"y\",\"type\":\"scatter\"},{\"hovertemplate\":\"country=SK\\\\u003cbr\\\\u003etime=%{x}\\\\u003cbr\\\\u003evalue=%{y}\\\\u003cextra\\\\u003e\\\\u003c\\\\u002fextra\\\\u003e\",\"legendgroup\":\"SK\",\"marker\":{\"color\":\"#19d3f3\",\"symbol\":\"circle\"},\"mode\":\"markers\",\"name\":\"SK\",\"orientation\":\"v\",\"showlegend\":true,\"x\":[\"2008\",\"2009\",\"2010\",\"2011\",\"2012\",\"2013\",\"2014\",\"2015\",\"2016\",\"2017\",\"2018\",\"2019\",\"2020\",\"2021\",\"2022\"],\"xaxis\":\"x\",\"y\":[8115433.15,7304968.32,7305820.3,7294510.54,6765294.9,6676739.8,6405492.89,6471845.72,6515747.89,6638407.67,6633773.77,6145982.57,5635453.12,6232714.86,5658962.65],\"yaxis\":\"y\",\"type\":\"scatter\"},{\"hovertemplate\":\"country=FI\\\\u003cbr\\\\u003etime=%{x}\\\\u003cbr\\\\u003evalue=%{y}\\\\u003cextra\\\\u003e\\\\u003c\\\\u002fextra\\\\u003e\",\"legendgroup\":\"FI\",\"marker\":{\"color\":\"#FF6692\",\"symbol\":\"circle\"},\"mode\":\"markers\",\"name\":\"FI\",\"orientation\":\"v\",\"showlegend\":true,\"x\":[\"2008\",\"2009\",\"2010\",\"2011\",\"2012\",\"2013\",\"2014\",\"2015\",\"2016\",\"2017\",\"2018\",\"2019\",\"2020\",\"2021\",\"2022\"],\"xaxis\":\"x\",\"y\":[12652929.15,12003558.2,13441161.42,11997445.75,10873832.79,10968185.92,10128634.2,9511454.86,10038993.36,9485754.23,9694404.22,9199287.59,7906406.45,7919041.52,7738452.67],\"yaxis\":\"y\",\"type\":\"scatter\"},{\"hovertemplate\":\"country=SE\\\\u003cbr\\\\u003etime=%{x}\\\\u003cbr\\\\u003evalue=%{y}\\\\u003cextra\\\\u003e\\\\u003c\\\\u002fextra\\\\u003e\",\"legendgroup\":\"SE\",\"marker\":{\"color\":\"#B6E880\",\"symbol\":\"circle\"},\"mode\":\"markers\",\"name\":\"SE\",\"orientation\":\"v\",\"showlegend\":true,\"x\":[\"2008\",\"2009\",\"2010\",\"2011\",\"2012\",\"2013\",\"2014\",\"2015\",\"2016\",\"2017\",\"2018\",\"2019\",\"2020\",\"2021\",\"2022\"],\"xaxis\":\"x\",\"y\":[6147808.43,5514200.84,6147726.61,5607249.35,5236450.88,5048942.24,4857670.07,4842247.01,4891026.55,4694012.44,4593367.1,4439328.89,3917780.22,4090756.83,3979034.45],\"yaxis\":\"y\",\"type\":\"scatter\"},{\"hovertemplate\":\"country=IS\\\\u003cbr\\\\u003etime=%{x}\\\\u003cbr\\\\u003evalue=%{y}\\\\u003cextra\\\\u003e\\\\u003c\\\\u002fextra\\\\u003e\",\"legendgroup\":\"IS\",\"marker\":{\"color\":\"#FF97FF\",\"symbol\":\"circle\"},\"mode\":\"markers\",\"name\":\"IS\",\"orientation\":\"v\",\"showlegend\":true,\"x\":[\"2008\",\"2009\",\"2010\",\"2011\",\"2012\",\"2013\",\"2014\",\"2015\",\"2016\",\"2017\",\"2018\",\"2019\",\"2020\",\"2021\",\"2022\"],\"xaxis\":\"x\",\"y\":[17704691.59,16180654.34,16184246.73,15554875.78,15875505.99,16678380.61,16456133.72,17975811.18,18999182.56,19816074.46,23787278.23,19303335.98,13880628.44,13663912.76,15608271.37],\"yaxis\":\"y\",\"type\":\"scatter\"},{\"hovertemplate\":\"country=NO\\\\u003cbr\\\\u003etime=%{x}\\\\u003cbr\\\\u003evalue=%{y}\\\\u003cextra\\\\u003e\\\\u003c\\\\u002fextra\\\\u003e\",\"legendgroup\":\"NO\",\"marker\":{\"color\":\"#FECB52\",\"symbol\":\"circle\"},\"mode\":\"markers\",\"name\":\"NO\",\"orientation\":\"v\",\"showlegend\":true,\"x\":[\"2008\",\"2009\",\"2010\",\"2011\",\"2012\",\"2013\",\"2014\",\"2015\",\"2016\",\"2017\",\"2018\",\"2019\",\"2020\",\"2021\",\"2022\"],\"xaxis\":\"x\",\"y\":[12308807.83,11368305.58,11861900.26,12700895.28,12425877.26,12341836.36,12097582.9,13324274.85,11533448.95,11890017.84,12376829.9,12337209.38,11180613.64,11028020.94,11043629.85],\"yaxis\":\"y\",\"type\":\"scatter\"},{\"hovertemplate\":\"country=RS\\\\u003cbr\\\\u003etime=%{x}\\\\u003cbr\\\\u003evalue=%{y}\\\\u003cextra\\\\u003e\\\\u003c\\\\u002fextra\\\\u003e\",\"legendgroup\":\"RS\",\"marker\":{\"color\":\"#636efa\",\"symbol\":\"circle\"},\"mode\":\"markers\",\"name\":\"RS\",\"orientation\":\"v\",\"showlegend\":true,\"x\":[\"2008\",\"2009\",\"2010\",\"2011\",\"2012\",\"2013\",\"2014\",\"2015\",\"2016\",\"2017\",\"2018\",\"2019\",\"2020\",\"2021\",\"2022\"],\"xaxis\":\"x\",\"y\":[0.0,0.0,0.0,0.0,0.0,0.0,0.0,0.0,0.0,0.0,0.0,0.0,0.0,0.0,0.0],\"yaxis\":\"y\",\"type\":\"scatter\"},{\"hovertemplate\":\"country=TR\\\\u003cbr\\\\u003etime=%{x}\\\\u003cbr\\\\u003evalue=%{y}\\\\u003cextra\\\\u003e\\\\u003c\\\\u002fextra\\\\u003e\",\"legendgroup\":\"TR\",\"marker\":{\"color\":\"#EF553B\",\"symbol\":\"circle\"},\"mode\":\"markers\",\"name\":\"TR\",\"orientation\":\"v\",\"showlegend\":true,\"x\":[\"2008\",\"2009\",\"2010\",\"2011\",\"2012\",\"2013\",\"2014\",\"2015\",\"2016\",\"2017\",\"2018\",\"2019\",\"2020\",\"2021\",\"2022\"],\"xaxis\":\"x\",\"y\":[0.0,0.0,0.0,0.0,0.0,0.0,0.0,0.0,0.0,0.0,0.0,0.0,0.0,0.0,0.0],\"yaxis\":\"y\",\"type\":\"scatter\"}],                        {\"legend\":{\"title\":{\"text\":\"country\"},\"tracegroupgap\":0},\"margin\":{\"t\":60},\"template\":{\"data\":{\"barpolar\":[{\"marker\":{\"line\":{\"color\":\"#E5ECF6\",\"width\":0.5},\"pattern\":{\"fillmode\":\"overlay\",\"size\":10,\"solidity\":0.2}},\"type\":\"barpolar\"}],\"bar\":[{\"error_x\":{\"color\":\"#2a3f5f\"},\"error_y\":{\"color\":\"#2a3f5f\"},\"marker\":{\"line\":{\"color\":\"#E5ECF6\",\"width\":0.5},\"pattern\":{\"fillmode\":\"overlay\",\"size\":10,\"solidity\":0.2}},\"type\":\"bar\"}],\"carpet\":[{\"aaxis\":{\"endlinecolor\":\"#2a3f5f\",\"gridcolor\":\"white\",\"linecolor\":\"white\",\"minorgridcolor\":\"white\",\"startlinecolor\":\"#2a3f5f\"},\"baxis\":{\"endlinecolor\":\"#2a3f5f\",\"gridcolor\":\"white\",\"linecolor\":\"white\",\"minorgridcolor\":\"white\",\"startlinecolor\":\"#2a3f5f\"},\"type\":\"carpet\"}],\"choropleth\":[{\"colorbar\":{\"outlinewidth\":0,\"ticks\":\"\"},\"type\":\"choropleth\"}],\"contourcarpet\":[{\"colorbar\":{\"outlinewidth\":0,\"ticks\":\"\"},\"type\":\"contourcarpet\"}],\"contour\":[{\"colorbar\":{\"outlinewidth\":0,\"ticks\":\"\"},\"colorscale\":[[0.0,\"#0d0887\"],[0.1111111111111111,\"#46039f\"],[0.2222222222222222,\"#7201a8\"],[0.3333333333333333,\"#9c179e\"],[0.4444444444444444,\"#bd3786\"],[0.5555555555555556,\"#d8576b\"],[0.6666666666666666,\"#ed7953\"],[0.7777777777777778,\"#fb9f3a\"],[0.8888888888888888,\"#fdca26\"],[1.0,\"#f0f921\"]],\"type\":\"contour\"}],\"heatmapgl\":[{\"colorbar\":{\"outlinewidth\":0,\"ticks\":\"\"},\"colorscale\":[[0.0,\"#0d0887\"],[0.1111111111111111,\"#46039f\"],[0.2222222222222222,\"#7201a8\"],[0.3333333333333333,\"#9c179e\"],[0.4444444444444444,\"#bd3786\"],[0.5555555555555556,\"#d8576b\"],[0.6666666666666666,\"#ed7953\"],[0.7777777777777778,\"#fb9f3a\"],[0.8888888888888888,\"#fdca26\"],[1.0,\"#f0f921\"]],\"type\":\"heatmapgl\"}],\"heatmap\":[{\"colorbar\":{\"outlinewidth\":0,\"ticks\":\"\"},\"colorscale\":[[0.0,\"#0d0887\"],[0.1111111111111111,\"#46039f\"],[0.2222222222222222,\"#7201a8\"],[0.3333333333333333,\"#9c179e\"],[0.4444444444444444,\"#bd3786\"],[0.5555555555555556,\"#d8576b\"],[0.6666666666666666,\"#ed7953\"],[0.7777777777777778,\"#fb9f3a\"],[0.8888888888888888,\"#fdca26\"],[1.0,\"#f0f921\"]],\"type\":\"heatmap\"}],\"histogram2dcontour\":[{\"colorbar\":{\"outlinewidth\":0,\"ticks\":\"\"},\"colorscale\":[[0.0,\"#0d0887\"],[0.1111111111111111,\"#46039f\"],[0.2222222222222222,\"#7201a8\"],[0.3333333333333333,\"#9c179e\"],[0.4444444444444444,\"#bd3786\"],[0.5555555555555556,\"#d8576b\"],[0.6666666666666666,\"#ed7953\"],[0.7777777777777778,\"#fb9f3a\"],[0.8888888888888888,\"#fdca26\"],[1.0,\"#f0f921\"]],\"type\":\"histogram2dcontour\"}],\"histogram2d\":[{\"colorbar\":{\"outlinewidth\":0,\"ticks\":\"\"},\"colorscale\":[[0.0,\"#0d0887\"],[0.1111111111111111,\"#46039f\"],[0.2222222222222222,\"#7201a8\"],[0.3333333333333333,\"#9c179e\"],[0.4444444444444444,\"#bd3786\"],[0.5555555555555556,\"#d8576b\"],[0.6666666666666666,\"#ed7953\"],[0.7777777777777778,\"#fb9f3a\"],[0.8888888888888888,\"#fdca26\"],[1.0,\"#f0f921\"]],\"type\":\"histogram2d\"}],\"histogram\":[{\"marker\":{\"pattern\":{\"fillmode\":\"overlay\",\"size\":10,\"solidity\":0.2}},\"type\":\"histogram\"}],\"mesh3d\":[{\"colorbar\":{\"outlinewidth\":0,\"ticks\":\"\"},\"type\":\"mesh3d\"}],\"parcoords\":[{\"line\":{\"colorbar\":{\"outlinewidth\":0,\"ticks\":\"\"}},\"type\":\"parcoords\"}],\"pie\":[{\"automargin\":true,\"type\":\"pie\"}],\"scatter3d\":[{\"line\":{\"colorbar\":{\"outlinewidth\":0,\"ticks\":\"\"}},\"marker\":{\"colorbar\":{\"outlinewidth\":0,\"ticks\":\"\"}},\"type\":\"scatter3d\"}],\"scattercarpet\":[{\"marker\":{\"colorbar\":{\"outlinewidth\":0,\"ticks\":\"\"}},\"type\":\"scattercarpet\"}],\"scattergeo\":[{\"marker\":{\"colorbar\":{\"outlinewidth\":0,\"ticks\":\"\"}},\"type\":\"scattergeo\"}],\"scattergl\":[{\"marker\":{\"colorbar\":{\"outlinewidth\":0,\"ticks\":\"\"}},\"type\":\"scattergl\"}],\"scattermapbox\":[{\"marker\":{\"colorbar\":{\"outlinewidth\":0,\"ticks\":\"\"}},\"type\":\"scattermapbox\"}],\"scatterpolargl\":[{\"marker\":{\"colorbar\":{\"outlinewidth\":0,\"ticks\":\"\"}},\"type\":\"scatterpolargl\"}],\"scatterpolar\":[{\"marker\":{\"colorbar\":{\"outlinewidth\":0,\"ticks\":\"\"}},\"type\":\"scatterpolar\"}],\"scatter\":[{\"fillpattern\":{\"fillmode\":\"overlay\",\"size\":10,\"solidity\":0.2},\"type\":\"scatter\"}],\"scatterternary\":[{\"marker\":{\"colorbar\":{\"outlinewidth\":0,\"ticks\":\"\"}},\"type\":\"scatterternary\"}],\"surface\":[{\"colorbar\":{\"outlinewidth\":0,\"ticks\":\"\"},\"colorscale\":[[0.0,\"#0d0887\"],[0.1111111111111111,\"#46039f\"],[0.2222222222222222,\"#7201a8\"],[0.3333333333333333,\"#9c179e\"],[0.4444444444444444,\"#bd3786\"],[0.5555555555555556,\"#d8576b\"],[0.6666666666666666,\"#ed7953\"],[0.7777777777777778,\"#fb9f3a\"],[0.8888888888888888,\"#fdca26\"],[1.0,\"#f0f921\"]],\"type\":\"surface\"}],\"table\":[{\"cells\":{\"fill\":{\"color\":\"#EBF0F8\"},\"line\":{\"color\":\"white\"}},\"header\":{\"fill\":{\"color\":\"#C8D4E3\"},\"line\":{\"color\":\"white\"}},\"type\":\"table\"}]},\"layout\":{\"annotationdefaults\":{\"arrowcolor\":\"#2a3f5f\",\"arrowhead\":0,\"arrowwidth\":1},\"autotypenumbers\":\"strict\",\"coloraxis\":{\"colorbar\":{\"outlinewidth\":0,\"ticks\":\"\"}},\"colorscale\":{\"diverging\":[[0,\"#8e0152\"],[0.1,\"#c51b7d\"],[0.2,\"#de77ae\"],[0.3,\"#f1b6da\"],[0.4,\"#fde0ef\"],[0.5,\"#f7f7f7\"],[0.6,\"#e6f5d0\"],[0.7,\"#b8e186\"],[0.8,\"#7fbc41\"],[0.9,\"#4d9221\"],[1,\"#276419\"]],\"sequential\":[[0.0,\"#0d0887\"],[0.1111111111111111,\"#46039f\"],[0.2222222222222222,\"#7201a8\"],[0.3333333333333333,\"#9c179e\"],[0.4444444444444444,\"#bd3786\"],[0.5555555555555556,\"#d8576b\"],[0.6666666666666666,\"#ed7953\"],[0.7777777777777778,\"#fb9f3a\"],[0.8888888888888888,\"#fdca26\"],[1.0,\"#f0f921\"]],\"sequentialminus\":[[0.0,\"#0d0887\"],[0.1111111111111111,\"#46039f\"],[0.2222222222222222,\"#7201a8\"],[0.3333333333333333,\"#9c179e\"],[0.4444444444444444,\"#bd3786\"],[0.5555555555555556,\"#d8576b\"],[0.6666666666666666,\"#ed7953\"],[0.7777777777777778,\"#fb9f3a\"],[0.8888888888888888,\"#fdca26\"],[1.0,\"#f0f921\"]]},\"colorway\":[\"#636efa\",\"#EF553B\",\"#00cc96\",\"#ab63fa\",\"#FFA15A\",\"#19d3f3\",\"#FF6692\",\"#B6E880\",\"#FF97FF\",\"#FECB52\"],\"font\":{\"color\":\"#2a3f5f\"},\"geo\":{\"bgcolor\":\"white\",\"lakecolor\":\"white\",\"landcolor\":\"#E5ECF6\",\"showlakes\":true,\"showland\":true,\"subunitcolor\":\"white\"},\"hoverlabel\":{\"align\":\"left\"},\"hovermode\":\"closest\",\"mapbox\":{\"style\":\"light\"},\"paper_bgcolor\":\"white\",\"plot_bgcolor\":\"#E5ECF6\",\"polar\":{\"angularaxis\":{\"gridcolor\":\"white\",\"linecolor\":\"white\",\"ticks\":\"\"},\"bgcolor\":\"#E5ECF6\",\"radialaxis\":{\"gridcolor\":\"white\",\"linecolor\":\"white\",\"ticks\":\"\"}},\"scene\":{\"xaxis\":{\"backgroundcolor\":\"#E5ECF6\",\"gridcolor\":\"white\",\"gridwidth\":2,\"linecolor\":\"white\",\"showbackground\":true,\"ticks\":\"\",\"zerolinecolor\":\"white\"},\"yaxis\":{\"backgroundcolor\":\"#E5ECF6\",\"gridcolor\":\"white\",\"gridwidth\":2,\"linecolor\":\"white\",\"showbackground\":true,\"ticks\":\"\",\"zerolinecolor\":\"white\"},\"zaxis\":{\"backgroundcolor\":\"#E5ECF6\",\"gridcolor\":\"white\",\"gridwidth\":2,\"linecolor\":\"white\",\"showbackground\":true,\"ticks\":\"\",\"zerolinecolor\":\"white\"}},\"shapedefaults\":{\"line\":{\"color\":\"#2a3f5f\"}},\"ternary\":{\"aaxis\":{\"gridcolor\":\"white\",\"linecolor\":\"white\",\"ticks\":\"\"},\"baxis\":{\"gridcolor\":\"white\",\"linecolor\":\"white\",\"ticks\":\"\"},\"bgcolor\":\"#E5ECF6\",\"caxis\":{\"gridcolor\":\"white\",\"linecolor\":\"white\",\"ticks\":\"\"}},\"title\":{\"x\":0.05},\"xaxis\":{\"automargin\":true,\"gridcolor\":\"white\",\"linecolor\":\"white\",\"ticks\":\"\",\"title\":{\"standoff\":15},\"zerolinecolor\":\"white\",\"zerolinewidth\":2},\"yaxis\":{\"automargin\":true,\"gridcolor\":\"white\",\"linecolor\":\"white\",\"ticks\":\"\",\"title\":{\"standoff\":15},\"zerolinecolor\":\"white\",\"zerolinewidth\":2}}},\"xaxis\":{\"anchor\":\"y\",\"domain\":[0.0,1.0],\"title\":{\"text\":\"time\"}},\"yaxis\":{\"anchor\":\"x\",\"domain\":[0.0,1.0],\"title\":{\"text\":\"value\"}}},                        {\"responsive\": true}                    )                };                            </script>        </div>'"
						]
					},
					"execution_count": 314,
					"metadata": {},
					"output_type": "execute_result"
				}
			],
			"source": [
				"import plotly\n",
				"plotly.offline.plot(fig, include_plotlyjs=False, output_type=\"div\")"
			]
		},
		{
			"cell_type": "markdown",
			"metadata": {},
			"source": [
				"### Energy data"
			]
		},
		{
			"cell_type": "code",
			"execution_count": 6,
			"metadata": {},
			"outputs": [
				{
					"data": {
						"text/html": [
							"<div>\n",
							"<style scoped>\n",
							"    .dataframe tbody tr th:only-of-type {\n",
							"        vertical-align: middle;\n",
							"    }\n",
							"\n",
							"    .dataframe tbody tr th {\n",
							"        vertical-align: top;\n",
							"    }\n",
							"\n",
							"    .dataframe thead tr th {\n",
							"        text-align: left;\n",
							"    }\n",
							"</style>\n",
							"<table border=\"1\" class=\"dataframe\">\n",
							"  <thead>\n",
							"    <tr>\n",
							"      <th>table</th>\n",
							"      <th colspan=\"10\" halign=\"left\">AFC</th>\n",
							"      <th>...</th>\n",
							"      <th colspan=\"9\" halign=\"left\">FC_OTH_HH_E</th>\n",
							"      <th>country</th>\n",
							"    </tr>\n",
							"    <tr>\n",
							"      <th>time</th>\n",
							"      <th>1990</th>\n",
							"      <th>1991</th>\n",
							"      <th>1992</th>\n",
							"      <th>1993</th>\n",
							"      <th>1994</th>\n",
							"      <th>1995</th>\n",
							"      <th>1996</th>\n",
							"      <th>1997</th>\n",
							"      <th>1998</th>\n",
							"      <th>1999</th>\n",
							"      <th>...</th>\n",
							"      <th>2014</th>\n",
							"      <th>2015</th>\n",
							"      <th>2016</th>\n",
							"      <th>2017</th>\n",
							"      <th>2018</th>\n",
							"      <th>2019</th>\n",
							"      <th>2020</th>\n",
							"      <th>2021</th>\n",
							"      <th>2022</th>\n",
							"      <th></th>\n",
							"    </tr>\n",
							"  </thead>\n",
							"  <tbody>\n",
							"    <tr>\n",
							"      <th>0</th>\n",
							"      <td>218484.0</td>\n",
							"      <td>178925.0</td>\n",
							"      <td>175263.0</td>\n",
							"      <td>175606.0</td>\n",
							"      <td>169048.0</td>\n",
							"      <td>181335.0</td>\n",
							"      <td>193531.0</td>\n",
							"      <td>194520.0</td>\n",
							"      <td>187928.0</td>\n",
							"      <td>214365.0</td>\n",
							"      <td>...</td>\n",
							"      <td>415.685</td>\n",
							"      <td>628.687</td>\n",
							"      <td>542.327</td>\n",
							"      <td>611.261</td>\n",
							"      <td>560.179</td>\n",
							"      <td>687.335</td>\n",
							"      <td>1220.556</td>\n",
							"      <td>1316.017</td>\n",
							"      <td>1457.559</td>\n",
							"      <td>EU27_2020</td>\n",
							"    </tr>\n",
							"    <tr>\n",
							"      <th>1</th>\n",
							"      <td>146824.0</td>\n",
							"      <td>137183.0</td>\n",
							"      <td>133881.0</td>\n",
							"      <td>141083.0</td>\n",
							"      <td>144691.0</td>\n",
							"      <td>152598.0</td>\n",
							"      <td>152735.0</td>\n",
							"      <td>160130.0</td>\n",
							"      <td>160913.0</td>\n",
							"      <td>181350.0</td>\n",
							"      <td>...</td>\n",
							"      <td>49.422</td>\n",
							"      <td>84.733</td>\n",
							"      <td>45.143</td>\n",
							"      <td>51.247</td>\n",
							"      <td>61.076</td>\n",
							"      <td>64.421</td>\n",
							"      <td>50.728</td>\n",
							"      <td>65.282</td>\n",
							"      <td>176.339</td>\n",
							"      <td>EA20</td>\n",
							"    </tr>\n",
							"    <tr>\n",
							"      <th>2</th>\n",
							"      <td>4785.0</td>\n",
							"      <td>4998.0</td>\n",
							"      <td>5849.0</td>\n",
							"      <td>7590.0</td>\n",
							"      <td>9053.0</td>\n",
							"      <td>9398.0</td>\n",
							"      <td>9637.0</td>\n",
							"      <td>9975.0</td>\n",
							"      <td>7828.0</td>\n",
							"      <td>9059.0</td>\n",
							"      <td>...</td>\n",
							"      <td>0.000</td>\n",
							"      <td>0.000</td>\n",
							"      <td>0.000</td>\n",
							"      <td>0.000</td>\n",
							"      <td>0.000</td>\n",
							"      <td>0.000</td>\n",
							"      <td>0.000</td>\n",
							"      <td>0.000</td>\n",
							"      <td>0.000</td>\n",
							"      <td>BE</td>\n",
							"    </tr>\n",
							"    <tr>\n",
							"      <th>3</th>\n",
							"      <td>5387.0</td>\n",
							"      <td>3083.0</td>\n",
							"      <td>3289.0</td>\n",
							"      <td>1630.0</td>\n",
							"      <td>1173.0</td>\n",
							"      <td>1961.0</td>\n",
							"      <td>1803.0</td>\n",
							"      <td>785.0</td>\n",
							"      <td>564.0</td>\n",
							"      <td>1670.0</td>\n",
							"      <td>...</td>\n",
							"      <td>0.000</td>\n",
							"      <td>0.000</td>\n",
							"      <td>0.000</td>\n",
							"      <td>0.000</td>\n",
							"      <td>0.000</td>\n",
							"      <td>0.000</td>\n",
							"      <td>0.000</td>\n",
							"      <td>0.000</td>\n",
							"      <td>0.000</td>\n",
							"      <td>BG</td>\n",
							"    </tr>\n",
							"    <tr>\n",
							"      <th>4</th>\n",
							"      <td>8179.0</td>\n",
							"      <td>7194.0</td>\n",
							"      <td>6156.0</td>\n",
							"      <td>5952.0</td>\n",
							"      <td>5415.0</td>\n",
							"      <td>6722.0</td>\n",
							"      <td>8811.0</td>\n",
							"      <td>9013.0</td>\n",
							"      <td>8383.0</td>\n",
							"      <td>8983.0</td>\n",
							"      <td>...</td>\n",
							"      <td>1.307</td>\n",
							"      <td>1.961</td>\n",
							"      <td>2.288</td>\n",
							"      <td>4.047</td>\n",
							"      <td>4.520</td>\n",
							"      <td>5.012</td>\n",
							"      <td>3.610</td>\n",
							"      <td>11.808</td>\n",
							"      <td>23.064</td>\n",
							"      <td>CZ</td>\n",
							"    </tr>\n",
							"  </tbody>\n",
							"</table>\n",
							"<p>5 rows × 166 columns</p>\n",
							"</div>"
						],
						"text/plain": [
							"table       AFC                                                              \\\n",
							"time       1990      1991      1992      1993      1994      1995      1996   \n",
							"0      218484.0  178925.0  175263.0  175606.0  169048.0  181335.0  193531.0   \n",
							"1      146824.0  137183.0  133881.0  141083.0  144691.0  152598.0  152735.0   \n",
							"2        4785.0    4998.0    5849.0    7590.0    9053.0    9398.0    9637.0   \n",
							"3        5387.0    3083.0    3289.0    1630.0    1173.0    1961.0    1803.0   \n",
							"4        8179.0    7194.0    6156.0    5952.0    5415.0    6722.0    8811.0   \n",
							"\n",
							"table                                ... FC_OTH_HH_E                    \\\n",
							"time       1997      1998      1999  ...        2014     2015     2016   \n",
							"0      194520.0  187928.0  214365.0  ...     415.685  628.687  542.327   \n",
							"1      160130.0  160913.0  181350.0  ...      49.422   84.733   45.143   \n",
							"2        9975.0    7828.0    9059.0  ...       0.000    0.000    0.000   \n",
							"3         785.0     564.0    1670.0  ...       0.000    0.000    0.000   \n",
							"4        9013.0    8383.0    8983.0  ...       1.307    1.961    2.288   \n",
							"\n",
							"table                                                             country  \n",
							"time      2017     2018     2019      2020      2021      2022             \n",
							"0      611.261  560.179  687.335  1220.556  1316.017  1457.559  EU27_2020  \n",
							"1       51.247   61.076   64.421    50.728    65.282   176.339       EA20  \n",
							"2        0.000    0.000    0.000     0.000     0.000     0.000         BE  \n",
							"3        0.000    0.000    0.000     0.000     0.000     0.000         BG  \n",
							"4        4.047    4.520    5.012     3.610    11.808    23.064         CZ  \n",
							"\n",
							"[5 rows x 166 columns]"
						]
					},
					"execution_count": 6,
					"metadata": {},
					"output_type": "execute_result"
				}
			],
			"source": [
				"full_energy_df, energy_tables = scraper.get_eurostat_dataframe(\"nrg_cb_e\", lambda raw: [\"AFC\", \"FC_IND_E\", \"FC_TRA_E\", \"FC_OTH_CP_E\", \"FC_OTH_HH_E\"])\n",
				"full_energy_df.head()"
			]
		},
		{
			"cell_type": "code",
			"execution_count": 7,
			"metadata": {},
			"outputs": [
				{
					"data": {
						"text/html": [
							"<div>\n",
							"<style scoped>\n",
							"    .dataframe tbody tr th:only-of-type {\n",
							"        vertical-align: middle;\n",
							"    }\n",
							"\n",
							"    .dataframe tbody tr th {\n",
							"        vertical-align: top;\n",
							"    }\n",
							"\n",
							"    .dataframe thead th {\n",
							"        text-align: right;\n",
							"    }\n",
							"</style>\n",
							"<table border=\"1\" class=\"dataframe\">\n",
							"  <thead>\n",
							"    <tr style=\"text-align: right;\">\n",
							"      <th>country</th>\n",
							"      <th>EU27_2020</th>\n",
							"      <th>EA20</th>\n",
							"      <th>BE</th>\n",
							"      <th>BG</th>\n",
							"      <th>CZ</th>\n",
							"      <th>DK</th>\n",
							"      <th>DE</th>\n",
							"      <th>EE</th>\n",
							"      <th>IE</th>\n",
							"      <th>EL</th>\n",
							"      <th>...</th>\n",
							"      <th>BA</th>\n",
							"      <th>ME</th>\n",
							"      <th>MD</th>\n",
							"      <th>MK</th>\n",
							"      <th>GE</th>\n",
							"      <th>AL</th>\n",
							"      <th>RS</th>\n",
							"      <th>TR</th>\n",
							"      <th>UA</th>\n",
							"      <th>XK</th>\n",
							"    </tr>\n",
							"    <tr>\n",
							"      <th>time</th>\n",
							"      <th></th>\n",
							"      <th></th>\n",
							"      <th></th>\n",
							"      <th></th>\n",
							"      <th></th>\n",
							"      <th></th>\n",
							"      <th></th>\n",
							"      <th></th>\n",
							"      <th></th>\n",
							"      <th></th>\n",
							"      <th></th>\n",
							"      <th></th>\n",
							"      <th></th>\n",
							"      <th></th>\n",
							"      <th></th>\n",
							"      <th></th>\n",
							"      <th></th>\n",
							"      <th></th>\n",
							"      <th></th>\n",
							"      <th></th>\n",
							"      <th></th>\n",
							"    </tr>\n",
							"  </thead>\n",
							"  <tbody>\n",
							"    <tr>\n",
							"      <th>1990</th>\n",
							"      <td>218484.0</td>\n",
							"      <td>146824.0</td>\n",
							"      <td>4785.0</td>\n",
							"      <td>5387.0</td>\n",
							"      <td>8179.0</td>\n",
							"      <td>11973.0</td>\n",
							"      <td>31669.0</td>\n",
							"      <td>1475.0</td>\n",
							"      <td>0.0</td>\n",
							"      <td>1330.0</td>\n",
							"      <td>...</td>\n",
							"      <td>NaN</td>\n",
							"      <td>NaN</td>\n",
							"      <td>NaN</td>\n",
							"      <td>511.0</td>\n",
							"      <td>NaN</td>\n",
							"      <td>323.0</td>\n",
							"      <td>392.0</td>\n",
							"      <td>176.0</td>\n",
							"      <td>15401.0</td>\n",
							"      <td>NaN</td>\n",
							"    </tr>\n",
							"    <tr>\n",
							"      <th>1991</th>\n",
							"      <td>178925.0</td>\n",
							"      <td>137183.0</td>\n",
							"      <td>4998.0</td>\n",
							"      <td>3083.0</td>\n",
							"      <td>7194.0</td>\n",
							"      <td>3075.0</td>\n",
							"      <td>30416.0</td>\n",
							"      <td>2222.0</td>\n",
							"      <td>0.0</td>\n",
							"      <td>1498.0</td>\n",
							"      <td>...</td>\n",
							"      <td>NaN</td>\n",
							"      <td>NaN</td>\n",
							"      <td>NaN</td>\n",
							"      <td>523.0</td>\n",
							"      <td>NaN</td>\n",
							"      <td>0.0</td>\n",
							"      <td>235.0</td>\n",
							"      <td>759.0</td>\n",
							"      <td>18317.0</td>\n",
							"      <td>NaN</td>\n",
							"    </tr>\n",
							"    <tr>\n",
							"      <th>1992</th>\n",
							"      <td>175263.0</td>\n",
							"      <td>133881.0</td>\n",
							"      <td>5849.0</td>\n",
							"      <td>3289.0</td>\n",
							"      <td>6156.0</td>\n",
							"      <td>8647.0</td>\n",
							"      <td>28418.0</td>\n",
							"      <td>254.0</td>\n",
							"      <td>0.0</td>\n",
							"      <td>967.0</td>\n",
							"      <td>...</td>\n",
							"      <td>NaN</td>\n",
							"      <td>NaN</td>\n",
							"      <td>NaN</td>\n",
							"      <td>483.0</td>\n",
							"      <td>NaN</td>\n",
							"      <td>0.0</td>\n",
							"      <td>0.0</td>\n",
							"      <td>189.0</td>\n",
							"      <td>15417.0</td>\n",
							"      <td>NaN</td>\n",
							"    </tr>\n",
							"    <tr>\n",
							"      <th>1993</th>\n",
							"      <td>175606.0</td>\n",
							"      <td>141083.0</td>\n",
							"      <td>7590.0</td>\n",
							"      <td>1630.0</td>\n",
							"      <td>5952.0</td>\n",
							"      <td>6279.0</td>\n",
							"      <td>33628.0</td>\n",
							"      <td>221.0</td>\n",
							"      <td>0.0</td>\n",
							"      <td>1093.0</td>\n",
							"      <td>...</td>\n",
							"      <td>NaN</td>\n",
							"      <td>NaN</td>\n",
							"      <td>NaN</td>\n",
							"      <td>623.0</td>\n",
							"      <td>NaN</td>\n",
							"      <td>0.0</td>\n",
							"      <td>0.0</td>\n",
							"      <td>213.0</td>\n",
							"      <td>15773.0</td>\n",
							"      <td>NaN</td>\n",
							"    </tr>\n",
							"    <tr>\n",
							"      <th>1994</th>\n",
							"      <td>169048.0</td>\n",
							"      <td>144691.0</td>\n",
							"      <td>9053.0</td>\n",
							"      <td>1173.0</td>\n",
							"      <td>5415.0</td>\n",
							"      <td>1781.0</td>\n",
							"      <td>35908.0</td>\n",
							"      <td>315.0</td>\n",
							"      <td>0.0</td>\n",
							"      <td>816.0</td>\n",
							"      <td>...</td>\n",
							"      <td>NaN</td>\n",
							"      <td>NaN</td>\n",
							"      <td>NaN</td>\n",
							"      <td>73.0</td>\n",
							"      <td>NaN</td>\n",
							"      <td>0.0</td>\n",
							"      <td>0.0</td>\n",
							"      <td>31.0</td>\n",
							"      <td>12378.0</td>\n",
							"      <td>NaN</td>\n",
							"    </tr>\n",
							"  </tbody>\n",
							"</table>\n",
							"<p>5 rows × 43 columns</p>\n",
							"</div>"
						],
						"text/plain": [
							"country  EU27_2020      EA20      BE      BG      CZ       DK       DE  \\\n",
							"time                                                                     \n",
							"1990      218484.0  146824.0  4785.0  5387.0  8179.0  11973.0  31669.0   \n",
							"1991      178925.0  137183.0  4998.0  3083.0  7194.0   3075.0  30416.0   \n",
							"1992      175263.0  133881.0  5849.0  3289.0  6156.0   8647.0  28418.0   \n",
							"1993      175606.0  141083.0  7590.0  1630.0  5952.0   6279.0  33628.0   \n",
							"1994      169048.0  144691.0  9053.0  1173.0  5415.0   1781.0  35908.0   \n",
							"\n",
							"country      EE   IE      EL  ...  BA  ME  MD     MK  GE     AL     RS     TR  \\\n",
							"time                          ...                                               \n",
							"1990     1475.0  0.0  1330.0  ... NaN NaN NaN  511.0 NaN  323.0  392.0  176.0   \n",
							"1991     2222.0  0.0  1498.0  ... NaN NaN NaN  523.0 NaN    0.0  235.0  759.0   \n",
							"1992      254.0  0.0   967.0  ... NaN NaN NaN  483.0 NaN    0.0    0.0  189.0   \n",
							"1993      221.0  0.0  1093.0  ... NaN NaN NaN  623.0 NaN    0.0    0.0  213.0   \n",
							"1994      315.0  0.0   816.0  ... NaN NaN NaN   73.0 NaN    0.0    0.0   31.0   \n",
							"\n",
							"country       UA  XK  \n",
							"time                  \n",
							"1990     15401.0 NaN  \n",
							"1991     18317.0 NaN  \n",
							"1992     15417.0 NaN  \n",
							"1993     15773.0 NaN  \n",
							"1994     12378.0 NaN  \n",
							"\n",
							"[5 rows x 43 columns]"
						]
					},
					"execution_count": 7,
					"metadata": {},
					"output_type": "execute_result"
				}
			],
			"source": [
				"df_energy_short = full_energy_df.xs(\"AFC\", level=\"table\", axis=1).T\n",
				"df_energy_short.columns = full_energy_df.xs(\"country\", axis=1)\n",
				"df_energy_short.head()"
			]
		},
		{
			"cell_type": "code",
			"execution_count": 27,
			"metadata": {},
			"outputs": [],
			"source": [
				"full_energy_df.xs(\"FC_OTH_HH_E\", level=\"table\", axis=1).to_clipboard()"
			]
		},
		{
			"cell_type": "code",
			"execution_count": 8,
			"metadata": {},
			"outputs": [
				{
					"data": {
						"text/html": [
							"<div>\n",
							"<style scoped>\n",
							"    .dataframe tbody tr th:only-of-type {\n",
							"        vertical-align: middle;\n",
							"    }\n",
							"\n",
							"    .dataframe tbody tr th {\n",
							"        vertical-align: top;\n",
							"    }\n",
							"\n",
							"    .dataframe thead th {\n",
							"        text-align: right;\n",
							"    }\n",
							"</style>\n",
							"<table border=\"1\" class=\"dataframe\">\n",
							"  <thead>\n",
							"    <tr style=\"text-align: right;\">\n",
							"      <th>country</th>\n",
							"      <th>EU27_2020</th>\n",
							"      <th>EA20</th>\n",
							"      <th>BE</th>\n",
							"      <th>BG</th>\n",
							"      <th>CZ</th>\n",
							"      <th>DK</th>\n",
							"      <th>DE</th>\n",
							"      <th>EE</th>\n",
							"      <th>IE</th>\n",
							"      <th>EL</th>\n",
							"      <th>...</th>\n",
							"      <th>BA</th>\n",
							"      <th>ME</th>\n",
							"      <th>MD</th>\n",
							"      <th>MK</th>\n",
							"      <th>GE</th>\n",
							"      <th>AL</th>\n",
							"      <th>RS</th>\n",
							"      <th>TR</th>\n",
							"      <th>UA</th>\n",
							"      <th>XK</th>\n",
							"    </tr>\n",
							"    <tr>\n",
							"      <th>time</th>\n",
							"      <th></th>\n",
							"      <th></th>\n",
							"      <th></th>\n",
							"      <th></th>\n",
							"      <th></th>\n",
							"      <th></th>\n",
							"      <th></th>\n",
							"      <th></th>\n",
							"      <th></th>\n",
							"      <th></th>\n",
							"      <th></th>\n",
							"      <th></th>\n",
							"      <th></th>\n",
							"      <th></th>\n",
							"      <th></th>\n",
							"      <th></th>\n",
							"      <th></th>\n",
							"      <th></th>\n",
							"      <th></th>\n",
							"      <th></th>\n",
							"      <th></th>\n",
							"    </tr>\n",
							"  </thead>\n",
							"  <tbody>\n",
							"    <tr>\n",
							"      <th>2008</th>\n",
							"      <td>305128.218</td>\n",
							"      <td>245213.218</td>\n",
							"      <td>17158.0</td>\n",
							"      <td>3097.0</td>\n",
							"      <td>8520.0</td>\n",
							"      <td>12815.0</td>\n",
							"      <td>41670.0</td>\n",
							"      <td>1369.0</td>\n",
							"      <td>753.031</td>\n",
							"      <td>7575.0</td>\n",
							"      <td>...</td>\n",
							"      <td>NaN</td>\n",
							"      <td>1884.0</td>\n",
							"      <td>NaN</td>\n",
							"      <td>2733.0</td>\n",
							"      <td>NaN</td>\n",
							"      <td>2434.0</td>\n",
							"      <td>8875.0</td>\n",
							"      <td>789.0</td>\n",
							"      <td>2101.0</td>\n",
							"      <td>708.0</td>\n",
							"    </tr>\n",
							"    <tr>\n",
							"      <th>2009</th>\n",
							"      <td>292276.753</td>\n",
							"      <td>237029.753</td>\n",
							"      <td>9486.0</td>\n",
							"      <td>2662.0</td>\n",
							"      <td>8586.0</td>\n",
							"      <td>11208.0</td>\n",
							"      <td>41859.0</td>\n",
							"      <td>3025.0</td>\n",
							"      <td>939.217</td>\n",
							"      <td>7600.0</td>\n",
							"      <td>...</td>\n",
							"      <td>NaN</td>\n",
							"      <td>1227.0</td>\n",
							"      <td>NaN</td>\n",
							"      <td>1438.0</td>\n",
							"      <td>NaN</td>\n",
							"      <td>1886.0</td>\n",
							"      <td>5184.0</td>\n",
							"      <td>812.0</td>\n",
							"      <td>25.0</td>\n",
							"      <td>768.0</td>\n",
							"    </tr>\n",
							"    <tr>\n",
							"      <th>2010</th>\n",
							"      <td>291540.094</td>\n",
							"      <td>241227.094</td>\n",
							"      <td>12395.0</td>\n",
							"      <td>1167.0</td>\n",
							"      <td>6642.0</td>\n",
							"      <td>10599.0</td>\n",
							"      <td>42962.0</td>\n",
							"      <td>1100.0</td>\n",
							"      <td>759.887</td>\n",
							"      <td>8517.0</td>\n",
							"      <td>...</td>\n",
							"      <td>NaN</td>\n",
							"      <td>732.0</td>\n",
							"      <td>3033.0</td>\n",
							"      <td>1420.0</td>\n",
							"      <td>NaN</td>\n",
							"      <td>1986.0</td>\n",
							"      <td>5620.0</td>\n",
							"      <td>1144.0</td>\n",
							"      <td>23.0</td>\n",
							"      <td>819.0</td>\n",
							"    </tr>\n",
							"    <tr>\n",
							"      <th>2011</th>\n",
							"      <td>321114.673</td>\n",
							"      <td>260179.673</td>\n",
							"      <td>13189.0</td>\n",
							"      <td>1449.0</td>\n",
							"      <td>10457.0</td>\n",
							"      <td>11694.0</td>\n",
							"      <td>51003.0</td>\n",
							"      <td>1690.0</td>\n",
							"      <td>731.622</td>\n",
							"      <td>7180.0</td>\n",
							"      <td>...</td>\n",
							"      <td>NaN</td>\n",
							"      <td>1993.0</td>\n",
							"      <td>3146.0</td>\n",
							"      <td>2749.0</td>\n",
							"      <td>NaN</td>\n",
							"      <td>3262.0</td>\n",
							"      <td>6701.0</td>\n",
							"      <td>4556.0</td>\n",
							"      <td>32.0</td>\n",
							"      <td>3135.0</td>\n",
							"    </tr>\n",
							"    <tr>\n",
							"      <th>2012</th>\n",
							"      <td>349454.141</td>\n",
							"      <td>277236.141</td>\n",
							"      <td>16848.0</td>\n",
							"      <td>2353.0</td>\n",
							"      <td>11587.0</td>\n",
							"      <td>15920.0</td>\n",
							"      <td>46268.0</td>\n",
							"      <td>2710.0</td>\n",
							"      <td>783.605</td>\n",
							"      <td>5954.0</td>\n",
							"      <td>...</td>\n",
							"      <td>NaN</td>\n",
							"      <td>1440.0</td>\n",
							"      <td>3279.0</td>\n",
							"      <td>2741.0</td>\n",
							"      <td>NaN</td>\n",
							"      <td>2538.0</td>\n",
							"      <td>5781.0</td>\n",
							"      <td>5827.0</td>\n",
							"      <td>89.0</td>\n",
							"      <td>2773.0</td>\n",
							"    </tr>\n",
							"  </tbody>\n",
							"</table>\n",
							"<p>5 rows × 43 columns</p>\n",
							"</div>"
						],
						"text/plain": [
							"country   EU27_2020        EA20       BE      BG       CZ       DK       DE  \\\n",
							"time                                                                          \n",
							"2008     305128.218  245213.218  17158.0  3097.0   8520.0  12815.0  41670.0   \n",
							"2009     292276.753  237029.753   9486.0  2662.0   8586.0  11208.0  41859.0   \n",
							"2010     291540.094  241227.094  12395.0  1167.0   6642.0  10599.0  42962.0   \n",
							"2011     321114.673  260179.673  13189.0  1449.0  10457.0  11694.0  51003.0   \n",
							"2012     349454.141  277236.141  16848.0  2353.0  11587.0  15920.0  46268.0   \n",
							"\n",
							"country      EE       IE      EL  ...  BA      ME      MD      MK  GE      AL  \\\n",
							"time                              ...                                           \n",
							"2008     1369.0  753.031  7575.0  ... NaN  1884.0     NaN  2733.0 NaN  2434.0   \n",
							"2009     3025.0  939.217  7600.0  ... NaN  1227.0     NaN  1438.0 NaN  1886.0   \n",
							"2010     1100.0  759.887  8517.0  ... NaN   732.0  3033.0  1420.0 NaN  1986.0   \n",
							"2011     1690.0  731.622  7180.0  ... NaN  1993.0  3146.0  2749.0 NaN  3262.0   \n",
							"2012     2710.0  783.605  5954.0  ... NaN  1440.0  3279.0  2741.0 NaN  2538.0   \n",
							"\n",
							"country      RS      TR      UA      XK  \n",
							"time                                     \n",
							"2008     8875.0   789.0  2101.0   708.0  \n",
							"2009     5184.0   812.0    25.0   768.0  \n",
							"2010     5620.0  1144.0    23.0   819.0  \n",
							"2011     6701.0  4556.0    32.0  3135.0  \n",
							"2012     5781.0  5827.0    89.0  2773.0  \n",
							"\n",
							"[5 rows x 43 columns]"
						]
					},
					"execution_count": 8,
					"metadata": {},
					"output_type": "execute_result"
				}
			],
			"source": [
				"# Drop the rows until 2008 to match carbon dataset\n",
				"df_energy_short = df_energy_short.drop([str(i) for i in np.arange(1990, 2008)])\n",
				"df_energy_short.head()"
			]
		},
		{
			"cell_type": "code",
			"execution_count": 9,
			"metadata": {},
			"outputs": [
				{
					"data": {
						"text/html": [
							"<div>\n",
							"<style scoped>\n",
							"    .dataframe tbody tr th:only-of-type {\n",
							"        vertical-align: middle;\n",
							"    }\n",
							"\n",
							"    .dataframe tbody tr th {\n",
							"        vertical-align: top;\n",
							"    }\n",
							"\n",
							"    .dataframe thead th {\n",
							"        text-align: right;\n",
							"    }\n",
							"</style>\n",
							"<table border=\"1\" class=\"dataframe\">\n",
							"  <thead>\n",
							"    <tr style=\"text-align: right;\">\n",
							"      <th>country</th>\n",
							"      <th>EU27_2020</th>\n",
							"      <th>BE</th>\n",
							"      <th>BG</th>\n",
							"      <th>CZ</th>\n",
							"      <th>DK</th>\n",
							"      <th>DE</th>\n",
							"      <th>EE</th>\n",
							"      <th>IE</th>\n",
							"      <th>EL</th>\n",
							"      <th>ES</th>\n",
							"      <th>...</th>\n",
							"      <th>PT</th>\n",
							"      <th>RO</th>\n",
							"      <th>SI</th>\n",
							"      <th>SK</th>\n",
							"      <th>FI</th>\n",
							"      <th>SE</th>\n",
							"      <th>IS</th>\n",
							"      <th>NO</th>\n",
							"      <th>RS</th>\n",
							"      <th>TR</th>\n",
							"    </tr>\n",
							"    <tr>\n",
							"      <th>time</th>\n",
							"      <th></th>\n",
							"      <th></th>\n",
							"      <th></th>\n",
							"      <th></th>\n",
							"      <th></th>\n",
							"      <th></th>\n",
							"      <th></th>\n",
							"      <th></th>\n",
							"      <th></th>\n",
							"      <th></th>\n",
							"      <th></th>\n",
							"      <th></th>\n",
							"      <th></th>\n",
							"      <th></th>\n",
							"      <th></th>\n",
							"      <th></th>\n",
							"      <th></th>\n",
							"      <th></th>\n",
							"      <th></th>\n",
							"      <th></th>\n",
							"      <th></th>\n",
							"    </tr>\n",
							"  </thead>\n",
							"  <tbody>\n",
							"    <tr>\n",
							"      <th>2008</th>\n",
							"      <td>305128.218</td>\n",
							"      <td>17158.0</td>\n",
							"      <td>3097.0</td>\n",
							"      <td>8520.0</td>\n",
							"      <td>12815.0</td>\n",
							"      <td>41670.0</td>\n",
							"      <td>1369.0</td>\n",
							"      <td>753.031</td>\n",
							"      <td>7575.0</td>\n",
							"      <td>5881.0</td>\n",
							"      <td>...</td>\n",
							"      <td>10744.0</td>\n",
							"      <td>921.0</td>\n",
							"      <td>6225.0</td>\n",
							"      <td>9412.0</td>\n",
							"      <td>16107.0</td>\n",
							"      <td>12754.0</td>\n",
							"      <td>0.0</td>\n",
							"      <td>3412.0</td>\n",
							"      <td>8875.0</td>\n",
							"      <td>789.0</td>\n",
							"    </tr>\n",
							"    <tr>\n",
							"      <th>2009</th>\n",
							"      <td>292276.753</td>\n",
							"      <td>9486.0</td>\n",
							"      <td>2662.0</td>\n",
							"      <td>8586.0</td>\n",
							"      <td>11208.0</td>\n",
							"      <td>41859.0</td>\n",
							"      <td>3025.0</td>\n",
							"      <td>939.217</td>\n",
							"      <td>7600.0</td>\n",
							"      <td>6751.0</td>\n",
							"      <td>...</td>\n",
							"      <td>7598.0</td>\n",
							"      <td>651.0</td>\n",
							"      <td>7780.0</td>\n",
							"      <td>8994.0</td>\n",
							"      <td>15460.0</td>\n",
							"      <td>13765.0</td>\n",
							"      <td>0.0</td>\n",
							"      <td>5651.0</td>\n",
							"      <td>5184.0</td>\n",
							"      <td>812.0</td>\n",
							"    </tr>\n",
							"    <tr>\n",
							"      <th>2010</th>\n",
							"      <td>291540.094</td>\n",
							"      <td>12395.0</td>\n",
							"      <td>1167.0</td>\n",
							"      <td>6642.0</td>\n",
							"      <td>10599.0</td>\n",
							"      <td>42962.0</td>\n",
							"      <td>1100.0</td>\n",
							"      <td>759.887</td>\n",
							"      <td>8517.0</td>\n",
							"      <td>5206.0</td>\n",
							"      <td>...</td>\n",
							"      <td>5814.0</td>\n",
							"      <td>767.0</td>\n",
							"      <td>8625.0</td>\n",
							"      <td>7334.0</td>\n",
							"      <td>15719.0</td>\n",
							"      <td>14931.0</td>\n",
							"      <td>0.0</td>\n",
							"      <td>14673.0</td>\n",
							"      <td>5620.0</td>\n",
							"      <td>1144.0</td>\n",
							"    </tr>\n",
							"    <tr>\n",
							"      <th>2011</th>\n",
							"      <td>321114.673</td>\n",
							"      <td>13189.0</td>\n",
							"      <td>1449.0</td>\n",
							"      <td>10457.0</td>\n",
							"      <td>11694.0</td>\n",
							"      <td>51003.0</td>\n",
							"      <td>1690.0</td>\n",
							"      <td>731.622</td>\n",
							"      <td>7180.0</td>\n",
							"      <td>7932.0</td>\n",
							"      <td>...</td>\n",
							"      <td>6742.0</td>\n",
							"      <td>3410.0</td>\n",
							"      <td>7036.0</td>\n",
							"      <td>11227.0</td>\n",
							"      <td>17656.0</td>\n",
							"      <td>12481.0</td>\n",
							"      <td>0.0</td>\n",
							"      <td>11254.0</td>\n",
							"      <td>6701.0</td>\n",
							"      <td>4556.0</td>\n",
							"    </tr>\n",
							"    <tr>\n",
							"      <th>2012</th>\n",
							"      <td>349454.141</td>\n",
							"      <td>16848.0</td>\n",
							"      <td>2353.0</td>\n",
							"      <td>11587.0</td>\n",
							"      <td>15920.0</td>\n",
							"      <td>46268.0</td>\n",
							"      <td>2710.0</td>\n",
							"      <td>783.605</td>\n",
							"      <td>5954.0</td>\n",
							"      <td>7787.0</td>\n",
							"      <td>...</td>\n",
							"      <td>10766.0</td>\n",
							"      <td>3903.0</td>\n",
							"      <td>7452.0</td>\n",
							"      <td>13472.0</td>\n",
							"      <td>19089.0</td>\n",
							"      <td>11682.0</td>\n",
							"      <td>0.0</td>\n",
							"      <td>4191.0</td>\n",
							"      <td>5781.0</td>\n",
							"      <td>5827.0</td>\n",
							"    </tr>\n",
							"  </tbody>\n",
							"</table>\n",
							"<p>5 rows × 32 columns</p>\n",
							"</div>"
						],
						"text/plain": [
							"country   EU27_2020       BE      BG       CZ       DK       DE      EE  \\\n",
							"time                                                                      \n",
							"2008     305128.218  17158.0  3097.0   8520.0  12815.0  41670.0  1369.0   \n",
							"2009     292276.753   9486.0  2662.0   8586.0  11208.0  41859.0  3025.0   \n",
							"2010     291540.094  12395.0  1167.0   6642.0  10599.0  42962.0  1100.0   \n",
							"2011     321114.673  13189.0  1449.0  10457.0  11694.0  51003.0  1690.0   \n",
							"2012     349454.141  16848.0  2353.0  11587.0  15920.0  46268.0  2710.0   \n",
							"\n",
							"country       IE      EL      ES  ...       PT      RO      SI       SK  \\\n",
							"time                              ...                                     \n",
							"2008     753.031  7575.0  5881.0  ...  10744.0   921.0  6225.0   9412.0   \n",
							"2009     939.217  7600.0  6751.0  ...   7598.0   651.0  7780.0   8994.0   \n",
							"2010     759.887  8517.0  5206.0  ...   5814.0   767.0  8625.0   7334.0   \n",
							"2011     731.622  7180.0  7932.0  ...   6742.0  3410.0  7036.0  11227.0   \n",
							"2012     783.605  5954.0  7787.0  ...  10766.0  3903.0  7452.0  13472.0   \n",
							"\n",
							"country       FI       SE   IS       NO      RS      TR  \n",
							"time                                                     \n",
							"2008     16107.0  12754.0  0.0   3412.0  8875.0   789.0  \n",
							"2009     15460.0  13765.0  0.0   5651.0  5184.0   812.0  \n",
							"2010     15719.0  14931.0  0.0  14673.0  5620.0  1144.0  \n",
							"2011     17656.0  12481.0  0.0  11254.0  6701.0  4556.0  \n",
							"2012     19089.0  11682.0  0.0   4191.0  5781.0  5827.0  \n",
							"\n",
							"[5 rows x 32 columns]"
						]
					},
					"execution_count": 9,
					"metadata": {},
					"output_type": "execute_result"
				}
			],
			"source": [
				"# Match countries w/ the carbon dataset\n",
				"countries = list(df_carbon_short.columns)\n",
				"df_energy_short = df_energy_short[df_energy_short.columns.intersection(countries)]\n",
				"df_energy_short.head()"
			]
		},
		{
			"cell_type": "code",
			"execution_count": 316,
			"metadata": {},
			"outputs": [
				{
					"data": {
						"application/vnd.plotly.v1+json": {
							"config": {
								"plotlyServerURL": "https://plot.ly"
							},
							"data": [
								{
									"hovertemplate": "country=EU27_2020<br>time=%{x}<br>value=%{y}<extra></extra>",
									"legendgroup": "EU27_2020",
									"marker": {
										"color": "#636efa",
										"symbol": "circle"
									},
									"mode": "markers",
									"name": "EU27_2020",
									"orientation": "v",
									"showlegend": true,
									"type": "scatter",
									"x": [
										"2008",
										"2009",
										"2010",
										"2011",
										"2012",
										"2013",
										"2014",
										"2015",
										"2016",
										"2017",
										"2018",
										"2019",
										"2020",
										"2021",
										"2022"
									],
									"xaxis": "x",
									"y": [
										305128.218,
										292276.753,
										291540.094,
										321114.673,
										349454.141,
										332062.258,
										363686.914,
										387638.649,
										362524.588,
										366554.329,
										372348.275,
										369432.448,
										381008.85,
										401425.821,
										422411.977
									],
									"yaxis": "y"
								},
								{
									"hovertemplate": "country=BE<br>time=%{x}<br>value=%{y}<extra></extra>",
									"legendgroup": "BE",
									"marker": {
										"color": "#EF553B",
										"symbol": "circle"
									},
									"mode": "markers",
									"name": "BE",
									"orientation": "v",
									"showlegend": true,
									"type": "scatter",
									"x": [
										"2008",
										"2009",
										"2010",
										"2011",
										"2012",
										"2013",
										"2014",
										"2015",
										"2016",
										"2017",
										"2018",
										"2019",
										"2020",
										"2021",
										"2022"
									],
									"xaxis": "x",
									"y": [
										17158,
										9486,
										12395,
										13189,
										16848,
										17243,
										21791,
										23714,
										14648,
										14189.4,
										21635.9,
										12734.4,
										13721.9,
										15193.6,
										16349.6
									],
									"yaxis": "y"
								},
								{
									"hovertemplate": "country=BG<br>time=%{x}<br>value=%{y}<extra></extra>",
									"legendgroup": "BG",
									"marker": {
										"color": "#00cc96",
										"symbol": "circle"
									},
									"mode": "markers",
									"name": "BG",
									"orientation": "v",
									"showlegend": true,
									"type": "scatter",
									"x": [
										"2008",
										"2009",
										"2010",
										"2011",
										"2012",
										"2013",
										"2014",
										"2015",
										"2016",
										"2017",
										"2018",
										"2019",
										"2020",
										"2021",
										"2022"
									],
									"xaxis": "x",
									"y": [
										3097,
										2662,
										1167,
										1449,
										2353,
										3351,
										4319,
										4251,
										4568,
										3705.423,
										2222.726,
										3044.947,
										3706.736,
										1856.976,
										1470.003
									],
									"yaxis": "y"
								},
								{
									"hovertemplate": "country=CZ<br>time=%{x}<br>value=%{y}<extra></extra>",
									"legendgroup": "CZ",
									"marker": {
										"color": "#ab63fa",
										"symbol": "circle"
									},
									"mode": "markers",
									"name": "CZ",
									"orientation": "v",
									"showlegend": true,
									"type": "scatter",
									"x": [
										"2008",
										"2009",
										"2010",
										"2011",
										"2012",
										"2013",
										"2014",
										"2015",
										"2016",
										"2017",
										"2018",
										"2019",
										"2020",
										"2021",
										"2022"
									],
									"xaxis": "x",
									"y": [
										8520,
										8586,
										6642,
										10457,
										11587,
										10571,
										11842,
										16146,
										13817,
										15071.999,
										11573.41,
										11026.213,
										13368.051,
										15152.981,
										16726.075
									],
									"yaxis": "y"
								},
								{
									"hovertemplate": "country=DK<br>time=%{x}<br>value=%{y}<extra></extra>",
									"legendgroup": "DK",
									"marker": {
										"color": "#FFA15A",
										"symbol": "circle"
									},
									"mode": "markers",
									"name": "DK",
									"orientation": "v",
									"showlegend": true,
									"type": "scatter",
									"x": [
										"2008",
										"2009",
										"2010",
										"2011",
										"2012",
										"2013",
										"2014",
										"2015",
										"2016",
										"2017",
										"2018",
										"2019",
										"2020",
										"2021",
										"2022"
									],
									"xaxis": "x",
									"y": [
										12815,
										11208,
										10599,
										11694,
										15920,
										11459,
										12702,
										15644.747,
										14976.458,
										15218.109,
										15633.609,
										15981.899,
										18593.972,
										20119.85,
										18752.207
									],
									"yaxis": "y"
								},
								{
									"hovertemplate": "country=DE<br>time=%{x}<br>value=%{y}<extra></extra>",
									"legendgroup": "DE",
									"marker": {
										"color": "#19d3f3",
										"symbol": "circle"
									},
									"mode": "markers",
									"name": "DE",
									"orientation": "v",
									"showlegend": true,
									"type": "scatter",
									"x": [
										"2008",
										"2009",
										"2010",
										"2011",
										"2012",
										"2013",
										"2014",
										"2015",
										"2016",
										"2017",
										"2018",
										"2019",
										"2020",
										"2021",
										"2022"
									],
									"xaxis": "x",
									"y": [
										41670,
										41859,
										42962,
										51003,
										46268,
										39222,
										40435,
										37008,
										28338,
										27842,
										31727,
										40126,
										47853,
										51731,
										49331
									],
									"yaxis": "y"
								},
								{
									"hovertemplate": "country=EE<br>time=%{x}<br>value=%{y}<extra></extra>",
									"legendgroup": "EE",
									"marker": {
										"color": "#FF6692",
										"symbol": "circle"
									},
									"mode": "markers",
									"name": "EE",
									"orientation": "v",
									"showlegend": true,
									"type": "scatter",
									"x": [
										"2008",
										"2009",
										"2010",
										"2011",
										"2012",
										"2013",
										"2014",
										"2015",
										"2016",
										"2017",
										"2018",
										"2019",
										"2020",
										"2021",
										"2022"
									],
									"xaxis": "x",
									"y": [
										1369,
										3025,
										1100,
										1690,
										2710,
										2712,
										3730,
										5452,
										3577,
										2281,
										3053,
										4861,
										7367,
										7332.438,
										7183
									],
									"yaxis": "y"
								},
								{
									"hovertemplate": "country=IE<br>time=%{x}<br>value=%{y}<extra></extra>",
									"legendgroup": "IE",
									"marker": {
										"color": "#B6E880",
										"symbol": "circle"
									},
									"mode": "markers",
									"name": "IE",
									"orientation": "v",
									"showlegend": true,
									"type": "scatter",
									"x": [
										"2008",
										"2009",
										"2010",
										"2011",
										"2012",
										"2013",
										"2014",
										"2015",
										"2016",
										"2017",
										"2018",
										"2019",
										"2020",
										"2021",
										"2022"
									],
									"xaxis": "x",
									"y": [
										753.031,
										939.217,
										759.887,
										731.622,
										783.605,
										2625.164,
										2853.015,
										1751.975,
										871.263,
										1116.408,
										1621.519,
										2179.579,
										1761.112,
										2450.715,
										1581.629
									],
									"yaxis": "y"
								},
								{
									"hovertemplate": "country=EL<br>time=%{x}<br>value=%{y}<extra></extra>",
									"legendgroup": "EL",
									"marker": {
										"color": "#FF97FF",
										"symbol": "circle"
									},
									"mode": "markers",
									"name": "EL",
									"orientation": "v",
									"showlegend": true,
									"type": "scatter",
									"x": [
										"2008",
										"2009",
										"2010",
										"2011",
										"2012",
										"2013",
										"2014",
										"2015",
										"2016",
										"2017",
										"2018",
										"2019",
										"2020",
										"2021",
										"2022"
									],
									"xaxis": "x",
									"y": [
										7575,
										7600,
										8517,
										7180,
										5954,
										5788,
										9461,
										11081,
										9833,
										8696,
										8550,
										11067,
										9831,
										7581,
										7751
									],
									"yaxis": "y"
								},
								{
									"hovertemplate": "country=ES<br>time=%{x}<br>value=%{y}<extra></extra>",
									"legendgroup": "ES",
									"marker": {
										"color": "#FECB52",
										"symbol": "circle"
									},
									"mode": "markers",
									"name": "ES",
									"orientation": "v",
									"showlegend": true,
									"type": "scatter",
									"x": [
										"2008",
										"2009",
										"2010",
										"2011",
										"2012",
										"2013",
										"2014",
										"2015",
										"2016",
										"2017",
										"2018",
										"2019",
										"2020",
										"2021",
										"2022"
									],
									"xaxis": "x",
									"y": [
										5881,
										6751,
										5206,
										7932,
										7787,
										9887,
										12310,
										14956,
										21845,
										23762,
										24018,
										18720.84,
										17928.364,
										17411.223,
										8031.52
									],
									"yaxis": "y"
								},
								{
									"hovertemplate": "country=FR<br>time=%{x}<br>value=%{y}<extra></extra>",
									"legendgroup": "FR",
									"marker": {
										"color": "#636efa",
										"symbol": "circle"
									},
									"mode": "markers",
									"name": "FR",
									"orientation": "v",
									"showlegend": true,
									"type": "scatter",
									"x": [
										"2008",
										"2009",
										"2010",
										"2011",
										"2012",
										"2013",
										"2014",
										"2015",
										"2016",
										"2017",
										"2018",
										"2019",
										"2020",
										"2021",
										"2022"
									],
									"xaxis": "x",
									"y": [
										10748,
										18517,
										19475,
										9501,
										12213,
										11687,
										7873,
										9961,
										19903,
										21119.18,
										13512.09,
										15631.75,
										19536.102,
										24334.451,
										52437.269
									],
									"yaxis": "y"
								},
								{
									"hovertemplate": "country=HR<br>time=%{x}<br>value=%{y}<extra></extra>",
									"legendgroup": "HR",
									"marker": {
										"color": "#EF553B",
										"symbol": "circle"
									},
									"mode": "markers",
									"name": "HR",
									"orientation": "v",
									"showlegend": true,
									"type": "scatter",
									"x": [
										"2008",
										"2009",
										"2010",
										"2011",
										"2012",
										"2013",
										"2014",
										"2015",
										"2016",
										"2017",
										"2018",
										"2019",
										"2020",
										"2021",
										"2022"
									],
									"xaxis": "x",
									"y": [
										12254,
										11892,
										12415,
										13985,
										13174,
										11260,
										10898,
										13158,
										12398,
										12157.9,
										12693.4,
										11400.8,
										10491,
										11504.7,
										11919.7
									],
									"yaxis": "y"
								},
								{
									"hovertemplate": "country=IT<br>time=%{x}<br>value=%{y}<extra></extra>",
									"legendgroup": "IT",
									"marker": {
										"color": "#00cc96",
										"symbol": "circle"
									},
									"mode": "markers",
									"name": "IT",
									"orientation": "v",
									"showlegend": true,
									"type": "scatter",
									"x": [
										"2008",
										"2009",
										"2010",
										"2011",
										"2012",
										"2013",
										"2014",
										"2015",
										"2016",
										"2017",
										"2018",
										"2019",
										"2020",
										"2021",
										"2022"
									],
									"xaxis": "x",
									"y": [
										43433,
										47070,
										45987,
										47519,
										45407,
										44338,
										46747,
										50849,
										43181,
										42894.881,
										47170.204,
										43974.94,
										39789.94,
										46571.698,
										47391.065
									],
									"yaxis": "y"
								},
								{
									"hovertemplate": "country=CY<br>time=%{x}<br>value=%{y}<extra></extra>",
									"legendgroup": "CY",
									"marker": {
										"color": "#ab63fa",
										"symbol": "circle"
									},
									"mode": "markers",
									"name": "CY",
									"orientation": "v",
									"showlegend": true,
									"type": "scatter",
									"x": [
										"2008",
										"2009",
										"2010",
										"2011",
										"2012",
										"2013",
										"2014",
										"2015",
										"2016",
										"2017",
										"2018",
										"2019",
										"2020",
										"2021",
										"2022"
									],
									"xaxis": "x",
									"y": [
										0,
										0,
										0,
										0,
										0,
										0,
										0,
										0,
										0,
										0,
										0,
										0,
										0,
										0,
										0
									],
									"yaxis": "y"
								},
								{
									"hovertemplate": "country=LV<br>time=%{x}<br>value=%{y}<extra></extra>",
									"legendgroup": "LV",
									"marker": {
										"color": "#FFA15A",
										"symbol": "circle"
									},
									"mode": "markers",
									"name": "LV",
									"orientation": "v",
									"showlegend": true,
									"type": "scatter",
									"x": [
										"2008",
										"2009",
										"2010",
										"2011",
										"2012",
										"2013",
										"2014",
										"2015",
										"2016",
										"2017",
										"2018",
										"2019",
										"2020",
										"2021",
										"2022"
									],
									"xaxis": "x",
									"y": [
										4643,
										4259,
										3973,
										4009,
										4935,
										5005,
										5340,
										5246,
										4828,
										4072.912,
										5173.682,
										4610.761,
										4173.365,
										4666.37,
										5308.232
									],
									"yaxis": "y"
								},
								{
									"hovertemplate": "country=LT<br>time=%{x}<br>value=%{y}<extra></extra>",
									"legendgroup": "LT",
									"marker": {
										"color": "#19d3f3",
										"symbol": "circle"
									},
									"mode": "markers",
									"name": "LT",
									"orientation": "v",
									"showlegend": true,
									"type": "scatter",
									"x": [
										"2008",
										"2009",
										"2010",
										"2011",
										"2012",
										"2013",
										"2014",
										"2015",
										"2016",
										"2017",
										"2018",
										"2019",
										"2020",
										"2021",
										"2022"
									],
									"xaxis": "x",
									"y": [
										5649,
										4783,
										8174,
										8086,
										8060,
										8073,
										8521,
										7938,
										11106,
										11926.2,
										12847.5,
										13267.9,
										12013.4,
										12478.9,
										12933.9
									],
									"yaxis": "y"
								},
								{
									"hovertemplate": "country=LU<br>time=%{x}<br>value=%{y}<extra></extra>",
									"legendgroup": "LU",
									"marker": {
										"color": "#FF6692",
										"symbol": "circle"
									},
									"mode": "markers",
									"name": "LU",
									"orientation": "v",
									"showlegend": true,
									"type": "scatter",
									"x": [
										"2008",
										"2009",
										"2010",
										"2011",
										"2012",
										"2013",
										"2014",
										"2015",
										"2016",
										"2017",
										"2018",
										"2019",
										"2020",
										"2021",
										"2022"
									],
									"xaxis": "x",
									"y": [
										6829.873,
										6022.472,
										7279.51,
										7096.34,
										6732.098,
										6851.524,
										6961.176,
										7518.755,
										7718.393,
										7566.69,
										7553.012,
										6817.52,
										6543.493,
										6758.47,
										7146.086
									],
									"yaxis": "y"
								},
								{
									"hovertemplate": "country=HU<br>time=%{x}<br>value=%{y}<extra></extra>",
									"legendgroup": "HU",
									"marker": {
										"color": "#B6E880",
										"symbol": "circle"
									},
									"mode": "markers",
									"name": "HU",
									"orientation": "v",
									"showlegend": true,
									"type": "scatter",
									"x": [
										"2008",
										"2009",
										"2010",
										"2011",
										"2012",
										"2013",
										"2014",
										"2015",
										"2016",
										"2017",
										"2018",
										"2019",
										"2020",
										"2021",
										"2022"
									],
									"xaxis": "x",
									"y": [
										12774,
										10972,
										9897,
										14664,
										16970,
										16635,
										19079,
										19935,
										17951,
										19803,
										18613,
										19853,
										19176,
										19967,
										21589
									],
									"yaxis": "y"
								},
								{
									"hovertemplate": "country=MT<br>time=%{x}<br>value=%{y}<extra></extra>",
									"legendgroup": "MT",
									"marker": {
										"color": "#FF97FF",
										"symbol": "circle"
									},
									"mode": "markers",
									"name": "MT",
									"orientation": "v",
									"showlegend": true,
									"type": "scatter",
									"x": [
										"2008",
										"2009",
										"2010",
										"2011",
										"2012",
										"2013",
										"2014",
										"2015",
										"2016",
										"2017",
										"2018",
										"2019",
										"2020",
										"2021",
										"2022"
									],
									"xaxis": "x",
									"y": [
										0,
										0,
										0,
										0,
										0,
										0,
										0,
										1054,
										1526.688,
										897.066,
										631.293,
										656.756,
										419.81,
										547.25,
										646.139
									],
									"yaxis": "y"
								},
								{
									"hovertemplate": "country=NL<br>time=%{x}<br>value=%{y}<extra></extra>",
									"legendgroup": "NL",
									"marker": {
										"color": "#FECB52",
										"symbol": "circle"
									},
									"mode": "markers",
									"name": "NL",
									"orientation": "v",
									"showlegend": true,
									"type": "scatter",
									"x": [
										"2008",
										"2009",
										"2010",
										"2011",
										"2012",
										"2013",
										"2014",
										"2015",
										"2016",
										"2017",
										"2018",
										"2019",
										"2020",
										"2021",
										"2022"
									],
									"xaxis": "x",
									"y": [
										24967,
										15452,
										15583,
										20620,
										32155.723,
										33252,
										32855,
										30760.009,
										24257.626,
										22457.716,
										26754.589,
										20402.855,
										19773.283,
										20885.396,
										18544.448
									],
									"yaxis": "y"
								},
								{
									"hovertemplate": "country=AT<br>time=%{x}<br>value=%{y}<extra></extra>",
									"legendgroup": "AT",
									"marker": {
										"color": "#636efa",
										"symbol": "circle"
									},
									"mode": "markers",
									"name": "AT",
									"orientation": "v",
									"showlegend": true,
									"type": "scatter",
									"x": [
										"2008",
										"2009",
										"2010",
										"2011",
										"2012",
										"2013",
										"2014",
										"2015",
										"2016",
										"2017",
										"2018",
										"2019",
										"2020",
										"2021",
										"2022"
									],
									"xaxis": "x",
									"y": [
										19795.314,
										19542.064,
										19908.697,
										24976.711,
										23429.715,
										24959.57,
										26711.723,
										29389.163,
										26366.16,
										29362.427,
										28076.136,
										26046.847,
										24522.492,
										26436.192,
										28595.17
									],
									"yaxis": "y"
								},
								{
									"hovertemplate": "country=PL<br>time=%{x}<br>value=%{y}<extra></extra>",
									"legendgroup": "PL",
									"marker": {
										"color": "#EF553B",
										"symbol": "circle"
									},
									"mode": "markers",
									"name": "PL",
									"orientation": "v",
									"showlegend": true,
									"type": "scatter",
									"x": [
										"2008",
										"2009",
										"2010",
										"2011",
										"2012",
										"2013",
										"2014",
										"2015",
										"2016",
										"2017",
										"2018",
										"2019",
										"2020",
										"2021",
										"2022"
									],
									"xaxis": "x",
									"y": [
										9034,
										7403,
										6310,
										6780,
										9803,
										7801,
										13508,
										14459,
										14017,
										13271,
										13815.804,
										17868.327,
										20624.119,
										15099.836,
										15237.63
									],
									"yaxis": "y"
								},
								{
									"hovertemplate": "country=PT<br>time=%{x}<br>value=%{y}<extra></extra>",
									"legendgroup": "PT",
									"marker": {
										"color": "#00cc96",
										"symbol": "circle"
									},
									"mode": "markers",
									"name": "PT",
									"orientation": "v",
									"showlegend": true,
									"type": "scatter",
									"x": [
										"2008",
										"2009",
										"2010",
										"2011",
										"2012",
										"2013",
										"2014",
										"2015",
										"2016",
										"2017",
										"2018",
										"2019",
										"2020",
										"2021",
										"2022"
									],
									"xaxis": "x",
									"y": [
										10744,
										7598,
										5814,
										6742,
										10766,
										8100,
										7247,
										8077,
										4616,
										5505.732,
										5667.568,
										8099.208,
										7553.113,
										9544.418,
										12314.691
									],
									"yaxis": "y"
								},
								{
									"hovertemplate": "country=RO<br>time=%{x}<br>value=%{y}<extra></extra>",
									"legendgroup": "RO",
									"marker": {
										"color": "#ab63fa",
										"symbol": "circle"
									},
									"mode": "markers",
									"name": "RO",
									"orientation": "v",
									"showlegend": true,
									"type": "scatter",
									"x": [
										"2008",
										"2009",
										"2010",
										"2011",
										"2012",
										"2013",
										"2014",
										"2015",
										"2016",
										"2017",
										"2018",
										"2019",
										"2020",
										"2021",
										"2022"
									],
									"xaxis": "x",
									"y": [
										921,
										651,
										767,
										3410,
										3903,
										2737,
										2811,
										4492,
										4177,
										4841.754,
										3696.594,
										5492.633,
										8251.648,
										8697.204,
										8653.371
									],
									"yaxis": "y"
								},
								{
									"hovertemplate": "country=SI<br>time=%{x}<br>value=%{y}<extra></extra>",
									"legendgroup": "SI",
									"marker": {
										"color": "#FFA15A",
										"symbol": "circle"
									},
									"mode": "markers",
									"name": "SI",
									"orientation": "v",
									"showlegend": true,
									"type": "scatter",
									"x": [
										"2008",
										"2009",
										"2010",
										"2011",
										"2012",
										"2013",
										"2014",
										"2015",
										"2016",
										"2017",
										"2018",
										"2019",
										"2020",
										"2021",
										"2022"
									],
									"xaxis": "x",
									"y": [
										6225,
										7780,
										8625,
										7036,
										7452,
										7521,
										7254,
										9045,
										8359,
										9132.532,
										8930.239,
										9021.273,
										7119.95,
										8387.153,
										10198.242
									],
									"yaxis": "y"
								},
								{
									"hovertemplate": "country=SK<br>time=%{x}<br>value=%{y}<extra></extra>",
									"legendgroup": "SK",
									"marker": {
										"color": "#19d3f3",
										"symbol": "circle"
									},
									"mode": "markers",
									"name": "SK",
									"orientation": "v",
									"showlegend": true,
									"type": "scatter",
									"x": [
										"2008",
										"2009",
										"2010",
										"2011",
										"2012",
										"2013",
										"2014",
										"2015",
										"2016",
										"2017",
										"2018",
										"2019",
										"2020",
										"2021",
										"2022"
									],
									"xaxis": "x",
									"y": [
										9412,
										8994,
										7334,
										11227,
										13472,
										10719,
										12964,
										14999,
										13249,
										15563,
										12428,
										13538,
										13289,
										13884,
										16743
									],
									"yaxis": "y"
								},
								{
									"hovertemplate": "country=FI<br>time=%{x}<br>value=%{y}<extra></extra>",
									"legendgroup": "FI",
									"marker": {
										"color": "#FF6692",
										"symbol": "circle"
									},
									"mode": "markers",
									"name": "FI",
									"orientation": "v",
									"showlegend": true,
									"type": "scatter",
									"x": [
										"2008",
										"2009",
										"2010",
										"2011",
										"2012",
										"2013",
										"2014",
										"2015",
										"2016",
										"2017",
										"2018",
										"2019",
										"2020",
										"2021",
										"2022"
									],
									"xaxis": "x",
									"y": [
										16107,
										15460,
										15719,
										17656,
										19089,
										17591,
										21622,
										21459,
										22110,
										22204,
										22548,
										23938,
										21774,
										24492,
										19397
									],
									"yaxis": "y"
								},
								{
									"hovertemplate": "country=SE<br>time=%{x}<br>value=%{y}<extra></extra>",
									"legendgroup": "SE",
									"marker": {
										"color": "#B6E880",
										"symbol": "circle"
									},
									"mode": "markers",
									"name": "SE",
									"orientation": "v",
									"showlegend": true,
									"type": "scatter",
									"x": [
										"2008",
										"2009",
										"2010",
										"2011",
										"2012",
										"2013",
										"2014",
										"2015",
										"2016",
										"2017",
										"2018",
										"2019",
										"2020",
										"2021",
										"2022"
									],
									"xaxis": "x",
									"y": [
										12754,
										13765,
										14931,
										12481,
										11682,
										12674,
										13852,
										9294,
										14287,
										11896,
										12202,
										9070,
										11827,
										8341,
										6181
									],
									"yaxis": "y"
								},
								{
									"hovertemplate": "country=IS<br>time=%{x}<br>value=%{y}<extra></extra>",
									"legendgroup": "IS",
									"marker": {
										"color": "#FF97FF",
										"symbol": "circle"
									},
									"mode": "markers",
									"name": "IS",
									"orientation": "v",
									"showlegend": true,
									"type": "scatter",
									"x": [
										"2008",
										"2009",
										"2010",
										"2011",
										"2012",
										"2013",
										"2014",
										"2015",
										"2016",
										"2017",
										"2018",
										"2019",
										"2020",
										"2021",
										"2022"
									],
									"xaxis": "x",
									"y": [
										0,
										0,
										0,
										0,
										0,
										0,
										0,
										0,
										0,
										0,
										0,
										0,
										0,
										0,
										null
									],
									"yaxis": "y"
								},
								{
									"hovertemplate": "country=NO<br>time=%{x}<br>value=%{y}<extra></extra>",
									"legendgroup": "NO",
									"marker": {
										"color": "#FECB52",
										"symbol": "circle"
									},
									"mode": "markers",
									"name": "NO",
									"orientation": "v",
									"showlegend": true,
									"type": "scatter",
									"x": [
										"2008",
										"2009",
										"2010",
										"2011",
										"2012",
										"2013",
										"2014",
										"2015",
										"2016",
										"2017",
										"2018",
										"2019",
										"2020",
										"2021",
										"2022"
									],
									"xaxis": "x",
									"y": [
										3412,
										5651,
										14673,
										11254,
										4191,
										10135,
										6347,
										7371,
										5740,
										6111,
										8339.724,
										12353,
										4496.145,
										8235.069,
										13271
									],
									"yaxis": "y"
								},
								{
									"hovertemplate": "country=RS<br>time=%{x}<br>value=%{y}<extra></extra>",
									"legendgroup": "RS",
									"marker": {
										"color": "#636efa",
										"symbol": "circle"
									},
									"mode": "markers",
									"name": "RS",
									"orientation": "v",
									"showlegend": true,
									"type": "scatter",
									"x": [
										"2008",
										"2009",
										"2010",
										"2011",
										"2012",
										"2013",
										"2014",
										"2015",
										"2016",
										"2017",
										"2018",
										"2019",
										"2020",
										"2021",
										"2022"
									],
									"xaxis": "x",
									"y": [
										8875,
										5184,
										5620,
										6701,
										5781,
										4077,
										7008,
										6303,
										5068,
										6549.189,
										6400.007,
										5416.609,
										5069.528,
										6984.008,
										8446.83
									],
									"yaxis": "y"
								},
								{
									"hovertemplate": "country=TR<br>time=%{x}<br>value=%{y}<extra></extra>",
									"legendgroup": "TR",
									"marker": {
										"color": "#EF553B",
										"symbol": "circle"
									},
									"mode": "markers",
									"name": "TR",
									"orientation": "v",
									"showlegend": true,
									"type": "scatter",
									"x": [
										"2008",
										"2009",
										"2010",
										"2011",
										"2012",
										"2013",
										"2014",
										"2015",
										"2016",
										"2017",
										"2018",
										"2019",
										"2020",
										"2021",
										"2022"
									],
									"xaxis": "x",
									"y": [
										789,
										812,
										1144,
										4556,
										5827,
										7429,
										7953,
										7136,
										6330,
										2728.268,
										2476.887,
										2211.506,
										1889.521,
										2334.453,
										6438.816
									],
									"yaxis": "y"
								}
							],
							"layout": {
								"legend": {
									"title": {
										"text": "country"
									},
									"tracegroupgap": 0
								},
								"margin": {
									"t": 60
								},
								"template": {
									"data": {
										"bar": [
											{
												"error_x": {
													"color": "#2a3f5f"
												},
												"error_y": {
													"color": "#2a3f5f"
												},
												"marker": {
													"line": {
														"color": "#E5ECF6",
														"width": 0.5
													},
													"pattern": {
														"fillmode": "overlay",
														"size": 10,
														"solidity": 0.2
													}
												},
												"type": "bar"
											}
										],
										"barpolar": [
											{
												"marker": {
													"line": {
														"color": "#E5ECF6",
														"width": 0.5
													},
													"pattern": {
														"fillmode": "overlay",
														"size": 10,
														"solidity": 0.2
													}
												},
												"type": "barpolar"
											}
										],
										"carpet": [
											{
												"aaxis": {
													"endlinecolor": "#2a3f5f",
													"gridcolor": "white",
													"linecolor": "white",
													"minorgridcolor": "white",
													"startlinecolor": "#2a3f5f"
												},
												"baxis": {
													"endlinecolor": "#2a3f5f",
													"gridcolor": "white",
													"linecolor": "white",
													"minorgridcolor": "white",
													"startlinecolor": "#2a3f5f"
												},
												"type": "carpet"
											}
										],
										"choropleth": [
											{
												"colorbar": {
													"outlinewidth": 0,
													"ticks": ""
												},
												"type": "choropleth"
											}
										],
										"contour": [
											{
												"colorbar": {
													"outlinewidth": 0,
													"ticks": ""
												},
												"colorscale": [
													[
														0,
														"#0d0887"
													],
													[
														0.1111111111111111,
														"#46039f"
													],
													[
														0.2222222222222222,
														"#7201a8"
													],
													[
														0.3333333333333333,
														"#9c179e"
													],
													[
														0.4444444444444444,
														"#bd3786"
													],
													[
														0.5555555555555556,
														"#d8576b"
													],
													[
														0.6666666666666666,
														"#ed7953"
													],
													[
														0.7777777777777778,
														"#fb9f3a"
													],
													[
														0.8888888888888888,
														"#fdca26"
													],
													[
														1,
														"#f0f921"
													]
												],
												"type": "contour"
											}
										],
										"contourcarpet": [
											{
												"colorbar": {
													"outlinewidth": 0,
													"ticks": ""
												},
												"type": "contourcarpet"
											}
										],
										"heatmap": [
											{
												"colorbar": {
													"outlinewidth": 0,
													"ticks": ""
												},
												"colorscale": [
													[
														0,
														"#0d0887"
													],
													[
														0.1111111111111111,
														"#46039f"
													],
													[
														0.2222222222222222,
														"#7201a8"
													],
													[
														0.3333333333333333,
														"#9c179e"
													],
													[
														0.4444444444444444,
														"#bd3786"
													],
													[
														0.5555555555555556,
														"#d8576b"
													],
													[
														0.6666666666666666,
														"#ed7953"
													],
													[
														0.7777777777777778,
														"#fb9f3a"
													],
													[
														0.8888888888888888,
														"#fdca26"
													],
													[
														1,
														"#f0f921"
													]
												],
												"type": "heatmap"
											}
										],
										"heatmapgl": [
											{
												"colorbar": {
													"outlinewidth": 0,
													"ticks": ""
												},
												"colorscale": [
													[
														0,
														"#0d0887"
													],
													[
														0.1111111111111111,
														"#46039f"
													],
													[
														0.2222222222222222,
														"#7201a8"
													],
													[
														0.3333333333333333,
														"#9c179e"
													],
													[
														0.4444444444444444,
														"#bd3786"
													],
													[
														0.5555555555555556,
														"#d8576b"
													],
													[
														0.6666666666666666,
														"#ed7953"
													],
													[
														0.7777777777777778,
														"#fb9f3a"
													],
													[
														0.8888888888888888,
														"#fdca26"
													],
													[
														1,
														"#f0f921"
													]
												],
												"type": "heatmapgl"
											}
										],
										"histogram": [
											{
												"marker": {
													"pattern": {
														"fillmode": "overlay",
														"size": 10,
														"solidity": 0.2
													}
												},
												"type": "histogram"
											}
										],
										"histogram2d": [
											{
												"colorbar": {
													"outlinewidth": 0,
													"ticks": ""
												},
												"colorscale": [
													[
														0,
														"#0d0887"
													],
													[
														0.1111111111111111,
														"#46039f"
													],
													[
														0.2222222222222222,
														"#7201a8"
													],
													[
														0.3333333333333333,
														"#9c179e"
													],
													[
														0.4444444444444444,
														"#bd3786"
													],
													[
														0.5555555555555556,
														"#d8576b"
													],
													[
														0.6666666666666666,
														"#ed7953"
													],
													[
														0.7777777777777778,
														"#fb9f3a"
													],
													[
														0.8888888888888888,
														"#fdca26"
													],
													[
														1,
														"#f0f921"
													]
												],
												"type": "histogram2d"
											}
										],
										"histogram2dcontour": [
											{
												"colorbar": {
													"outlinewidth": 0,
													"ticks": ""
												},
												"colorscale": [
													[
														0,
														"#0d0887"
													],
													[
														0.1111111111111111,
														"#46039f"
													],
													[
														0.2222222222222222,
														"#7201a8"
													],
													[
														0.3333333333333333,
														"#9c179e"
													],
													[
														0.4444444444444444,
														"#bd3786"
													],
													[
														0.5555555555555556,
														"#d8576b"
													],
													[
														0.6666666666666666,
														"#ed7953"
													],
													[
														0.7777777777777778,
														"#fb9f3a"
													],
													[
														0.8888888888888888,
														"#fdca26"
													],
													[
														1,
														"#f0f921"
													]
												],
												"type": "histogram2dcontour"
											}
										],
										"mesh3d": [
											{
												"colorbar": {
													"outlinewidth": 0,
													"ticks": ""
												},
												"type": "mesh3d"
											}
										],
										"parcoords": [
											{
												"line": {
													"colorbar": {
														"outlinewidth": 0,
														"ticks": ""
													}
												},
												"type": "parcoords"
											}
										],
										"pie": [
											{
												"automargin": true,
												"type": "pie"
											}
										],
										"scatter": [
											{
												"fillpattern": {
													"fillmode": "overlay",
													"size": 10,
													"solidity": 0.2
												},
												"type": "scatter"
											}
										],
										"scatter3d": [
											{
												"line": {
													"colorbar": {
														"outlinewidth": 0,
														"ticks": ""
													}
												},
												"marker": {
													"colorbar": {
														"outlinewidth": 0,
														"ticks": ""
													}
												},
												"type": "scatter3d"
											}
										],
										"scattercarpet": [
											{
												"marker": {
													"colorbar": {
														"outlinewidth": 0,
														"ticks": ""
													}
												},
												"type": "scattercarpet"
											}
										],
										"scattergeo": [
											{
												"marker": {
													"colorbar": {
														"outlinewidth": 0,
														"ticks": ""
													}
												},
												"type": "scattergeo"
											}
										],
										"scattergl": [
											{
												"marker": {
													"colorbar": {
														"outlinewidth": 0,
														"ticks": ""
													}
												},
												"type": "scattergl"
											}
										],
										"scattermapbox": [
											{
												"marker": {
													"colorbar": {
														"outlinewidth": 0,
														"ticks": ""
													}
												},
												"type": "scattermapbox"
											}
										],
										"scatterpolar": [
											{
												"marker": {
													"colorbar": {
														"outlinewidth": 0,
														"ticks": ""
													}
												},
												"type": "scatterpolar"
											}
										],
										"scatterpolargl": [
											{
												"marker": {
													"colorbar": {
														"outlinewidth": 0,
														"ticks": ""
													}
												},
												"type": "scatterpolargl"
											}
										],
										"scatterternary": [
											{
												"marker": {
													"colorbar": {
														"outlinewidth": 0,
														"ticks": ""
													}
												},
												"type": "scatterternary"
											}
										],
										"surface": [
											{
												"colorbar": {
													"outlinewidth": 0,
													"ticks": ""
												},
												"colorscale": [
													[
														0,
														"#0d0887"
													],
													[
														0.1111111111111111,
														"#46039f"
													],
													[
														0.2222222222222222,
														"#7201a8"
													],
													[
														0.3333333333333333,
														"#9c179e"
													],
													[
														0.4444444444444444,
														"#bd3786"
													],
													[
														0.5555555555555556,
														"#d8576b"
													],
													[
														0.6666666666666666,
														"#ed7953"
													],
													[
														0.7777777777777778,
														"#fb9f3a"
													],
													[
														0.8888888888888888,
														"#fdca26"
													],
													[
														1,
														"#f0f921"
													]
												],
												"type": "surface"
											}
										],
										"table": [
											{
												"cells": {
													"fill": {
														"color": "#EBF0F8"
													},
													"line": {
														"color": "white"
													}
												},
												"header": {
													"fill": {
														"color": "#C8D4E3"
													},
													"line": {
														"color": "white"
													}
												},
												"type": "table"
											}
										]
									},
									"layout": {
										"annotationdefaults": {
											"arrowcolor": "#2a3f5f",
											"arrowhead": 0,
											"arrowwidth": 1
										},
										"autotypenumbers": "strict",
										"coloraxis": {
											"colorbar": {
												"outlinewidth": 0,
												"ticks": ""
											}
										},
										"colorscale": {
											"diverging": [
												[
													0,
													"#8e0152"
												],
												[
													0.1,
													"#c51b7d"
												],
												[
													0.2,
													"#de77ae"
												],
												[
													0.3,
													"#f1b6da"
												],
												[
													0.4,
													"#fde0ef"
												],
												[
													0.5,
													"#f7f7f7"
												],
												[
													0.6,
													"#e6f5d0"
												],
												[
													0.7,
													"#b8e186"
												],
												[
													0.8,
													"#7fbc41"
												],
												[
													0.9,
													"#4d9221"
												],
												[
													1,
													"#276419"
												]
											],
											"sequential": [
												[
													0,
													"#0d0887"
												],
												[
													0.1111111111111111,
													"#46039f"
												],
												[
													0.2222222222222222,
													"#7201a8"
												],
												[
													0.3333333333333333,
													"#9c179e"
												],
												[
													0.4444444444444444,
													"#bd3786"
												],
												[
													0.5555555555555556,
													"#d8576b"
												],
												[
													0.6666666666666666,
													"#ed7953"
												],
												[
													0.7777777777777778,
													"#fb9f3a"
												],
												[
													0.8888888888888888,
													"#fdca26"
												],
												[
													1,
													"#f0f921"
												]
											],
											"sequentialminus": [
												[
													0,
													"#0d0887"
												],
												[
													0.1111111111111111,
													"#46039f"
												],
												[
													0.2222222222222222,
													"#7201a8"
												],
												[
													0.3333333333333333,
													"#9c179e"
												],
												[
													0.4444444444444444,
													"#bd3786"
												],
												[
													0.5555555555555556,
													"#d8576b"
												],
												[
													0.6666666666666666,
													"#ed7953"
												],
												[
													0.7777777777777778,
													"#fb9f3a"
												],
												[
													0.8888888888888888,
													"#fdca26"
												],
												[
													1,
													"#f0f921"
												]
											]
										},
										"colorway": [
											"#636efa",
											"#EF553B",
											"#00cc96",
											"#ab63fa",
											"#FFA15A",
											"#19d3f3",
											"#FF6692",
											"#B6E880",
											"#FF97FF",
											"#FECB52"
										],
										"font": {
											"color": "#2a3f5f"
										},
										"geo": {
											"bgcolor": "white",
											"lakecolor": "white",
											"landcolor": "#E5ECF6",
											"showlakes": true,
											"showland": true,
											"subunitcolor": "white"
										},
										"hoverlabel": {
											"align": "left"
										},
										"hovermode": "closest",
										"mapbox": {
											"style": "light"
										},
										"paper_bgcolor": "white",
										"plot_bgcolor": "#E5ECF6",
										"polar": {
											"angularaxis": {
												"gridcolor": "white",
												"linecolor": "white",
												"ticks": ""
											},
											"bgcolor": "#E5ECF6",
											"radialaxis": {
												"gridcolor": "white",
												"linecolor": "white",
												"ticks": ""
											}
										},
										"scene": {
											"xaxis": {
												"backgroundcolor": "#E5ECF6",
												"gridcolor": "white",
												"gridwidth": 2,
												"linecolor": "white",
												"showbackground": true,
												"ticks": "",
												"zerolinecolor": "white"
											},
											"yaxis": {
												"backgroundcolor": "#E5ECF6",
												"gridcolor": "white",
												"gridwidth": 2,
												"linecolor": "white",
												"showbackground": true,
												"ticks": "",
												"zerolinecolor": "white"
											},
											"zaxis": {
												"backgroundcolor": "#E5ECF6",
												"gridcolor": "white",
												"gridwidth": 2,
												"linecolor": "white",
												"showbackground": true,
												"ticks": "",
												"zerolinecolor": "white"
											}
										},
										"shapedefaults": {
											"line": {
												"color": "#2a3f5f"
											}
										},
										"ternary": {
											"aaxis": {
												"gridcolor": "white",
												"linecolor": "white",
												"ticks": ""
											},
											"baxis": {
												"gridcolor": "white",
												"linecolor": "white",
												"ticks": ""
											},
											"bgcolor": "#E5ECF6",
											"caxis": {
												"gridcolor": "white",
												"linecolor": "white",
												"ticks": ""
											}
										},
										"title": {
											"x": 0.05
										},
										"xaxis": {
											"automargin": true,
											"gridcolor": "white",
											"linecolor": "white",
											"ticks": "",
											"title": {
												"standoff": 15
											},
											"zerolinecolor": "white",
											"zerolinewidth": 2
										},
										"yaxis": {
											"automargin": true,
											"gridcolor": "white",
											"linecolor": "white",
											"ticks": "",
											"title": {
												"standoff": 15
											},
											"zerolinecolor": "white",
											"zerolinewidth": 2
										}
									}
								},
								"xaxis": {
									"anchor": "y",
									"domain": [
										0,
										1
									],
									"title": {
										"text": "time"
									}
								},
								"yaxis": {
									"anchor": "x",
									"domain": [
										0,
										1
									],
									"title": {
										"text": "value"
									}
								}
							}
						}
					},
					"metadata": {},
					"output_type": "display_data"
				}
			],
			"source": [
				"fig = px.scatter(df_energy_short)\n",
				"fig.show()"
			]
		},
		{
			"cell_type": "code",
			"execution_count": 317,
			"metadata": {},
			"outputs": [
				{
					"data": {
						"text/plain": [
							"'<div>                            <div id=\"e088bfc4-4914-4488-8cc2-4ab68fa6b75f\" class=\"plotly-graph-div\" style=\"height:100%; width:100%;\"></div>            <script type=\"text/javascript\">                                    window.PLOTLYENV=window.PLOTLYENV || {};                                    if (document.getElementById(\"e088bfc4-4914-4488-8cc2-4ab68fa6b75f\")) {                    Plotly.newPlot(                        \"e088bfc4-4914-4488-8cc2-4ab68fa6b75f\",                        [{\"hovertemplate\":\"country=EU27_2020\\\\u003cbr\\\\u003etime=%{x}\\\\u003cbr\\\\u003evalue=%{y}\\\\u003cextra\\\\u003e\\\\u003c\\\\u002fextra\\\\u003e\",\"legendgroup\":\"EU27_2020\",\"marker\":{\"color\":\"#636efa\",\"symbol\":\"circle\"},\"mode\":\"markers\",\"name\":\"EU27_2020\",\"orientation\":\"v\",\"showlegend\":true,\"x\":[\"2008\",\"2009\",\"2010\",\"2011\",\"2012\",\"2013\",\"2014\",\"2015\",\"2016\",\"2017\",\"2018\",\"2019\",\"2020\",\"2021\",\"2022\"],\"xaxis\":\"x\",\"y\":[305128.218,292276.753,291540.094,321114.673,349454.141,332062.258,363686.914,387638.649,362524.588,366554.329,372348.275,369432.448,381008.85,401425.821,422411.977],\"yaxis\":\"y\",\"type\":\"scatter\"},{\"hovertemplate\":\"country=BE\\\\u003cbr\\\\u003etime=%{x}\\\\u003cbr\\\\u003evalue=%{y}\\\\u003cextra\\\\u003e\\\\u003c\\\\u002fextra\\\\u003e\",\"legendgroup\":\"BE\",\"marker\":{\"color\":\"#EF553B\",\"symbol\":\"circle\"},\"mode\":\"markers\",\"name\":\"BE\",\"orientation\":\"v\",\"showlegend\":true,\"x\":[\"2008\",\"2009\",\"2010\",\"2011\",\"2012\",\"2013\",\"2014\",\"2015\",\"2016\",\"2017\",\"2018\",\"2019\",\"2020\",\"2021\",\"2022\"],\"xaxis\":\"x\",\"y\":[17158.0,9486.0,12395.0,13189.0,16848.0,17243.0,21791.0,23714.0,14648.0,14189.4,21635.9,12734.4,13721.9,15193.6,16349.6],\"yaxis\":\"y\",\"type\":\"scatter\"},{\"hovertemplate\":\"country=BG\\\\u003cbr\\\\u003etime=%{x}\\\\u003cbr\\\\u003evalue=%{y}\\\\u003cextra\\\\u003e\\\\u003c\\\\u002fextra\\\\u003e\",\"legendgroup\":\"BG\",\"marker\":{\"color\":\"#00cc96\",\"symbol\":\"circle\"},\"mode\":\"markers\",\"name\":\"BG\",\"orientation\":\"v\",\"showlegend\":true,\"x\":[\"2008\",\"2009\",\"2010\",\"2011\",\"2012\",\"2013\",\"2014\",\"2015\",\"2016\",\"2017\",\"2018\",\"2019\",\"2020\",\"2021\",\"2022\"],\"xaxis\":\"x\",\"y\":[3097.0,2662.0,1167.0,1449.0,2353.0,3351.0,4319.0,4251.0,4568.0,3705.423,2222.726,3044.947,3706.736,1856.976,1470.003],\"yaxis\":\"y\",\"type\":\"scatter\"},{\"hovertemplate\":\"country=CZ\\\\u003cbr\\\\u003etime=%{x}\\\\u003cbr\\\\u003evalue=%{y}\\\\u003cextra\\\\u003e\\\\u003c\\\\u002fextra\\\\u003e\",\"legendgroup\":\"CZ\",\"marker\":{\"color\":\"#ab63fa\",\"symbol\":\"circle\"},\"mode\":\"markers\",\"name\":\"CZ\",\"orientation\":\"v\",\"showlegend\":true,\"x\":[\"2008\",\"2009\",\"2010\",\"2011\",\"2012\",\"2013\",\"2014\",\"2015\",\"2016\",\"2017\",\"2018\",\"2019\",\"2020\",\"2021\",\"2022\"],\"xaxis\":\"x\",\"y\":[8520.0,8586.0,6642.0,10457.0,11587.0,10571.0,11842.0,16146.0,13817.0,15071.999,11573.41,11026.213,13368.051,15152.981,16726.075],\"yaxis\":\"y\",\"type\":\"scatter\"},{\"hovertemplate\":\"country=DK\\\\u003cbr\\\\u003etime=%{x}\\\\u003cbr\\\\u003evalue=%{y}\\\\u003cextra\\\\u003e\\\\u003c\\\\u002fextra\\\\u003e\",\"legendgroup\":\"DK\",\"marker\":{\"color\":\"#FFA15A\",\"symbol\":\"circle\"},\"mode\":\"markers\",\"name\":\"DK\",\"orientation\":\"v\",\"showlegend\":true,\"x\":[\"2008\",\"2009\",\"2010\",\"2011\",\"2012\",\"2013\",\"2014\",\"2015\",\"2016\",\"2017\",\"2018\",\"2019\",\"2020\",\"2021\",\"2022\"],\"xaxis\":\"x\",\"y\":[12815.0,11208.0,10599.0,11694.0,15920.0,11459.0,12702.0,15644.747,14976.458,15218.109,15633.609,15981.899,18593.972,20119.85,18752.207],\"yaxis\":\"y\",\"type\":\"scatter\"},{\"hovertemplate\":\"country=DE\\\\u003cbr\\\\u003etime=%{x}\\\\u003cbr\\\\u003evalue=%{y}\\\\u003cextra\\\\u003e\\\\u003c\\\\u002fextra\\\\u003e\",\"legendgroup\":\"DE\",\"marker\":{\"color\":\"#19d3f3\",\"symbol\":\"circle\"},\"mode\":\"markers\",\"name\":\"DE\",\"orientation\":\"v\",\"showlegend\":true,\"x\":[\"2008\",\"2009\",\"2010\",\"2011\",\"2012\",\"2013\",\"2014\",\"2015\",\"2016\",\"2017\",\"2018\",\"2019\",\"2020\",\"2021\",\"2022\"],\"xaxis\":\"x\",\"y\":[41670.0,41859.0,42962.0,51003.0,46268.0,39222.0,40435.0,37008.0,28338.0,27842.0,31727.0,40126.0,47853.0,51731.0,49331.0],\"yaxis\":\"y\",\"type\":\"scatter\"},{\"hovertemplate\":\"country=EE\\\\u003cbr\\\\u003etime=%{x}\\\\u003cbr\\\\u003evalue=%{y}\\\\u003cextra\\\\u003e\\\\u003c\\\\u002fextra\\\\u003e\",\"legendgroup\":\"EE\",\"marker\":{\"color\":\"#FF6692\",\"symbol\":\"circle\"},\"mode\":\"markers\",\"name\":\"EE\",\"orientation\":\"v\",\"showlegend\":true,\"x\":[\"2008\",\"2009\",\"2010\",\"2011\",\"2012\",\"2013\",\"2014\",\"2015\",\"2016\",\"2017\",\"2018\",\"2019\",\"2020\",\"2021\",\"2022\"],\"xaxis\":\"x\",\"y\":[1369.0,3025.0,1100.0,1690.0,2710.0,2712.0,3730.0,5452.0,3577.0,2281.0,3053.0,4861.0,7367.0,7332.438,7183.0],\"yaxis\":\"y\",\"type\":\"scatter\"},{\"hovertemplate\":\"country=IE\\\\u003cbr\\\\u003etime=%{x}\\\\u003cbr\\\\u003evalue=%{y}\\\\u003cextra\\\\u003e\\\\u003c\\\\u002fextra\\\\u003e\",\"legendgroup\":\"IE\",\"marker\":{\"color\":\"#B6E880\",\"symbol\":\"circle\"},\"mode\":\"markers\",\"name\":\"IE\",\"orientation\":\"v\",\"showlegend\":true,\"x\":[\"2008\",\"2009\",\"2010\",\"2011\",\"2012\",\"2013\",\"2014\",\"2015\",\"2016\",\"2017\",\"2018\",\"2019\",\"2020\",\"2021\",\"2022\"],\"xaxis\":\"x\",\"y\":[753.031,939.217,759.887,731.622,783.605,2625.164,2853.015,1751.975,871.263,1116.408,1621.519,2179.579,1761.112,2450.715,1581.629],\"yaxis\":\"y\",\"type\":\"scatter\"},{\"hovertemplate\":\"country=EL\\\\u003cbr\\\\u003etime=%{x}\\\\u003cbr\\\\u003evalue=%{y}\\\\u003cextra\\\\u003e\\\\u003c\\\\u002fextra\\\\u003e\",\"legendgroup\":\"EL\",\"marker\":{\"color\":\"#FF97FF\",\"symbol\":\"circle\"},\"mode\":\"markers\",\"name\":\"EL\",\"orientation\":\"v\",\"showlegend\":true,\"x\":[\"2008\",\"2009\",\"2010\",\"2011\",\"2012\",\"2013\",\"2014\",\"2015\",\"2016\",\"2017\",\"2018\",\"2019\",\"2020\",\"2021\",\"2022\"],\"xaxis\":\"x\",\"y\":[7575.0,7600.0,8517.0,7180.0,5954.0,5788.0,9461.0,11081.0,9833.0,8696.0,8550.0,11067.0,9831.0,7581.0,7751.0],\"yaxis\":\"y\",\"type\":\"scatter\"},{\"hovertemplate\":\"country=ES\\\\u003cbr\\\\u003etime=%{x}\\\\u003cbr\\\\u003evalue=%{y}\\\\u003cextra\\\\u003e\\\\u003c\\\\u002fextra\\\\u003e\",\"legendgroup\":\"ES\",\"marker\":{\"color\":\"#FECB52\",\"symbol\":\"circle\"},\"mode\":\"markers\",\"name\":\"ES\",\"orientation\":\"v\",\"showlegend\":true,\"x\":[\"2008\",\"2009\",\"2010\",\"2011\",\"2012\",\"2013\",\"2014\",\"2015\",\"2016\",\"2017\",\"2018\",\"2019\",\"2020\",\"2021\",\"2022\"],\"xaxis\":\"x\",\"y\":[5881.0,6751.0,5206.0,7932.0,7787.0,9887.0,12310.0,14956.0,21845.0,23762.0,24018.0,18720.84,17928.364,17411.223,8031.52],\"yaxis\":\"y\",\"type\":\"scatter\"},{\"hovertemplate\":\"country=FR\\\\u003cbr\\\\u003etime=%{x}\\\\u003cbr\\\\u003evalue=%{y}\\\\u003cextra\\\\u003e\\\\u003c\\\\u002fextra\\\\u003e\",\"legendgroup\":\"FR\",\"marker\":{\"color\":\"#636efa\",\"symbol\":\"circle\"},\"mode\":\"markers\",\"name\":\"FR\",\"orientation\":\"v\",\"showlegend\":true,\"x\":[\"2008\",\"2009\",\"2010\",\"2011\",\"2012\",\"2013\",\"2014\",\"2015\",\"2016\",\"2017\",\"2018\",\"2019\",\"2020\",\"2021\",\"2022\"],\"xaxis\":\"x\",\"y\":[10748.0,18517.0,19475.0,9501.0,12213.0,11687.0,7873.0,9961.0,19903.0,21119.18,13512.09,15631.75,19536.102,24334.451,52437.269],\"yaxis\":\"y\",\"type\":\"scatter\"},{\"hovertemplate\":\"country=HR\\\\u003cbr\\\\u003etime=%{x}\\\\u003cbr\\\\u003evalue=%{y}\\\\u003cextra\\\\u003e\\\\u003c\\\\u002fextra\\\\u003e\",\"legendgroup\":\"HR\",\"marker\":{\"color\":\"#EF553B\",\"symbol\":\"circle\"},\"mode\":\"markers\",\"name\":\"HR\",\"orientation\":\"v\",\"showlegend\":true,\"x\":[\"2008\",\"2009\",\"2010\",\"2011\",\"2012\",\"2013\",\"2014\",\"2015\",\"2016\",\"2017\",\"2018\",\"2019\",\"2020\",\"2021\",\"2022\"],\"xaxis\":\"x\",\"y\":[12254.0,11892.0,12415.0,13985.0,13174.0,11260.0,10898.0,13158.0,12398.0,12157.9,12693.4,11400.8,10491.0,11504.7,11919.7],\"yaxis\":\"y\",\"type\":\"scatter\"},{\"hovertemplate\":\"country=IT\\\\u003cbr\\\\u003etime=%{x}\\\\u003cbr\\\\u003evalue=%{y}\\\\u003cextra\\\\u003e\\\\u003c\\\\u002fextra\\\\u003e\",\"legendgroup\":\"IT\",\"marker\":{\"color\":\"#00cc96\",\"symbol\":\"circle\"},\"mode\":\"markers\",\"name\":\"IT\",\"orientation\":\"v\",\"showlegend\":true,\"x\":[\"2008\",\"2009\",\"2010\",\"2011\",\"2012\",\"2013\",\"2014\",\"2015\",\"2016\",\"2017\",\"2018\",\"2019\",\"2020\",\"2021\",\"2022\"],\"xaxis\":\"x\",\"y\":[43433.0,47070.0,45987.0,47519.0,45407.0,44338.0,46747.0,50849.0,43181.0,42894.881,47170.204,43974.94,39789.94,46571.698,47391.065],\"yaxis\":\"y\",\"type\":\"scatter\"},{\"hovertemplate\":\"country=CY\\\\u003cbr\\\\u003etime=%{x}\\\\u003cbr\\\\u003evalue=%{y}\\\\u003cextra\\\\u003e\\\\u003c\\\\u002fextra\\\\u003e\",\"legendgroup\":\"CY\",\"marker\":{\"color\":\"#ab63fa\",\"symbol\":\"circle\"},\"mode\":\"markers\",\"name\":\"CY\",\"orientation\":\"v\",\"showlegend\":true,\"x\":[\"2008\",\"2009\",\"2010\",\"2011\",\"2012\",\"2013\",\"2014\",\"2015\",\"2016\",\"2017\",\"2018\",\"2019\",\"2020\",\"2021\",\"2022\"],\"xaxis\":\"x\",\"y\":[0.0,0.0,0.0,0.0,0.0,0.0,0.0,0.0,0.0,0.0,0.0,0.0,0.0,0.0,0.0],\"yaxis\":\"y\",\"type\":\"scatter\"},{\"hovertemplate\":\"country=LV\\\\u003cbr\\\\u003etime=%{x}\\\\u003cbr\\\\u003evalue=%{y}\\\\u003cextra\\\\u003e\\\\u003c\\\\u002fextra\\\\u003e\",\"legendgroup\":\"LV\",\"marker\":{\"color\":\"#FFA15A\",\"symbol\":\"circle\"},\"mode\":\"markers\",\"name\":\"LV\",\"orientation\":\"v\",\"showlegend\":true,\"x\":[\"2008\",\"2009\",\"2010\",\"2011\",\"2012\",\"2013\",\"2014\",\"2015\",\"2016\",\"2017\",\"2018\",\"2019\",\"2020\",\"2021\",\"2022\"],\"xaxis\":\"x\",\"y\":[4643.0,4259.0,3973.0,4009.0,4935.0,5005.0,5340.0,5246.0,4828.0,4072.912,5173.682,4610.761,4173.365,4666.37,5308.232],\"yaxis\":\"y\",\"type\":\"scatter\"},{\"hovertemplate\":\"country=LT\\\\u003cbr\\\\u003etime=%{x}\\\\u003cbr\\\\u003evalue=%{y}\\\\u003cextra\\\\u003e\\\\u003c\\\\u002fextra\\\\u003e\",\"legendgroup\":\"LT\",\"marker\":{\"color\":\"#19d3f3\",\"symbol\":\"circle\"},\"mode\":\"markers\",\"name\":\"LT\",\"orientation\":\"v\",\"showlegend\":true,\"x\":[\"2008\",\"2009\",\"2010\",\"2011\",\"2012\",\"2013\",\"2014\",\"2015\",\"2016\",\"2017\",\"2018\",\"2019\",\"2020\",\"2021\",\"2022\"],\"xaxis\":\"x\",\"y\":[5649.0,4783.0,8174.0,8086.0,8060.0,8073.0,8521.0,7938.0,11106.0,11926.2,12847.5,13267.9,12013.4,12478.9,12933.9],\"yaxis\":\"y\",\"type\":\"scatter\"},{\"hovertemplate\":\"country=LU\\\\u003cbr\\\\u003etime=%{x}\\\\u003cbr\\\\u003evalue=%{y}\\\\u003cextra\\\\u003e\\\\u003c\\\\u002fextra\\\\u003e\",\"legendgroup\":\"LU\",\"marker\":{\"color\":\"#FF6692\",\"symbol\":\"circle\"},\"mode\":\"markers\",\"name\":\"LU\",\"orientation\":\"v\",\"showlegend\":true,\"x\":[\"2008\",\"2009\",\"2010\",\"2011\",\"2012\",\"2013\",\"2014\",\"2015\",\"2016\",\"2017\",\"2018\",\"2019\",\"2020\",\"2021\",\"2022\"],\"xaxis\":\"x\",\"y\":[6829.873,6022.472,7279.51,7096.34,6732.098,6851.524,6961.176,7518.755,7718.393,7566.69,7553.012,6817.52,6543.493,6758.47,7146.086],\"yaxis\":\"y\",\"type\":\"scatter\"},{\"hovertemplate\":\"country=HU\\\\u003cbr\\\\u003etime=%{x}\\\\u003cbr\\\\u003evalue=%{y}\\\\u003cextra\\\\u003e\\\\u003c\\\\u002fextra\\\\u003e\",\"legendgroup\":\"HU\",\"marker\":{\"color\":\"#B6E880\",\"symbol\":\"circle\"},\"mode\":\"markers\",\"name\":\"HU\",\"orientation\":\"v\",\"showlegend\":true,\"x\":[\"2008\",\"2009\",\"2010\",\"2011\",\"2012\",\"2013\",\"2014\",\"2015\",\"2016\",\"2017\",\"2018\",\"2019\",\"2020\",\"2021\",\"2022\"],\"xaxis\":\"x\",\"y\":[12774.0,10972.0,9897.0,14664.0,16970.0,16635.0,19079.0,19935.0,17951.0,19803.0,18613.0,19853.0,19176.0,19967.0,21589.0],\"yaxis\":\"y\",\"type\":\"scatter\"},{\"hovertemplate\":\"country=MT\\\\u003cbr\\\\u003etime=%{x}\\\\u003cbr\\\\u003evalue=%{y}\\\\u003cextra\\\\u003e\\\\u003c\\\\u002fextra\\\\u003e\",\"legendgroup\":\"MT\",\"marker\":{\"color\":\"#FF97FF\",\"symbol\":\"circle\"},\"mode\":\"markers\",\"name\":\"MT\",\"orientation\":\"v\",\"showlegend\":true,\"x\":[\"2008\",\"2009\",\"2010\",\"2011\",\"2012\",\"2013\",\"2014\",\"2015\",\"2016\",\"2017\",\"2018\",\"2019\",\"2020\",\"2021\",\"2022\"],\"xaxis\":\"x\",\"y\":[0.0,0.0,0.0,0.0,0.0,0.0,0.0,1054.0,1526.688,897.066,631.293,656.756,419.81,547.25,646.139],\"yaxis\":\"y\",\"type\":\"scatter\"},{\"hovertemplate\":\"country=NL\\\\u003cbr\\\\u003etime=%{x}\\\\u003cbr\\\\u003evalue=%{y}\\\\u003cextra\\\\u003e\\\\u003c\\\\u002fextra\\\\u003e\",\"legendgroup\":\"NL\",\"marker\":{\"color\":\"#FECB52\",\"symbol\":\"circle\"},\"mode\":\"markers\",\"name\":\"NL\",\"orientation\":\"v\",\"showlegend\":true,\"x\":[\"2008\",\"2009\",\"2010\",\"2011\",\"2012\",\"2013\",\"2014\",\"2015\",\"2016\",\"2017\",\"2018\",\"2019\",\"2020\",\"2021\",\"2022\"],\"xaxis\":\"x\",\"y\":[24967.0,15452.0,15583.0,20620.0,32155.723,33252.0,32855.0,30760.009,24257.626,22457.716,26754.589,20402.855,19773.283,20885.396,18544.448],\"yaxis\":\"y\",\"type\":\"scatter\"},{\"hovertemplate\":\"country=AT\\\\u003cbr\\\\u003etime=%{x}\\\\u003cbr\\\\u003evalue=%{y}\\\\u003cextra\\\\u003e\\\\u003c\\\\u002fextra\\\\u003e\",\"legendgroup\":\"AT\",\"marker\":{\"color\":\"#636efa\",\"symbol\":\"circle\"},\"mode\":\"markers\",\"name\":\"AT\",\"orientation\":\"v\",\"showlegend\":true,\"x\":[\"2008\",\"2009\",\"2010\",\"2011\",\"2012\",\"2013\",\"2014\",\"2015\",\"2016\",\"2017\",\"2018\",\"2019\",\"2020\",\"2021\",\"2022\"],\"xaxis\":\"x\",\"y\":[19795.314,19542.064,19908.697,24976.711,23429.715,24959.57,26711.723,29389.163,26366.16,29362.427,28076.136,26046.847,24522.492,26436.192,28595.17],\"yaxis\":\"y\",\"type\":\"scatter\"},{\"hovertemplate\":\"country=PL\\\\u003cbr\\\\u003etime=%{x}\\\\u003cbr\\\\u003evalue=%{y}\\\\u003cextra\\\\u003e\\\\u003c\\\\u002fextra\\\\u003e\",\"legendgroup\":\"PL\",\"marker\":{\"color\":\"#EF553B\",\"symbol\":\"circle\"},\"mode\":\"markers\",\"name\":\"PL\",\"orientation\":\"v\",\"showlegend\":true,\"x\":[\"2008\",\"2009\",\"2010\",\"2011\",\"2012\",\"2013\",\"2014\",\"2015\",\"2016\",\"2017\",\"2018\",\"2019\",\"2020\",\"2021\",\"2022\"],\"xaxis\":\"x\",\"y\":[9034.0,7403.0,6310.0,6780.0,9803.0,7801.0,13508.0,14459.0,14017.0,13271.0,13815.804,17868.327,20624.119,15099.836,15237.63],\"yaxis\":\"y\",\"type\":\"scatter\"},{\"hovertemplate\":\"country=PT\\\\u003cbr\\\\u003etime=%{x}\\\\u003cbr\\\\u003evalue=%{y}\\\\u003cextra\\\\u003e\\\\u003c\\\\u002fextra\\\\u003e\",\"legendgroup\":\"PT\",\"marker\":{\"color\":\"#00cc96\",\"symbol\":\"circle\"},\"mode\":\"markers\",\"name\":\"PT\",\"orientation\":\"v\",\"showlegend\":true,\"x\":[\"2008\",\"2009\",\"2010\",\"2011\",\"2012\",\"2013\",\"2014\",\"2015\",\"2016\",\"2017\",\"2018\",\"2019\",\"2020\",\"2021\",\"2022\"],\"xaxis\":\"x\",\"y\":[10744.0,7598.0,5814.0,6742.0,10766.0,8100.0,7247.0,8077.0,4616.0,5505.732,5667.568,8099.208,7553.113,9544.418,12314.691],\"yaxis\":\"y\",\"type\":\"scatter\"},{\"hovertemplate\":\"country=RO\\\\u003cbr\\\\u003etime=%{x}\\\\u003cbr\\\\u003evalue=%{y}\\\\u003cextra\\\\u003e\\\\u003c\\\\u002fextra\\\\u003e\",\"legendgroup\":\"RO\",\"marker\":{\"color\":\"#ab63fa\",\"symbol\":\"circle\"},\"mode\":\"markers\",\"name\":\"RO\",\"orientation\":\"v\",\"showlegend\":true,\"x\":[\"2008\",\"2009\",\"2010\",\"2011\",\"2012\",\"2013\",\"2014\",\"2015\",\"2016\",\"2017\",\"2018\",\"2019\",\"2020\",\"2021\",\"2022\"],\"xaxis\":\"x\",\"y\":[921.0,651.0,767.0,3410.0,3903.0,2737.0,2811.0,4492.0,4177.0,4841.754,3696.594,5492.633,8251.648,8697.204,8653.371],\"yaxis\":\"y\",\"type\":\"scatter\"},{\"hovertemplate\":\"country=SI\\\\u003cbr\\\\u003etime=%{x}\\\\u003cbr\\\\u003evalue=%{y}\\\\u003cextra\\\\u003e\\\\u003c\\\\u002fextra\\\\u003e\",\"legendgroup\":\"SI\",\"marker\":{\"color\":\"#FFA15A\",\"symbol\":\"circle\"},\"mode\":\"markers\",\"name\":\"SI\",\"orientation\":\"v\",\"showlegend\":true,\"x\":[\"2008\",\"2009\",\"2010\",\"2011\",\"2012\",\"2013\",\"2014\",\"2015\",\"2016\",\"2017\",\"2018\",\"2019\",\"2020\",\"2021\",\"2022\"],\"xaxis\":\"x\",\"y\":[6225.0,7780.0,8625.0,7036.0,7452.0,7521.0,7254.0,9045.0,8359.0,9132.532,8930.239,9021.273,7119.95,8387.153,10198.242],\"yaxis\":\"y\",\"type\":\"scatter\"},{\"hovertemplate\":\"country=SK\\\\u003cbr\\\\u003etime=%{x}\\\\u003cbr\\\\u003evalue=%{y}\\\\u003cextra\\\\u003e\\\\u003c\\\\u002fextra\\\\u003e\",\"legendgroup\":\"SK\",\"marker\":{\"color\":\"#19d3f3\",\"symbol\":\"circle\"},\"mode\":\"markers\",\"name\":\"SK\",\"orientation\":\"v\",\"showlegend\":true,\"x\":[\"2008\",\"2009\",\"2010\",\"2011\",\"2012\",\"2013\",\"2014\",\"2015\",\"2016\",\"2017\",\"2018\",\"2019\",\"2020\",\"2021\",\"2022\"],\"xaxis\":\"x\",\"y\":[9412.0,8994.0,7334.0,11227.0,13472.0,10719.0,12964.0,14999.0,13249.0,15563.0,12428.0,13538.0,13289.0,13884.0,16743.0],\"yaxis\":\"y\",\"type\":\"scatter\"},{\"hovertemplate\":\"country=FI\\\\u003cbr\\\\u003etime=%{x}\\\\u003cbr\\\\u003evalue=%{y}\\\\u003cextra\\\\u003e\\\\u003c\\\\u002fextra\\\\u003e\",\"legendgroup\":\"FI\",\"marker\":{\"color\":\"#FF6692\",\"symbol\":\"circle\"},\"mode\":\"markers\",\"name\":\"FI\",\"orientation\":\"v\",\"showlegend\":true,\"x\":[\"2008\",\"2009\",\"2010\",\"2011\",\"2012\",\"2013\",\"2014\",\"2015\",\"2016\",\"2017\",\"2018\",\"2019\",\"2020\",\"2021\",\"2022\"],\"xaxis\":\"x\",\"y\":[16107.0,15460.0,15719.0,17656.0,19089.0,17591.0,21622.0,21459.0,22110.0,22204.0,22548.0,23938.0,21774.0,24492.0,19397.0],\"yaxis\":\"y\",\"type\":\"scatter\"},{\"hovertemplate\":\"country=SE\\\\u003cbr\\\\u003etime=%{x}\\\\u003cbr\\\\u003evalue=%{y}\\\\u003cextra\\\\u003e\\\\u003c\\\\u002fextra\\\\u003e\",\"legendgroup\":\"SE\",\"marker\":{\"color\":\"#B6E880\",\"symbol\":\"circle\"},\"mode\":\"markers\",\"name\":\"SE\",\"orientation\":\"v\",\"showlegend\":true,\"x\":[\"2008\",\"2009\",\"2010\",\"2011\",\"2012\",\"2013\",\"2014\",\"2015\",\"2016\",\"2017\",\"2018\",\"2019\",\"2020\",\"2021\",\"2022\"],\"xaxis\":\"x\",\"y\":[12754.0,13765.0,14931.0,12481.0,11682.0,12674.0,13852.0,9294.0,14287.0,11896.0,12202.0,9070.0,11827.0,8341.0,6181.0],\"yaxis\":\"y\",\"type\":\"scatter\"},{\"hovertemplate\":\"country=IS\\\\u003cbr\\\\u003etime=%{x}\\\\u003cbr\\\\u003evalue=%{y}\\\\u003cextra\\\\u003e\\\\u003c\\\\u002fextra\\\\u003e\",\"legendgroup\":\"IS\",\"marker\":{\"color\":\"#FF97FF\",\"symbol\":\"circle\"},\"mode\":\"markers\",\"name\":\"IS\",\"orientation\":\"v\",\"showlegend\":true,\"x\":[\"2008\",\"2009\",\"2010\",\"2011\",\"2012\",\"2013\",\"2014\",\"2015\",\"2016\",\"2017\",\"2018\",\"2019\",\"2020\",\"2021\",\"2022\"],\"xaxis\":\"x\",\"y\":[0.0,0.0,0.0,0.0,0.0,0.0,0.0,0.0,0.0,0.0,0.0,0.0,0.0,0.0,null],\"yaxis\":\"y\",\"type\":\"scatter\"},{\"hovertemplate\":\"country=NO\\\\u003cbr\\\\u003etime=%{x}\\\\u003cbr\\\\u003evalue=%{y}\\\\u003cextra\\\\u003e\\\\u003c\\\\u002fextra\\\\u003e\",\"legendgroup\":\"NO\",\"marker\":{\"color\":\"#FECB52\",\"symbol\":\"circle\"},\"mode\":\"markers\",\"name\":\"NO\",\"orientation\":\"v\",\"showlegend\":true,\"x\":[\"2008\",\"2009\",\"2010\",\"2011\",\"2012\",\"2013\",\"2014\",\"2015\",\"2016\",\"2017\",\"2018\",\"2019\",\"2020\",\"2021\",\"2022\"],\"xaxis\":\"x\",\"y\":[3412.0,5651.0,14673.0,11254.0,4191.0,10135.0,6347.0,7371.0,5740.0,6111.0,8339.724,12353.0,4496.145,8235.069,13271.0],\"yaxis\":\"y\",\"type\":\"scatter\"},{\"hovertemplate\":\"country=RS\\\\u003cbr\\\\u003etime=%{x}\\\\u003cbr\\\\u003evalue=%{y}\\\\u003cextra\\\\u003e\\\\u003c\\\\u002fextra\\\\u003e\",\"legendgroup\":\"RS\",\"marker\":{\"color\":\"#636efa\",\"symbol\":\"circle\"},\"mode\":\"markers\",\"name\":\"RS\",\"orientation\":\"v\",\"showlegend\":true,\"x\":[\"2008\",\"2009\",\"2010\",\"2011\",\"2012\",\"2013\",\"2014\",\"2015\",\"2016\",\"2017\",\"2018\",\"2019\",\"2020\",\"2021\",\"2022\"],\"xaxis\":\"x\",\"y\":[8875.0,5184.0,5620.0,6701.0,5781.0,4077.0,7008.0,6303.0,5068.0,6549.189,6400.007,5416.609,5069.528,6984.008,8446.83],\"yaxis\":\"y\",\"type\":\"scatter\"},{\"hovertemplate\":\"country=TR\\\\u003cbr\\\\u003etime=%{x}\\\\u003cbr\\\\u003evalue=%{y}\\\\u003cextra\\\\u003e\\\\u003c\\\\u002fextra\\\\u003e\",\"legendgroup\":\"TR\",\"marker\":{\"color\":\"#EF553B\",\"symbol\":\"circle\"},\"mode\":\"markers\",\"name\":\"TR\",\"orientation\":\"v\",\"showlegend\":true,\"x\":[\"2008\",\"2009\",\"2010\",\"2011\",\"2012\",\"2013\",\"2014\",\"2015\",\"2016\",\"2017\",\"2018\",\"2019\",\"2020\",\"2021\",\"2022\"],\"xaxis\":\"x\",\"y\":[789.0,812.0,1144.0,4556.0,5827.0,7429.0,7953.0,7136.0,6330.0,2728.268,2476.887,2211.506,1889.521,2334.453,6438.816],\"yaxis\":\"y\",\"type\":\"scatter\"}],                        {\"legend\":{\"title\":{\"text\":\"country\"},\"tracegroupgap\":0},\"margin\":{\"t\":60},\"template\":{\"data\":{\"barpolar\":[{\"marker\":{\"line\":{\"color\":\"#E5ECF6\",\"width\":0.5},\"pattern\":{\"fillmode\":\"overlay\",\"size\":10,\"solidity\":0.2}},\"type\":\"barpolar\"}],\"bar\":[{\"error_x\":{\"color\":\"#2a3f5f\"},\"error_y\":{\"color\":\"#2a3f5f\"},\"marker\":{\"line\":{\"color\":\"#E5ECF6\",\"width\":0.5},\"pattern\":{\"fillmode\":\"overlay\",\"size\":10,\"solidity\":0.2}},\"type\":\"bar\"}],\"carpet\":[{\"aaxis\":{\"endlinecolor\":\"#2a3f5f\",\"gridcolor\":\"white\",\"linecolor\":\"white\",\"minorgridcolor\":\"white\",\"startlinecolor\":\"#2a3f5f\"},\"baxis\":{\"endlinecolor\":\"#2a3f5f\",\"gridcolor\":\"white\",\"linecolor\":\"white\",\"minorgridcolor\":\"white\",\"startlinecolor\":\"#2a3f5f\"},\"type\":\"carpet\"}],\"choropleth\":[{\"colorbar\":{\"outlinewidth\":0,\"ticks\":\"\"},\"type\":\"choropleth\"}],\"contourcarpet\":[{\"colorbar\":{\"outlinewidth\":0,\"ticks\":\"\"},\"type\":\"contourcarpet\"}],\"contour\":[{\"colorbar\":{\"outlinewidth\":0,\"ticks\":\"\"},\"colorscale\":[[0.0,\"#0d0887\"],[0.1111111111111111,\"#46039f\"],[0.2222222222222222,\"#7201a8\"],[0.3333333333333333,\"#9c179e\"],[0.4444444444444444,\"#bd3786\"],[0.5555555555555556,\"#d8576b\"],[0.6666666666666666,\"#ed7953\"],[0.7777777777777778,\"#fb9f3a\"],[0.8888888888888888,\"#fdca26\"],[1.0,\"#f0f921\"]],\"type\":\"contour\"}],\"heatmapgl\":[{\"colorbar\":{\"outlinewidth\":0,\"ticks\":\"\"},\"colorscale\":[[0.0,\"#0d0887\"],[0.1111111111111111,\"#46039f\"],[0.2222222222222222,\"#7201a8\"],[0.3333333333333333,\"#9c179e\"],[0.4444444444444444,\"#bd3786\"],[0.5555555555555556,\"#d8576b\"],[0.6666666666666666,\"#ed7953\"],[0.7777777777777778,\"#fb9f3a\"],[0.8888888888888888,\"#fdca26\"],[1.0,\"#f0f921\"]],\"type\":\"heatmapgl\"}],\"heatmap\":[{\"colorbar\":{\"outlinewidth\":0,\"ticks\":\"\"},\"colorscale\":[[0.0,\"#0d0887\"],[0.1111111111111111,\"#46039f\"],[0.2222222222222222,\"#7201a8\"],[0.3333333333333333,\"#9c179e\"],[0.4444444444444444,\"#bd3786\"],[0.5555555555555556,\"#d8576b\"],[0.6666666666666666,\"#ed7953\"],[0.7777777777777778,\"#fb9f3a\"],[0.8888888888888888,\"#fdca26\"],[1.0,\"#f0f921\"]],\"type\":\"heatmap\"}],\"histogram2dcontour\":[{\"colorbar\":{\"outlinewidth\":0,\"ticks\":\"\"},\"colorscale\":[[0.0,\"#0d0887\"],[0.1111111111111111,\"#46039f\"],[0.2222222222222222,\"#7201a8\"],[0.3333333333333333,\"#9c179e\"],[0.4444444444444444,\"#bd3786\"],[0.5555555555555556,\"#d8576b\"],[0.6666666666666666,\"#ed7953\"],[0.7777777777777778,\"#fb9f3a\"],[0.8888888888888888,\"#fdca26\"],[1.0,\"#f0f921\"]],\"type\":\"histogram2dcontour\"}],\"histogram2d\":[{\"colorbar\":{\"outlinewidth\":0,\"ticks\":\"\"},\"colorscale\":[[0.0,\"#0d0887\"],[0.1111111111111111,\"#46039f\"],[0.2222222222222222,\"#7201a8\"],[0.3333333333333333,\"#9c179e\"],[0.4444444444444444,\"#bd3786\"],[0.5555555555555556,\"#d8576b\"],[0.6666666666666666,\"#ed7953\"],[0.7777777777777778,\"#fb9f3a\"],[0.8888888888888888,\"#fdca26\"],[1.0,\"#f0f921\"]],\"type\":\"histogram2d\"}],\"histogram\":[{\"marker\":{\"pattern\":{\"fillmode\":\"overlay\",\"size\":10,\"solidity\":0.2}},\"type\":\"histogram\"}],\"mesh3d\":[{\"colorbar\":{\"outlinewidth\":0,\"ticks\":\"\"},\"type\":\"mesh3d\"}],\"parcoords\":[{\"line\":{\"colorbar\":{\"outlinewidth\":0,\"ticks\":\"\"}},\"type\":\"parcoords\"}],\"pie\":[{\"automargin\":true,\"type\":\"pie\"}],\"scatter3d\":[{\"line\":{\"colorbar\":{\"outlinewidth\":0,\"ticks\":\"\"}},\"marker\":{\"colorbar\":{\"outlinewidth\":0,\"ticks\":\"\"}},\"type\":\"scatter3d\"}],\"scattercarpet\":[{\"marker\":{\"colorbar\":{\"outlinewidth\":0,\"ticks\":\"\"}},\"type\":\"scattercarpet\"}],\"scattergeo\":[{\"marker\":{\"colorbar\":{\"outlinewidth\":0,\"ticks\":\"\"}},\"type\":\"scattergeo\"}],\"scattergl\":[{\"marker\":{\"colorbar\":{\"outlinewidth\":0,\"ticks\":\"\"}},\"type\":\"scattergl\"}],\"scattermapbox\":[{\"marker\":{\"colorbar\":{\"outlinewidth\":0,\"ticks\":\"\"}},\"type\":\"scattermapbox\"}],\"scatterpolargl\":[{\"marker\":{\"colorbar\":{\"outlinewidth\":0,\"ticks\":\"\"}},\"type\":\"scatterpolargl\"}],\"scatterpolar\":[{\"marker\":{\"colorbar\":{\"outlinewidth\":0,\"ticks\":\"\"}},\"type\":\"scatterpolar\"}],\"scatter\":[{\"fillpattern\":{\"fillmode\":\"overlay\",\"size\":10,\"solidity\":0.2},\"type\":\"scatter\"}],\"scatterternary\":[{\"marker\":{\"colorbar\":{\"outlinewidth\":0,\"ticks\":\"\"}},\"type\":\"scatterternary\"}],\"surface\":[{\"colorbar\":{\"outlinewidth\":0,\"ticks\":\"\"},\"colorscale\":[[0.0,\"#0d0887\"],[0.1111111111111111,\"#46039f\"],[0.2222222222222222,\"#7201a8\"],[0.3333333333333333,\"#9c179e\"],[0.4444444444444444,\"#bd3786\"],[0.5555555555555556,\"#d8576b\"],[0.6666666666666666,\"#ed7953\"],[0.7777777777777778,\"#fb9f3a\"],[0.8888888888888888,\"#fdca26\"],[1.0,\"#f0f921\"]],\"type\":\"surface\"}],\"table\":[{\"cells\":{\"fill\":{\"color\":\"#EBF0F8\"},\"line\":{\"color\":\"white\"}},\"header\":{\"fill\":{\"color\":\"#C8D4E3\"},\"line\":{\"color\":\"white\"}},\"type\":\"table\"}]},\"layout\":{\"annotationdefaults\":{\"arrowcolor\":\"#2a3f5f\",\"arrowhead\":0,\"arrowwidth\":1},\"autotypenumbers\":\"strict\",\"coloraxis\":{\"colorbar\":{\"outlinewidth\":0,\"ticks\":\"\"}},\"colorscale\":{\"diverging\":[[0,\"#8e0152\"],[0.1,\"#c51b7d\"],[0.2,\"#de77ae\"],[0.3,\"#f1b6da\"],[0.4,\"#fde0ef\"],[0.5,\"#f7f7f7\"],[0.6,\"#e6f5d0\"],[0.7,\"#b8e186\"],[0.8,\"#7fbc41\"],[0.9,\"#4d9221\"],[1,\"#276419\"]],\"sequential\":[[0.0,\"#0d0887\"],[0.1111111111111111,\"#46039f\"],[0.2222222222222222,\"#7201a8\"],[0.3333333333333333,\"#9c179e\"],[0.4444444444444444,\"#bd3786\"],[0.5555555555555556,\"#d8576b\"],[0.6666666666666666,\"#ed7953\"],[0.7777777777777778,\"#fb9f3a\"],[0.8888888888888888,\"#fdca26\"],[1.0,\"#f0f921\"]],\"sequentialminus\":[[0.0,\"#0d0887\"],[0.1111111111111111,\"#46039f\"],[0.2222222222222222,\"#7201a8\"],[0.3333333333333333,\"#9c179e\"],[0.4444444444444444,\"#bd3786\"],[0.5555555555555556,\"#d8576b\"],[0.6666666666666666,\"#ed7953\"],[0.7777777777777778,\"#fb9f3a\"],[0.8888888888888888,\"#fdca26\"],[1.0,\"#f0f921\"]]},\"colorway\":[\"#636efa\",\"#EF553B\",\"#00cc96\",\"#ab63fa\",\"#FFA15A\",\"#19d3f3\",\"#FF6692\",\"#B6E880\",\"#FF97FF\",\"#FECB52\"],\"font\":{\"color\":\"#2a3f5f\"},\"geo\":{\"bgcolor\":\"white\",\"lakecolor\":\"white\",\"landcolor\":\"#E5ECF6\",\"showlakes\":true,\"showland\":true,\"subunitcolor\":\"white\"},\"hoverlabel\":{\"align\":\"left\"},\"hovermode\":\"closest\",\"mapbox\":{\"style\":\"light\"},\"paper_bgcolor\":\"white\",\"plot_bgcolor\":\"#E5ECF6\",\"polar\":{\"angularaxis\":{\"gridcolor\":\"white\",\"linecolor\":\"white\",\"ticks\":\"\"},\"bgcolor\":\"#E5ECF6\",\"radialaxis\":{\"gridcolor\":\"white\",\"linecolor\":\"white\",\"ticks\":\"\"}},\"scene\":{\"xaxis\":{\"backgroundcolor\":\"#E5ECF6\",\"gridcolor\":\"white\",\"gridwidth\":2,\"linecolor\":\"white\",\"showbackground\":true,\"ticks\":\"\",\"zerolinecolor\":\"white\"},\"yaxis\":{\"backgroundcolor\":\"#E5ECF6\",\"gridcolor\":\"white\",\"gridwidth\":2,\"linecolor\":\"white\",\"showbackground\":true,\"ticks\":\"\",\"zerolinecolor\":\"white\"},\"zaxis\":{\"backgroundcolor\":\"#E5ECF6\",\"gridcolor\":\"white\",\"gridwidth\":2,\"linecolor\":\"white\",\"showbackground\":true,\"ticks\":\"\",\"zerolinecolor\":\"white\"}},\"shapedefaults\":{\"line\":{\"color\":\"#2a3f5f\"}},\"ternary\":{\"aaxis\":{\"gridcolor\":\"white\",\"linecolor\":\"white\",\"ticks\":\"\"},\"baxis\":{\"gridcolor\":\"white\",\"linecolor\":\"white\",\"ticks\":\"\"},\"bgcolor\":\"#E5ECF6\",\"caxis\":{\"gridcolor\":\"white\",\"linecolor\":\"white\",\"ticks\":\"\"}},\"title\":{\"x\":0.05},\"xaxis\":{\"automargin\":true,\"gridcolor\":\"white\",\"linecolor\":\"white\",\"ticks\":\"\",\"title\":{\"standoff\":15},\"zerolinecolor\":\"white\",\"zerolinewidth\":2},\"yaxis\":{\"automargin\":true,\"gridcolor\":\"white\",\"linecolor\":\"white\",\"ticks\":\"\",\"title\":{\"standoff\":15},\"zerolinecolor\":\"white\",\"zerolinewidth\":2}}},\"xaxis\":{\"anchor\":\"y\",\"domain\":[0.0,1.0],\"title\":{\"text\":\"time\"}},\"yaxis\":{\"anchor\":\"x\",\"domain\":[0.0,1.0],\"title\":{\"text\":\"value\"}}},                        {\"responsive\": true}                    )                };                            </script>        </div>'"
						]
					},
					"execution_count": 317,
					"metadata": {},
					"output_type": "execute_result"
				}
			],
			"source": [
				"plotly.offline.plot(fig, include_plotlyjs=False, output_type=\"div\")"
			]
		},
		{
			"cell_type": "markdown",
			"metadata": {},
			"source": [
				"### Merge Datasets\n",
				"And standardize the data"
			]
		},
		{
			"cell_type": "code",
			"execution_count": 11,
			"metadata": {},
			"outputs": [
				{
					"data": {
						"text/html": [
							"<div>\n",
							"<style scoped>\n",
							"    .dataframe tbody tr th:only-of-type {\n",
							"        vertical-align: middle;\n",
							"    }\n",
							"\n",
							"    .dataframe tbody tr th {\n",
							"        vertical-align: top;\n",
							"    }\n",
							"\n",
							"    .dataframe thead th {\n",
							"        text-align: right;\n",
							"    }\n",
							"</style>\n",
							"<table border=\"1\" class=\"dataframe\">\n",
							"  <thead>\n",
							"    <tr style=\"text-align: right;\">\n",
							"      <th></th>\n",
							"      <th>country</th>\n",
							"      <th>carbon</th>\n",
							"      <th>energy</th>\n",
							"    </tr>\n",
							"  </thead>\n",
							"  <tbody>\n",
							"    <tr>\n",
							"      <th>0</th>\n",
							"      <td>EU27_2020</td>\n",
							"      <td>8626928.75</td>\n",
							"      <td>305128.218</td>\n",
							"    </tr>\n",
							"    <tr>\n",
							"      <th>1</th>\n",
							"      <td>EU27_2020</td>\n",
							"      <td>7851179.61</td>\n",
							"      <td>292276.753</td>\n",
							"    </tr>\n",
							"    <tr>\n",
							"      <th>2</th>\n",
							"      <td>EU27_2020</td>\n",
							"      <td>8024312.00</td>\n",
							"      <td>291540.094</td>\n",
							"    </tr>\n",
							"    <tr>\n",
							"      <th>3</th>\n",
							"      <td>EU27_2020</td>\n",
							"      <td>7901995.31</td>\n",
							"      <td>321114.673</td>\n",
							"    </tr>\n",
							"    <tr>\n",
							"      <th>4</th>\n",
							"      <td>EU27_2020</td>\n",
							"      <td>7728876.39</td>\n",
							"      <td>349454.141</td>\n",
							"    </tr>\n",
							"  </tbody>\n",
							"</table>\n",
							"</div>"
						],
						"text/plain": [
							"     country      carbon      energy\n",
							"0  EU27_2020  8626928.75  305128.218\n",
							"1  EU27_2020  7851179.61  292276.753\n",
							"2  EU27_2020  8024312.00  291540.094\n",
							"3  EU27_2020  7901995.31  321114.673\n",
							"4  EU27_2020  7728876.39  349454.141"
						]
					},
					"execution_count": 11,
					"metadata": {},
					"output_type": "execute_result"
				}
			],
			"source": [
				"df_carbon_long = pd.melt(df_carbon_short)\n",
				"df_energy_long = pd.melt(df_energy_short)\n",
				"df_merged = pd.concat([df_carbon_long, df_energy_long[\"value\"]], axis=1)\n",
				"df_merged.columns = [\"country\", \"carbon\", \"energy\"]\n",
				"df_merged.head()"
			]
		},
		{
			"cell_type": "code",
			"execution_count": 12,
			"metadata": {},
			"outputs": [
				{
					"data": {
						"text/html": [
							"<div>\n",
							"<style scoped>\n",
							"    .dataframe tbody tr th:only-of-type {\n",
							"        vertical-align: middle;\n",
							"    }\n",
							"\n",
							"    .dataframe tbody tr th {\n",
							"        vertical-align: top;\n",
							"    }\n",
							"\n",
							"    .dataframe thead th {\n",
							"        text-align: right;\n",
							"    }\n",
							"</style>\n",
							"<table border=\"1\" class=\"dataframe\">\n",
							"  <thead>\n",
							"    <tr style=\"text-align: right;\">\n",
							"      <th></th>\n",
							"      <th>country</th>\n",
							"      <th>carbon</th>\n",
							"      <th>energy</th>\n",
							"    </tr>\n",
							"  </thead>\n",
							"  <tbody>\n",
							"    <tr>\n",
							"      <th>0</th>\n",
							"      <td>EU27_2020</td>\n",
							"      <td>8626928.75</td>\n",
							"      <td>305128.218</td>\n",
							"    </tr>\n",
							"    <tr>\n",
							"      <th>1</th>\n",
							"      <td>EU27_2020</td>\n",
							"      <td>7851179.61</td>\n",
							"      <td>292276.753</td>\n",
							"    </tr>\n",
							"    <tr>\n",
							"      <th>2</th>\n",
							"      <td>EU27_2020</td>\n",
							"      <td>8024312.00</td>\n",
							"      <td>291540.094</td>\n",
							"    </tr>\n",
							"    <tr>\n",
							"      <th>3</th>\n",
							"      <td>EU27_2020</td>\n",
							"      <td>7901995.31</td>\n",
							"      <td>321114.673</td>\n",
							"    </tr>\n",
							"    <tr>\n",
							"      <th>4</th>\n",
							"      <td>EU27_2020</td>\n",
							"      <td>7728876.39</td>\n",
							"      <td>349454.141</td>\n",
							"    </tr>\n",
							"  </tbody>\n",
							"</table>\n",
							"</div>"
						],
						"text/plain": [
							"     country      carbon      energy\n",
							"0  EU27_2020  8626928.75  305128.218\n",
							"1  EU27_2020  7851179.61  292276.753\n",
							"2  EU27_2020  8024312.00  291540.094\n",
							"3  EU27_2020  7901995.31  321114.673\n",
							"4  EU27_2020  7728876.39  349454.141"
						]
					},
					"execution_count": 12,
					"metadata": {},
					"output_type": "execute_result"
				}
			],
			"source": [
				"df_merged.fillna(0)\n",
				"df_merged.head()"
			]
		},
		{
			"cell_type": "code",
			"execution_count": 13,
			"metadata": {},
			"outputs": [
				{
					"data": {
						"text/html": [
							"<div>\n",
							"<style scoped>\n",
							"    .dataframe tbody tr th:only-of-type {\n",
							"        vertical-align: middle;\n",
							"    }\n",
							"\n",
							"    .dataframe tbody tr th {\n",
							"        vertical-align: top;\n",
							"    }\n",
							"\n",
							"    .dataframe thead th {\n",
							"        text-align: right;\n",
							"    }\n",
							"</style>\n",
							"<table border=\"1\" class=\"dataframe\">\n",
							"  <thead>\n",
							"    <tr style=\"text-align: right;\">\n",
							"      <th></th>\n",
							"      <th>carbon</th>\n",
							"      <th>energy</th>\n",
							"      <th>country</th>\n",
							"    </tr>\n",
							"  </thead>\n",
							"  <tbody>\n",
							"    <tr>\n",
							"      <th>0</th>\n",
							"      <td>0.041299</td>\n",
							"      <td>4.622992</td>\n",
							"      <td>EU27_2020</td>\n",
							"    </tr>\n",
							"    <tr>\n",
							"      <th>1</th>\n",
							"      <td>-0.181105</td>\n",
							"      <td>4.412569</td>\n",
							"      <td>EU27_2020</td>\n",
							"    </tr>\n",
							"    <tr>\n",
							"      <th>2</th>\n",
							"      <td>-0.131469</td>\n",
							"      <td>4.400507</td>\n",
							"      <td>EU27_2020</td>\n",
							"    </tr>\n",
							"    <tr>\n",
							"      <th>3</th>\n",
							"      <td>-0.166536</td>\n",
							"      <td>4.884745</td>\n",
							"      <td>EU27_2020</td>\n",
							"    </tr>\n",
							"    <tr>\n",
							"      <th>4</th>\n",
							"      <td>-0.216169</td>\n",
							"      <td>5.348760</td>\n",
							"      <td>EU27_2020</td>\n",
							"    </tr>\n",
							"  </tbody>\n",
							"</table>\n",
							"</div>"
						],
						"text/plain": [
							"     carbon    energy    country\n",
							"0  0.041299  4.622992  EU27_2020\n",
							"1 -0.181105  4.412569  EU27_2020\n",
							"2 -0.131469  4.400507  EU27_2020\n",
							"3 -0.166536  4.884745  EU27_2020\n",
							"4 -0.216169  5.348760  EU27_2020"
						]
					},
					"execution_count": 13,
					"metadata": {},
					"output_type": "execute_result"
				}
			],
			"source": [
				"df_merged_s = pd.DataFrame()\n",
				"for feat in df_merged.columns:\n",
				"\tif feat == \"country\": continue\n",
				"\tdf_merged_s[f'{feat}'] = ((df_merged[feat] - df_merged[feat].mean()) / df_merged[feat].std())\n",
				"df_merged_s[\"country\"] = df_merged[\"country\"]\n",
				"df_merged_s.head()"
			]
		},
		{
			"cell_type": "code",
			"execution_count": 14,
			"metadata": {},
			"outputs": [
				{
					"data": {
						"text/html": [
							"<div>\n",
							"<style scoped>\n",
							"    .dataframe tbody tr th:only-of-type {\n",
							"        vertical-align: middle;\n",
							"    }\n",
							"\n",
							"    .dataframe tbody tr th {\n",
							"        vertical-align: top;\n",
							"    }\n",
							"\n",
							"    .dataframe thead th {\n",
							"        text-align: right;\n",
							"    }\n",
							"</style>\n",
							"<table border=\"1\" class=\"dataframe\">\n",
							"  <thead>\n",
							"    <tr style=\"text-align: right;\">\n",
							"      <th></th>\n",
							"      <th></th>\n",
							"      <th>carbon</th>\n",
							"      <th>energy</th>\n",
							"    </tr>\n",
							"    <tr>\n",
							"      <th>country</th>\n",
							"      <th></th>\n",
							"      <th></th>\n",
							"      <th></th>\n",
							"    </tr>\n",
							"  </thead>\n",
							"  <tbody>\n",
							"    <tr>\n",
							"      <th rowspan=\"2\" valign=\"top\">AT</th>\n",
							"      <th>carbon</th>\n",
							"      <td>1.000000</td>\n",
							"      <td>-0.752501</td>\n",
							"    </tr>\n",
							"    <tr>\n",
							"      <th>energy</th>\n",
							"      <td>-0.752501</td>\n",
							"      <td>1.000000</td>\n",
							"    </tr>\n",
							"    <tr>\n",
							"      <th rowspan=\"2\" valign=\"top\">BE</th>\n",
							"      <th>carbon</th>\n",
							"      <td>1.000000</td>\n",
							"      <td>-0.201674</td>\n",
							"    </tr>\n",
							"    <tr>\n",
							"      <th>energy</th>\n",
							"      <td>-0.201674</td>\n",
							"      <td>1.000000</td>\n",
							"    </tr>\n",
							"    <tr>\n",
							"      <th>BG</th>\n",
							"      <th>carbon</th>\n",
							"      <td>1.000000</td>\n",
							"      <td>-0.215923</td>\n",
							"    </tr>\n",
							"    <tr>\n",
							"      <th>...</th>\n",
							"      <th>...</th>\n",
							"      <td>...</td>\n",
							"      <td>...</td>\n",
							"    </tr>\n",
							"    <tr>\n",
							"      <th>SI</th>\n",
							"      <th>energy</th>\n",
							"      <td>-0.566730</td>\n",
							"      <td>1.000000</td>\n",
							"    </tr>\n",
							"    <tr>\n",
							"      <th rowspan=\"2\" valign=\"top\">SK</th>\n",
							"      <th>carbon</th>\n",
							"      <td>1.000000</td>\n",
							"      <td>-0.755988</td>\n",
							"    </tr>\n",
							"    <tr>\n",
							"      <th>energy</th>\n",
							"      <td>-0.755988</td>\n",
							"      <td>1.000000</td>\n",
							"    </tr>\n",
							"    <tr>\n",
							"      <th rowspan=\"2\" valign=\"top\">TR</th>\n",
							"      <th>carbon</th>\n",
							"      <td>NaN</td>\n",
							"      <td>NaN</td>\n",
							"    </tr>\n",
							"    <tr>\n",
							"      <th>energy</th>\n",
							"      <td>NaN</td>\n",
							"      <td>1.000000</td>\n",
							"    </tr>\n",
							"  </tbody>\n",
							"</table>\n",
							"<p>64 rows × 2 columns</p>\n",
							"</div>"
						],
						"text/plain": [
							"                  carbon    energy\n",
							"country                           \n",
							"AT      carbon  1.000000 -0.752501\n",
							"        energy -0.752501  1.000000\n",
							"BE      carbon  1.000000 -0.201674\n",
							"        energy -0.201674  1.000000\n",
							"BG      carbon  1.000000 -0.215923\n",
							"...                  ...       ...\n",
							"SI      energy -0.566730  1.000000\n",
							"SK      carbon  1.000000 -0.755988\n",
							"        energy -0.755988  1.000000\n",
							"TR      carbon       NaN       NaN\n",
							"        energy       NaN  1.000000\n",
							"\n",
							"[64 rows x 2 columns]"
						]
					},
					"execution_count": 14,
					"metadata": {},
					"output_type": "execute_result"
				}
			],
			"source": [
				"df_merged_s.groupby(\"country\").corr()"
			]
		},
		{
			"cell_type": "code",
			"execution_count": 15,
			"metadata": {},
			"outputs": [],
			"source": [
				"df_merged_s = df_merged_s.drop(df_merged_s[df_merged_s[\"country\"] == \"EU27_2020\"].index, axis=0)"
			]
		},
		{
			"cell_type": "code",
			"execution_count": 318,
			"metadata": {},
			"outputs": [
				{
					"data": {
						"application/vnd.plotly.v1+json": {
							"config": {
								"plotlyServerURL": "https://plot.ly"
							},
							"data": [
								{
									"hovertemplate": "country=BE<br>energy=%{x}<br>carbon=%{y}<extra></extra>",
									"legendgroup": "BE",
									"marker": {
										"color": "#636efa",
										"symbol": "circle"
									},
									"mode": "markers",
									"name": "BE",
									"orientation": "v",
									"showlegend": true,
									"type": "scatter",
									"x": [
										-0.09207599049527926,
										-0.21769313971441526,
										-0.17006275818698216,
										-0.15706223466247826,
										-0.09715176164464477,
										-0.09068424679303388,
										-0.016217771995245763,
										0.015268382586140905,
										-0.13317336334981933,
										-0.14068222995981616,
										-0.018757294915460545,
										-0.16450560745119297,
										-0.14833682032216577,
										-0.12424000612693603,
										-0.10531229177639885
									],
									"xaxis": "x",
									"y": [
										0.389329349425087,
										0.0739143177553588,
										0.21798663800047677,
										0.01054812105556511,
										-0.09549876559651473,
										-0.16246137833748042,
										-0.22841693380734776,
										-0.17392566099538334,
										-0.19604400310460798,
										-0.202393317963953,
										-0.17293703541562705,
										-0.18423140190448803,
										-0.3711983017165415,
										-0.385156444678411,
										-0.4764527145166988
									],
									"yaxis": "y"
								},
								{
									"hovertemplate": "country=BG<br>energy=%{x}<br>carbon=%{y}<extra></extra>",
									"legendgroup": "BG",
									"marker": {
										"color": "#EF553B",
										"symbol": "circle"
									},
									"mode": "markers",
									"name": "BG",
									"orientation": "v",
									"showlegend": true,
									"type": "scatter",
									"x": [
										-0.3223031457573063,
										-0.3294255988217385,
										-0.35390391452593667,
										-0.34928660012554613,
										-0.33448499651578345,
										-0.3181442881058907,
										-0.3022947833556138,
										-0.3034081783174102,
										-0.2982177929808009,
										-0.3123411589508211,
										-0.33661803203421076,
										-0.323155433227106,
										-0.3123196606039852,
										-0.342606623317696,
										-0.34894270844344893
									],
									"xaxis": "x",
									"y": [
										-0.03113460562545779,
										-0.3454825487307274,
										-0.23204498676156418,
										-0.016612382381283545,
										-0.19347215573144147,
										-0.383764884952134,
										-0.2354320429862401,
										-0.10643458135986414,
										-0.18897416077601709,
										-0.08820772290309299,
										-0.2529537351500309,
										-0.29505891138012014,
										-0.5463624368711715,
										-0.27879268717774125,
										-0.00482389518892174
									],
									"yaxis": "y"
								},
								{
									"hovertemplate": "country=CZ<br>energy=%{x}<br>carbon=%{y}<extra></extra>",
									"legendgroup": "CZ",
									"marker": {
										"color": "#00cc96",
										"symbol": "circle"
									},
									"mode": "markers",
									"name": "CZ",
									"orientation": "v",
									"showlegend": true,
									"type": "scatter",
									"x": [
										-0.233509897554051,
										-0.23242924950289576,
										-0.26425924664601363,
										-0.20179451459817685,
										-0.18329251008597355,
										-0.199927940691636,
										-0.1791172789792374,
										-0.10864592727965956,
										-0.14677970472118299,
										-0.1262310346673683,
										-0.18351502534377961,
										-0.1924745309748098,
										-0.15413055111388135,
										-0.1249050795086008,
										-0.09914809518460085
									],
									"xaxis": "x",
									"y": [
										1.033656422274519,
										0.7358876063463934,
										0.7870793971199834,
										0.7210568321740335,
										0.59114142702084,
										0.4542669961770165,
										0.43732212793653463,
										0.4170183627609024,
										0.4667969597215975,
										0.4079712721397594,
										0.4244716926405289,
										0.2675901353269031,
										-0.016226658600780427,
										0.17168095700816785,
										0.11999283223729602
									],
									"yaxis": "y"
								},
								{
									"hovertemplate": "country=DK<br>energy=%{x}<br>carbon=%{y}<extra></extra>",
									"legendgroup": "DK",
									"marker": {
										"color": "#ab63fa",
										"symbol": "circle"
									},
									"mode": "markers",
									"name": "DK",
									"orientation": "v",
									"showlegend": true,
									"type": "scatter",
									"x": [
										-0.16318590695235793,
										-0.1894980496524559,
										-0.19946948394266104,
										-0.18154055036667643,
										-0.11234632818210022,
										-0.1853883123670019,
										-0.16503610740357827,
										-0.11685317087944315,
										-0.1277953709621474,
										-0.12383870911048506,
										-0.11703553842480323,
										-0.1113328276712145,
										-0.06856416711174156,
										-0.04358027185415599,
										-0.06597331340909691
									],
									"xaxis": "x",
									"y": [
										2.8640938219664425,
										2.4924415899288506,
										2.3751210190435232,
										2.329551903299487,
										1.968006522495548,
										1.8773570275584905,
										1.5619382631057277,
										1.532812996990854,
										1.655793023146555,
										1.6391318865541304,
										1.7397654465253087,
										1.5658851937811331,
										1.0864442902939973,
										1.3210809395369902,
										1.1152020550315676
									],
									"yaxis": "y"
								},
								{
									"hovertemplate": "country=DE<br>energy=%{x}<br>carbon=%{y}<extra></extra>",
									"legendgroup": "DE",
									"marker": {
										"color": "#FFA15A",
										"symbol": "circle"
									},
									"mode": "markers",
									"name": "DE",
									"orientation": "v",
									"showlegend": true,
									"type": "scatter",
									"x": [
										0.3092701463216474,
										0.3123647293772283,
										0.3304246505957772,
										0.46208360482819016,
										0.3845552938854622,
										0.26918792769698047,
										0.28904892900078805,
										0.2329370976173184,
										0.0909792399882896,
										0.08285800614930479,
										0.14646888006957895,
										0.2839895313067431,
										0.4105072205685084,
										0.4740034803015388,
										0.4347071875322575
									],
									"xaxis": "x",
									"y": [
										0.46810080191352976,
										0.24037157593272357,
										0.33957251269728717,
										0.33998577076984987,
										0.3683692308320058,
										0.40350306777458794,
										0.24467730389227374,
										0.2508622788214417,
										0.20900227361589863,
										0.15976617445618552,
										0.07049330237934534,
										-0.15828333334660494,
										-0.41373141199181396,
										-0.2737399037601462,
										-0.3128043612378251
									],
									"yaxis": "y"
								},
								{
									"hovertemplate": "country=EE<br>energy=%{x}<br>carbon=%{y}<extra></extra>",
									"legendgroup": "EE",
									"marker": {
										"color": "#19d3f3",
										"symbol": "circle"
									},
									"mode": "markers",
									"name": "EE",
									"orientation": "v",
									"showlegend": true,
									"type": "scatter",
									"x": [
										-0.3505964765511888,
										-0.3234820345403847,
										-0.35500093603241245,
										-0.3453405973932974,
										-0.3286396729663529,
										-0.3286069260557118,
										-0.31193874853940834,
										-0.283743658477449,
										-0.31444388720345,
										-0.33566388529886193,
										-0.3230235777914098,
										-0.29342037057188447,
										-0.2523884915386266,
										-0.25295439090141486,
										-0.2554012073176048
									],
									"xaxis": "x",
									"y": [
										2.0105467973059996,
										1.233887408228778,
										2.2432775196416515,
										2.251095415130665,
										2.0674149125476395,
										2.5979302735683802,
										2.4032408018488085,
										1.65265812186307,
										1.8909871156574716,
										2.1940228941808875,
										1.9078640483935143,
										0.6081621550455674,
										-0.14884710439457982,
										0.1286443367325917,
										0.5000061456354896
									],
									"yaxis": "y"
								},
								{
									"hovertemplate": "country=IE<br>energy=%{x}<br>carbon=%{y}<extra></extra>",
									"legendgroup": "IE",
									"marker": {
										"color": "#FF6692",
										"symbol": "circle"
									},
									"mode": "markers",
									"name": "IE",
									"orientation": "v",
									"showlegend": true,
									"type": "scatter",
									"x": [
										-0.3606820174515228,
										-0.35763350929921384,
										-0.3605697610418452,
										-0.3610325567564801,
										-0.36018141542855275,
										-0.3300287314219257,
										-0.32629802325368673,
										-0.3443258524998074,
										-0.3587461510820654,
										-0.35473228037751314,
										-0.34646186798710293,
										-0.33732449751092575,
										-0.34417624823854365,
										-0.3328850643291375,
										-0.347115005119839
									],
									"xaxis": "x",
									"y": [
										0.89356374186121,
										0.5635395778959246,
										1.0208534953868555,
										0.8677936198297266,
										0.9774703570204796,
										0.9786902545985532,
										0.9901107587641874,
										1.1087410577120838,
										1.341319911397281,
										1.4603445751457,
										1.4854561275989928,
										1.3248970937929572,
										0.5701709156946565,
										0.7030323066127009,
										1.0199417903668606
									],
									"yaxis": "y"
								},
								{
									"hovertemplate": "country=EL<br>energy=%{x}<br>carbon=%{y}<extra></extra>",
									"legendgroup": "EL",
									"marker": {
										"color": "#B6E880",
										"symbol": "circle"
									},
									"mode": "markers",
									"name": "EL",
									"orientation": "v",
									"showlegend": true,
									"type": "scatter",
									"x": [
										-0.2489828128319555,
										-0.24857347644894218,
										-0.2335590179200126,
										-0.2554503276835664,
										-0.27552418390654093,
										-0.27824217748974955,
										-0.2181024760974286,
										-0.1915774784781637,
										-0.21201155071819,
										-0.23062816941763703,
										-0.23301869389443497,
										-0.19180670685265117,
										-0.21204429762883106,
										-0.24888457210003231,
										-0.24610108469554154
									],
									"xaxis": "x",
									"y": [
										0.7282468947721913,
										0.5366419403660242,
										0.4318768805134645,
										0.326158733927917,
										0.30824790343324376,
										0.11759696178842055,
										0.05329805958036359,
										-0.03167776569439739,
										-0.07478619473852921,
										0.08240694961482904,
										0.07591797935827498,
										-0.08368592930560452,
										-0.37951421984278066,
										-0.30913007853980856,
										-0.28557865737719285
									],
									"yaxis": "y"
								},
								{
									"hovertemplate": "country=ES<br>energy=%{x}<br>carbon=%{y}<extra></extra>",
									"legendgroup": "ES",
									"marker": {
										"color": "#FF97FF",
										"symbol": "circle"
									},
									"mode": "markers",
									"name": "ES",
									"orientation": "v",
									"showlegend": true,
									"type": "scatter",
									"x": [
										-0.27671944614493993,
										-0.26247454001607545,
										-0.2877715284863003,
										-0.2431374892825249,
										-0.24551164030400233,
										-0.21112738413088117,
										-0.17145450188922756,
										-0.1281303391110949,
										-0.015333605407936933,
										0.01605430844152653,
										0.020245913003583207,
										-0.06648689958213608,
										-0.07946246996073147,
										-0.08792985501864768,
										-0.24150800300902536
									],
									"xaxis": "x",
									"y": [
										-0.3363544062592298,
										-0.5869239152302087,
										-0.6836315163446423,
										-0.647647499362031,
										-0.6666531447995993,
										-0.8314060262847476,
										-0.8137287814258027,
										-0.7504746284232158,
										-0.8271610893631843,
										-0.7468428541538084,
										-0.8010958366472803,
										-0.9165241158910964,
										-1.1246836448216384,
										-1.056650248003671,
										-1.0199716380797157
									],
									"yaxis": "y"
								},
								{
									"hovertemplate": "country=FR<br>energy=%{x}<br>carbon=%{y}<extra></extra>",
									"legendgroup": "FR",
									"marker": {
										"color": "#FECB52",
										"symbol": "circle"
									},
									"mode": "markers",
									"name": "FR",
									"orientation": "v",
									"showlegend": true,
									"type": "scatter",
									"x": [
										-0.1970298390999015,
										-0.06982446471467371,
										-0.05413869451760225,
										-0.21744753788460724,
										-0.17304272705531934,
										-0.18165516455392017,
										-0.2441035231464364,
										-0.20991574843716165,
										-0.04713085564041374,
										-0.027217786748686836,
										-0.15177213498296696,
										-0.11706597667824412,
										-0.053138243650607,
										0.025427309313221493,
										0.485567544217317
									],
									"xaxis": "x",
									"y": [
										-0.5245273734301886,
										-0.664160153184772,
										-0.6447274395241989,
										-0.7310066769467638,
										-0.7497919190346188,
										-0.7770379209781103,
										-0.8847956521860976,
										-0.8915059575546423,
										-0.9012263768684616,
										-0.862817854231947,
										-0.9113442028282714,
										-0.9504913090535021,
										-1.0986801206399213,
										-1.0385071076708507,
										-1.0384880681838071
									],
									"yaxis": "y"
								},
								{
									"hovertemplate": "country=HR<br>energy=%{x}<br>carbon=%{y}<extra></extra>",
									"legendgroup": "HR",
									"marker": {
										"color": "#636efa",
										"symbol": "circle"
									},
									"mode": "markers",
									"name": "HR",
									"orientation": "v",
									"showlegend": true,
									"type": "scatter",
									"x": [
										-0.17237141538717746,
										-0.17829860621321073,
										-0.1697352890805715,
										-0.1440289642273333,
										-0.15730783649228627,
										-0.18864662997578813,
										-0.1945738208018214,
										-0.1575698117774148,
										-0.17001363782102058,
										-0.17394490444348076,
										-0.16517691911933488,
										-0.18634124746665698,
										-0.2012378171172787,
										-0.18464004545885349,
										-0.17784506150083193
									],
									"xaxis": "x",
									"y": [
										-0.7853405908782347,
										-0.9369981068675427,
										-0.9489265246853555,
										-0.9533886826300821,
										-1.0623681434041299,
										-1.1208957186622581,
										-1.1566554561640792,
										-1.1434367597461432,
										-1.1353411417590262,
										-1.0649209054188793,
										-1.1270554614689334,
										-1.1042986901815304,
										-1.147253467325555,
										-1.10519617507568,
										-1.1112091524222243
									],
									"yaxis": "y"
								},
								{
									"hovertemplate": "country=IT<br>energy=%{x}<br>carbon=%{y}<extra></extra>",
									"legendgroup": "IT",
									"marker": {
										"color": "#EF553B",
										"symbol": "circle"
									},
									"mode": "markers",
									"name": "IT",
									"orientation": "v",
									"showlegend": true,
									"type": "scatter",
									"x": [
										0.33813654805174864,
										0.3976868050525304,
										0.3799543529403922,
										0.40503848649145013,
										0.3704577488544825,
										0.3529545251168318,
										0.3923981789839979,
										0.459562092708828,
										0.33401043731097413,
										0.3293256806481183,
										0.39932749076946916,
										0.34700997842815884,
										0.2784870679117245,
										0.38952787951939766,
										0.4029437484850176
									],
									"xaxis": "x",
									"y": [
										-0.19696714156449563,
										-0.4991259568995677,
										-0.44558875418816457,
										-0.49494817566909116,
										-0.571954099190263,
										-0.7520300951685807,
										-0.8483104818450061,
										-0.8280362406322672,
										-0.8353546456000968,
										-0.8297345995736471,
										-0.8512970723764582,
										-0.8718067656164425,
										-1.0109091518787772,
										-0.8897886680707314,
										-0.874614664211673
									],
									"yaxis": "y"
								},
								{
									"hovertemplate": "country=CY<br>energy=%{x}<br>carbon=%{y}<extra></extra>",
									"legendgroup": "CY",
									"marker": {
										"color": "#00cc96",
										"symbol": "circle"
									},
									"mode": "markers",
									"name": "CY",
									"orientation": "v",
									"showlegend": true,
									"type": "scatter",
									"x": [
										-0.3730117368849997,
										-0.3730117368849997,
										-0.3730117368849997,
										-0.3730117368849997,
										-0.3730117368849997,
										-0.3730117368849997,
										-0.3730117368849997,
										-0.3730117368849997,
										-0.3730117368849997,
										-0.3730117368849997,
										-0.3730117368849997,
										-0.3730117368849997,
										-0.3730117368849997,
										-0.3730117368849997,
										-0.3730117368849997
									],
									"xaxis": "x",
									"y": [
										0.7743258909035522,
										0.5869664439441591,
										0.38055638039921275,
										0.11794496496494354,
										-0.12570123204678535,
										-0.3325988853584029,
										-0.19265342338504024,
										-0.239711770477789,
										-0.12044166907746418,
										-0.05063897037173955,
										-0.058412129803558754,
										-0.14705181063970363,
										-0.229392792810413,
										-0.24066432395605725,
										-0.2408496930441122
									],
									"yaxis": "y"
								},
								{
									"hovertemplate": "country=LV<br>energy=%{x}<br>carbon=%{y}<extra></extra>",
									"legendgroup": "LV",
									"marker": {
										"color": "#ab63fa",
										"symbol": "circle"
									},
									"mode": "markers",
									"name": "LV",
									"orientation": "v",
									"showlegend": true,
									"type": "scatter",
									"x": [
										-0.2969897838317609,
										-0.3032771906748459,
										-0.3079599988965186,
										-0.30737055450497935,
										-0.29220873487816496,
										-0.2910625930057276,
										-0.28557748547334877,
										-0.28711659027347897,
										-0.2939606945974621,
										-0.3063240942285334,
										-0.2883006858153493,
										-0.2975176476578396,
										-0.30467933152121984,
										-0.29660713618092,
										-0.28609763740197147
									],
									"xaxis": "x",
									"y": [
										-0.9116049357163434,
										-1.0755150625900796,
										-0.8710860603956235,
										-0.9475002718657622,
										-0.9651320753951427,
										-0.9853935127606994,
										-0.9815929633726708,
										-0.9289873681235234,
										-0.932211913539048,
										-0.8986733625611568,
										-0.8160316275957892,
										-0.8028244878970632,
										-1.0154308135960664,
										-0.960863655197209,
										-1.0147658994335014
									],
									"yaxis": "y"
								},
								{
									"hovertemplate": "country=LT<br>energy=%{x}<br>carbon=%{y}<extra></extra>",
									"legendgroup": "LT",
									"marker": {
										"color": "#FFA15A",
										"symbol": "circle"
									},
									"mode": "markers",
									"name": "LT",
									"orientation": "v",
									"showlegend": true,
									"type": "scatter",
									"x": [
										-0.28051808777930376,
										-0.2946975000868861,
										-0.2391751130949557,
										-0.2406159771631627,
										-0.24104168700149659,
										-0.24082883208232964,
										-0.23349352409873045,
										-0.24303924855060172,
										-0.19116814209515035,
										-0.17773863404124846,
										-0.1626537696544406,
										-0.15577036903768815,
										-0.1763108687372979,
										-0.16868902528558938,
										-0.16123910311474646
									],
									"xaxis": "x",
									"y": [
										-0.45620436196048797,
										-0.8100101497103074,
										-0.7131790857935787,
										-0.608554208859025,
										-0.6018854142167116,
										-0.6944528744297449,
										-0.6056644843340084,
										-0.5194556996075146,
										-0.5293497191350754,
										-0.4336395050327734,
										-0.3453804705894559,
										-0.3018372325280085,
										-0.12153305800213665,
										-0.31066647426156063,
										-0.43488630617151824
									],
									"yaxis": "y"
								},
								{
									"hovertemplate": "country=LU<br>energy=%{x}<br>carbon=%{y}<extra></extra>",
									"legendgroup": "LU",
									"marker": {
										"color": "#19d3f3",
										"symbol": "circle"
									},
									"mode": "markers",
									"name": "LU",
									"orientation": "v",
									"showlegend": true,
									"type": "scatter",
									"x": [
										-0.261183116474579,
										-0.2744030606738333,
										-0.2538210051446201,
										-0.25682013095568224,
										-0.26278403106854414,
										-0.26082861479343405,
										-0.2590332326706269,
										-0.24990373782645892,
										-0.2466349739531782,
										-0.24911887624566917,
										-0.24934283236754343,
										-0.2613853777681535,
										-0.26587214660927344,
										-0.262352230304831,
										-0.256005617047307
									],
									"xaxis": "x",
									"y": [
										2.430995560330969,
										2.3538108502638675,
										2.317360370149131,
										1.83887227529978,
										1.6682738584499108,
										1.48898760410982,
										1.5200772343951594,
										1.859999411564478,
										1.6992989563133467,
										1.5932957965482397,
										1.581072127633651,
										1.7888848001720121,
										1.3126105237571917,
										1.230936726382045,
										1.034297311305112
									],
									"yaxis": "y"
								},
								{
									"hovertemplate": "country=HU<br>energy=%{x}<br>carbon=%{y}<extra></extra>",
									"legendgroup": "HU",
									"marker": {
										"color": "#FF6692",
										"symbol": "circle"
									},
									"mode": "markers",
									"name": "HU",
									"orientation": "v",
									"showlegend": true,
									"type": "scatter",
									"x": [
										-0.16385721862049982,
										-0.1933621851081019,
										-0.21096364957767583,
										-0.13291138806469077,
										-0.09515420009553964,
										-0.10063930762791849,
										-0.060622582824533665,
										-0.046606905070156655,
										-0.07909184042609589,
										-0.04876820117246713,
										-0.06825261300390245,
										-0.047949528406440435,
										-0.05903435765844188,
										-0.046082954499899575,
										-0.019525209969993608
									],
									"xaxis": "x",
									"y": [
										-0.7009584128530842,
										-0.8755000734666982,
										-0.8471875219473893,
										-0.8393104237167032,
										-0.9644499566004822,
										-1.0026459628965982,
										-0.9757672874457981,
										-0.9096981429868234,
										-0.915332466478335,
										-0.852317228791707,
										-0.8365434509876892,
										-0.8775426454623501,
										-0.957546538482611,
										-0.9346272105146824,
										-0.9692780534288457
									],
									"yaxis": "y"
								},
								{
									"hovertemplate": "country=MT<br>energy=%{x}<br>carbon=%{y}<extra></extra>",
									"legendgroup": "MT",
									"marker": {
										"color": "#B6E880",
										"symbol": "circle"
									},
									"mode": "markers",
									"name": "MT",
									"orientation": "v",
									"showlegend": true,
									"type": "scatter",
									"x": [
										-0.3730117368849997,
										-0.3730117368849997,
										-0.3730117368849997,
										-0.3730117368849997,
										-0.3730117368849997,
										-0.3730117368849997,
										-0.3730117368849997,
										-0.355754114977157,
										-0.34801457912860445,
										-0.3583236668144297,
										-0.36267528915533387,
										-0.36225837186250714,
										-0.36613799660688634,
										-0.36405136346083755,
										-0.36243220883764526
									],
									"xaxis": "x",
									"y": [
										-0.36665649673227946,
										-0.48324264398909245,
										-0.4364378193778632,
										-0.4332724193647941,
										-0.334737770037045,
										-0.583653140070884,
										-0.6044664874699124,
										-1.103481190628297,
										-1.3213408551246033,
										-1.2476179114151196,
										-1.2632852991687384,
										-1.2388408770387518,
										-1.3800522169083937,
										-1.3940705603143135,
										-1.3688018783373956
									],
									"yaxis": "y"
								},
								{
									"hovertemplate": "country=NL<br>energy=%{x}<br>carbon=%{y}<extra></extra>",
									"legendgroup": "NL",
									"marker": {
										"color": "#FF97FF",
										"symbol": "circle"
									},
									"mode": "markers",
									"name": "NL",
									"orientation": "v",
									"showlegend": true,
									"type": "scatter",
									"x": [
										0.03578432210276987,
										-0.12000910527211008,
										-0.11786418262512013,
										-0.035391088175590946,
										0.15348855695496422,
										0.17143839943339312,
										0.16493813767114118,
										0.13063589613572055,
										0.024169418608221464,
										-0.005301327357760685,
										0.06505333072574772,
										-0.038946502131168285,
										-0.049254771144227445,
										-0.031045638627342522,
										-0.06937504611303569
									],
									"xaxis": "x",
									"y": [
										0.8797286373914293,
										0.7494803981516011,
										0.864944772432592,
										0.7033795185080277,
										0.6234161012411295,
										0.6049561101284453,
										0.584497959110727,
										0.6715081454052486,
										0.6388204682719134,
										0.5758553823315365,
										0.47340352411157477,
										0.4072538467221599,
										0.0813809618011996,
										0.07767140688377379,
										-0.07315087739940786
									],
									"yaxis": "y"
								},
								{
									"hovertemplate": "country=AT<br>energy=%{x}<br>carbon=%{y}<extra></extra>",
									"legendgroup": "AT",
									"marker": {
										"color": "#FECB52",
										"symbol": "circle"
									},
									"mode": "markers",
									"name": "AT",
									"orientation": "v",
									"showlegend": true,
									"type": "scatter",
									"x": [
										-0.04889404755006078,
										-0.05304062510998599,
										-0.04703757606545266,
										0.03594332472738756,
										0.01061365484034293,
										0.035662667329738294,
										0.06435146618997774,
										0.10819041040338798,
										0.05869340584904806,
										0.10775264970193817,
										0.08669162148423329,
										0.05346514871028245,
										0.028506190225149962,
										0.05984007167205568,
										0.09519000149307127
									],
									"xaxis": "x",
									"y": [
										-0.1105455251319089,
										-0.3366552278609487,
										-0.22427214269543902,
										-0.2871054831836085,
										-0.3969537678441303,
										-0.4571713534536262,
										-0.5509636080138748,
										-0.5360861711866254,
										-0.5787986958722554,
										-0.4986907264390063,
										-0.5934794190473434,
										-0.501618074091334,
										-0.7067512678120795,
										-0.5911029894600314,
										-0.6935696756015396
									],
									"yaxis": "y"
								},
								{
									"hovertemplate": "country=PL<br>energy=%{x}<br>carbon=%{y}<extra></extra>",
									"legendgroup": "PL",
									"marker": {
										"color": "#636efa",
										"symbol": "circle"
									},
									"mode": "markers",
									"name": "PL",
									"orientation": "v",
									"showlegend": true,
									"type": "scatter",
									"x": [
										-0.22509394151929657,
										-0.25179904714708734,
										-0.2696952338124309,
										-0.26199970981177995,
										-0.21250275437780602,
										-0.24528241192951486,
										-0.15183910241522797,
										-0.13626794640540024,
										-0.1435050136570762,
										-0.1557196113261945,
										-0.14679928737374634,
										-0.08044548309781037,
										-0.03532364591312569,
										-0.1257752467916106,
										-0.12351908288917295
									],
									"xaxis": "x",
									"y": [
										0.2757531440958969,
										0.1265435252941148,
										0.23107102016927833,
										0.2590464744311601,
										0.18861807872041741,
										0.17624587256388877,
										0.12173546565517257,
										0.14151370543808905,
										0.22838700008566726,
										0.35073137228129764,
										0.3404135958705206,
										0.21621890434030783,
										0.1005960243944813,
										0.35093066333126854,
										0.3166372874314136
									],
									"yaxis": "y"
								},
								{
									"hovertemplate": "country=PT<br>energy=%{x}<br>carbon=%{y}<extra></extra>",
									"legendgroup": "PT",
									"marker": {
										"color": "#EF553B",
										"symbol": "circle"
									},
									"mode": "markers",
									"name": "PT",
									"orientation": "v",
									"showlegend": true,
									"type": "scatter",
									"x": [
										-0.1970953329211836,
										-0.24860622335958324,
										-0.2778164676514157,
										-0.2626219011139602,
										-0.19673511690413187,
										-0.24038674878867522,
										-0.2543533061770906,
										-0.2407633382610475,
										-0.2974318671254153,
										-0.282863879976166,
										-0.2802140654609121,
										-0.2403997165652891,
										-0.249341178648556,
										-0.2167366352015003,
										-0.1713776940103189
									],
									"xaxis": "x",
									"y": [
										-0.5714423208748509,
										-0.6607277846437696,
										-0.7864057700467633,
										-0.7985023265178873,
										-0.8196047409791255,
										-0.8628174786600747,
										-0.8570982271871312,
										-0.7374030988399307,
										-0.7933838151557114,
										-0.6460084291711494,
										-0.7380382998201859,
										-0.842082545507414,
										-1.0529396667142592,
										-1.0857511363503876,
										-1.032251745985712
									],
									"yaxis": "y"
								},
								{
									"hovertemplate": "country=RO<br>energy=%{x}<br>carbon=%{y}<extra></extra>",
									"legendgroup": "RO",
									"marker": {
										"color": "#00cc96",
										"symbol": "circle"
									},
									"mode": "markers",
									"name": "RO",
									"orientation": "v",
									"showlegend": true,
									"type": "scatter",
									"x": [
										-0.357931784534788,
										-0.36235261747133213,
										-0.3604532966541502,
										-0.31717825424197915,
										-0.30910614076895593,
										-0.32819758967269846,
										-0.32698595397897895,
										-0.29946217558516147,
										-0.30461981401112964,
										-0.29373549409298344,
										-0.31248572018784604,
										-0.2830783558674097,
										-0.2379037470362269,
										-0.2306084557774311,
										-0.23132615344449609
									],
									"xaxis": "x",
									"y": [
										-0.4845340579057146,
										-0.7829806692515303,
										-0.8317508901391337,
										-0.7417809968051046,
										-0.7839157486033825,
										-0.9396426288314438,
										-0.9423761211915833,
										-0.9524209342592778,
										-0.9752141847566106,
										-0.9357432467018323,
										-0.9248736720690569,
										-0.9705721966922026,
										-1.0310959335836485,
										-0.9956739871437817,
										-1.0628855294949757
									],
									"yaxis": "y"
								},
								{
									"hovertemplate": "country=SI<br>energy=%{x}<br>carbon=%{y}<extra></extra>",
									"legendgroup": "SI",
									"marker": {
										"color": "#ab63fa",
										"symbol": "circle"
									},
									"mode": "markers",
									"name": "SI",
									"orientation": "v",
									"showlegend": true,
									"type": "scatter",
									"x": [
										-0.27108697751467625,
										-0.24562625449124606,
										-0.23179068474539494,
										-0.25780810524972325,
										-0.2509967478363812,
										-0.24986697941926433,
										-0.2542386919898469,
										-0.2249138335107707,
										-0.23614602386065695,
										-0.22348063221965375,
										-0.2267928676168105,
										-0.22530232648516102,
										-0.2564335536755645,
										-0.23568506197301795,
										-0.20603127715000755
									],
									"xaxis": "x",
									"y": [
										-0.1115077746717919,
										-0.31745658148552736,
										-0.2996953146047808,
										-0.3447344984372656,
										-0.4427496286552922,
										-0.48304457999836814,
										-0.6795183019395997,
										-0.6454999478607218,
										-0.5728815180227083,
										-0.5548770296507972,
										-0.5317852339186653,
										-0.5644869018209768,
										-0.6484765441666306,
										-0.6773356445026107,
										-0.7524795285532221
									],
									"yaxis": "y"
								},
								{
									"hovertemplate": "country=SK<br>energy=%{x}<br>carbon=%{y}<extra></extra>",
									"legendgroup": "SK",
									"marker": {
										"color": "#FFA15A",
										"symbol": "circle"
									},
									"mode": "markers",
									"name": "SK",
									"orientation": "v",
									"showlegend": true,
									"type": "scatter",
									"x": [
										-0.21890477540813477,
										-0.22574887973211794,
										-0.25292881556420416,
										-0.18918695400136576,
										-0.15242854680676718,
										-0.19750466930419697,
										-0.1607462621095984,
										-0.12742628053231192,
										-0.15607982734324624,
										-0.11819165173153082,
										-0.16952243416140456,
										-0.15134789875561194,
										-0.15542488913042488,
										-0.1456826832147072,
										-0.09887097445330083
									],
									"xaxis": "x",
									"y": [
										-0.10534443956316383,
										-0.33770153382616314,
										-0.337457274495169,
										-0.34069973841604245,
										-0.49242379083289245,
										-0.5178121913612281,
										-0.5955776186844808,
										-0.5765545220561832,
										-0.5639679417686213,
										-0.528801862984254,
										-0.5301303839752333,
										-0.6699782115966506,
										-0.8163450064860566,
										-0.6451124035600752,
										-0.8096049162611805
									],
									"yaxis": "y"
								},
								{
									"hovertemplate": "country=FI<br>energy=%{x}<br>carbon=%{y}<extra></extra>",
									"legendgroup": "FI",
									"marker": {
										"color": "#19d3f3",
										"symbol": "circle"
									},
									"mode": "markers",
									"name": "FI",
									"orientation": "v",
									"showlegend": true,
									"type": "scatter",
									"x": [
										-0.10928449203716038,
										-0.11987811762954581,
										-0.11563739270152754,
										-0.08392200974565339,
										-0.06045884827132833,
										-0.0849862843414881,
										-0.01898488594441599,
										-0.021653759161663014,
										-0.010994639747995453,
										-0.009455534947865267,
										-0.0038230663176016086,
										0.018936036577940494,
										-0.016496120735694838,
										0.02800693082551627,
										-0.05541582403260389
									],
									"xaxis": "x",
									"y": [
										1.1955379019814807,
										1.009365792525721,
										1.4215210083200096,
										1.0076133770374045,
										0.6854779396960361,
										0.7125286127294597,
										0.4718324209617017,
										0.29488952008152947,
										0.44613274302540634,
										0.2875212500635347,
										0.34734038545328866,
										0.20539238572566476,
										-0.1652715762353174,
										-0.16164915112526118,
										-0.2134232675200424
									],
									"yaxis": "y"
								},
								{
									"hovertemplate": "country=SE<br>energy=%{x}<br>carbon=%{y}<extra></extra>",
									"legendgroup": "SE",
									"marker": {
										"color": "#FF6692",
										"symbol": "circle"
									},
									"mode": "markers",
									"name": "SE",
									"orientation": "v",
									"showlegend": true,
									"type": "scatter",
									"x": [
										-0.1641846877269105,
										-0.14763112439785075,
										-0.12853967549410825,
										-0.16865464102941627,
										-0.18173703183052284,
										-0.16549456415255323,
										-0.1462066337849643,
										-0.22083684313595775,
										-0.13908418072053205,
										-0.17823311239192857,
										-0.17322283506384523,
										-0.22450449712775736,
										-0.17936288080904542,
										-0.23644074605642657,
										-0.27180740954877974
									],
									"xaxis": "x",
									"y": [
										-0.6694547446818297,
										-0.8511075605299669,
										-0.669478202155552,
										-0.8244309169437158,
										-0.9307373868325645,
										-0.9844953799333962,
										-1.039332362353199,
										-1.0437540932828977,
										-1.0297691901083998,
										-1.08625236424985,
										-1.1151069892599343,
										-1.1592691410970148,
										-1.308795103226589,
										-1.2592033862423198,
										-1.2912337552602406
									],
									"yaxis": "y"
								},
								{
									"hovertemplate": "country=IS<br>energy=%{x}<br>carbon=%{y}<extra></extra>",
									"legendgroup": "IS",
									"marker": {
										"color": "#B6E880",
										"symbol": "circle"
									},
									"mode": "markers",
									"name": "IS",
									"orientation": "v",
									"showlegend": true,
									"type": "scatter",
									"x": [
										-0.3730117368849997,
										-0.3730117368849997,
										-0.3730117368849997,
										-0.3730117368849997,
										-0.3730117368849997,
										-0.3730117368849997,
										-0.3730117368849997,
										-0.3730117368849997,
										-0.3730117368849997,
										-0.3730117368849997,
										-0.3730117368849997,
										-0.3730117368849997,
										-0.3730117368849997,
										-0.3730117368849997,
										null
									],
									"xaxis": "x",
									"y": [
										2.64385841882039,
										2.206922904964012,
										2.207952829114897,
										2.02751464137078,
										2.119438067497162,
										2.349619078264414,
										2.285901764868609,
										2.7215873439980265,
										3.014983912740825,
										3.2491836228145874,
										4.387712198722648,
										3.102183507671248,
										1.54751448269646,
										1.485382945556187,
										2.0428229480111293
									],
									"yaxis": "y"
								},
								{
									"hovertemplate": "country=NO<br>energy=%{x}<br>carbon=%{y}<extra></extra>",
									"legendgroup": "NO",
									"marker": {
										"color": "#FF97FF",
										"symbol": "circle"
									},
									"mode": "markers",
									"name": "NO",
									"orientation": "v",
									"showlegend": true,
									"type": "scatter",
									"x": [
										-0.3171455073313381,
										-0.2804853408686627,
										-0.13276402696680598,
										-0.18874487070771134,
										-0.3043905856366422,
										-0.20706676721138875,
										-0.2690894159655711,
										-0.2523229977173444,
										-0.2790281033451352,
										-0.27295355142121713,
										-0.23646163858541555,
										-0.1707504433104446,
										-0.29939430761285785,
										-0.23817520255198604,
										-0.1557196113261945
									],
									"xaxis": "x",
									"y": [
										1.0968796665721194,
										0.8272413530159188,
										0.9687530156360906,
										1.2092896036930045,
										1.1304430138944526,
										1.106348816835652,
										1.0363223059637567,
										1.388010086243886,
										0.8745873107547625,
										0.9768142157581334,
										1.1163813277743144,
										1.1050222797815854,
										0.7734308085225999,
										0.7296830787441889,
										0.7341580921413929
									],
									"yaxis": "y"
								},
								{
									"hovertemplate": "country=RS<br>energy=%{x}<br>carbon=%{y}<extra></extra>",
									"legendgroup": "RS",
									"marker": {
										"color": "#FECB52",
										"symbol": "circle"
									},
									"mode": "markers",
									"name": "RS",
									"orientation": "v",
									"showlegend": true,
									"type": "scatter",
									"x": [
										-0.22769732091526146,
										-0.28813174450335205,
										-0.28099291798359927,
										-0.26329321278210216,
										-0.2783567916769933,
										-0.30625715954318306,
										-0.25826656199869824,
										-0.2698098479996746,
										-0.29003106532053397,
										-0.2657788834077677,
										-0.2682215082193956,
										-0.28432313143469795,
										-0.2900060466808042,
										-0.2586593939387485,
										-0.23470794327985445
									],
									"xaxis": "x",
									"y": [
										null,
										null,
										null,
										null,
										null,
										null,
										null,
										null,
										null,
										null,
										null,
										null,
										null,
										null,
										null
									],
									"yaxis": "y"
								},
								{
									"hovertemplate": "country=TR<br>energy=%{x}<br>carbon=%{y}<extra></extra>",
									"legendgroup": "TR",
									"marker": {
										"color": "#636efa",
										"symbol": "circle"
									},
									"mode": "markers",
									"name": "TR",
									"orientation": "v",
									"showlegend": true,
									"type": "scatter",
									"x": [
										-0.3600930806370985,
										-0.3597164911647262,
										-0.35428050399830896,
										-0.2984142744446473,
										-0.27760361273224876,
										-0.25137333730875344,
										-0.2427936467207937,
										-0.2561707597176699,
										-0.2693677647060202,
										-0.32834056268455736,
										-0.3324565382564885,
										-0.3368017422029071,
										-0.3420737492142892,
										-0.3347886749916134,
										-0.26758607079186103
									],
									"xaxis": "x",
									"y": [
										null,
										null,
										null,
										null,
										null,
										null,
										null,
										null,
										null,
										null,
										null,
										null,
										null,
										null,
										null
									],
									"yaxis": "y"
								}
							],
							"layout": {
								"legend": {
									"title": {
										"text": "country"
									},
									"tracegroupgap": 0
								},
								"margin": {
									"t": 60
								},
								"template": {
									"data": {
										"bar": [
											{
												"error_x": {
													"color": "#2a3f5f"
												},
												"error_y": {
													"color": "#2a3f5f"
												},
												"marker": {
													"line": {
														"color": "#E5ECF6",
														"width": 0.5
													},
													"pattern": {
														"fillmode": "overlay",
														"size": 10,
														"solidity": 0.2
													}
												},
												"type": "bar"
											}
										],
										"barpolar": [
											{
												"marker": {
													"line": {
														"color": "#E5ECF6",
														"width": 0.5
													},
													"pattern": {
														"fillmode": "overlay",
														"size": 10,
														"solidity": 0.2
													}
												},
												"type": "barpolar"
											}
										],
										"carpet": [
											{
												"aaxis": {
													"endlinecolor": "#2a3f5f",
													"gridcolor": "white",
													"linecolor": "white",
													"minorgridcolor": "white",
													"startlinecolor": "#2a3f5f"
												},
												"baxis": {
													"endlinecolor": "#2a3f5f",
													"gridcolor": "white",
													"linecolor": "white",
													"minorgridcolor": "white",
													"startlinecolor": "#2a3f5f"
												},
												"type": "carpet"
											}
										],
										"choropleth": [
											{
												"colorbar": {
													"outlinewidth": 0,
													"ticks": ""
												},
												"type": "choropleth"
											}
										],
										"contour": [
											{
												"colorbar": {
													"outlinewidth": 0,
													"ticks": ""
												},
												"colorscale": [
													[
														0,
														"#0d0887"
													],
													[
														0.1111111111111111,
														"#46039f"
													],
													[
														0.2222222222222222,
														"#7201a8"
													],
													[
														0.3333333333333333,
														"#9c179e"
													],
													[
														0.4444444444444444,
														"#bd3786"
													],
													[
														0.5555555555555556,
														"#d8576b"
													],
													[
														0.6666666666666666,
														"#ed7953"
													],
													[
														0.7777777777777778,
														"#fb9f3a"
													],
													[
														0.8888888888888888,
														"#fdca26"
													],
													[
														1,
														"#f0f921"
													]
												],
												"type": "contour"
											}
										],
										"contourcarpet": [
											{
												"colorbar": {
													"outlinewidth": 0,
													"ticks": ""
												},
												"type": "contourcarpet"
											}
										],
										"heatmap": [
											{
												"colorbar": {
													"outlinewidth": 0,
													"ticks": ""
												},
												"colorscale": [
													[
														0,
														"#0d0887"
													],
													[
														0.1111111111111111,
														"#46039f"
													],
													[
														0.2222222222222222,
														"#7201a8"
													],
													[
														0.3333333333333333,
														"#9c179e"
													],
													[
														0.4444444444444444,
														"#bd3786"
													],
													[
														0.5555555555555556,
														"#d8576b"
													],
													[
														0.6666666666666666,
														"#ed7953"
													],
													[
														0.7777777777777778,
														"#fb9f3a"
													],
													[
														0.8888888888888888,
														"#fdca26"
													],
													[
														1,
														"#f0f921"
													]
												],
												"type": "heatmap"
											}
										],
										"heatmapgl": [
											{
												"colorbar": {
													"outlinewidth": 0,
													"ticks": ""
												},
												"colorscale": [
													[
														0,
														"#0d0887"
													],
													[
														0.1111111111111111,
														"#46039f"
													],
													[
														0.2222222222222222,
														"#7201a8"
													],
													[
														0.3333333333333333,
														"#9c179e"
													],
													[
														0.4444444444444444,
														"#bd3786"
													],
													[
														0.5555555555555556,
														"#d8576b"
													],
													[
														0.6666666666666666,
														"#ed7953"
													],
													[
														0.7777777777777778,
														"#fb9f3a"
													],
													[
														0.8888888888888888,
														"#fdca26"
													],
													[
														1,
														"#f0f921"
													]
												],
												"type": "heatmapgl"
											}
										],
										"histogram": [
											{
												"marker": {
													"pattern": {
														"fillmode": "overlay",
														"size": 10,
														"solidity": 0.2
													}
												},
												"type": "histogram"
											}
										],
										"histogram2d": [
											{
												"colorbar": {
													"outlinewidth": 0,
													"ticks": ""
												},
												"colorscale": [
													[
														0,
														"#0d0887"
													],
													[
														0.1111111111111111,
														"#46039f"
													],
													[
														0.2222222222222222,
														"#7201a8"
													],
													[
														0.3333333333333333,
														"#9c179e"
													],
													[
														0.4444444444444444,
														"#bd3786"
													],
													[
														0.5555555555555556,
														"#d8576b"
													],
													[
														0.6666666666666666,
														"#ed7953"
													],
													[
														0.7777777777777778,
														"#fb9f3a"
													],
													[
														0.8888888888888888,
														"#fdca26"
													],
													[
														1,
														"#f0f921"
													]
												],
												"type": "histogram2d"
											}
										],
										"histogram2dcontour": [
											{
												"colorbar": {
													"outlinewidth": 0,
													"ticks": ""
												},
												"colorscale": [
													[
														0,
														"#0d0887"
													],
													[
														0.1111111111111111,
														"#46039f"
													],
													[
														0.2222222222222222,
														"#7201a8"
													],
													[
														0.3333333333333333,
														"#9c179e"
													],
													[
														0.4444444444444444,
														"#bd3786"
													],
													[
														0.5555555555555556,
														"#d8576b"
													],
													[
														0.6666666666666666,
														"#ed7953"
													],
													[
														0.7777777777777778,
														"#fb9f3a"
													],
													[
														0.8888888888888888,
														"#fdca26"
													],
													[
														1,
														"#f0f921"
													]
												],
												"type": "histogram2dcontour"
											}
										],
										"mesh3d": [
											{
												"colorbar": {
													"outlinewidth": 0,
													"ticks": ""
												},
												"type": "mesh3d"
											}
										],
										"parcoords": [
											{
												"line": {
													"colorbar": {
														"outlinewidth": 0,
														"ticks": ""
													}
												},
												"type": "parcoords"
											}
										],
										"pie": [
											{
												"automargin": true,
												"type": "pie"
											}
										],
										"scatter": [
											{
												"fillpattern": {
													"fillmode": "overlay",
													"size": 10,
													"solidity": 0.2
												},
												"type": "scatter"
											}
										],
										"scatter3d": [
											{
												"line": {
													"colorbar": {
														"outlinewidth": 0,
														"ticks": ""
													}
												},
												"marker": {
													"colorbar": {
														"outlinewidth": 0,
														"ticks": ""
													}
												},
												"type": "scatter3d"
											}
										],
										"scattercarpet": [
											{
												"marker": {
													"colorbar": {
														"outlinewidth": 0,
														"ticks": ""
													}
												},
												"type": "scattercarpet"
											}
										],
										"scattergeo": [
											{
												"marker": {
													"colorbar": {
														"outlinewidth": 0,
														"ticks": ""
													}
												},
												"type": "scattergeo"
											}
										],
										"scattergl": [
											{
												"marker": {
													"colorbar": {
														"outlinewidth": 0,
														"ticks": ""
													}
												},
												"type": "scattergl"
											}
										],
										"scattermapbox": [
											{
												"marker": {
													"colorbar": {
														"outlinewidth": 0,
														"ticks": ""
													}
												},
												"type": "scattermapbox"
											}
										],
										"scatterpolar": [
											{
												"marker": {
													"colorbar": {
														"outlinewidth": 0,
														"ticks": ""
													}
												},
												"type": "scatterpolar"
											}
										],
										"scatterpolargl": [
											{
												"marker": {
													"colorbar": {
														"outlinewidth": 0,
														"ticks": ""
													}
												},
												"type": "scatterpolargl"
											}
										],
										"scatterternary": [
											{
												"marker": {
													"colorbar": {
														"outlinewidth": 0,
														"ticks": ""
													}
												},
												"type": "scatterternary"
											}
										],
										"surface": [
											{
												"colorbar": {
													"outlinewidth": 0,
													"ticks": ""
												},
												"colorscale": [
													[
														0,
														"#0d0887"
													],
													[
														0.1111111111111111,
														"#46039f"
													],
													[
														0.2222222222222222,
														"#7201a8"
													],
													[
														0.3333333333333333,
														"#9c179e"
													],
													[
														0.4444444444444444,
														"#bd3786"
													],
													[
														0.5555555555555556,
														"#d8576b"
													],
													[
														0.6666666666666666,
														"#ed7953"
													],
													[
														0.7777777777777778,
														"#fb9f3a"
													],
													[
														0.8888888888888888,
														"#fdca26"
													],
													[
														1,
														"#f0f921"
													]
												],
												"type": "surface"
											}
										],
										"table": [
											{
												"cells": {
													"fill": {
														"color": "#EBF0F8"
													},
													"line": {
														"color": "white"
													}
												},
												"header": {
													"fill": {
														"color": "#C8D4E3"
													},
													"line": {
														"color": "white"
													}
												},
												"type": "table"
											}
										]
									},
									"layout": {
										"annotationdefaults": {
											"arrowcolor": "#2a3f5f",
											"arrowhead": 0,
											"arrowwidth": 1
										},
										"autotypenumbers": "strict",
										"coloraxis": {
											"colorbar": {
												"outlinewidth": 0,
												"ticks": ""
											}
										},
										"colorscale": {
											"diverging": [
												[
													0,
													"#8e0152"
												],
												[
													0.1,
													"#c51b7d"
												],
												[
													0.2,
													"#de77ae"
												],
												[
													0.3,
													"#f1b6da"
												],
												[
													0.4,
													"#fde0ef"
												],
												[
													0.5,
													"#f7f7f7"
												],
												[
													0.6,
													"#e6f5d0"
												],
												[
													0.7,
													"#b8e186"
												],
												[
													0.8,
													"#7fbc41"
												],
												[
													0.9,
													"#4d9221"
												],
												[
													1,
													"#276419"
												]
											],
											"sequential": [
												[
													0,
													"#0d0887"
												],
												[
													0.1111111111111111,
													"#46039f"
												],
												[
													0.2222222222222222,
													"#7201a8"
												],
												[
													0.3333333333333333,
													"#9c179e"
												],
												[
													0.4444444444444444,
													"#bd3786"
												],
												[
													0.5555555555555556,
													"#d8576b"
												],
												[
													0.6666666666666666,
													"#ed7953"
												],
												[
													0.7777777777777778,
													"#fb9f3a"
												],
												[
													0.8888888888888888,
													"#fdca26"
												],
												[
													1,
													"#f0f921"
												]
											],
											"sequentialminus": [
												[
													0,
													"#0d0887"
												],
												[
													0.1111111111111111,
													"#46039f"
												],
												[
													0.2222222222222222,
													"#7201a8"
												],
												[
													0.3333333333333333,
													"#9c179e"
												],
												[
													0.4444444444444444,
													"#bd3786"
												],
												[
													0.5555555555555556,
													"#d8576b"
												],
												[
													0.6666666666666666,
													"#ed7953"
												],
												[
													0.7777777777777778,
													"#fb9f3a"
												],
												[
													0.8888888888888888,
													"#fdca26"
												],
												[
													1,
													"#f0f921"
												]
											]
										},
										"colorway": [
											"#636efa",
											"#EF553B",
											"#00cc96",
											"#ab63fa",
											"#FFA15A",
											"#19d3f3",
											"#FF6692",
											"#B6E880",
											"#FF97FF",
											"#FECB52"
										],
										"font": {
											"color": "#2a3f5f"
										},
										"geo": {
											"bgcolor": "white",
											"lakecolor": "white",
											"landcolor": "#E5ECF6",
											"showlakes": true,
											"showland": true,
											"subunitcolor": "white"
										},
										"hoverlabel": {
											"align": "left"
										},
										"hovermode": "closest",
										"mapbox": {
											"style": "light"
										},
										"paper_bgcolor": "white",
										"plot_bgcolor": "#E5ECF6",
										"polar": {
											"angularaxis": {
												"gridcolor": "white",
												"linecolor": "white",
												"ticks": ""
											},
											"bgcolor": "#E5ECF6",
											"radialaxis": {
												"gridcolor": "white",
												"linecolor": "white",
												"ticks": ""
											}
										},
										"scene": {
											"xaxis": {
												"backgroundcolor": "#E5ECF6",
												"gridcolor": "white",
												"gridwidth": 2,
												"linecolor": "white",
												"showbackground": true,
												"ticks": "",
												"zerolinecolor": "white"
											},
											"yaxis": {
												"backgroundcolor": "#E5ECF6",
												"gridcolor": "white",
												"gridwidth": 2,
												"linecolor": "white",
												"showbackground": true,
												"ticks": "",
												"zerolinecolor": "white"
											},
											"zaxis": {
												"backgroundcolor": "#E5ECF6",
												"gridcolor": "white",
												"gridwidth": 2,
												"linecolor": "white",
												"showbackground": true,
												"ticks": "",
												"zerolinecolor": "white"
											}
										},
										"shapedefaults": {
											"line": {
												"color": "#2a3f5f"
											}
										},
										"ternary": {
											"aaxis": {
												"gridcolor": "white",
												"linecolor": "white",
												"ticks": ""
											},
											"baxis": {
												"gridcolor": "white",
												"linecolor": "white",
												"ticks": ""
											},
											"bgcolor": "#E5ECF6",
											"caxis": {
												"gridcolor": "white",
												"linecolor": "white",
												"ticks": ""
											}
										},
										"title": {
											"x": 0.05
										},
										"xaxis": {
											"automargin": true,
											"gridcolor": "white",
											"linecolor": "white",
											"ticks": "",
											"title": {
												"standoff": 15
											},
											"zerolinecolor": "white",
											"zerolinewidth": 2
										},
										"yaxis": {
											"automargin": true,
											"gridcolor": "white",
											"linecolor": "white",
											"ticks": "",
											"title": {
												"standoff": 15
											},
											"zerolinecolor": "white",
											"zerolinewidth": 2
										}
									}
								},
								"xaxis": {
									"anchor": "y",
									"domain": [
										0,
										1
									],
									"title": {
										"text": "energy"
									}
								},
								"yaxis": {
									"anchor": "x",
									"domain": [
										0,
										1
									],
									"title": {
										"text": "carbon"
									}
								}
							}
						}
					},
					"metadata": {},
					"output_type": "display_data"
				}
			],
			"source": [
				"fig = px.scatter(df_merged_s, x=\"energy\", y=\"carbon\", color=\"country\")\n",
				"fig.show()"
			]
		},
		{
			"cell_type": "code",
			"execution_count": 319,
			"metadata": {},
			"outputs": [
				{
					"data": {
						"text/plain": [
							"'<div>                            <div id=\"4640d6a8-6095-497b-aba0-bd64f2f2238d\" class=\"plotly-graph-div\" style=\"height:100%; width:100%;\"></div>            <script type=\"text/javascript\">                                    window.PLOTLYENV=window.PLOTLYENV || {};                                    if (document.getElementById(\"4640d6a8-6095-497b-aba0-bd64f2f2238d\")) {                    Plotly.newPlot(                        \"4640d6a8-6095-497b-aba0-bd64f2f2238d\",                        [{\"hovertemplate\":\"country=BE\\\\u003cbr\\\\u003eenergy=%{x}\\\\u003cbr\\\\u003ecarbon=%{y}\\\\u003cextra\\\\u003e\\\\u003c\\\\u002fextra\\\\u003e\",\"legendgroup\":\"BE\",\"marker\":{\"color\":\"#636efa\",\"symbol\":\"circle\"},\"mode\":\"markers\",\"name\":\"BE\",\"orientation\":\"v\",\"showlegend\":true,\"x\":[-0.09207599049527926,-0.21769313971441526,-0.17006275818698216,-0.15706223466247826,-0.09715176164464477,-0.09068424679303388,-0.016217771995245763,0.015268382586140905,-0.13317336334981933,-0.14068222995981616,-0.018757294915460545,-0.16450560745119297,-0.14833682032216577,-0.12424000612693603,-0.10531229177639885],\"xaxis\":\"x\",\"y\":[0.47760478084574987,0.199320222126489,0.32643243314201936,0.1434134570209363,0.04985034780797156,-0.009229465346972774,-0.06742077142345268,-0.019344179359169867,-0.038858763178727135,-0.04446064040838501,-0.018471934204128775,-0.02843673447927031,-0.19339400025659154,-0.20570899879715415,-0.28625792517573434],\"yaxis\":\"y\",\"type\":\"scatter\"},{\"hovertemplate\":\"country=BG\\\\u003cbr\\\\u003eenergy=%{x}\\\\u003cbr\\\\u003ecarbon=%{y}\\\\u003cextra\\\\u003e\\\\u003c\\\\u002fextra\\\\u003e\",\"legendgroup\":\"BG\",\"marker\":{\"color\":\"#EF553B\",\"symbol\":\"circle\"},\"mode\":\"markers\",\"name\":\"BG\",\"orientation\":\"v\",\"showlegend\":true,\"x\":[-0.3223031457573063,-0.3294255988217385,-0.35390391452593667,-0.34928660012554613,-0.33448499651578345,-0.3181442881058907,-0.3022947833556138,-0.3034081783174102,-0.2982177929808009,-0.3123411589508211,-0.33661803203421076,-0.323155433227106,-0.3123196606039852,-0.342606623317696,-0.34894270844344893],\"xaxis\":\"x\",\"y\":[0.10663759653249247,-0.17070549066366839,-0.07062173210699872,0.11945027215462098,-0.03658967217331065,-0.20448125266752779,-0.07361006605497691,0.04020188987675464,-0.032621178551857595,0.05628309322216829,-0.08906911487076365,-0.12621769439457095,-0.3479379159251024,-0.11186632058646587,0.12985102553320169],\"yaxis\":\"y\",\"type\":\"scatter\"},{\"hovertemplate\":\"country=CZ\\\\u003cbr\\\\u003eenergy=%{x}\\\\u003cbr\\\\u003ecarbon=%{y}\\\\u003cextra\\\\u003e\\\\u003c\\\\u002fextra\\\\u003e\",\"legendgroup\":\"CZ\",\"marker\":{\"color\":\"#00cc96\",\"symbol\":\"circle\"},\"mode\":\"markers\",\"name\":\"CZ\",\"orientation\":\"v\",\"showlegend\":true,\"x\":[-0.233509897554051,-0.23242924950289576,-0.26425924664601363,-0.20179451459817685,-0.18329251008597355,-0.199927940691636,-0.1791172789792374,-0.10864592727965956,-0.14677970472118299,-0.1262310346673683,-0.18351502534377961,-0.1924745309748098,-0.15413055111388135,-0.1249050795086008,-0.09914809518460085],\"xaxis\":\"x\",\"y\":[1.0460820477330466,0.7833664025646742,0.8285319256853165,0.7702814984490651,0.6556596587653218,0.5348980058228977,0.5199478775557195,0.5020342597350042,0.5459529493914188,0.49405218732751605,0.5086101879828145,0.3701966357906448,0.11979058875740493,0.28557782981850793,0.2399744008482942],\"yaxis\":\"y\",\"type\":\"scatter\"},{\"hovertemplate\":\"country=DK\\\\u003cbr\\\\u003eenergy=%{x}\\\\u003cbr\\\\u003ecarbon=%{y}\\\\u003cextra\\\\u003e\\\\u003c\\\\u002fextra\\\\u003e\",\"legendgroup\":\"DK\",\"marker\":{\"color\":\"#ab63fa\",\"symbol\":\"circle\"},\"mode\":\"markers\",\"name\":\"DK\",\"orientation\":\"v\",\"showlegend\":true,\"x\":[-0.16318590695235793,-0.1894980496524559,-0.19946948394266104,-0.18154055036667643,-0.11234632818210022,-0.1853883123670019,-0.16503610740357827,-0.11685317087944315,-0.1277953709621474,-0.12383870911048506,-0.11703553842480323,-0.1113328276712145,-0.06856416711174156,-0.04358027185415599,-0.06597331340909691],\"xaxis\":\"x\",\"y\":[2.661041427886728,2.3331398791174665,2.2296302171819464,2.189425471076711,1.8704410009283043,1.7904627114880676,1.5121748594068065,1.486478202575164,1.594981092018486,1.5802812946757927,1.6690683308569074,1.5156571597128072,1.0926557588201993,1.2996711190213062,1.1180281763216164],\"yaxis\":\"y\",\"type\":\"scatter\"},{\"hovertemplate\":\"country=DE\\\\u003cbr\\\\u003eenergy=%{x}\\\\u003cbr\\\\u003ecarbon=%{y}\\\\u003cextra\\\\u003e\\\\u003c\\\\u002fextra\\\\u003e\",\"legendgroup\":\"DE\",\"marker\":{\"color\":\"#FFA15A\",\"symbol\":\"circle\"},\"mode\":\"markers\",\"name\":\"DE\",\"orientation\":\"v\",\"showlegend\":true,\"x\":[0.3092701463216474,0.3123647293772283,0.3304246505957772,0.46208360482819016,0.3845552938854622,0.26918792769698047,0.28904892900078805,0.2329370976173184,0.0909792399882896,0.08285800614930479,0.14646888006957895,0.2839895313067431,0.4105072205685084,0.4740034803015388,0.4347071875322575],\"xaxis\":\"x\",\"y\":[0.5471033040435122,0.34618222928032183,0.43370528982034795,0.434069899394443,0.45911207514779634,0.49010997736546447,0.3499810894641423,0.3554379727640335,0.31850570287523444,0.27506564849613446,0.1963019266785962,-0.0055432573674733965,-0.23092013768020578,-0.10740834787595224,-0.14187416027948505],\"yaxis\":\"y\",\"type\":\"scatter\"},{\"hovertemplate\":\"country=EE\\\\u003cbr\\\\u003eenergy=%{x}\\\\u003cbr\\\\u003ecarbon=%{y}\\\\u003cextra\\\\u003e\\\\u003c\\\\u002fextra\\\\u003e\",\"legendgroup\":\"EE\",\"marker\":{\"color\":\"#19d3f3\",\"symbol\":\"circle\"},\"mode\":\"markers\",\"name\":\"EE\",\"orientation\":\"v\",\"showlegend\":true,\"x\":[-0.3505964765511888,-0.3234820345403847,-0.35500093603241245,-0.3453405973932974,-0.3286396729663529,-0.3286069260557118,-0.31193874853940834,-0.283743658477449,-0.31444388720345,-0.33566388529886193,-0.3230235777914098,-0.29342037057188447,-0.2523884915386266,-0.25295439090141486,-0.2554012073176048],\"xaxis\":\"x\",\"y\":[1.9079734594822086,1.2227419591939221,2.1133072573761775,2.120204834783178,1.95814709347625,2.4262104966498637,2.254439755610806,1.5922152294795804,1.8024882735922267,2.0698508576013452,1.817378463682793,0.6706767166473364,0.002782144234305275,0.2476074552971768,0.5752527693732079],\"yaxis\":\"y\",\"type\":\"scatter\"},{\"hovertemplate\":\"country=IE\\\\u003cbr\\\\u003eenergy=%{x}\\\\u003cbr\\\\u003ecarbon=%{y}\\\\u003cextra\\\\u003e\\\\u003c\\\\u002fextra\\\\u003e\",\"legendgroup\":\"IE\",\"marker\":{\"color\":\"#FF6692\",\"symbol\":\"circle\"},\"mode\":\"markers\",\"name\":\"IE\",\"orientation\":\"v\",\"showlegend\":true,\"x\":[-0.3606820174515228,-0.35763350929921384,-0.3605697610418452,-0.3610325567564801,-0.36018141542855275,-0.3300287314219257,-0.32629802325368673,-0.3443258524998074,-0.3587461510820654,-0.35473228037751314,-0.34646186798710293,-0.33732449751092575,-0.34417624823854365,-0.3328850643291375,-0.347115005119839],\"xaxis\":\"x\",\"y\":[0.9224809956771697,0.6313070831670679,1.034786273906455,0.8997445173308171,0.9965101732011943,0.9975864651502488,1.0076625542486684,1.112327763825672,1.3175275709578453,1.4225407209418326,1.4446961561353509,1.3030380378314357,0.637157783760725,0.7543788094890421,1.0339818942678933],\"yaxis\":\"y\",\"type\":\"scatter\"},{\"hovertemplate\":\"country=EL\\\\u003cbr\\\\u003eenergy=%{x}\\\\u003cbr\\\\u003ecarbon=%{y}\\\\u003cextra\\\\u003e\\\\u003c\\\\u002fextra\\\\u003e\",\"legendgroup\":\"EL\",\"marker\":{\"color\":\"#B6E880\",\"symbol\":\"circle\"},\"mode\":\"markers\",\"name\":\"EL\",\"orientation\":\"v\",\"showlegend\":true,\"x\":[-0.2489828128319555,-0.24857347644894218,-0.2335590179200126,-0.2554503276835664,-0.27552418390654093,-0.27824217748974955,-0.2181024760974286,-0.1915774784781637,-0.21201155071819,-0.23062816941763703,-0.23301869389443497,-0.19180670685265117,-0.21204429762883106,-0.24888457210003231,-0.24610108469554154],\"xaxis\":\"x\",\"y\":[0.7766251510857198,0.6075758197869613,0.5151436414727893,0.42187057323810007,0.40606819522802257,0.23786057086662116,0.18113089779942804,0.10615837694901664,0.06812464694534244,0.20681310633326488,0.20108801385803246,0.0602725839234684,-0.20073097336740117,-0.13863241199052587,-0.11785345034511932],\"yaxis\":\"y\",\"type\":\"scatter\"},{\"hovertemplate\":\"country=ES\\\\u003cbr\\\\u003eenergy=%{x}\\\\u003cbr\\\\u003ecarbon=%{y}\\\\u003cextra\\\\u003e\\\\u003c\\\\u002fextra\\\\u003e\",\"legendgroup\":\"ES\",\"marker\":{\"color\":\"#FF97FF\",\"symbol\":\"circle\"},\"mode\":\"markers\",\"name\":\"ES\",\"orientation\":\"v\",\"showlegend\":true,\"x\":[-0.27671944614493993,-0.26247454001607545,-0.2877715284863003,-0.2431374892825249,-0.24551164030400233,-0.21112738413088117,-0.17145450188922756,-0.1281303391110949,-0.015333605407936933,0.01605430844152653,0.020245913003583207,-0.06648689958213608,-0.07946246996073147,-0.08792985501864768,-0.24150800300902536],\"xaxis\":\"x\",\"y\":[-0.16265190778221864,-0.3837245207878815,-0.4690477596914361,-0.4372997601305343,-0.4540680721091038,-0.599426340797544,-0.5838300508588488,-0.5280221397320345,-0.5956811153662929,-0.5248178958043441,-0.5726842489469822,-0.6745243787056803,-0.8581794897033742,-0.7981549445463608,-0.7657941191187012],\"yaxis\":\"y\",\"type\":\"scatter\"},{\"hovertemplate\":\"country=FR\\\\u003cbr\\\\u003eenergy=%{x}\\\\u003cbr\\\\u003ecarbon=%{y}\\\\u003cextra\\\\u003e\\\\u003c\\\\u002fextra\\\\u003e\",\"legendgroup\":\"FR\",\"marker\":{\"color\":\"#FECB52\",\"symbol\":\"circle\"},\"mode\":\"markers\",\"name\":\"FR\",\"orientation\":\"v\",\"showlegend\":true,\"x\":[-0.1970298390999015,-0.06982446471467371,-0.05413869451760225,-0.21744753788460724,-0.17304272705531934,-0.18165516455392017,-0.2441035231464364,-0.20991574843716165,-0.04713085564041374,-0.027217786748686836,-0.15177213498296696,-0.11706597667824412,-0.053138243650607,0.025427309313221493,0.485567544217317],\"xaxis\":\"x\",\"y\":[-0.3286732633747333,-0.45186855400830056,-0.4347234480280222,-0.5108459441109416,-0.5274197984931485,-0.5514584170319374,-0.6465309711808572,-0.6524513433282199,-0.6610274805687076,-0.6271403867406837,-0.6699542419773782,-0.7044929737662662,-0.835237085171329,-0.7821476040763375,-0.782130805906567],\"yaxis\":\"y\",\"type\":\"scatter\"},{\"hovertemplate\":\"country=HR\\\\u003cbr\\\\u003eenergy=%{x}\\\\u003cbr\\\\u003ecarbon=%{y}\\\\u003cextra\\\\u003e\\\\u003c\\\\u002fextra\\\\u003e\",\"legendgroup\":\"HR\",\"marker\":{\"color\":\"#636efa\",\"symbol\":\"circle\"},\"mode\":\"markers\",\"name\":\"HR\",\"orientation\":\"v\",\"showlegend\":true,\"x\":[-0.17237141538717746,-0.17829860621321073,-0.1697352890805715,-0.1440289642273333,-0.15730783649228627,-0.18864662997578813,-0.1945738208018214,-0.1575698117774148,-0.17001363782102058,-0.17394490444348076,-0.16517691911933488,-0.18634124746665698,-0.2012378171172787,-0.18464004545885349,-0.17784506150083193],\"xaxis\":\"x\",\"y\":[-0.5587837014900578,-0.6925881834455523,-0.7031123948982418,-0.707049270220925,-0.8031997326463323,-0.85483747599482,-0.8863875981241642,-0.8747249989131,-0.8675823923379525,-0.805451985010556,-0.8602720974829129,-0.84019423999443,-0.8780924059097622,-0.8409860734920394,-0.8462912066640823],\"yaxis\":\"y\",\"type\":\"scatter\"},{\"hovertemplate\":\"country=IT\\\\u003cbr\\\\u003eenergy=%{x}\\\\u003cbr\\\\u003ecarbon=%{y}\\\\u003cextra\\\\u003e\\\\u003c\\\\u002fextra\\\\u003e\",\"legendgroup\":\"IT\",\"marker\":{\"color\":\"#EF553B\",\"symbol\":\"circle\"},\"mode\":\"markers\",\"name\":\"IT\",\"orientation\":\"v\",\"showlegend\":true,\"x\":[0.33813654805174864,0.3976868050525304,0.3799543529403922,0.40503848649145013,0.3704577488544825,0.3529545251168318,0.3923981789839979,0.459562092708828,0.33401043731097413,0.3293256806481183,0.39932749076946916,0.34700997842815884,0.2784870679117245,0.38952787951939766,0.4029437484850176],\"xaxis\":\"x\",\"y\":[-0.03967323031932811,-0.3062620867334445,-0.2590272521957971,-0.3025761114646243,-0.370516942731973,-0.5293944978423785,-0.6143408137415656,-0.596453244340109,-0.6029101309577823,-0.5979516734607722,-0.6169758245833779,-0.6350711287372166,-0.7577984634900616,-0.6509362121574145,-0.6375484831529705],\"yaxis\":\"y\",\"type\":\"scatter\"},{\"hovertemplate\":\"country=CY\\\\u003cbr\\\\u003eenergy=%{x}\\\\u003cbr\\\\u003ecarbon=%{y}\\\\u003cextra\\\\u003e\\\\u003c\\\\u002fextra\\\\u003e\",\"legendgroup\":\"CY\",\"marker\":{\"color\":\"#00cc96\",\"symbol\":\"circle\"},\"mode\":\"markers\",\"name\":\"CY\",\"orientation\":\"v\",\"showlegend\":true,\"x\":[-0.3730117368849997,-0.3730117368849997,-0.3730117368849997,-0.3730117368849997,-0.3730117368849997,-0.3730117368849997,-0.3730117368849997,-0.3730117368849997,-0.3730117368849997,-0.3730117368849997,-0.3730117368849997,-0.3730117368849997,-0.3730117368849997,-0.3730117368849997,-0.3730117368849997],\"xaxis\":\"x\",\"y\":[0.8172797547574604,0.6519761522532697,0.46986456059974857,0.2381676073128518,0.02320329803404827,-0.15933848460414413,-0.03586732051961388,-0.077385986530674,0.027843708328464126,0.08942927419038561,0.08257116653810571,0.004366097058945225,-0.06828175287573993,-0.0782264059709052,-0.07838995351839043],\"yaxis\":\"y\",\"type\":\"scatter\"},{\"hovertemplate\":\"country=LV\\\\u003cbr\\\\u003eenergy=%{x}\\\\u003cbr\\\\u003ecarbon=%{y}\\\\u003cextra\\\\u003e\\\\u003c\\\\u002fextra\\\\u003e\",\"legendgroup\":\"LV\",\"marker\":{\"color\":\"#ab63fa\",\"symbol\":\"circle\"},\"mode\":\"markers\",\"name\":\"LV\",\"orientation\":\"v\",\"showlegend\":true,\"x\":[-0.2969897838317609,-0.3032771906748459,-0.3079599988965186,-0.30737055450497935,-0.29220873487816496,-0.2910625930057276,-0.28557748547334877,-0.28711659027347897,-0.2939606945974621,-0.3063240942285334,-0.2883006858153493,-0.2975176476578396,-0.30467933152121984,-0.29660713618092,-0.28609763740197147],\"xaxis\":\"x\",\"y\":[-0.6701842815424446,-0.8147990041991565,-0.6344352645132431,-0.7018540397259423,-0.7174102376617976,-0.7352865104774696,-0.7319333595393566,-0.6855204641786754,-0.6883654179948558,-0.6587750056116606,-0.5858618073253068,-0.5742094043832299,-0.7617878378360223,-0.7136442933917282,-0.7612011969795736],\"yaxis\":\"y\",\"type\":\"scatter\"},{\"hovertemplate\":\"country=LT\\\\u003cbr\\\\u003eenergy=%{x}\\\\u003cbr\\\\u003ecarbon=%{y}\\\\u003cextra\\\\u003e\\\\u003c\\\\u002fextra\\\\u003e\",\"legendgroup\":\"LT\",\"marker\":{\"color\":\"#FFA15A\",\"symbol\":\"circle\"},\"mode\":\"markers\",\"name\":\"LT\",\"orientation\":\"v\",\"showlegend\":true,\"x\":[-0.28051808777930376,-0.2946975000868861,-0.2391751130949557,-0.2406159771631627,-0.24104168700149659,-0.24082883208232964,-0.23349352409873045,-0.24303924855060172,-0.19116814209515035,-0.17773863404124846,-0.1626537696544406,-0.15577036903768815,-0.1763108687372979,-0.16868902528558938,-0.16123910311474646],\"xaxis\":\"x\",\"y\":[-0.2683931968333091,-0.5805491742927957,-0.49511700655578317,-0.4028085089085431,-0.3969247608690116,-0.47859523383530994,-0.4002589610635739,-0.3241986240265722,-0.33292792536522886,-0.24848466165839853,-0.1706154291014523,-0.13219807554353502,0.02688079706933431,-0.13998794410699655,-0.2495846900967058],\"yaxis\":\"y\",\"type\":\"scatter\"},{\"hovertemplate\":\"country=LU\\\\u003cbr\\\\u003eenergy=%{x}\\\\u003cbr\\\\u003ecarbon=%{y}\\\\u003cextra\\\\u003e\\\\u003c\\\\u002fextra\\\\u003e\",\"legendgroup\":\"LU\",\"marker\":{\"color\":\"#19d3f3\",\"symbol\":\"circle\"},\"mode\":\"markers\",\"name\":\"LU\",\"orientation\":\"v\",\"showlegend\":true,\"x\":[-0.261183116474579,-0.2744030606738333,-0.2538210051446201,-0.25682013095568224,-0.26278403106854414,-0.26082861479343405,-0.2590332326706269,-0.24990373782645892,-0.2466349739531782,-0.24911887624566917,-0.24934283236754343,-0.2613853777681535,-0.26587214660927344,-0.262352230304831,-0.256005617047307],\"xaxis\":\"x\",\"y\":[2.2789272401662513,2.2108286690005357,2.1786691180744535,1.756508361744364,1.6059926906935895,1.4478119092979078,1.475241686499395,1.7751484238913686,1.6333655321921159,1.5398410023625781,1.5290562965994472,1.712405382936471,1.2921978356303037,1.2201386298874772,1.0466474916819999],\"yaxis\":\"y\",\"type\":\"scatter\"},{\"hovertemplate\":\"country=HU\\\\u003cbr\\\\u003eenergy=%{x}\\\\u003cbr\\\\u003ecarbon=%{y}\\\\u003cextra\\\\u003e\\\\u003c\\\\u002fextra\\\\u003e\",\"legendgroup\":\"HU\",\"marker\":{\"color\":\"#FF6692\",\"symbol\":\"circle\"},\"mode\":\"markers\",\"name\":\"HU\",\"orientation\":\"v\",\"showlegend\":true,\"x\":[-0.16385721862049982,-0.1933621851081019,-0.21096364957767583,-0.13291138806469077,-0.09515420009553964,-0.10063930762791849,-0.060622582824533665,-0.046606905070156655,-0.07909184042609589,-0.04876820117246713,-0.06825261300390245,-0.047949528406440435,-0.05903435765844188,-0.046082954499899575,-0.019525209969993608],\"xaxis\":\"x\",\"y\":[-0.4843349440824292,-0.6383296625486267,-0.6133500480259514,-0.6064002371893833,-0.7168084174924754,-0.7505080122793301,-0.7267934787734686,-0.6685019553372079,-0.6734730095644479,-0.6178758887824087,-0.6039589908708244,-0.6401317841642429,-0.7107176657156293,-0.6904963876239261,-0.7210681535875575],\"yaxis\":\"y\",\"type\":\"scatter\"},{\"hovertemplate\":\"country=MT\\\\u003cbr\\\\u003eenergy=%{x}\\\\u003cbr\\\\u003ecarbon=%{y}\\\\u003cextra\\\\u003e\\\\u003c\\\\u002fextra\\\\u003e\",\"legendgroup\":\"MT\",\"marker\":{\"color\":\"#B6E880\",\"symbol\":\"circle\"},\"mode\":\"markers\",\"name\":\"MT\",\"orientation\":\"v\",\"showlegend\":true,\"x\":[-0.3730117368849997,-0.3730117368849997,-0.3730117368849997,-0.3730117368849997,-0.3730117368849997,-0.3730117368849997,-0.3730117368849997,-0.355754114977157,-0.34801457912860445,-0.3583236668144297,-0.36267528915533387,-0.36225837186250714,-0.36613799660688634,-0.36405136346083755,-0.36243220883764526],\"xaxis\":\"x\",\"y\":[-0.18938685389725837,-0.29224854812403606,-0.2509535600763297,-0.248160789100439,-0.16122558103007026,-0.3808387793662879,-0.3992019916892635,-0.8394729760102109,-1.0316863282912887,-0.9666420063733628,-0.980465038409023,-0.9588981993475492,-1.0834862229231879,-1.095854335146756,-1.073560267625183],\"yaxis\":\"y\",\"type\":\"scatter\"},{\"hovertemplate\":\"country=NL\\\\u003cbr\\\\u003eenergy=%{x}\\\\u003cbr\\\\u003ecarbon=%{y}\\\\u003cextra\\\\u003e\\\\u003c\\\\u002fextra\\\\u003e\",\"legendgroup\":\"NL\",\"marker\":{\"color\":\"#FF97FF\",\"symbol\":\"circle\"},\"mode\":\"markers\",\"name\":\"NL\",\"orientation\":\"v\",\"showlegend\":true,\"x\":[0.03578432210276987,-0.12000910527211008,-0.11786418262512013,-0.035391088175590946,0.15348855695496422,0.17143839943339312,0.16493813767114118,0.13063589613572055,0.024169418608221464,-0.005301327357760685,0.06505333072574772,-0.038946502131168285,-0.049254771144227445,-0.031045638627342522,-0.06937504611303569],\"xaxis\":\"x\",\"y\":[0.910274551609408,0.7953590588729375,0.8972310345821566,0.754685147803236,0.6841349772232124,0.6678480854617128,0.6497982560098968,0.7265656540913101,0.6977259511816124,0.642173078311604,0.5517817928875027,0.49341921681024625,0.20590789720465819,0.20263502892131763,0.06956745568427362],\"yaxis\":\"y\",\"type\":\"scatter\"},{\"hovertemplate\":\"country=AT\\\\u003cbr\\\\u003eenergy=%{x}\\\\u003cbr\\\\u003ecarbon=%{y}\\\\u003cextra\\\\u003e\\\\u003c\\\\u002fextra\\\\u003e\",\"legendgroup\":\"AT\",\"marker\":{\"color\":\"#FECB52\",\"symbol\":\"circle\"},\"mode\":\"markers\",\"name\":\"AT\",\"orientation\":\"v\",\"showlegend\":true,\"x\":[-0.04889404755006078,-0.05304062510998599,-0.04703757606545266,0.03594332472738756,0.01061365484034293,0.035662667329738294,0.06435146618997774,0.10819041040338798,0.05869340584904806,0.10775264970193817,0.08669162148423329,0.05346514871028245,0.028506190225149962,0.05984007167205568,0.09519000149307127],\"xaxis\":\"x\",\"y\":[0.03657488399987218,-0.16291731684102098,-0.06376390269574791,-0.11920053911108676,-0.2161175479834794,-0.2692463546537488,-0.3519974398934457,-0.3388713662233741,-0.3765557974979501,-0.305878091348008,-0.38950831453187773,-0.30846083334775787,-0.48944586754557184,-0.3874116368449215,-0.4778160046563219],\"yaxis\":\"y\",\"type\":\"scatter\"},{\"hovertemplate\":\"country=PL\\\\u003cbr\\\\u003eenergy=%{x}\\\\u003cbr\\\\u003ecarbon=%{y}\\\\u003cextra\\\\u003e\\\\u003c\\\\u002fextra\\\\u003e\",\"legendgroup\":\"PL\",\"marker\":{\"color\":\"#636efa\",\"symbol\":\"circle\"},\"mode\":\"markers\",\"name\":\"PL\",\"orientation\":\"v\",\"showlegend\":true,\"x\":[-0.22509394151929657,-0.25179904714708734,-0.2696952338124309,-0.26199970981177995,-0.21250275437780602,-0.24528241192951486,-0.15183910241522797,-0.13626794640540024,-0.1435050136570762,-0.1557196113261945,-0.14679928737374634,-0.08044548309781037,-0.03532364591312569,-0.1257752467916106,-0.12351908288917295],\"xaxis\":\"x\",\"y\":[0.37739869994426295,0.24575395015186374,0.337976529498758,0.36265872965588447,0.30052112347422416,0.2896053661863519,0.2415118924799898,0.25896184944968764,0.3356084706887282,0.4435505349841807,0.43444736117462174,0.32487279605386565,0.22286097387391945,0.4437263656083722,0.41346998585131073],\"yaxis\":\"y\",\"type\":\"scatter\"},{\"hovertemplate\":\"country=PT\\\\u003cbr\\\\u003eenergy=%{x}\\\\u003cbr\\\\u003ecarbon=%{y}\\\\u003cextra\\\\u003e\\\\u003c\\\\u002fextra\\\\u003e\",\"legendgroup\":\"PT\",\"marker\":{\"color\":\"#EF553B\",\"symbol\":\"circle\"},\"mode\":\"markers\",\"name\":\"PT\",\"orientation\":\"v\",\"showlegend\":true,\"x\":[-0.1970953329211836,-0.24860622335958324,-0.2778164676514157,-0.2626219011139602,-0.19673511690413187,-0.24038674878867522,-0.2543533061770906,-0.2407633382610475,-0.2974318671254153,-0.282863879976166,-0.2802140654609121,-0.2403997165652891,-0.249341178648556,-0.2167366352015003,-0.1713776940103189],\"xaxis\":\"x\",\"y\":[-0.37006541066036375,-0.4488402418833575,-0.5597234883901994,-0.5703960453123255,-0.5890142958921066,-0.6271400553809124,-0.6220940708445156,-0.5164893829619664,-0.5658800821124037,-0.43585364032335594,-0.5170498084545392,-0.6088460264251094,-0.7948811707149438,-0.8238300933464481,-0.7766286199081986],\"yaxis\":\"y\",\"type\":\"scatter\"},{\"hovertemplate\":\"country=RO\\\\u003cbr\\\\u003eenergy=%{x}\\\\u003cbr\\\\u003ecarbon=%{y}\\\\u003cextra\\\\u003e\\\\u003c\\\\u002fextra\\\\u003e\",\"legendgroup\":\"RO\",\"marker\":{\"color\":\"#00cc96\",\"symbol\":\"circle\"},\"mode\":\"markers\",\"name\":\"RO\",\"orientation\":\"v\",\"showlegend\":true,\"x\":[-0.357931784534788,-0.36235261747133213,-0.3604532966541502,-0.31717825424197915,-0.30910614076895593,-0.32819758967269846,-0.32698595397897895,-0.29946217558516147,-0.30461981401112964,-0.29373549409298344,-0.31248572018784604,-0.2830783558674097,-0.2379037470362269,-0.2306084557774311,-0.23132615344449609],\"xaxis\":\"x\",\"y\":[-0.2933879375501158,-0.5567015884562467,-0.5997306074808025,-0.5203519173405818,-0.5575265908139979,-0.6949213938314105,-0.6973331010705265,-0.7061954446220151,-0.7263054870091822,-0.6914810446842178,-0.6818910300164472,-0.7222099510632717,-0.7756088690657365,-0.7443567734322053,-0.8036562123493329],\"yaxis\":\"y\",\"type\":\"scatter\"},{\"hovertemplate\":\"country=SI\\\\u003cbr\\\\u003eenergy=%{x}\\\\u003cbr\\\\u003ecarbon=%{y}\\\\u003cextra\\\\u003e\\\\u003c\\\\u002fextra\\\\u003e\",\"legendgroup\":\"SI\",\"marker\":{\"color\":\"#ab63fa\",\"symbol\":\"circle\"},\"mode\":\"markers\",\"name\":\"SI\",\"orientation\":\"v\",\"showlegend\":true,\"x\":[-0.27108697751467625,-0.24562625449124606,-0.23179068474539494,-0.25780810524972325,-0.2509967478363812,-0.24986697941926433,-0.2542386919898469,-0.2249138335107707,-0.23614602386065695,-0.22348063221965375,-0.2267928676168105,-0.22530232648516102,-0.2564335536755645,-0.23568506197301795,-0.20603127715000755],\"xaxis\":\"x\",\"y\":[0.035725909912725486,-0.14597872388206015,-0.13030830294480097,-0.17004550041300145,-0.25652234685922687,-0.29207380011039474,-0.4654187504791436,-0.4354050171352338,-0.37133518636217894,-0.35545017582536437,-0.3350767327737332,-0.36392877946727065,-0.438031210265885,-0.4634930341983678,-0.5297910241919838],\"yaxis\":\"y\",\"type\":\"scatter\"},{\"hovertemplate\":\"country=SK\\\\u003cbr\\\\u003eenergy=%{x}\\\\u003cbr\\\\u003ecarbon=%{y}\\\\u003cextra\\\\u003e\\\\u003c\\\\u002fextra\\\\u003e\",\"legendgroup\":\"SK\",\"marker\":{\"color\":\"#FFA15A\",\"symbol\":\"circle\"},\"mode\":\"markers\",\"name\":\"SK\",\"orientation\":\"v\",\"showlegend\":true,\"x\":[-0.21890477540813477,-0.22574887973211794,-0.25292881556420416,-0.18918695400136576,-0.15242854680676718,-0.19750466930419697,-0.1607462621095984,-0.12742628053231192,-0.15607982734324624,-0.11819165173153082,-0.16952243416140456,-0.15134789875561194,-0.15542488913042488,-0.1456826832147072,-0.09887097445330083],\"xaxis\":\"x\",\"y\":[0.04116370081908736,-0.16384045228029803,-0.16362494701481042,-0.16648570998037585,-0.30034889573409834,-0.3227485886092741,-0.3913595153355766,-0.37457580651023803,-0.3634709110885882,-0.3324445625198823,-0.3336166907972405,-0.4570017139886019,-0.586138295435998,-0.43506309432287216,-0.5801916446881615],\"yaxis\":\"y\",\"type\":\"scatter\"},{\"hovertemplate\":\"country=FI\\\\u003cbr\\\\u003eenergy=%{x}\\\\u003cbr\\\\u003ecarbon=%{y}\\\\u003cextra\\\\u003e\\\\u003c\\\\u002fextra\\\\u003e\",\"legendgroup\":\"FI\",\"marker\":{\"color\":\"#19d3f3\",\"symbol\":\"circle\"},\"mode\":\"markers\",\"name\":\"FI\",\"orientation\":\"v\",\"showlegend\":true,\"x\":[-0.10928449203716038,-0.11987811762954581,-0.11563739270152754,-0.08392200974565339,-0.06045884827132833,-0.0849862843414881,-0.01898488594441599,-0.021653759161663014,-0.010994639747995453,-0.009455534947865267,-0.0038230663176016086,0.018936036577940494,-0.016496120735694838,0.02800693082551627,-0.05541582403260389],\"xaxis\":\"x\",\"y\":[1.1889069343803127,1.0246508967036456,1.388287441683703,1.023104774541118,0.7388909323731688,0.7627572160068786,0.5503956390810391,0.394282352947281,0.5277213121922122,0.3877814713639673,0.4405587331411937,0.31532076887496896,-0.011708848392775835,-0.008512853046868819,-0.05419215075734672],\"yaxis\":\"y\",\"type\":\"scatter\"},{\"hovertemplate\":\"country=SE\\\\u003cbr\\\\u003eenergy=%{x}\\\\u003cbr\\\\u003ecarbon=%{y}\\\\u003cextra\\\\u003e\\\\u003c\\\\u002fextra\\\\u003e\",\"legendgroup\":\"SE\",\"marker\":{\"color\":\"#FF6692\",\"symbol\":\"circle\"},\"mode\":\"markers\",\"name\":\"SE\",\"orientation\":\"v\",\"showlegend\":true,\"x\":[-0.1641846877269105,-0.14763112439785075,-0.12853967549410825,-0.16865464102941627,-0.18173703183052284,-0.16549456415255323,-0.1462066337849643,-0.22083684313595775,-0.13908418072053205,-0.17823311239192857,-0.17322283506384523,-0.22450449712775736,-0.17936288080904542,-0.23644074605642657,-0.27180740954877974],\"xaxis\":\"x\",\"y\":[-0.4565398692926662,-0.616808621960555,-0.45656056536630885,-0.5932723372463748,-0.6870644717093815,-0.7344941053210182,-0.7828757102604104,-0.7867769176126173,-0.7744383090559973,-0.8242723169908993,-0.8497301924302318,-0.8886936015962968,-1.0206174549650613,-0.976863645883608,-1.0051234186045879],\"yaxis\":\"y\",\"type\":\"scatter\"},{\"hovertemplate\":\"country=IS\\\\u003cbr\\\\u003eenergy=%{x}\\\\u003cbr\\\\u003ecarbon=%{y}\\\\u003cextra\\\\u003e\\\\u003c\\\\u002fextra\\\\u003e\",\"legendgroup\":\"IS\",\"marker\":{\"color\":\"#B6E880\",\"symbol\":\"circle\"},\"mode\":\"markers\",\"name\":\"IS\",\"orientation\":\"v\",\"showlegend\":true,\"x\":[-0.3730117368849997,-0.3730117368849997,-0.3730117368849997,-0.3730117368849997,-0.3730117368849997,-0.3730117368849997,-0.3730117368849997,-0.3730117368849997,-0.3730117368849997,-0.3730117368849997,-0.3730117368849997,-0.3730117368849997,-0.3730117368849997,-0.3730117368849997,null],\"xaxis\":\"x\",\"y\":[2.4667320075194943,2.0812322866640365,2.08214096874658,1.9229438588730945,2.0040461130685396,2.2071303499478754,2.150913801398296,2.5353107291114014,2.7941688254745083,3.000798682729694,4.005300340937289,2.871103335118045,1.4994490379866672,1.444631589039799,1.9364500806140081],\"yaxis\":\"y\",\"type\":\"scatter\"},{\"hovertemplate\":\"country=NO\\\\u003cbr\\\\u003eenergy=%{x}\\\\u003cbr\\\\u003ecarbon=%{y}\\\\u003cextra\\\\u003e\\\\u003c\\\\u002fextra\\\\u003e\",\"legendgroup\":\"NO\",\"marker\":{\"color\":\"#FF97FF\",\"symbol\":\"circle\"},\"mode\":\"markers\",\"name\":\"NO\",\"orientation\":\"v\",\"showlegend\":true,\"x\":[-0.3171455073313381,-0.2804853408686627,-0.13276402696680598,-0.18874487070771134,-0.3043905856366422,-0.20706676721138875,-0.2690894159655711,-0.2523229977173444,-0.2790281033451352,-0.27295355142121713,-0.23646163858541555,-0.1707504433104446,-0.29939430761285785,-0.23817520255198604,-0.1557196113261945],\"xaxis\":\"x\",\"y\":[1.101862688709538,0.8639660396355535,0.9888190321432754,1.2010397938137132,1.1314749784260179,1.1102171361452984,1.0484341051544355,1.3587214057441273,0.9057384589357572,0.9959312725042844,1.1190686257671856,1.1090467582569605,0.8164900409506007,0.7778922683209742,0.7818404857597921],\"yaxis\":\"y\",\"type\":\"scatter\"},{\"hovertemplate\":\"country=RS\\\\u003cbr\\\\u003eenergy=%{x}\\\\u003cbr\\\\u003ecarbon=%{y}\\\\u003cextra\\\\u003e\\\\u003c\\\\u002fextra\\\\u003e\",\"legendgroup\":\"RS\",\"marker\":{\"color\":\"#FECB52\",\"symbol\":\"circle\"},\"mode\":\"markers\",\"name\":\"RS\",\"orientation\":\"v\",\"showlegend\":true,\"x\":[-0.22769732091526146,-0.28813174450335205,-0.28099291798359927,-0.26329321278210216,-0.2783567916769933,-0.30625715954318306,-0.25826656199869824,-0.2698098479996746,-0.29003106532053397,-0.2657788834077677,-0.2682215082193956,-0.28432313143469795,-0.2900060466808042,-0.2586593939387485,-0.23470794327985445],\"xaxis\":\"x\",\"y\":[-2.0116058190506734,-2.0116058190506734,-2.0116058190506734,-2.0116058190506734,-2.0116058190506734,-2.0116058190506734,-2.0116058190506734,-2.0116058190506734,-2.0116058190506734,-2.0116058190506734,-2.0116058190506734,-2.0116058190506734,-2.0116058190506734,-2.0116058190506734,-2.0116058190506734],\"yaxis\":\"y\",\"type\":\"scatter\"},{\"hovertemplate\":\"country=TR\\\\u003cbr\\\\u003eenergy=%{x}\\\\u003cbr\\\\u003ecarbon=%{y}\\\\u003cextra\\\\u003e\\\\u003c\\\\u002fextra\\\\u003e\",\"legendgroup\":\"TR\",\"marker\":{\"color\":\"#636efa\",\"symbol\":\"circle\"},\"mode\":\"markers\",\"name\":\"TR\",\"orientation\":\"v\",\"showlegend\":true,\"x\":[-0.3600930806370985,-0.3597164911647262,-0.35428050399830896,-0.2984142744446473,-0.27760361273224876,-0.25137333730875344,-0.2427936467207937,-0.2561707597176699,-0.2693677647060202,-0.32834056268455736,-0.3324565382564885,-0.3368017422029071,-0.3420737492142892,-0.3347886749916134,-0.26758607079186103],\"xaxis\":\"x\",\"y\":[-2.0116058190506734,-2.0116058190506734,-2.0116058190506734,-2.0116058190506734,-2.0116058190506734,-2.0116058190506734,-2.0116058190506734,-2.0116058190506734,-2.0116058190506734,-2.0116058190506734,-2.0116058190506734,-2.0116058190506734,-2.0116058190506734,-2.0116058190506734,-2.0116058190506734],\"yaxis\":\"y\",\"type\":\"scatter\"}],                        {\"legend\":{\"title\":{\"text\":\"country\"},\"tracegroupgap\":0},\"margin\":{\"t\":60},\"template\":{\"data\":{\"barpolar\":[{\"marker\":{\"line\":{\"color\":\"#E5ECF6\",\"width\":0.5},\"pattern\":{\"fillmode\":\"overlay\",\"size\":10,\"solidity\":0.2}},\"type\":\"barpolar\"}],\"bar\":[{\"error_x\":{\"color\":\"#2a3f5f\"},\"error_y\":{\"color\":\"#2a3f5f\"},\"marker\":{\"line\":{\"color\":\"#E5ECF6\",\"width\":0.5},\"pattern\":{\"fillmode\":\"overlay\",\"size\":10,\"solidity\":0.2}},\"type\":\"bar\"}],\"carpet\":[{\"aaxis\":{\"endlinecolor\":\"#2a3f5f\",\"gridcolor\":\"white\",\"linecolor\":\"white\",\"minorgridcolor\":\"white\",\"startlinecolor\":\"#2a3f5f\"},\"baxis\":{\"endlinecolor\":\"#2a3f5f\",\"gridcolor\":\"white\",\"linecolor\":\"white\",\"minorgridcolor\":\"white\",\"startlinecolor\":\"#2a3f5f\"},\"type\":\"carpet\"}],\"choropleth\":[{\"colorbar\":{\"outlinewidth\":0,\"ticks\":\"\"},\"type\":\"choropleth\"}],\"contourcarpet\":[{\"colorbar\":{\"outlinewidth\":0,\"ticks\":\"\"},\"type\":\"contourcarpet\"}],\"contour\":[{\"colorbar\":{\"outlinewidth\":0,\"ticks\":\"\"},\"colorscale\":[[0.0,\"#0d0887\"],[0.1111111111111111,\"#46039f\"],[0.2222222222222222,\"#7201a8\"],[0.3333333333333333,\"#9c179e\"],[0.4444444444444444,\"#bd3786\"],[0.5555555555555556,\"#d8576b\"],[0.6666666666666666,\"#ed7953\"],[0.7777777777777778,\"#fb9f3a\"],[0.8888888888888888,\"#fdca26\"],[1.0,\"#f0f921\"]],\"type\":\"contour\"}],\"heatmapgl\":[{\"colorbar\":{\"outlinewidth\":0,\"ticks\":\"\"},\"colorscale\":[[0.0,\"#0d0887\"],[0.1111111111111111,\"#46039f\"],[0.2222222222222222,\"#7201a8\"],[0.3333333333333333,\"#9c179e\"],[0.4444444444444444,\"#bd3786\"],[0.5555555555555556,\"#d8576b\"],[0.6666666666666666,\"#ed7953\"],[0.7777777777777778,\"#fb9f3a\"],[0.8888888888888888,\"#fdca26\"],[1.0,\"#f0f921\"]],\"type\":\"heatmapgl\"}],\"heatmap\":[{\"colorbar\":{\"outlinewidth\":0,\"ticks\":\"\"},\"colorscale\":[[0.0,\"#0d0887\"],[0.1111111111111111,\"#46039f\"],[0.2222222222222222,\"#7201a8\"],[0.3333333333333333,\"#9c179e\"],[0.4444444444444444,\"#bd3786\"],[0.5555555555555556,\"#d8576b\"],[0.6666666666666666,\"#ed7953\"],[0.7777777777777778,\"#fb9f3a\"],[0.8888888888888888,\"#fdca26\"],[1.0,\"#f0f921\"]],\"type\":\"heatmap\"}],\"histogram2dcontour\":[{\"colorbar\":{\"outlinewidth\":0,\"ticks\":\"\"},\"colorscale\":[[0.0,\"#0d0887\"],[0.1111111111111111,\"#46039f\"],[0.2222222222222222,\"#7201a8\"],[0.3333333333333333,\"#9c179e\"],[0.4444444444444444,\"#bd3786\"],[0.5555555555555556,\"#d8576b\"],[0.6666666666666666,\"#ed7953\"],[0.7777777777777778,\"#fb9f3a\"],[0.8888888888888888,\"#fdca26\"],[1.0,\"#f0f921\"]],\"type\":\"histogram2dcontour\"}],\"histogram2d\":[{\"colorbar\":{\"outlinewidth\":0,\"ticks\":\"\"},\"colorscale\":[[0.0,\"#0d0887\"],[0.1111111111111111,\"#46039f\"],[0.2222222222222222,\"#7201a8\"],[0.3333333333333333,\"#9c179e\"],[0.4444444444444444,\"#bd3786\"],[0.5555555555555556,\"#d8576b\"],[0.6666666666666666,\"#ed7953\"],[0.7777777777777778,\"#fb9f3a\"],[0.8888888888888888,\"#fdca26\"],[1.0,\"#f0f921\"]],\"type\":\"histogram2d\"}],\"histogram\":[{\"marker\":{\"pattern\":{\"fillmode\":\"overlay\",\"size\":10,\"solidity\":0.2}},\"type\":\"histogram\"}],\"mesh3d\":[{\"colorbar\":{\"outlinewidth\":0,\"ticks\":\"\"},\"type\":\"mesh3d\"}],\"parcoords\":[{\"line\":{\"colorbar\":{\"outlinewidth\":0,\"ticks\":\"\"}},\"type\":\"parcoords\"}],\"pie\":[{\"automargin\":true,\"type\":\"pie\"}],\"scatter3d\":[{\"line\":{\"colorbar\":{\"outlinewidth\":0,\"ticks\":\"\"}},\"marker\":{\"colorbar\":{\"outlinewidth\":0,\"ticks\":\"\"}},\"type\":\"scatter3d\"}],\"scattercarpet\":[{\"marker\":{\"colorbar\":{\"outlinewidth\":0,\"ticks\":\"\"}},\"type\":\"scattercarpet\"}],\"scattergeo\":[{\"marker\":{\"colorbar\":{\"outlinewidth\":0,\"ticks\":\"\"}},\"type\":\"scattergeo\"}],\"scattergl\":[{\"marker\":{\"colorbar\":{\"outlinewidth\":0,\"ticks\":\"\"}},\"type\":\"scattergl\"}],\"scattermapbox\":[{\"marker\":{\"colorbar\":{\"outlinewidth\":0,\"ticks\":\"\"}},\"type\":\"scattermapbox\"}],\"scatterpolargl\":[{\"marker\":{\"colorbar\":{\"outlinewidth\":0,\"ticks\":\"\"}},\"type\":\"scatterpolargl\"}],\"scatterpolar\":[{\"marker\":{\"colorbar\":{\"outlinewidth\":0,\"ticks\":\"\"}},\"type\":\"scatterpolar\"}],\"scatter\":[{\"fillpattern\":{\"fillmode\":\"overlay\",\"size\":10,\"solidity\":0.2},\"type\":\"scatter\"}],\"scatterternary\":[{\"marker\":{\"colorbar\":{\"outlinewidth\":0,\"ticks\":\"\"}},\"type\":\"scatterternary\"}],\"surface\":[{\"colorbar\":{\"outlinewidth\":0,\"ticks\":\"\"},\"colorscale\":[[0.0,\"#0d0887\"],[0.1111111111111111,\"#46039f\"],[0.2222222222222222,\"#7201a8\"],[0.3333333333333333,\"#9c179e\"],[0.4444444444444444,\"#bd3786\"],[0.5555555555555556,\"#d8576b\"],[0.6666666666666666,\"#ed7953\"],[0.7777777777777778,\"#fb9f3a\"],[0.8888888888888888,\"#fdca26\"],[1.0,\"#f0f921\"]],\"type\":\"surface\"}],\"table\":[{\"cells\":{\"fill\":{\"color\":\"#EBF0F8\"},\"line\":{\"color\":\"white\"}},\"header\":{\"fill\":{\"color\":\"#C8D4E3\"},\"line\":{\"color\":\"white\"}},\"type\":\"table\"}]},\"layout\":{\"annotationdefaults\":{\"arrowcolor\":\"#2a3f5f\",\"arrowhead\":0,\"arrowwidth\":1},\"autotypenumbers\":\"strict\",\"coloraxis\":{\"colorbar\":{\"outlinewidth\":0,\"ticks\":\"\"}},\"colorscale\":{\"diverging\":[[0,\"#8e0152\"],[0.1,\"#c51b7d\"],[0.2,\"#de77ae\"],[0.3,\"#f1b6da\"],[0.4,\"#fde0ef\"],[0.5,\"#f7f7f7\"],[0.6,\"#e6f5d0\"],[0.7,\"#b8e186\"],[0.8,\"#7fbc41\"],[0.9,\"#4d9221\"],[1,\"#276419\"]],\"sequential\":[[0.0,\"#0d0887\"],[0.1111111111111111,\"#46039f\"],[0.2222222222222222,\"#7201a8\"],[0.3333333333333333,\"#9c179e\"],[0.4444444444444444,\"#bd3786\"],[0.5555555555555556,\"#d8576b\"],[0.6666666666666666,\"#ed7953\"],[0.7777777777777778,\"#fb9f3a\"],[0.8888888888888888,\"#fdca26\"],[1.0,\"#f0f921\"]],\"sequentialminus\":[[0.0,\"#0d0887\"],[0.1111111111111111,\"#46039f\"],[0.2222222222222222,\"#7201a8\"],[0.3333333333333333,\"#9c179e\"],[0.4444444444444444,\"#bd3786\"],[0.5555555555555556,\"#d8576b\"],[0.6666666666666666,\"#ed7953\"],[0.7777777777777778,\"#fb9f3a\"],[0.8888888888888888,\"#fdca26\"],[1.0,\"#f0f921\"]]},\"colorway\":[\"#636efa\",\"#EF553B\",\"#00cc96\",\"#ab63fa\",\"#FFA15A\",\"#19d3f3\",\"#FF6692\",\"#B6E880\",\"#FF97FF\",\"#FECB52\"],\"font\":{\"color\":\"#2a3f5f\"},\"geo\":{\"bgcolor\":\"white\",\"lakecolor\":\"white\",\"landcolor\":\"#E5ECF6\",\"showlakes\":true,\"showland\":true,\"subunitcolor\":\"white\"},\"hoverlabel\":{\"align\":\"left\"},\"hovermode\":\"closest\",\"mapbox\":{\"style\":\"light\"},\"paper_bgcolor\":\"white\",\"plot_bgcolor\":\"#E5ECF6\",\"polar\":{\"angularaxis\":{\"gridcolor\":\"white\",\"linecolor\":\"white\",\"ticks\":\"\"},\"bgcolor\":\"#E5ECF6\",\"radialaxis\":{\"gridcolor\":\"white\",\"linecolor\":\"white\",\"ticks\":\"\"}},\"scene\":{\"xaxis\":{\"backgroundcolor\":\"#E5ECF6\",\"gridcolor\":\"white\",\"gridwidth\":2,\"linecolor\":\"white\",\"showbackground\":true,\"ticks\":\"\",\"zerolinecolor\":\"white\"},\"yaxis\":{\"backgroundcolor\":\"#E5ECF6\",\"gridcolor\":\"white\",\"gridwidth\":2,\"linecolor\":\"white\",\"showbackground\":true,\"ticks\":\"\",\"zerolinecolor\":\"white\"},\"zaxis\":{\"backgroundcolor\":\"#E5ECF6\",\"gridcolor\":\"white\",\"gridwidth\":2,\"linecolor\":\"white\",\"showbackground\":true,\"ticks\":\"\",\"zerolinecolor\":\"white\"}},\"shapedefaults\":{\"line\":{\"color\":\"#2a3f5f\"}},\"ternary\":{\"aaxis\":{\"gridcolor\":\"white\",\"linecolor\":\"white\",\"ticks\":\"\"},\"baxis\":{\"gridcolor\":\"white\",\"linecolor\":\"white\",\"ticks\":\"\"},\"bgcolor\":\"#E5ECF6\",\"caxis\":{\"gridcolor\":\"white\",\"linecolor\":\"white\",\"ticks\":\"\"}},\"title\":{\"x\":0.05},\"xaxis\":{\"automargin\":true,\"gridcolor\":\"white\",\"linecolor\":\"white\",\"ticks\":\"\",\"title\":{\"standoff\":15},\"zerolinecolor\":\"white\",\"zerolinewidth\":2},\"yaxis\":{\"automargin\":true,\"gridcolor\":\"white\",\"linecolor\":\"white\",\"ticks\":\"\",\"title\":{\"standoff\":15},\"zerolinecolor\":\"white\",\"zerolinewidth\":2}}},\"xaxis\":{\"anchor\":\"y\",\"domain\":[0.0,1.0],\"title\":{\"text\":\"energy\"}},\"yaxis\":{\"anchor\":\"x\",\"domain\":[0.0,1.0],\"title\":{\"text\":\"carbon\"}}},                        {\"responsive\": true}                    )                };                            </script>        </div>'"
						]
					},
					"execution_count": 319,
					"metadata": {},
					"output_type": "execute_result"
				}
			],
			"source": [
				"plotly.offline.plot(fig, include_plotlyjs=False, output_type=\"div\")"
			]
		},
		{
			"cell_type": "code",
			"execution_count": 17,
			"metadata": {},
			"outputs": [
				{
					"name": "stdout",
					"output_type": "stream",
					"text": [
						"(465, 33)\n"
					]
				},
				{
					"data": {
						"text/html": [
							"<div>\n",
							"<style scoped>\n",
							"    .dataframe tbody tr th:only-of-type {\n",
							"        vertical-align: middle;\n",
							"    }\n",
							"\n",
							"    .dataframe tbody tr th {\n",
							"        vertical-align: top;\n",
							"    }\n",
							"\n",
							"    .dataframe thead th {\n",
							"        text-align: right;\n",
							"    }\n",
							"</style>\n",
							"<table border=\"1\" class=\"dataframe\">\n",
							"  <thead>\n",
							"    <tr style=\"text-align: right;\">\n",
							"      <th></th>\n",
							"      <th>carbon</th>\n",
							"      <th>energy</th>\n",
							"      <th>country_AT</th>\n",
							"      <th>country_BE</th>\n",
							"      <th>country_BG</th>\n",
							"      <th>country_CY</th>\n",
							"      <th>country_CZ</th>\n",
							"      <th>country_DE</th>\n",
							"      <th>country_DK</th>\n",
							"      <th>country_EE</th>\n",
							"      <th>...</th>\n",
							"      <th>country_NL</th>\n",
							"      <th>country_NO</th>\n",
							"      <th>country_PL</th>\n",
							"      <th>country_PT</th>\n",
							"      <th>country_RO</th>\n",
							"      <th>country_RS</th>\n",
							"      <th>country_SE</th>\n",
							"      <th>country_SI</th>\n",
							"      <th>country_SK</th>\n",
							"      <th>country_TR</th>\n",
							"    </tr>\n",
							"  </thead>\n",
							"  <tbody>\n",
							"    <tr>\n",
							"      <th>15</th>\n",
							"      <td>0.389329</td>\n",
							"      <td>-0.092076</td>\n",
							"      <td>0</td>\n",
							"      <td>1</td>\n",
							"      <td>0</td>\n",
							"      <td>0</td>\n",
							"      <td>0</td>\n",
							"      <td>0</td>\n",
							"      <td>0</td>\n",
							"      <td>0</td>\n",
							"      <td>...</td>\n",
							"      <td>0</td>\n",
							"      <td>0</td>\n",
							"      <td>0</td>\n",
							"      <td>0</td>\n",
							"      <td>0</td>\n",
							"      <td>0</td>\n",
							"      <td>0</td>\n",
							"      <td>0</td>\n",
							"      <td>0</td>\n",
							"      <td>0</td>\n",
							"    </tr>\n",
							"    <tr>\n",
							"      <th>16</th>\n",
							"      <td>0.073914</td>\n",
							"      <td>-0.217693</td>\n",
							"      <td>0</td>\n",
							"      <td>1</td>\n",
							"      <td>0</td>\n",
							"      <td>0</td>\n",
							"      <td>0</td>\n",
							"      <td>0</td>\n",
							"      <td>0</td>\n",
							"      <td>0</td>\n",
							"      <td>...</td>\n",
							"      <td>0</td>\n",
							"      <td>0</td>\n",
							"      <td>0</td>\n",
							"      <td>0</td>\n",
							"      <td>0</td>\n",
							"      <td>0</td>\n",
							"      <td>0</td>\n",
							"      <td>0</td>\n",
							"      <td>0</td>\n",
							"      <td>0</td>\n",
							"    </tr>\n",
							"    <tr>\n",
							"      <th>17</th>\n",
							"      <td>0.217987</td>\n",
							"      <td>-0.170063</td>\n",
							"      <td>0</td>\n",
							"      <td>1</td>\n",
							"      <td>0</td>\n",
							"      <td>0</td>\n",
							"      <td>0</td>\n",
							"      <td>0</td>\n",
							"      <td>0</td>\n",
							"      <td>0</td>\n",
							"      <td>...</td>\n",
							"      <td>0</td>\n",
							"      <td>0</td>\n",
							"      <td>0</td>\n",
							"      <td>0</td>\n",
							"      <td>0</td>\n",
							"      <td>0</td>\n",
							"      <td>0</td>\n",
							"      <td>0</td>\n",
							"      <td>0</td>\n",
							"      <td>0</td>\n",
							"    </tr>\n",
							"    <tr>\n",
							"      <th>18</th>\n",
							"      <td>0.010548</td>\n",
							"      <td>-0.157062</td>\n",
							"      <td>0</td>\n",
							"      <td>1</td>\n",
							"      <td>0</td>\n",
							"      <td>0</td>\n",
							"      <td>0</td>\n",
							"      <td>0</td>\n",
							"      <td>0</td>\n",
							"      <td>0</td>\n",
							"      <td>...</td>\n",
							"      <td>0</td>\n",
							"      <td>0</td>\n",
							"      <td>0</td>\n",
							"      <td>0</td>\n",
							"      <td>0</td>\n",
							"      <td>0</td>\n",
							"      <td>0</td>\n",
							"      <td>0</td>\n",
							"      <td>0</td>\n",
							"      <td>0</td>\n",
							"    </tr>\n",
							"    <tr>\n",
							"      <th>19</th>\n",
							"      <td>-0.095499</td>\n",
							"      <td>-0.097152</td>\n",
							"      <td>0</td>\n",
							"      <td>1</td>\n",
							"      <td>0</td>\n",
							"      <td>0</td>\n",
							"      <td>0</td>\n",
							"      <td>0</td>\n",
							"      <td>0</td>\n",
							"      <td>0</td>\n",
							"      <td>...</td>\n",
							"      <td>0</td>\n",
							"      <td>0</td>\n",
							"      <td>0</td>\n",
							"      <td>0</td>\n",
							"      <td>0</td>\n",
							"      <td>0</td>\n",
							"      <td>0</td>\n",
							"      <td>0</td>\n",
							"      <td>0</td>\n",
							"      <td>0</td>\n",
							"    </tr>\n",
							"  </tbody>\n",
							"</table>\n",
							"<p>5 rows × 33 columns</p>\n",
							"</div>"
						],
						"text/plain": [
							"      carbon    energy  country_AT  country_BE  country_BG  country_CY  \\\n",
							"15  0.389329 -0.092076           0           1           0           0   \n",
							"16  0.073914 -0.217693           0           1           0           0   \n",
							"17  0.217987 -0.170063           0           1           0           0   \n",
							"18  0.010548 -0.157062           0           1           0           0   \n",
							"19 -0.095499 -0.097152           0           1           0           0   \n",
							"\n",
							"    country_CZ  country_DE  country_DK  country_EE  ...  country_NL  \\\n",
							"15           0           0           0           0  ...           0   \n",
							"16           0           0           0           0  ...           0   \n",
							"17           0           0           0           0  ...           0   \n",
							"18           0           0           0           0  ...           0   \n",
							"19           0           0           0           0  ...           0   \n",
							"\n",
							"    country_NO  country_PL  country_PT  country_RO  country_RS  country_SE  \\\n",
							"15           0           0           0           0           0           0   \n",
							"16           0           0           0           0           0           0   \n",
							"17           0           0           0           0           0           0   \n",
							"18           0           0           0           0           0           0   \n",
							"19           0           0           0           0           0           0   \n",
							"\n",
							"    country_SI  country_SK  country_TR  \n",
							"15           0           0           0  \n",
							"16           0           0           0  \n",
							"17           0           0           0  \n",
							"18           0           0           0  \n",
							"19           0           0           0  \n",
							"\n",
							"[5 rows x 33 columns]"
						]
					},
					"execution_count": 17,
					"metadata": {},
					"output_type": "execute_result"
				}
			],
			"source": [
				"df_dummies = pd.get_dummies(df_merged_s, dtype=int)\n",
				"print(df_dummies.shape)\n",
				"df_dummies.head()"
			]
		},
		{
			"cell_type": "code",
			"execution_count": 18,
			"metadata": {},
			"outputs": [],
			"source": [
				"# TODO Fix later\n",
				"df_dummies = df_dummies.fillna(0)"
			]
		},
		{
			"cell_type": "code",
			"execution_count": 19,
			"metadata": {},
			"outputs": [
				{
					"data": {
						"text/plain": [
							"array([[ 1.        , -0.09207599,  0.        ,  1.        ,  0.        ,\n",
							"         0.        ,  0.        ,  0.        ,  0.        ,  0.        ,\n",
							"         0.        ,  0.        ,  0.        ,  0.        ,  0.        ,\n",
							"         0.        ,  0.        ,  0.        ,  0.        ,  0.        ,\n",
							"         0.        ,  0.        ,  0.        ,  0.        ,  0.        ,\n",
							"         0.        ,  0.        ,  0.        ,  0.        ,  0.        ,\n",
							"         0.        ,  0.        ,  0.        ],\n",
							"       [ 1.        , -0.21769314,  0.        ,  1.        ,  0.        ,\n",
							"         0.        ,  0.        ,  0.        ,  0.        ,  0.        ,\n",
							"         0.        ,  0.        ,  0.        ,  0.        ,  0.        ,\n",
							"         0.        ,  0.        ,  0.        ,  0.        ,  0.        ,\n",
							"         0.        ,  0.        ,  0.        ,  0.        ,  0.        ,\n",
							"         0.        ,  0.        ,  0.        ,  0.        ,  0.        ,\n",
							"         0.        ,  0.        ,  0.        ]])"
						]
					},
					"execution_count": 19,
					"metadata": {},
					"output_type": "execute_result"
				}
			],
			"source": [
				"X = np.pad(df_dummies.iloc[:, 1:].to_numpy(), ((0,0), (1,0)), mode=\"constant\", constant_values=1)\n",
				"y = np.array(df_dummies[\"carbon\"])\n",
				"X[0:2,]"
			]
		},
		{
			"cell_type": "code",
			"execution_count": 20,
			"metadata": {},
			"outputs": [
				{
					"data": {
						"text/plain": [
							"array([ 1.5       , -2.63265928, -0.25      , -0.75      , -1.        ,\n",
							"       -1.        ,  0.5       ,  1.75      ,  1.5       ,  0.75      ,\n",
							"       -0.75      , -0.75      ,  0.75      , -0.25      , -0.75      ,\n",
							"       -0.75      ,  1.        ,  1.375     , -0.25      , -0.5       ,\n",
							"        0.875     , -1.375     , -2.        ,  0.875     , -0.75      ,\n",
							"        0.375     , -1.5       , -2.        , -0.875     , -2.        ,\n",
							"       -0.75      , -1.75      , -1.        ])"
						]
					},
					"execution_count": 20,
					"metadata": {},
					"output_type": "execute_result"
				}
			],
			"source": [
				"m = np.matmul(np.linalg.inv(np.matmul(X.T, X)), np.matmul(X.T, y))\n",
				"np.set_printoptions(suppress=True) #this just prevents python from printing it out in inconvenient scientific notation\n",
				"m"
			]
		},
		{
			"cell_type": "code",
			"execution_count": 21,
			"metadata": {},
			"outputs": [
				{
					"name": "stdout",
					"output_type": "stream",
					"text": [
						"[-0.60307536 -1.24919755 -0.97973066 -1.15294323 -1.10126625]\n"
					]
				},
				{
					"data": {
						"text/plain": [
							"-738.4"
						]
					},
					"execution_count": 21,
					"metadata": {},
					"output_type": "execute_result"
				}
			],
			"source": [
				"# get the residuals\n",
				"res = y - np.matmul(X, m)\n",
				"print(res[0:5])\n",
				"round(sum(res), 1)"
			]
		},
		{
			"cell_type": "code",
			"execution_count": 22,
			"metadata": {},
			"outputs": [
				{
					"data": {
						"image/png": "[encoded data removed]",
						"text/plain": [
							"<Figure size 640x480 with 1 Axes>"
						]
					},
					"metadata": {},
					"output_type": "display_data"
				}
			],
			"source": [
				"# x values versus residuals\n",
				"plt.scatter(X[:, 1:2], res, alpha=0.5)\n",
				"plt.xlabel(\"Energy\")\n",
				"plt.ylabel(\"Carbon\")\n",
				"plt.title(\"Residual Plot vs. X Values\")\n",
				"plt.show()"
			]
		},
		{
			"cell_type": "code",
			"execution_count": 23,
			"metadata": {},
			"outputs": [
				{
					"data": {
						"image/png": "[encoded data removed]",
						"text/plain": [
							"<Figure size 640x480 with 1 Axes>"
						]
					},
					"metadata": {},
					"output_type": "display_data"
				}
			],
			"source": [
				"# residuals versus order\n",
				"plt.scatter(range(len(X[:,1:2])), res, alpha=0.5)\n",
				"plt.xlabel(\"Index\")\n",
				"plt.ylabel(\"Residuals\")\n",
				"plt.title(\"Residual Plot vs. Order\")\n",
				"plt.show()"
			]
		},
		{
			"cell_type": "code",
			"execution_count": null,
			"metadata": {},
			"outputs": [],
			"source": []
		}
	],
	"metadata": {
		"kernelspec": {
			"display_name": "wafflers",
			"language": "python",
			"name": "python3"
		},
		"language_info": {
			"codemirror_mode": {
				"name": "ipython",
				"version": 3
			},
			"file_extension": ".py",
			"mimetype": "text/x-python",
			"name": "python",
			"nbconvert_exporter": "python",
			"pygments_lexer": "ipython3",
			"version": "3.11.9"
		}
	},
	"nbformat": 4,
	"nbformat_minor": 2
}
