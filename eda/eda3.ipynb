{
 "cells": [
  {
   "cell_type": "code",
   "execution_count": 178,
   "metadata": {},
   "outputs": [],
   "source": [
    "import pandas as pd\n",
    "import numpy as np\n",
    "import plotly.express as px\n",
    "import seaborn as sns\n",
    "import matplotlib.pyplot as plt\n",
    "import pandasdmx as sdmx\n",
    "from functools import reduce"
   ]
  },
  {
   "cell_type": "markdown",
   "metadata": {},
   "source": [
    "# Data Fetching & Basic Manipulation"
   ]
  },
  {
   "cell_type": "code",
   "execution_count": 75,
   "metadata": {},
   "outputs": [],
   "source": [
    "estat = sdmx.Request(\"ESTAT\")"
   ]
  },
  {
   "cell_type": "markdown",
   "metadata": {},
   "source": [
    "## Carbon Data"
   ]
  },
  {
   "cell_type": "code",
   "execution_count": 132,
   "metadata": {},
   "outputs": [
    {
     "name": "stderr",
     "output_type": "stream",
     "text": [
      "2024-06-04 23:17:27,003 pandasdmx.reader.sdmxml - INFO: Use supplied dsd=… argument for non–structure-specific message\n"
     ]
    },
    {
     "data": {
      "text/html": [
       "<div>\n",
       "<style scoped>\n",
       "    .dataframe tbody tr th:only-of-type {\n",
       "        vertical-align: middle;\n",
       "    }\n",
       "\n",
       "    .dataframe tbody tr th {\n",
       "        vertical-align: top;\n",
       "    }\n",
       "\n",
       "    .dataframe thead th {\n",
       "        text-align: right;\n",
       "    }\n",
       "</style>\n",
       "<table border=\"1\" class=\"dataframe\">\n",
       "  <thead>\n",
       "    <tr style=\"text-align: right;\">\n",
       "      <th></th>\n",
       "      <th>year</th>\n",
       "      <th>geo</th>\n",
       "      <th>value</th>\n",
       "    </tr>\n",
       "  </thead>\n",
       "  <tbody>\n",
       "    <tr>\n",
       "      <th>0</th>\n",
       "      <td>1985</td>\n",
       "      <td>AT</td>\n",
       "      <td>NaN</td>\n",
       "    </tr>\n",
       "    <tr>\n",
       "      <th>1</th>\n",
       "      <td>1986</td>\n",
       "      <td>AT</td>\n",
       "      <td>NaN</td>\n",
       "    </tr>\n",
       "    <tr>\n",
       "      <th>2</th>\n",
       "      <td>1987</td>\n",
       "      <td>AT</td>\n",
       "      <td>NaN</td>\n",
       "    </tr>\n",
       "    <tr>\n",
       "      <th>3</th>\n",
       "      <td>1988</td>\n",
       "      <td>AT</td>\n",
       "      <td>NaN</td>\n",
       "    </tr>\n",
       "    <tr>\n",
       "      <th>4</th>\n",
       "      <td>1989</td>\n",
       "      <td>AT</td>\n",
       "      <td>NaN</td>\n",
       "    </tr>\n",
       "  </tbody>\n",
       "</table>\n",
       "</div>"
      ],
      "text/plain": [
       "   year geo  value\n",
       "0  1985  AT    NaN\n",
       "1  1986  AT    NaN\n",
       "2  1987  AT    NaN\n",
       "3  1988  AT    NaN\n",
       "4  1989  AT    NaN"
      ]
     },
     "execution_count": 132,
     "metadata": {},
     "output_type": "execute_result"
    }
   ],
   "source": [
    "resp = estat.data(\n",
    "\t\"ENV_AIR_GGE\",\n",
    "\tkey={\n",
    "\t\t\"unit\": \"THS_T\",\n",
    "\t\t\"freq\": \"A\",\n",
    "\t\t\"src_crf\": \"TOTX4_MEMONIA\",\n",
    "\t\t\"airpol\": \"GHG\"\n",
    "\t}\n",
    ")\n",
    "emission_df = resp.to_pandas(datetime={'dim': 'TIME_PERIOD'}).droplevel(level=['unit', 'freq', 'src_crf', 'airpol'], axis=1)\n",
    "emission_df.reset_index(inplace=True)\n",
    "emission_df[\"year\"] = emission_df[\"TIME_PERIOD\"].dt.year\n",
    "emission_df.drop(\"TIME_PERIOD\", inplace=True, axis=1)\n",
    "emission_melted_df = pd.melt(emission_df, id_vars=\"year\")\n",
    "\n",
    "emission_melted_df.head()"
   ]
  },
  {
   "cell_type": "code",
   "execution_count": null,
   "metadata": {},
   "outputs": [],
   "source": [
    "px.scatter(emission_melted_df, x=\"TIME_PERIOD\", y=\"value\", color=\"geo\")"
   ]
  },
  {
   "cell_type": "markdown",
   "metadata": {},
   "source": [
    "## Energy Data"
   ]
  },
  {
   "cell_type": "code",
   "execution_count": 153,
   "metadata": {},
   "outputs": [],
   "source": [
    "def get_melted_energy_dfs(code: str) -> pd.DataFrame:\n",
    "\t\"\"\"\n",
    "\tA quick helper to get, parse, and melt the dataframes for a given energy `nrg_bal`.\n",
    "\n",
    "\t:param code: The `nrg_bal` code to fetch and melt\n",
    "\t:returns: A melted dataframe\n",
    "\t\"\"\"\n",
    "\tresp = estat.data(\n",
    "\t\t\"NRG_D_HHQ\",\n",
    "\t\tkey={\n",
    "\t\t\t\"siec\": \"TOTAL\",\n",
    "\t\t\t\"unit\": \"TJ\",\n",
    "\t\t\t\"nrg_bal\": code,\n",
    "\t\t\t\"freq\": \"A\",\n",
    "\t\t}\n",
    "\t)\n",
    "\thousehold_energy_df = resp.to_pandas(datetime={'dim': 'TIME_PERIOD', 'freq': 'freq'}).droplevel(level=[\"siec\", \"unit\", \"nrg_bal\"], axis=1)\n",
    "\n",
    "\thousehold_energy_df.reset_index(inplace=True)\n",
    "\thousehold_energy_df[\"year\"] = household_energy_df[\"TIME_PERIOD\"].dt.year\n",
    "\thousehold_energy_df.drop(\"TIME_PERIOD\", inplace=True, axis=1)\n",
    "\thousehold_energy_melted_df = pd.melt(household_energy_df, id_vars=\"year\")\n",
    "\thousehold_energy_melted_df.columns = [\"year\", \"geo\", code]\n",
    "\treturn household_energy_melted_df"
   ]
  },
  {
   "cell_type": "code",
   "execution_count": 598,
   "metadata": {},
   "outputs": [
    {
     "name": "stderr",
     "output_type": "stream",
     "text": [
      "2024-06-05 21:23:32,675 pandasdmx.reader.sdmxml - INFO: Use supplied dsd=… argument for non–structure-specific message\n",
      "/opt/homebrew/Caskroom/miniconda/base/envs/wafflers/lib/python3.11/functools.py:909: FutureWarning:\n",
      "\n",
      "'A' is deprecated and will be removed in a future version, please use 'Y' instead.\n",
      "\n",
      "2024-06-05 21:23:32,827 pandasdmx.reader.sdmxml - INFO: Use supplied dsd=… argument for non–structure-specific message\n",
      "/opt/homebrew/Caskroom/miniconda/base/envs/wafflers/lib/python3.11/functools.py:909: FutureWarning:\n",
      "\n",
      "'A' is deprecated and will be removed in a future version, please use 'Y' instead.\n",
      "\n",
      "2024-06-05 21:23:33,017 pandasdmx.reader.sdmxml - INFO: Use supplied dsd=… argument for non–structure-specific message\n",
      "/opt/homebrew/Caskroom/miniconda/base/envs/wafflers/lib/python3.11/functools.py:909: FutureWarning:\n",
      "\n",
      "'A' is deprecated and will be removed in a future version, please use 'Y' instead.\n",
      "\n",
      "2024-06-05 21:23:33,194 pandasdmx.reader.sdmxml - INFO: Use supplied dsd=… argument for non–structure-specific message\n",
      "/opt/homebrew/Caskroom/miniconda/base/envs/wafflers/lib/python3.11/functools.py:909: FutureWarning:\n",
      "\n",
      "'A' is deprecated and will be removed in a future version, please use 'Y' instead.\n",
      "\n",
      "2024-06-05 21:23:33,390 pandasdmx.reader.sdmxml - INFO: Use supplied dsd=… argument for non–structure-specific message\n",
      "/opt/homebrew/Caskroom/miniconda/base/envs/wafflers/lib/python3.11/functools.py:909: FutureWarning:\n",
      "\n",
      "'A' is deprecated and will be removed in a future version, please use 'Y' instead.\n",
      "\n"
     ]
    }
   ],
   "source": [
    "codes = [\"FC_OTH_HH_E_SH\", \"FC_OTH_HH_E_SC\", \"FC_OTH_HH_E_WH\", \"FC_OTH_HH_E_CK\", \"FC_OTH_HH_E\"]\n",
    "energy_dfs = [get_melted_energy_dfs(code) for code in codes]"
   ]
  },
  {
   "cell_type": "code",
   "execution_count": 599,
   "metadata": {},
   "outputs": [
    {
     "name": "stderr",
     "output_type": "stream",
     "text": [
      "2024-06-05 21:23:35,400 pandasdmx.reader.sdmxml - INFO: Use supplied dsd=… argument for non–structure-specific message\n"
     ]
    },
    {
     "data": {
      "text/html": [
       "<div>\n",
       "<style scoped>\n",
       "    .dataframe tbody tr th:only-of-type {\n",
       "        vertical-align: middle;\n",
       "    }\n",
       "\n",
       "    .dataframe tbody tr th {\n",
       "        vertical-align: top;\n",
       "    }\n",
       "\n",
       "    .dataframe thead th {\n",
       "        text-align: right;\n",
       "    }\n",
       "</style>\n",
       "<table border=\"1\" class=\"dataframe\">\n",
       "  <thead>\n",
       "    <tr style=\"text-align: right;\">\n",
       "      <th></th>\n",
       "      <th>year</th>\n",
       "      <th>geo</th>\n",
       "      <th>value</th>\n",
       "    </tr>\n",
       "  </thead>\n",
       "  <tbody>\n",
       "    <tr>\n",
       "      <th>0</th>\n",
       "      <td>2011</td>\n",
       "      <td>AL</td>\n",
       "      <td>115.592</td>\n",
       "    </tr>\n",
       "    <tr>\n",
       "      <th>1</th>\n",
       "      <td>2012</td>\n",
       "      <td>AL</td>\n",
       "      <td>100.745</td>\n",
       "    </tr>\n",
       "    <tr>\n",
       "      <th>2</th>\n",
       "      <td>2013</td>\n",
       "      <td>AL</td>\n",
       "      <td>109.229</td>\n",
       "    </tr>\n",
       "    <tr>\n",
       "      <th>3</th>\n",
       "      <td>2014</td>\n",
       "      <td>AL</td>\n",
       "      <td>109.229</td>\n",
       "    </tr>\n",
       "    <tr>\n",
       "      <th>4</th>\n",
       "      <td>2015</td>\n",
       "      <td>AL</td>\n",
       "      <td>109.229</td>\n",
       "    </tr>\n",
       "  </tbody>\n",
       "</table>\n",
       "</div>"
      ],
      "text/plain": [
       "   year geo    value\n",
       "0  2011  AL  115.592\n",
       "1  2012  AL  100.745\n",
       "2  2013  AL  109.229\n",
       "3  2014  AL  109.229\n",
       "4  2015  AL  109.229"
      ]
     },
     "execution_count": 599,
     "metadata": {},
     "output_type": "execute_result"
    }
   ],
   "source": [
    "resp = estat.data(\n",
    "\t\"TEN00127\",\n",
    "\tkey={\n",
    "\t\t\"unit\": \"KTOE\",\n",
    "\t\t\"freq\": \"A\",\n",
    "\t\t\"siec\": \"O4652XR5210B\",\n",
    "\t\t\"nrg_bal\": \"FC_TRA_ROAD_E\"\n",
    "\t}\n",
    ")\n",
    "gas_df = resp.to_pandas(datetime={'dim': 'TIME_PERIOD'}).droplevel(level=['unit', 'freq', 'siec', \"nrg_bal\"], axis=1)\n",
    "gas_df.reset_index(inplace=True)\n",
    "gas_df[\"year\"] = gas_df[\"TIME_PERIOD\"].dt.year\n",
    "gas_df.drop(\"TIME_PERIOD\", inplace=True, axis=1)\n",
    "gas_melted_df = pd.melt(gas_df, id_vars=\"year\")\n",
    "\n",
    "gas_melted_df.head()"
   ]
  },
  {
   "cell_type": "markdown",
   "metadata": {},
   "source": [
    "## Merge Datasets"
   ]
  },
  {
   "cell_type": "code",
   "execution_count": 703,
   "metadata": {},
   "outputs": [
    {
     "data": {
      "text/html": [
       "<div>\n",
       "<style scoped>\n",
       "    .dataframe tbody tr th:only-of-type {\n",
       "        vertical-align: middle;\n",
       "    }\n",
       "\n",
       "    .dataframe tbody tr th {\n",
       "        vertical-align: top;\n",
       "    }\n",
       "\n",
       "    .dataframe thead th {\n",
       "        text-align: right;\n",
       "    }\n",
       "</style>\n",
       "<table border=\"1\" class=\"dataframe\">\n",
       "  <thead>\n",
       "    <tr style=\"text-align: right;\">\n",
       "      <th></th>\n",
       "      <th>year</th>\n",
       "      <th>geo</th>\n",
       "      <th>carbon</th>\n",
       "      <th>energy_heating</th>\n",
       "      <th>energy_cooling</th>\n",
       "      <th>energy_water_heating</th>\n",
       "      <th>energy_cooking</th>\n",
       "      <th>total</th>\n",
       "      <th>gas</th>\n",
       "    </tr>\n",
       "  </thead>\n",
       "  <tbody>\n",
       "    <tr>\n",
       "      <th>0</th>\n",
       "      <td>2011</td>\n",
       "      <td>AT</td>\n",
       "      <td>84795.76</td>\n",
       "      <td>190731.846</td>\n",
       "      <td>25.123</td>\n",
       "      <td>41343.612</td>\n",
       "      <td>6891.695</td>\n",
       "      <td>274577.058</td>\n",
       "      <td>1632.260</td>\n",
       "    </tr>\n",
       "    <tr>\n",
       "      <th>1</th>\n",
       "      <td>2012</td>\n",
       "      <td>AT</td>\n",
       "      <td>81981.39</td>\n",
       "      <td>195419.278</td>\n",
       "      <td>34.215</td>\n",
       "      <td>41839.251</td>\n",
       "      <td>7026.774</td>\n",
       "      <td>279812.556</td>\n",
       "      <td>1585.826</td>\n",
       "    </tr>\n",
       "    <tr>\n",
       "      <th>2</th>\n",
       "      <td>2013</td>\n",
       "      <td>AT</td>\n",
       "      <td>82304.13</td>\n",
       "      <td>205494.885</td>\n",
       "      <td>31.035</td>\n",
       "      <td>41541.823</td>\n",
       "      <td>7353.560</td>\n",
       "      <td>289591.863</td>\n",
       "      <td>1554.830</td>\n",
       "    </tr>\n",
       "    <tr>\n",
       "      <th>3</th>\n",
       "      <td>2014</td>\n",
       "      <td>AT</td>\n",
       "      <td>78716.82</td>\n",
       "      <td>178513.717</td>\n",
       "      <td>27.645</td>\n",
       "      <td>42495.391</td>\n",
       "      <td>7152.047</td>\n",
       "      <td>261676.431</td>\n",
       "      <td>1524.254</td>\n",
       "    </tr>\n",
       "    <tr>\n",
       "      <th>4</th>\n",
       "      <td>2015</td>\n",
       "      <td>AT</td>\n",
       "      <td>81081.58</td>\n",
       "      <td>193886.979</td>\n",
       "      <td>25.714</td>\n",
       "      <td>42104.965</td>\n",
       "      <td>7179.133</td>\n",
       "      <td>278096.422</td>\n",
       "      <td>1539.983</td>\n",
       "    </tr>\n",
       "  </tbody>\n",
       "</table>\n",
       "</div>"
      ],
      "text/plain": [
       "   year geo    carbon  energy_heating  energy_cooling  energy_water_heating  \\\n",
       "0  2011  AT  84795.76      190731.846          25.123             41343.612   \n",
       "1  2012  AT  81981.39      195419.278          34.215             41839.251   \n",
       "2  2013  AT  82304.13      205494.885          31.035             41541.823   \n",
       "3  2014  AT  78716.82      178513.717          27.645             42495.391   \n",
       "4  2015  AT  81081.58      193886.979          25.714             42104.965   \n",
       "\n",
       "   energy_cooking       total       gas  \n",
       "0        6891.695  274577.058  1632.260  \n",
       "1        7026.774  279812.556  1585.826  \n",
       "2        7353.560  289591.863  1554.830  \n",
       "3        7152.047  261676.431  1524.254  \n",
       "4        7179.133  278096.422  1539.983  "
      ]
     },
     "execution_count": 703,
     "metadata": {},
     "output_type": "execute_result"
    }
   ],
   "source": [
    "to_merge_dfs = [emission_melted_df, *energy_dfs, gas_melted_df]\n",
    "columns = [\"year\", \"geo\", \"carbon\", \"energy_heating\", \"energy_cooling\", \"energy_water_heating\", \"energy_cooking\", \"total\", \"gas\"]\n",
    "res_carbon_df = reduce(lambda l, r: pd.merge(l, r, left_on=[\"year\", \"geo\"], right_on=[\"year\", \"geo\"]), to_merge_dfs)\n",
    "res_carbon_df.columns = columns\n",
    "res_carbon_df.head()"
   ]
  },
  {
   "cell_type": "code",
   "execution_count": 704,
   "metadata": {},
   "outputs": [],
   "source": [
    "res_carbon_df.drop(index=72, axis=0, inplace=True)"
   ]
  },
  {
   "cell_type": "code",
   "execution_count": 705,
   "metadata": {},
   "outputs": [
    {
     "data": {
      "text/html": [
       "<div>\n",
       "<style scoped>\n",
       "    .dataframe tbody tr th:only-of-type {\n",
       "        vertical-align: middle;\n",
       "    }\n",
       "\n",
       "    .dataframe tbody tr th {\n",
       "        vertical-align: top;\n",
       "    }\n",
       "\n",
       "    .dataframe thead th {\n",
       "        text-align: right;\n",
       "    }\n",
       "</style>\n",
       "<table border=\"1\" class=\"dataframe\">\n",
       "  <thead>\n",
       "    <tr style=\"text-align: right;\">\n",
       "      <th></th>\n",
       "      <th>year</th>\n",
       "      <th>geo</th>\n",
       "      <th>carbon</th>\n",
       "      <th>energy_heating</th>\n",
       "      <th>energy_cooling</th>\n",
       "      <th>energy_water_heating</th>\n",
       "      <th>energy_cooking</th>\n",
       "      <th>total</th>\n",
       "      <th>gas</th>\n",
       "    </tr>\n",
       "  </thead>\n",
       "  <tbody>\n",
       "    <tr>\n",
       "      <th>0</th>\n",
       "      <td>2011</td>\n",
       "      <td>AT</td>\n",
       "      <td>84795.76</td>\n",
       "      <td>190731.846</td>\n",
       "      <td>25.123</td>\n",
       "      <td>41343.612</td>\n",
       "      <td>6891.695</td>\n",
       "      <td>274577.058</td>\n",
       "      <td>1632.260</td>\n",
       "    </tr>\n",
       "    <tr>\n",
       "      <th>1</th>\n",
       "      <td>2012</td>\n",
       "      <td>AT</td>\n",
       "      <td>81981.39</td>\n",
       "      <td>195419.278</td>\n",
       "      <td>34.215</td>\n",
       "      <td>41839.251</td>\n",
       "      <td>7026.774</td>\n",
       "      <td>279812.556</td>\n",
       "      <td>1585.826</td>\n",
       "    </tr>\n",
       "    <tr>\n",
       "      <th>2</th>\n",
       "      <td>2013</td>\n",
       "      <td>AT</td>\n",
       "      <td>82304.13</td>\n",
       "      <td>205494.885</td>\n",
       "      <td>31.035</td>\n",
       "      <td>41541.823</td>\n",
       "      <td>7353.560</td>\n",
       "      <td>289591.863</td>\n",
       "      <td>1554.830</td>\n",
       "    </tr>\n",
       "    <tr>\n",
       "      <th>3</th>\n",
       "      <td>2014</td>\n",
       "      <td>AT</td>\n",
       "      <td>78716.82</td>\n",
       "      <td>178513.717</td>\n",
       "      <td>27.645</td>\n",
       "      <td>42495.391</td>\n",
       "      <td>7152.047</td>\n",
       "      <td>261676.431</td>\n",
       "      <td>1524.254</td>\n",
       "    </tr>\n",
       "    <tr>\n",
       "      <th>4</th>\n",
       "      <td>2015</td>\n",
       "      <td>AT</td>\n",
       "      <td>81081.58</td>\n",
       "      <td>193886.979</td>\n",
       "      <td>25.714</td>\n",
       "      <td>42104.965</td>\n",
       "      <td>7179.133</td>\n",
       "      <td>278096.422</td>\n",
       "      <td>1539.983</td>\n",
       "    </tr>\n",
       "  </tbody>\n",
       "</table>\n",
       "</div>"
      ],
      "text/plain": [
       "   year geo    carbon  energy_heating  energy_cooling  energy_water_heating  \\\n",
       "0  2011  AT  84795.76      190731.846          25.123             41343.612   \n",
       "1  2012  AT  81981.39      195419.278          34.215             41839.251   \n",
       "2  2013  AT  82304.13      205494.885          31.035             41541.823   \n",
       "3  2014  AT  78716.82      178513.717          27.645             42495.391   \n",
       "4  2015  AT  81081.58      193886.979          25.714             42104.965   \n",
       "\n",
       "   energy_cooking       total       gas  \n",
       "0        6891.695  274577.058  1632.260  \n",
       "1        7026.774  279812.556  1585.826  \n",
       "2        7353.560  289591.863  1554.830  \n",
       "3        7152.047  261676.431  1524.254  \n",
       "4        7179.133  278096.422  1539.983  "
      ]
     },
     "execution_count": 705,
     "metadata": {},
     "output_type": "execute_result"
    }
   ],
   "source": [
    "res_carbon_df.head()"
   ]
  },
  {
   "cell_type": "code",
   "execution_count": 706,
   "metadata": {},
   "outputs": [
    {
     "data": {
      "text/html": [
       "<div>\n",
       "<style scoped>\n",
       "    .dataframe tbody tr th:only-of-type {\n",
       "        vertical-align: middle;\n",
       "    }\n",
       "\n",
       "    .dataframe tbody tr th {\n",
       "        vertical-align: top;\n",
       "    }\n",
       "\n",
       "    .dataframe thead th {\n",
       "        text-align: right;\n",
       "    }\n",
       "</style>\n",
       "<table border=\"1\" class=\"dataframe\">\n",
       "  <thead>\n",
       "    <tr style=\"text-align: right;\">\n",
       "      <th></th>\n",
       "      <th>carbon</th>\n",
       "      <th>energy_heating</th>\n",
       "      <th>energy_cooling</th>\n",
       "      <th>energy_water_heating</th>\n",
       "      <th>energy_cooking</th>\n",
       "      <th>total</th>\n",
       "      <th>gas</th>\n",
       "    </tr>\n",
       "  </thead>\n",
       "  <tbody>\n",
       "    <tr>\n",
       "      <th>carbon</th>\n",
       "      <td>1.000000</td>\n",
       "      <td>0.953864</td>\n",
       "      <td>0.860277</td>\n",
       "      <td>0.953774</td>\n",
       "      <td>0.958315</td>\n",
       "      <td>0.955910</td>\n",
       "      <td>0.996810</td>\n",
       "    </tr>\n",
       "    <tr>\n",
       "      <th>energy_heating</th>\n",
       "      <td>0.953864</td>\n",
       "      <td>1.000000</td>\n",
       "      <td>0.927136</td>\n",
       "      <td>0.994901</td>\n",
       "      <td>0.993171</td>\n",
       "      <td>0.999384</td>\n",
       "      <td>0.957210</td>\n",
       "    </tr>\n",
       "    <tr>\n",
       "      <th>energy_cooling</th>\n",
       "      <td>0.860277</td>\n",
       "      <td>0.927136</td>\n",
       "      <td>1.000000</td>\n",
       "      <td>0.927544</td>\n",
       "      <td>0.933284</td>\n",
       "      <td>0.932756</td>\n",
       "      <td>0.871485</td>\n",
       "    </tr>\n",
       "    <tr>\n",
       "      <th>energy_water_heating</th>\n",
       "      <td>0.953774</td>\n",
       "      <td>0.994901</td>\n",
       "      <td>0.927544</td>\n",
       "      <td>1.000000</td>\n",
       "      <td>0.994353</td>\n",
       "      <td>0.996930</td>\n",
       "      <td>0.958951</td>\n",
       "    </tr>\n",
       "    <tr>\n",
       "      <th>energy_cooking</th>\n",
       "      <td>0.958315</td>\n",
       "      <td>0.993171</td>\n",
       "      <td>0.933284</td>\n",
       "      <td>0.994353</td>\n",
       "      <td>1.000000</td>\n",
       "      <td>0.995190</td>\n",
       "      <td>0.960897</td>\n",
       "    </tr>\n",
       "    <tr>\n",
       "      <th>total</th>\n",
       "      <td>0.955910</td>\n",
       "      <td>0.999384</td>\n",
       "      <td>0.932756</td>\n",
       "      <td>0.996930</td>\n",
       "      <td>0.995190</td>\n",
       "      <td>1.000000</td>\n",
       "      <td>0.959333</td>\n",
       "    </tr>\n",
       "    <tr>\n",
       "      <th>gas</th>\n",
       "      <td>0.996810</td>\n",
       "      <td>0.957210</td>\n",
       "      <td>0.871485</td>\n",
       "      <td>0.958951</td>\n",
       "      <td>0.960897</td>\n",
       "      <td>0.959333</td>\n",
       "      <td>1.000000</td>\n",
       "    </tr>\n",
       "  </tbody>\n",
       "</table>\n",
       "</div>"
      ],
      "text/plain": [
       "                        carbon  energy_heating  energy_cooling  \\\n",
       "carbon                1.000000        0.953864        0.860277   \n",
       "energy_heating        0.953864        1.000000        0.927136   \n",
       "energy_cooling        0.860277        0.927136        1.000000   \n",
       "energy_water_heating  0.953774        0.994901        0.927544   \n",
       "energy_cooking        0.958315        0.993171        0.933284   \n",
       "total                 0.955910        0.999384        0.932756   \n",
       "gas                   0.996810        0.957210        0.871485   \n",
       "\n",
       "                      energy_water_heating  energy_cooking     total       gas  \n",
       "carbon                            0.953774        0.958315  0.955910  0.996810  \n",
       "energy_heating                    0.994901        0.993171  0.999384  0.957210  \n",
       "energy_cooling                    0.927544        0.933284  0.932756  0.871485  \n",
       "energy_water_heating              1.000000        0.994353  0.996930  0.958951  \n",
       "energy_cooking                    0.994353        1.000000  0.995190  0.960897  \n",
       "total                             0.996930        0.995190  1.000000  0.959333  \n",
       "gas                               0.958951        0.960897  0.959333  1.000000  "
      ]
     },
     "execution_count": 706,
     "metadata": {},
     "output_type": "execute_result"
    }
   ],
   "source": [
    "res_carbon_df.iloc[:, 2:].corr()"
   ]
  },
  {
   "cell_type": "code",
   "execution_count": 707,
   "metadata": {},
   "outputs": [],
   "source": [
    "res_carbon_df.drop(res_carbon_df[(res_carbon_df.geo == \"EU27_2020\") | (res_carbon_df.geo == \"EU20\")].index, inplace=True)"
   ]
  },
  {
   "cell_type": "code",
   "execution_count": 708,
   "metadata": {},
   "outputs": [],
   "source": [
    "res_carbon_df.drop(\"year\", axis=1, inplace=True)"
   ]
  },
  {
   "cell_type": "markdown",
   "metadata": {},
   "source": [
    "## Missing Data"
   ]
  },
  {
   "cell_type": "code",
   "execution_count": 709,
   "metadata": {},
   "outputs": [
    {
     "data": {
      "text/html": [
       "<div>\n",
       "<style scoped>\n",
       "    .dataframe tbody tr th:only-of-type {\n",
       "        vertical-align: middle;\n",
       "    }\n",
       "\n",
       "    .dataframe tbody tr th {\n",
       "        vertical-align: top;\n",
       "    }\n",
       "\n",
       "    .dataframe thead th {\n",
       "        text-align: right;\n",
       "    }\n",
       "</style>\n",
       "<table border=\"1\" class=\"dataframe\">\n",
       "  <thead>\n",
       "    <tr style=\"text-align: right;\">\n",
       "      <th></th>\n",
       "      <th>geo</th>\n",
       "      <th>carbon</th>\n",
       "      <th>energy_heating</th>\n",
       "      <th>energy_cooling</th>\n",
       "      <th>energy_water_heating</th>\n",
       "      <th>energy_cooking</th>\n",
       "      <th>total</th>\n",
       "      <th>gas</th>\n",
       "    </tr>\n",
       "  </thead>\n",
       "  <tbody>\n",
       "    <tr>\n",
       "      <th>0</th>\n",
       "      <td>AT</td>\n",
       "      <td>84795.76</td>\n",
       "      <td>190731.846</td>\n",
       "      <td>25.123</td>\n",
       "      <td>41343.612</td>\n",
       "      <td>6891.695</td>\n",
       "      <td>274577.058</td>\n",
       "      <td>1632.26</td>\n",
       "    </tr>\n",
       "    <tr>\n",
       "      <th>1</th>\n",
       "      <td>AT</td>\n",
       "      <td>81981.39</td>\n",
       "      <td>195419.278</td>\n",
       "      <td>34.215</td>\n",
       "      <td>41839.251</td>\n",
       "      <td>7026.774</td>\n",
       "      <td>279812.556</td>\n",
       "      <td>1585.826</td>\n",
       "    </tr>\n",
       "    <tr>\n",
       "      <th>2</th>\n",
       "      <td>AT</td>\n",
       "      <td>82304.13</td>\n",
       "      <td>205494.885</td>\n",
       "      <td>31.035</td>\n",
       "      <td>41541.823</td>\n",
       "      <td>7353.56</td>\n",
       "      <td>289591.863</td>\n",
       "      <td>1554.83</td>\n",
       "    </tr>\n",
       "    <tr>\n",
       "      <th>3</th>\n",
       "      <td>AT</td>\n",
       "      <td>78716.82</td>\n",
       "      <td>178513.717</td>\n",
       "      <td>27.645</td>\n",
       "      <td>42495.391</td>\n",
       "      <td>7152.047</td>\n",
       "      <td>261676.431</td>\n",
       "      <td>1524.254</td>\n",
       "    </tr>\n",
       "    <tr>\n",
       "      <th>4</th>\n",
       "      <td>AT</td>\n",
       "      <td>81081.58</td>\n",
       "      <td>193886.979</td>\n",
       "      <td>25.714</td>\n",
       "      <td>42104.965</td>\n",
       "      <td>7179.133</td>\n",
       "      <td>278096.422</td>\n",
       "      <td>1539.983</td>\n",
       "    </tr>\n",
       "  </tbody>\n",
       "</table>\n",
       "</div>"
      ],
      "text/plain": [
       "  geo    carbon energy_heating energy_cooling energy_water_heating  \\\n",
       "0  AT  84795.76     190731.846         25.123            41343.612   \n",
       "1  AT  81981.39     195419.278         34.215            41839.251   \n",
       "2  AT  82304.13     205494.885         31.035            41541.823   \n",
       "3  AT  78716.82     178513.717         27.645            42495.391   \n",
       "4  AT  81081.58     193886.979         25.714            42104.965   \n",
       "\n",
       "  energy_cooking       total       gas  \n",
       "0       6891.695  274577.058   1632.26  \n",
       "1       7026.774  279812.556  1585.826  \n",
       "2        7353.56  289591.863   1554.83  \n",
       "3       7152.047  261676.431  1524.254  \n",
       "4       7179.133  278096.422  1539.983  "
      ]
     },
     "execution_count": 709,
     "metadata": {},
     "output_type": "execute_result"
    }
   ],
   "source": [
    "\n",
    "def fill_holes():\n",
    "\t\"\"\"\n",
    "\t\"\"\"\n",
    "\tlin_reg = lambda X, Y: np.matmul(np.linalg.inv(np.matmul(X.T, X)), np.matmul(X.T, Y))\n",
    "\n",
    "\tdfs = []\n",
    "\n",
    "\tfor name, group in res_carbon_df.groupby('geo'):\n",
    "\t\tcols = [[name for _ in range(len(group.index))]]\n",
    "\t\tfor i in range(1, len(group.columns)):\n",
    "\t\t\td = group.iloc[:, i:i+1].to_numpy()\n",
    "\n",
    "\t\t\tmissing_mask = np.isnan(d) | (d == 0)\n",
    "\t\t\tpresent_mask = ~missing_mask\n",
    "\n",
    "\t\t\tmissing_mask = missing_mask.reshape(1, -1)[0]\n",
    "\t\t\tpresent_mask = present_mask.reshape(1, -1)[0]\n",
    "\n",
    "\t\t\tif not np.any(missing_mask):\n",
    "\t\t\t\td = d.reshape(1, -1)[0]\n",
    "\t\t\t\tcols.append(d)\n",
    "\t\t\t\tcontinue\n",
    "\n",
    "\t\t\tif not np.any(present_mask):\n",
    "\t\t\t\td = d.reshape(1, -1)[0]\n",
    "\t\t\t\tcols.append(d)\n",
    "\t\t\t\tcontinue\n",
    "\n",
    "\t\t\tx_present = np.pad(np.arange(len(d))[present_mask].reshape(-1, 1), ((0, 0), (1, 0)), mode=\"constant\", constant_values=1)\n",
    "\t\t\ty_present = d[present_mask]\n",
    "\n",
    "\t\t\tw = lin_reg(x_present, y_present)\n",
    "\n",
    "\t\t\tx_missing = np.pad(np.arange(len(d))[missing_mask].reshape(-1, 1), ((0, 0), (1, 0)), mode=\"constant\", constant_values=1)\n",
    "\t\t\ty_missing_pred = np.matmul(x_missing, w)\n",
    "\n",
    "\t\t\td[missing_mask] = y_missing_pred\n",
    "\t\t\td = d.reshape(1, -1)[0]\n",
    "\n",
    "\t\t\tcols.append(d)\n",
    "\t\t# print(cols)\n",
    "\t\tdfs.append(pd.DataFrame(cols).T)\t\n",
    "\t\t# print(dfs)\n",
    "\tdf = pd.concat(dfs, axis=0)\n",
    "\tdf.columns = res_carbon_df.columns\n",
    "\treturn df\n",
    "\n",
    "res_carbon_df = fill_holes()\n",
    "res_carbon_df.head()"
   ]
  },
  {
   "cell_type": "markdown",
   "metadata": {},
   "source": [
    "## Standardize"
   ]
  },
  {
   "cell_type": "code",
   "execution_count": 710,
   "metadata": {},
   "outputs": [
    {
     "data": {
      "text/html": [
       "<div>\n",
       "<style scoped>\n",
       "    .dataframe tbody tr th:only-of-type {\n",
       "        vertical-align: middle;\n",
       "    }\n",
       "\n",
       "    .dataframe tbody tr th {\n",
       "        vertical-align: top;\n",
       "    }\n",
       "\n",
       "    .dataframe thead th {\n",
       "        text-align: right;\n",
       "    }\n",
       "</style>\n",
       "<table border=\"1\" class=\"dataframe\">\n",
       "  <thead>\n",
       "    <tr style=\"text-align: right;\">\n",
       "      <th></th>\n",
       "      <th>carbon</th>\n",
       "      <th>energy_heating</th>\n",
       "      <th>energy_cooling</th>\n",
       "      <th>energy_water_heating</th>\n",
       "      <th>energy_cooking</th>\n",
       "      <th>total</th>\n",
       "      <th>gas</th>\n",
       "      <th>geo</th>\n",
       "    </tr>\n",
       "  </thead>\n",
       "  <tbody>\n",
       "    <tr>\n",
       "      <th>0</th>\n",
       "      <td>-0.278063</td>\n",
       "      <td>-0.151182</td>\n",
       "      <td>-0.520127</td>\n",
       "      <td>-0.16618</td>\n",
       "      <td>-0.443228</td>\n",
       "      <td>-0.194221</td>\n",
       "      <td>-0.20869</td>\n",
       "      <td>AT</td>\n",
       "    </tr>\n",
       "    <tr>\n",
       "      <th>1</th>\n",
       "      <td>-0.292585</td>\n",
       "      <td>-0.13864</td>\n",
       "      <td>-0.516839</td>\n",
       "      <td>-0.159931</td>\n",
       "      <td>-0.439427</td>\n",
       "      <td>-0.184739</td>\n",
       "      <td>-0.222157</td>\n",
       "      <td>AT</td>\n",
       "    </tr>\n",
       "    <tr>\n",
       "      <th>2</th>\n",
       "      <td>-0.29092</td>\n",
       "      <td>-0.111683</td>\n",
       "      <td>-0.517989</td>\n",
       "      <td>-0.163681</td>\n",
       "      <td>-0.430231</td>\n",
       "      <td>-0.167029</td>\n",
       "      <td>-0.231146</td>\n",
       "      <td>AT</td>\n",
       "    </tr>\n",
       "    <tr>\n",
       "      <th>3</th>\n",
       "      <td>-0.309431</td>\n",
       "      <td>-0.183871</td>\n",
       "      <td>-0.519215</td>\n",
       "      <td>-0.151659</td>\n",
       "      <td>-0.435901</td>\n",
       "      <td>-0.217583</td>\n",
       "      <td>-0.240014</td>\n",
       "      <td>AT</td>\n",
       "    </tr>\n",
       "    <tr>\n",
       "      <th>4</th>\n",
       "      <td>-0.297228</td>\n",
       "      <td>-0.14274</td>\n",
       "      <td>-0.519914</td>\n",
       "      <td>-0.156581</td>\n",
       "      <td>-0.435139</td>\n",
       "      <td>-0.187847</td>\n",
       "      <td>-0.235452</td>\n",
       "      <td>AT</td>\n",
       "    </tr>\n",
       "  </tbody>\n",
       "</table>\n",
       "</div>"
      ],
      "text/plain": [
       "     carbon energy_heating energy_cooling energy_water_heating energy_cooking  \\\n",
       "0 -0.278063      -0.151182      -0.520127             -0.16618      -0.443228   \n",
       "1 -0.292585       -0.13864      -0.516839            -0.159931      -0.439427   \n",
       "2  -0.29092      -0.111683      -0.517989            -0.163681      -0.430231   \n",
       "3 -0.309431      -0.183871      -0.519215            -0.151659      -0.435901   \n",
       "4 -0.297228       -0.14274      -0.519914            -0.156581      -0.435139   \n",
       "\n",
       "      total       gas geo  \n",
       "0 -0.194221  -0.20869  AT  \n",
       "1 -0.184739 -0.222157  AT  \n",
       "2 -0.167029 -0.231146  AT  \n",
       "3 -0.217583 -0.240014  AT  \n",
       "4 -0.187847 -0.235452  AT  "
      ]
     },
     "execution_count": 710,
     "metadata": {},
     "output_type": "execute_result"
    }
   ],
   "source": [
    "df_merged_s = pd.DataFrame()\n",
    "for feat in res_carbon_df.columns:\n",
    "\tif feat == \"geo\": continue\n",
    "\tdf_merged_s[f'{feat}'] = ((res_carbon_df[feat] - res_carbon_df[feat].mean()) / res_carbon_df[feat].std())\n",
    "df_merged_s[\"geo\"] = res_carbon_df[\"geo\"]\n",
    "# df_merged_s[\"year\"] = res_carbon_df[\"year\"]\n",
    "df_merged_s.head()"
   ]
  },
  {
   "cell_type": "markdown",
   "metadata": {},
   "source": [
    "## Dummies"
   ]
  },
  {
   "cell_type": "code",
   "execution_count": 711,
   "metadata": {},
   "outputs": [
    {
     "name": "stdout",
     "output_type": "stream",
     "text": [
      "(335, 35)\n"
     ]
    },
    {
     "data": {
      "text/html": [
       "<div>\n",
       "<style scoped>\n",
       "    .dataframe tbody tr th:only-of-type {\n",
       "        vertical-align: middle;\n",
       "    }\n",
       "\n",
       "    .dataframe tbody tr th {\n",
       "        vertical-align: top;\n",
       "    }\n",
       "\n",
       "    .dataframe thead th {\n",
       "        text-align: right;\n",
       "    }\n",
       "</style>\n",
       "<table border=\"1\" class=\"dataframe\">\n",
       "  <thead>\n",
       "    <tr style=\"text-align: right;\">\n",
       "      <th></th>\n",
       "      <th>carbon</th>\n",
       "      <th>energy_heating</th>\n",
       "      <th>energy_cooling</th>\n",
       "      <th>energy_water_heating</th>\n",
       "      <th>energy_cooking</th>\n",
       "      <th>total</th>\n",
       "      <th>gas</th>\n",
       "      <th>geo_AT</th>\n",
       "      <th>geo_BE</th>\n",
       "      <th>geo_BG</th>\n",
       "      <th>...</th>\n",
       "      <th>geo_LV</th>\n",
       "      <th>geo_MT</th>\n",
       "      <th>geo_NL</th>\n",
       "      <th>geo_NO</th>\n",
       "      <th>geo_PL</th>\n",
       "      <th>geo_PT</th>\n",
       "      <th>geo_RO</th>\n",
       "      <th>geo_SE</th>\n",
       "      <th>geo_SI</th>\n",
       "      <th>geo_SK</th>\n",
       "    </tr>\n",
       "  </thead>\n",
       "  <tbody>\n",
       "    <tr>\n",
       "      <th>0</th>\n",
       "      <td>-0.278063</td>\n",
       "      <td>-0.151182</td>\n",
       "      <td>-0.520127</td>\n",
       "      <td>-0.16618</td>\n",
       "      <td>-0.443228</td>\n",
       "      <td>-0.194221</td>\n",
       "      <td>-0.20869</td>\n",
       "      <td>1</td>\n",
       "      <td>0</td>\n",
       "      <td>0</td>\n",
       "      <td>...</td>\n",
       "      <td>0</td>\n",
       "      <td>0</td>\n",
       "      <td>0</td>\n",
       "      <td>0</td>\n",
       "      <td>0</td>\n",
       "      <td>0</td>\n",
       "      <td>0</td>\n",
       "      <td>0</td>\n",
       "      <td>0</td>\n",
       "      <td>0</td>\n",
       "    </tr>\n",
       "    <tr>\n",
       "      <th>1</th>\n",
       "      <td>-0.292585</td>\n",
       "      <td>-0.13864</td>\n",
       "      <td>-0.516839</td>\n",
       "      <td>-0.159931</td>\n",
       "      <td>-0.439427</td>\n",
       "      <td>-0.184739</td>\n",
       "      <td>-0.222157</td>\n",
       "      <td>1</td>\n",
       "      <td>0</td>\n",
       "      <td>0</td>\n",
       "      <td>...</td>\n",
       "      <td>0</td>\n",
       "      <td>0</td>\n",
       "      <td>0</td>\n",
       "      <td>0</td>\n",
       "      <td>0</td>\n",
       "      <td>0</td>\n",
       "      <td>0</td>\n",
       "      <td>0</td>\n",
       "      <td>0</td>\n",
       "      <td>0</td>\n",
       "    </tr>\n",
       "    <tr>\n",
       "      <th>2</th>\n",
       "      <td>-0.29092</td>\n",
       "      <td>-0.111683</td>\n",
       "      <td>-0.517989</td>\n",
       "      <td>-0.163681</td>\n",
       "      <td>-0.430231</td>\n",
       "      <td>-0.167029</td>\n",
       "      <td>-0.231146</td>\n",
       "      <td>1</td>\n",
       "      <td>0</td>\n",
       "      <td>0</td>\n",
       "      <td>...</td>\n",
       "      <td>0</td>\n",
       "      <td>0</td>\n",
       "      <td>0</td>\n",
       "      <td>0</td>\n",
       "      <td>0</td>\n",
       "      <td>0</td>\n",
       "      <td>0</td>\n",
       "      <td>0</td>\n",
       "      <td>0</td>\n",
       "      <td>0</td>\n",
       "    </tr>\n",
       "    <tr>\n",
       "      <th>3</th>\n",
       "      <td>-0.309431</td>\n",
       "      <td>-0.183871</td>\n",
       "      <td>-0.519215</td>\n",
       "      <td>-0.151659</td>\n",
       "      <td>-0.435901</td>\n",
       "      <td>-0.217583</td>\n",
       "      <td>-0.240014</td>\n",
       "      <td>1</td>\n",
       "      <td>0</td>\n",
       "      <td>0</td>\n",
       "      <td>...</td>\n",
       "      <td>0</td>\n",
       "      <td>0</td>\n",
       "      <td>0</td>\n",
       "      <td>0</td>\n",
       "      <td>0</td>\n",
       "      <td>0</td>\n",
       "      <td>0</td>\n",
       "      <td>0</td>\n",
       "      <td>0</td>\n",
       "      <td>0</td>\n",
       "    </tr>\n",
       "    <tr>\n",
       "      <th>4</th>\n",
       "      <td>-0.297228</td>\n",
       "      <td>-0.14274</td>\n",
       "      <td>-0.519914</td>\n",
       "      <td>-0.156581</td>\n",
       "      <td>-0.435139</td>\n",
       "      <td>-0.187847</td>\n",
       "      <td>-0.235452</td>\n",
       "      <td>1</td>\n",
       "      <td>0</td>\n",
       "      <td>0</td>\n",
       "      <td>...</td>\n",
       "      <td>0</td>\n",
       "      <td>0</td>\n",
       "      <td>0</td>\n",
       "      <td>0</td>\n",
       "      <td>0</td>\n",
       "      <td>0</td>\n",
       "      <td>0</td>\n",
       "      <td>0</td>\n",
       "      <td>0</td>\n",
       "      <td>0</td>\n",
       "    </tr>\n",
       "  </tbody>\n",
       "</table>\n",
       "<p>5 rows × 35 columns</p>\n",
       "</div>"
      ],
      "text/plain": [
       "     carbon energy_heating energy_cooling energy_water_heating energy_cooking  \\\n",
       "0 -0.278063      -0.151182      -0.520127             -0.16618      -0.443228   \n",
       "1 -0.292585       -0.13864      -0.516839            -0.159931      -0.439427   \n",
       "2  -0.29092      -0.111683      -0.517989            -0.163681      -0.430231   \n",
       "3 -0.309431      -0.183871      -0.519215            -0.151659      -0.435901   \n",
       "4 -0.297228       -0.14274      -0.519914            -0.156581      -0.435139   \n",
       "\n",
       "      total       gas  geo_AT  geo_BE  geo_BG  ...  geo_LV  geo_MT  geo_NL  \\\n",
       "0 -0.194221  -0.20869       1       0       0  ...       0       0       0   \n",
       "1 -0.184739 -0.222157       1       0       0  ...       0       0       0   \n",
       "2 -0.167029 -0.231146       1       0       0  ...       0       0       0   \n",
       "3 -0.217583 -0.240014       1       0       0  ...       0       0       0   \n",
       "4 -0.187847 -0.235452       1       0       0  ...       0       0       0   \n",
       "\n",
       "   geo_NO  geo_PL  geo_PT  geo_RO  geo_SE  geo_SI  geo_SK  \n",
       "0       0       0       0       0       0       0       0  \n",
       "1       0       0       0       0       0       0       0  \n",
       "2       0       0       0       0       0       0       0  \n",
       "3       0       0       0       0       0       0       0  \n",
       "4       0       0       0       0       0       0       0  \n",
       "\n",
       "[5 rows x 35 columns]"
      ]
     },
     "execution_count": 711,
     "metadata": {},
     "output_type": "execute_result"
    }
   ],
   "source": [
    "df_dummies = pd.get_dummies(df_merged_s, dtype=int, columns=[\"geo\"])\n",
    "print(df_dummies.shape)\n",
    "df_dummies.head()"
   ]
  },
  {
   "cell_type": "code",
   "execution_count": 712,
   "metadata": {},
   "outputs": [
    {
     "name": "stderr",
     "output_type": "stream",
     "text": [
      "/var/folders/jk/vqmr1l1d1dnflmyh1qdjmhk40000gn/T/ipykernel_66892/3693932479.py:1: FutureWarning:\n",
      "\n",
      "Downcasting object dtype arrays on .fillna, .ffill, .bfill is deprecated and will change in a future version. Call result.infer_objects(copy=False) instead. To opt-in to the future behavior, set `pd.set_option('future.no_silent_downcasting', True)`\n",
      "\n"
     ]
    }
   ],
   "source": [
    "df_dummies = df_dummies.fillna(0)"
   ]
  },
  {
   "cell_type": "code",
   "execution_count": 713,
   "metadata": {},
   "outputs": [],
   "source": [
    "df_dummies.drop([\"energy_cooling\", \"energy_heating\", \"energy_water_heating\", \"energy_cooking\"], axis=1, inplace=True)"
   ]
  },
  {
   "cell_type": "markdown",
   "metadata": {},
   "source": [
    "## Linear Regression"
   ]
  },
  {
   "cell_type": "code",
   "execution_count": 714,
   "metadata": {},
   "outputs": [
    {
     "data": {
      "text/plain": [
       "array([[ 1.        , -0.19422063, -0.2086896 ,  1.        ,  0.        ,\n",
       "         0.        ,  0.        ,  0.        ,  0.        ,  0.        ,\n",
       "         0.        ,  0.        ,  0.        ,  0.        ,  0.        ,\n",
       "         0.        ,  0.        ,  0.        ,  0.        ,  0.        ,\n",
       "         0.        ,  0.        ,  0.        ,  0.        ,  0.        ,\n",
       "         0.        ,  0.        ,  0.        ,  0.        ,  0.        ,\n",
       "         0.        ],\n",
       "       [ 1.        , -0.18473927, -0.22215674,  1.        ,  0.        ,\n",
       "         0.        ,  0.        ,  0.        ,  0.        ,  0.        ,\n",
       "         0.        ,  0.        ,  0.        ,  0.        ,  0.        ,\n",
       "         0.        ,  0.        ,  0.        ,  0.        ,  0.        ,\n",
       "         0.        ,  0.        ,  0.        ,  0.        ,  0.        ,\n",
       "         0.        ,  0.        ,  0.        ,  0.        ,  0.        ,\n",
       "         0.        ]])"
      ]
     },
     "execution_count": 714,
     "metadata": {},
     "output_type": "execute_result"
    }
   ],
   "source": [
    "X = np.pad(df_dummies.iloc[:, 1:].to_numpy(), ((0,0), (1,0)), mode=\"constant\", constant_values=1)\n",
    "y = np.array(df_dummies[\"carbon\"])\n",
    "X[0:2,]"
   ]
  },
  {
   "cell_type": "code",
   "execution_count": 715,
   "metadata": {},
   "outputs": [
    {
     "data": {
      "text/plain": [
       "array([  56.20252722,  127.95282355,   43.70567339,  -24.29766787,\n",
       "        -44.87242756,   24.04409072,   48.15089027,   -7.80834782,\n",
       "       -715.48225259,   -2.65882844,   40.86351043,  -17.92484837,\n",
       "       -162.67244527,    4.80913169, -438.8064785 ,   38.26739083,\n",
       "         -0.98892811,   14.71399105, -353.58122047,   45.08681054,\n",
       "         58.88487034,   33.86351043,   63.92759016,  -87.57534671,\n",
       "         14.38389138, -198.7054641 ,    9.95865107,  -34.07436775,\n",
       "        -45.87242756,   28.10817045,   43.28875074])"
      ]
     },
     "execution_count": 715,
     "metadata": {},
     "output_type": "execute_result"
    }
   ],
   "source": [
    "m = np.matmul(np.linalg.inv(np.matmul(X.T, X)), np.matmul(X.T, y))\n",
    "np.set_printoptions(suppress=True) #this just prevents python from printing it out in inconvenient scientific notation\n",
    "m"
   ]
  },
  {
   "cell_type": "code",
   "execution_count": 716,
   "metadata": {},
   "outputs": [
    {
     "name": "stdout",
     "output_type": "stream",
     "text": [
      "[ 1.78907501  1.14997642 -0.72151283  6.11610034  2.12409377]\n"
     ]
    },
    {
     "data": {
      "text/plain": [
       "1173.1"
      ]
     },
     "execution_count": 716,
     "metadata": {},
     "output_type": "execute_result"
    }
   ],
   "source": [
    "# get the residuals\n",
    "res = y - np.matmul(X, m)\n",
    "print(res[0:5])\n",
    "round(sum(res), 1)"
   ]
  },
  {
   "cell_type": "code",
   "execution_count": 717,
   "metadata": {},
   "outputs": [
    {
     "data": {
      "image/png": "[encoded data removed]",
      "text/plain": [
       "<Figure size 640x480 with 1 Axes>"
      ]
     },
     "metadata": {},
     "output_type": "display_data"
    }
   ],
   "source": [
    "# x values versus residuals\n",
    "plt.scatter(X[:, 1:2], res, alpha=0.5)\n",
    "plt.xlabel(\"Energy\")\n",
    "plt.ylabel(\"Carbon\")\n",
    "plt.title(\"Residual Plot vs. X Values\")\n",
    "plt.show()"
   ]
  },
  {
   "cell_type": "code",
   "execution_count": 757,
   "metadata": {},
   "outputs": [
    {
     "data": {
      "image/png": "[encoded data removed]",
      "text/plain": [
       "<Figure size 640x480 with 1 Axes>"
      ]
     },
     "metadata": {},
     "output_type": "display_data"
    }
   ],
   "source": [
    "# x values versus residuals\n",
    "plt.scatter(X[:, 2:3], res, alpha=0.5)\n",
    "plt.xlabel(\"Gas\")\n",
    "plt.ylabel(\"Carbon\")\n",
    "plt.title(\"Residual Plot vs. X Values\")\n",
    "plt.show()"
   ]
  },
  {
   "cell_type": "code",
   "execution_count": 758,
   "metadata": {},
   "outputs": [
    {
     "data": {
      "image/png": "[encoded data removed]",
      "text/plain": [
       "<Figure size 640x480 with 1 Axes>"
      ]
     },
     "metadata": {},
     "output_type": "display_data"
    }
   ],
   "source": [
    "# residuals versus order\n",
    "plt.scatter(range(len(X[:,1:2])), res, alpha=0.5)\n",
    "plt.xlabel(\"Index\")\n",
    "plt.ylabel(\"Residuals\")\n",
    "plt.title(\"Residual Plot vs. Order\")\n",
    "plt.show()"
   ]
  },
  {
   "cell_type": "code",
   "execution_count": 719,
   "metadata": {},
   "outputs": [
    {
     "data": {
      "application/vnd.plotly.v1+json": {
       "config": {
        "plotlyServerURL": "https://plot.ly"
       },
       "data": [
        {
         "hovertemplate": "geo=AT<br>total=%{x}<br>carbon=%{y}<extra></extra>",
         "legendgroup": "AT",
         "marker": {
          "color": "#636efa",
          "symbol": "circle"
         },
         "mode": "markers",
         "name": "AT",
         "orientation": "v",
         "showlegend": true,
         "type": "scatter",
         "x": [
          -0.19422062686714858,
          -0.18473926918596034,
          -0.16702918553371776,
          -0.21758334401432258,
          -0.1878471455107814,
          -0.16622962906279737,
          -0.1634713651460163,
          -0.1957314330302932,
          -0.18429355193948369,
          -0.16349070274051444,
          -0.10016280808800124,
          -0.18697998533105656
         ],
         "xaxis": "x",
         "y": [
          -0.2780628571399248,
          -0.2925852978290935,
          -0.29091992600235345,
          -0.3094308171462548,
          -0.2972284106239715,
          -0.2914292282248832,
          -0.27980516611091927,
          -0.2953153022247528,
          -0.28739779410739796,
          -0.3281862455984206,
          -0.3100489459531124,
          -0.32950898654799776
         ],
         "yaxis": "y"
        },
        {
         "hovertemplate": "geo=BE<br>total=%{x}<br>carbon=%{y}<extra></extra>",
         "legendgroup": "BE",
         "marker": {
          "color": "#EF553B",
          "symbol": "circle"
         },
         "mode": "markers",
         "name": "BE",
         "orientation": "v",
         "showlegend": true,
         "type": "scatter",
         "x": [
          -0.03451352403139175,
          -0.04069572092524283,
          -0.04687791781909403,
          -0.05306011471294511,
          -0.0592423116067963,
          -0.0642143104647586,
          -0.07382501162546044,
          -0.07998346501588552,
          -0.095047145075093,
          -0.09483018117653078,
          -0.04114499124062597,
          -0.13875258967704102
         ],
         "xaxis": "x",
         "y": [
          -0.0566985935966168,
          -0.07272463686555179,
          -0.07338141484816153,
          -0.10179789881353377,
          -0.07816725610783361,
          -0.08640536146009997,
          -0.08675599049779897,
          -0.08116878515343734,
          -0.08662884554579156,
          -0.14256658710787662,
          -0.12342358327643835,
          -0.153828616355248
         ],
         "yaxis": "y"
        },
        {
         "hovertemplate": "geo=BG<br>total=%{x}<br>carbon=%{y}<extra></extra>",
         "legendgroup": "BG",
         "marker": {
          "color": "#00cc96",
          "symbol": "circle"
         },
         "mode": "markers",
         "name": "BG",
         "orientation": "v",
         "showlegend": true,
         "type": "scatter",
         "x": [
          -0.5114504889508378,
          -0.513097873439911,
          -0.5215528753446379,
          -0.5273185680289791,
          -0.5252300879024534,
          -0.5207357542240605,
          -0.5156634713140373,
          -0.5224149014093222,
          -0.5275205950030778,
          -0.5108465757660029,
          -0.509305276400371,
          -0.5325967696990699
         ],
         "xaxis": "x",
         "y": [
          -0.37818594637430203,
          -0.40461713209148686,
          -0.4322908707487444,
          -0.41686510232830865,
          -0.4003418830802375,
          -0.4133421964178174,
          -0.40364790983760895,
          -0.4259340359566592,
          -0.43290549068517303,
          -0.4656889703033001,
          -0.43392125707326806,
          -0.4107448066839516
         ],
         "yaxis": "y"
        },
        {
         "hovertemplate": "geo=CY<br>total=%{x}<br>carbon=%{y}<extra></extra>",
         "legendgroup": "CY",
         "marker": {
          "color": "#ab63fa",
          "symbol": "circle"
         },
         "mode": "markers",
         "name": "CY",
         "orientation": "v",
         "showlegend": true,
         "type": "scatter",
         "x": [
          -0.6676321806908846,
          -0.6672913060576801,
          -0.6669504314244755,
          -0.666609556791271,
          -0.6662686821580664,
          -0.6659278075248621,
          -0.6655869328916576,
          -0.666055723231431,
          -0.6641652895552442,
          -0.6638831740084647,
          -0.6645667266441003,
          -0.6641506315209805
         ],
         "xaxis": "x",
         "y": [
          -0.663832148561396,
          -0.6667361516494941,
          -0.6706619068458303,
          -0.6687368270063251,
          -0.6686261427847116,
          -0.665750881473508,
          -0.6642555350594566,
          -0.664578712346154,
          -0.6643740626384992,
          -0.6699372219002165,
          -0.6677076959499794,
          -0.6662212249140712
         ],
         "yaxis": "y"
        },
        {
         "hovertemplate": "geo=CZ<br>total=%{x}<br>carbon=%{y}<extra></extra>",
         "legendgroup": "CZ",
         "marker": {
          "color": "#FFA15A",
          "symbol": "circle"
         },
         "mode": "markers",
         "name": "CZ",
         "orientation": "v",
         "showlegend": true,
         "type": "scatter",
         "x": [
          -0.19340618514923802,
          -0.1868259716246132,
          -0.18024575809998838,
          -0.17366554457536368,
          -0.17679691093174388,
          -0.15401867339321448,
          -0.14231662352107546,
          -0.14807157168882581,
          -0.15584426147601346,
          -0.1427893442205922,
          -0.09122601793031579,
          -0.14137326655463872
         ],
         "xaxis": "x",
         "y": [
          0.012178572080901739,
          -0.00857985377470221,
          -0.03711682615847428,
          -0.04833339489337873,
          -0.039842857274383366,
          -0.03168370150676442,
          -0.026969843691918023,
          -0.03574501262392993,
          -0.06608291275527141,
          -0.12535397802262235,
          -0.0969477110623222,
          -0.104143681897242
         ],
         "yaxis": "y"
        },
        {
         "hovertemplate": "geo=DE<br>total=%{x}<br>carbon=%{y}<extra></extra>",
         "legendgroup": "DE",
         "marker": {
          "color": "#19d3f3",
          "symbol": "circle"
         },
         "mode": "markers",
         "name": "DE",
         "orientation": "v",
         "showlegend": true,
         "type": "scatter",
         "x": [
          3.5541590252677846,
          3.7948672406423585,
          4.0455978027343855,
          3.3829603221215048,
          3.465333387653822,
          3.621190909559238,
          3.611033648802178,
          3.5391975349240985,
          3.6845817156834935,
          3.702393215764795,
          3.7631549402749798,
          3.6506953014104697
         ],
         "xaxis": "x",
         "y": [
          4.071072077520997,
          4.133532344800855,
          4.223760161420905,
          4.009324265741287,
          4.0526772371064235,
          4.038900947393727,
          3.976272667141573,
          3.835669029796298,
          3.5508154711188578,
          3.131825587705698,
          3.2985373882845677,
          3.295744017817047
         ],
         "yaxis": "y"
        },
        {
         "hovertemplate": "geo=DK<br>total=%{x}<br>carbon=%{y}<extra></extra>",
         "legendgroup": "DK",
         "marker": {
          "color": "#FF6692",
          "symbol": "circle"
         },
         "mode": "markers",
         "name": "DK",
         "orientation": "v",
         "showlegend": true,
         "type": "scatter",
         "x": [
          -0.33557743857039984,
          -0.3390426369917176,
          -0.3425078354130354,
          -0.35827693751055556,
          -0.34205245124496264,
          -0.34681714180736334,
          -0.35712328284572026,
          -0.3584965345672373,
          -0.3670463265423164,
          -0.34888169170597205,
          -0.3861154602475937
         ],
         "xaxis": "x",
         "y": [
          -0.4193476797577035,
          -0.41064284303737414,
          -0.43130234970750814,
          -0.44567901747077543,
          -0.43433814184082814,
          -0.4458951742093953,
          -0.4460903293264781,
          -0.46593871931617176,
          -0.4908344646145529,
          -0.48423329891834627,
          -0.48731775082834766
         ],
         "yaxis": "y"
        },
        {
         "hovertemplate": "geo=EE<br>total=%{x}<br>carbon=%{y}<extra></extra>",
         "legendgroup": "EE",
         "marker": {
          "color": "#B6E880",
          "symbol": "circle"
         },
         "mode": "markers",
         "name": "EE",
         "orientation": "v",
         "showlegend": true,
         "type": "scatter",
         "x": [
          -0.6208938795979647,
          -0.618099597192986,
          -0.6209813044316785,
          -0.6241006134437133,
          -0.6260242187548899,
          -0.6205835273239502,
          -0.6200384617822335,
          -0.6201248923904952,
          -0.6181456774600776,
          -0.6199563702708457,
          -0.6183359349055528,
          -0.6183750555944786
         ],
         "xaxis": "x",
         "y": [
          -0.6062686131669662,
          -0.6117820806312878,
          -0.6022825879609122,
          -0.6066063935467717,
          -0.6223994581394431,
          -0.6141077909121021,
          -0.6075551817905056,
          -0.6115875447266337,
          -0.6396607786024144,
          -0.6567098124044448,
          -0.6500371792737698,
          -0.6427309886265579
         ],
         "yaxis": "y"
        },
        {
         "hovertemplate": "geo=EL<br>total=%{x}<br>carbon=%{y}<extra></extra>",
         "legendgroup": "EL",
         "marker": {
          "color": "#FF97FF",
          "symbol": "circle"
         },
         "mode": "markers",
         "name": "EL",
         "orientation": "v",
         "showlegend": true,
         "type": "scatter",
         "x": [
          -0.3918694612752496,
          -0.38970237883180703,
          -0.40969282324491657,
          -0.3853682139449219,
          -0.36166361891926596,
          -0.3699446186930162,
          -0.3603844908291822,
          -0.39899104023873694,
          -0.3827849136409678,
          -0.36929714974068983,
          -0.37270862340157096,
          -0.36699876127546
         ],
         "xaxis": "x",
         "y": [
          -0.10170269490263537,
          -0.12007472765942151,
          -0.16947399878369646,
          -0.18521726837690072,
          -0.20495502574601654,
          -0.2228220907672733,
          -0.20111843713939986,
          -0.21560965920195957,
          -0.24952908402036716,
          -0.31731442338314336,
          -0.30005201929842196,
          -0.29123587914405047
         ],
         "yaxis": "y"
        },
        {
         "hovertemplate": "geo=ES<br>total=%{x}<br>carbon=%{y}<extra></extra>",
         "legendgroup": "ES",
         "marker": {
          "color": "#FECB52",
          "symbol": "circle"
         },
         "mode": "markers",
         "name": "ES",
         "orientation": "v",
         "showlegend": true,
         "type": "scatter",
         "x": [
          0.49391464198156454,
          0.48607279829069616,
          0.4373610717743687,
          0.42965636418982806,
          0.4662429644010271,
          0.39511080198462045,
          0.39968492361379054,
          0.45934215600623113,
          0.4039760133426677,
          0.41235712926519474,
          0.42633350698442346,
          0.391217109058654
         ],
         "xaxis": "x",
         "y": [
          1.1841114182924546,
          1.1450972684145715,
          1.0060045609961348,
          1.0165265797902845,
          1.0768959731028778,
          1.023852378831069,
          1.0976497032642316,
          1.0722810344735016,
          0.977613361538264,
          0.7132755490454489,
          0.8160388052723017,
          0.8803308061180527
         ],
         "yaxis": "y"
        },
        {
         "hovertemplate": "geo=FI<br>total=%{x}<br>carbon=%{y}<extra></extra>",
         "legendgroup": "FI",
         "marker": {
          "color": "#636efa",
          "symbol": "circle"
         },
         "mode": "markers",
         "name": "FI",
         "orientation": "v",
         "showlegend": true,
         "type": "scatter",
         "x": [
          -0.3151512057068125,
          -0.3093514505816556,
          -0.30355169545649874,
          -0.2977519403313419,
          -0.31594313829501314,
          -0.2863146258170986,
          -0.25446842555629423,
          -0.25876088438251543,
          -0.26425681237177945,
          -0.29037879309411274,
          -0.2394714871816376,
          -0.2636301714466419
         ],
         "xaxis": "x",
         "y": [
          -0.35600209350804346,
          -0.38496193637951875,
          -0.3822259978647519,
          -0.4039678362590562,
          -0.4218086363531328,
          -0.4070829391842737,
          -0.4208927179691508,
          -0.41457938285017526,
          -0.43057885158571596,
          -0.46520185652612883,
          -0.46569433681101463,
          -0.47132963432066494
         ],
         "yaxis": "y"
        },
        {
         "hovertemplate": "geo=FR<br>total=%{x}<br>carbon=%{y}<extra></extra>",
         "legendgroup": "FR",
         "marker": {
          "color": "#EF553B",
          "symbol": "circle"
         },
         "mode": "markers",
         "name": "FR",
         "orientation": "v",
         "showlegend": true,
         "type": "scatter",
         "x": [
          2.323734668055358,
          2.6247463768541586,
          2.7988437814315614,
          2.1808661674462884,
          2.3537692645848067,
          2.5011110499060916,
          2.4500560154926245,
          2.356839195543687,
          2.346244928331454,
          2.272983062557246,
          2.506830557286772,
          2.1272143664624124
         ],
         "xaxis": "x",
         "y": [
          1.8563037654937444,
          1.862062389478759,
          1.8589033740721457,
          1.6924549967806135,
          1.7164125836486182,
          1.7251073065659468,
          1.7398687632525578,
          1.6445999898522499,
          1.5972590324417018,
          1.3367332980635376,
          1.4550515317042625,
          1.3986446335254354
         ],
         "yaxis": "y"
        },
        {
         "hovertemplate": "geo=HR<br>total=%{x}<br>carbon=%{y}<extra></extra>",
         "legendgroup": "HR",
         "marker": {
          "color": "#00cc96",
          "symbol": "circle"
         },
         "mode": "markers",
         "name": "HR",
         "orientation": "v",
         "showlegend": true,
         "type": "scatter",
         "x": [
          -0.49260638703918636,
          -0.4988562946834189,
          -0.5036681883176114,
          -0.5233648883564161,
          -0.5082459952815637,
          -0.5096386298719618,
          -0.5108105627107313,
          -0.5177706986571059,
          -0.5223201584243286,
          -0.5194855437879331,
          -0.5069215276132953,
          -0.5181359361602321
         ],
         "xaxis": "x",
         "y": [
          -0.5626869460115307,
          -0.5711091638592364,
          -0.5769392552787194,
          -0.5804303749512087,
          -0.577956724500993,
          -0.576781252907353,
          -0.5719142948195334,
          -0.5770493202879043,
          -0.5766503926807739,
          -0.5843379665829724,
          -0.5815464021517024,
          -0.5801232455866193
         ],
         "yaxis": "y"
        },
        {
         "hovertemplate": "geo=HU<br>total=%{x}<br>carbon=%{y}<extra></extra>",
         "legendgroup": "HU",
         "marker": {
          "color": "#ab63fa",
          "symbol": "circle"
         },
         "mode": "markers",
         "name": "HU",
         "orientation": "v",
         "showlegend": true,
         "type": "scatter",
         "x": [
          -0.22907100907546957,
          -0.2299655328767315,
          -0.23086005667799345,
          -0.23175458047925537,
          -0.23948113968010873,
          -0.22467522479348886,
          -0.21424125606196381,
          -0.250330191199548,
          -0.2610423420394513,
          -0.23802082713091774,
          -0.20815320071526647,
          -0.2502953190587299
         ],
         "xaxis": "x",
         "y": [
          -0.3773091931764294,
          -0.39549664902845477,
          -0.41100838477439555,
          -0.40906808262935374,
          -0.3924501238797056,
          -0.38954761722164344,
          -0.37688002736236864,
          -0.37628331298533385,
          -0.37759155404387446,
          -0.39056100996209536,
          -0.38474005192593436,
          -0.4042998373228613
         ],
         "yaxis": "y"
        },
        {
         "hovertemplate": "geo=IE<br>total=%{x}<br>carbon=%{y}<extra></extra>",
         "legendgroup": "IE",
         "marker": {
          "color": "#FFA15A",
          "symbol": "circle"
         },
         "mode": "markers",
         "name": "IE",
         "orientation": "v",
         "showlegend": true,
         "type": "scatter",
         "x": [
          -0.47574630386402933,
          -0.4746684127747374,
          -0.47359052168544563,
          -0.4725126305961537,
          -0.4798074801212648,
          -0.46818815922382734,
          -0.4748508044429308,
          -0.4608016309486469,
          -0.46614454782190223,
          -0.44856135015565995,
          -0.45901259921371634,
          -0.4839303936267791
         ],
         "xaxis": "x",
         "y": [
          -0.40257182183876045,
          -0.3986867798596052,
          -0.3984443581938053,
          -0.3998572461527807,
          -0.3854563775037618,
          -0.37336976370562813,
          -0.3739776239063779,
          -0.3711362644756407,
          -0.38426196833001364,
          -0.40635969906766,
          -0.3901178602673553,
          -0.38717644642836224
         ],
         "yaxis": "y"
        },
        {
         "hovertemplate": "geo=IT<br>total=%{x}<br>carbon=%{y}<extra></extra>",
         "legendgroup": "IT",
         "marker": {
          "color": "#19d3f3",
          "symbol": "circle"
         },
         "mode": "markers",
         "name": "IT",
         "orientation": "v",
         "showlegend": true,
         "type": "scatter",
         "x": [
          1.8835394294882715,
          1.860307245351128,
          1.8370750612139843,
          1.8138428770768409,
          1.7723209932039483,
          1.7488630676511225,
          1.8029648724600649,
          1.7276676189228732,
          1.6694951762220882,
          1.6329230746793246,
          1.7368452162802224,
          1.5833043682578716
         ],
         "xaxis": "x",
         "y": [
          1.9594556807216192,
          1.8577089132973617,
          1.6716300571899698,
          1.5605514488603818,
          1.6177568214658977,
          1.6036628757773257,
          1.5733497957441642,
          1.556531573374897,
          1.4979697643434806,
          1.260020102304062,
          1.4419477066890334,
          1.448875764946509
         ],
         "yaxis": "y"
        },
        {
         "hovertemplate": "geo=LT<br>total=%{x}<br>carbon=%{y}<extra></extra>",
         "legendgroup": "LT",
         "marker": {
          "color": "#FF6692",
          "symbol": "circle"
         },
         "mode": "markers",
         "name": "LT",
         "orientation": "v",
         "showlegend": true,
         "type": "scatter",
         "x": [
          -0.5932513198617699,
          -0.5913776108531433,
          -0.5895039018445166,
          -0.5876301928358899,
          -0.5857564838272632,
          -0.5838827748186366,
          -0.5811300028656198,
          -0.5771086361793876,
          -0.58172152354632,
          -0.582749436761559,
          -0.5679138037698901,
          -0.573325356607884
         ],
         "xaxis": "x",
         "y": [
          -0.6062481791568222,
          -0.6062604086022871,
          -0.6119763069297278,
          -0.6123772985782869,
          -0.6108087818955883,
          -0.6102596952745205,
          -0.6094567831587594,
          -0.6107844262067297,
          -0.609709473430667,
          -0.6113249986569042,
          -0.6103455077969183,
          -0.6162898955105152
         ],
         "yaxis": "y"
        },
        {
         "hovertemplate": "geo=LU<br>total=%{x}<br>carbon=%{y}<extra></extra>",
         "legendgroup": "LU",
         "marker": {
          "color": "#B6E880",
          "symbol": "circle"
         },
         "mode": "markers",
         "name": "LU",
         "orientation": "v",
         "showlegend": true,
         "type": "scatter",
         "x": [
          -0.655323872601965,
          -0.6543358732828429,
          -0.6537385592920848,
          -0.6560242908507828,
          -0.6529195257815664,
          -0.6516879520924873,
          -0.6508914597918133,
          -0.6535519400960333,
          -0.6563959210967989,
          -0.6537249335137552,
          -0.6550657886977206,
          -0.6567809145297228
         ],
         "xaxis": "x",
         "y": [
          -0.6472206915422484,
          -0.6489159403686687,
          -0.6515845395318244,
          -0.6536590559707669,
          -0.6552750456063254,
          -0.6556986385085287,
          -0.6537322778404496,
          -0.6515536821124654,
          -0.6508927760469982,
          -0.6604774104263076,
          -0.6574927549193834,
          -0.6632671172202916
         ],
         "yaxis": "y"
        },
        {
         "hovertemplate": "geo=LV<br>total=%{x}<br>carbon=%{y}<extra></extra>",
         "legendgroup": "LV",
         "marker": {
          "color": "#FF97FF",
          "symbol": "circle"
         },
         "mode": "markers",
         "name": "LV",
         "orientation": "v",
         "showlegend": true,
         "type": "scatter",
         "x": [
          -0.5911140384001164,
          -0.5873571972573522,
          -0.5956724443854343,
          -0.597865028428398,
          -0.607858156869991,
          -0.6049715654308526,
          -0.6009672599431375,
          -0.5983508388575487,
          -0.6016397058671177,
          -0.6071533053535826,
          -0.6003570735397841,
          -0.6072424524248287
         ],
         "xaxis": "x",
         "y": [
          -0.6565331820591845,
          -0.6574459527799877,
          -0.6578418875270466,
          -0.6584816371678697,
          -0.6583307041383966,
          -0.658109387296205,
          -0.6576502412803925,
          -0.6549297314753053,
          -0.6555716999606641,
          -0.6604900526800582,
          -0.658919987966288,
          -0.6610810909431641
         ],
         "yaxis": "y"
        },
        {
         "hovertemplate": "geo=MT<br>total=%{x}<br>carbon=%{y}<extra></extra>",
         "legendgroup": "MT",
         "marker": {
          "color": "#FECB52",
          "symbol": "circle"
         },
         "mode": "markers",
         "name": "MT",
         "orientation": "v",
         "showlegend": true,
         "type": "scatter",
         "x": [
          -0.6872468255542276,
          -0.6868339473053806,
          -0.6864210690565337,
          -0.6860081908076867,
          -0.6854700523759356,
          -0.6855625805381095,
          -0.6845658505069557,
          -0.684418935133884,
          -0.6837748418395595,
          -0.6834408327949018,
          -0.6831705356730796,
          -0.6827982806405771
         ],
         "xaxis": "x",
         "y": [
          -0.6987116106493239,
          -0.6978498733528451,
          -0.6993168391972521,
          -0.6991654933594933,
          -0.7026717321354479,
          -0.7040798727991371,
          -0.7029974894739311,
          -0.7027512493314882,
          -0.7020092264378734,
          -0.7038471005270165,
          -0.7035028700177464,
          -0.7019552517545132
         ],
         "yaxis": "y"
        },
        {
         "hovertemplate": "geo=NL<br>total=%{x}<br>carbon=%{y}<extra></extra>",
         "legendgroup": "NL",
         "marker": {
          "color": "#636efa",
          "symbol": "circle"
         },
         "mode": "markers",
         "name": "NL",
         "orientation": "v",
         "showlegend": true,
         "type": "scatter",
         "x": [
          0.0880525816130305,
          0.13246974676078674,
          0.17384803555450037,
          -0.00021015416326004938,
          0.02951455732380791,
          0.050628361851574086,
          0.03337573599882675,
          0.030896117800106468,
          0.014196391768322702,
          -0.0022268019536021266,
          0.07202791112066709,
          -0.041951003838572545
         ],
         "xaxis": "x",
         "y": [
          0.37287244339762443,
          0.34849957139416665,
          0.34685680082107084,
          0.30638848215563835,
          0.34570661373493233,
          0.3502370298678037,
          0.33806950564566524,
          0.3118994727702456,
          0.28019027511471695,
          0.16747483033114083,
          0.18440858741937874,
          0.1254770569670477
         ],
         "yaxis": "y"
        },
        {
         "hovertemplate": "geo=NO<br>total=%{x}<br>carbon=%{y}<extra></extra>",
         "legendgroup": "NO",
         "marker": {
          "color": "#EF553B",
          "symbol": "circle"
         },
         "mode": "markers",
         "name": "NO",
         "orientation": "v",
         "showlegend": true,
         "type": "scatter",
         "x": [
          -0.3683420830078151,
          -0.34926529974277387,
          -0.3527991663598791,
          -0.37318507289927755,
          -0.3591888975978188,
          -0.3489504055426495,
          -0.3440190654090832,
          -0.342245457750978,
          -0.34804174686339995,
          -0.3456842173770495,
          -0.32670052548750755,
          -0.35559067978358905
         ],
         "xaxis": "x",
         "y": [
          -0.4311789716311081,
          -0.4333790849909864,
          -0.4316607705016004,
          -0.42916818247127647,
          -0.4267853498439232,
          -0.43147825763826836,
          -0.4346923313499916,
          -0.43337567932262905,
          -0.44283760643900255,
          -0.4576087641203287,
          -0.4587740187088966,
          -0.4562945373416449
         ],
         "yaxis": "y"
        },
        {
         "hovertemplate": "geo=PL<br>total=%{x}<br>carbon=%{y}<extra></extra>",
         "legendgroup": "PL",
         "marker": {
          "color": "#00cc96",
          "symbol": "circle"
         },
         "mode": "markers",
         "name": "PL",
         "orientation": "v",
         "showlegend": true,
         "type": "scatter",
         "x": [
          0.7166650184386977,
          0.7391983711294723,
          0.7617317238202472,
          0.7842650765110218,
          0.7503675166550476,
          0.8150762057412977,
          0.8284635601147965,
          1.0175366530824168,
          0.8988926095511045,
          0.9070083795583423,
          0.9860349166268094,
          0.8819414676262153
         ],
         "xaxis": "x",
         "y": [
          1.3857827657666852,
          1.3460718987045468,
          1.3237009920838132,
          1.2593468119900229,
          1.2728176751723086,
          1.329498213643544,
          1.4075866802069572,
          1.4103855203842635,
          1.2948286645689144,
          1.2081743228743587,
          1.3541329093022312,
          1.2629415981432681
         ],
         "yaxis": "y"
        },
        {
         "hovertemplate": "geo=PT<br>total=%{x}<br>carbon=%{y}<extra></extra>",
         "legendgroup": "PT",
         "marker": {
          "color": "#ab63fa",
          "symbol": "circle"
         },
         "mode": "markers",
         "name": "PT",
         "orientation": "v",
         "showlegend": true,
         "type": "scatter",
         "x": [
          -0.4809679386203882,
          -0.4871831153798778,
          -0.49174016313370333,
          -0.48098010656358287,
          -0.4828678038560567,
          -0.47773203539511344,
          -0.47907767698685716,
          -0.4726583145706839,
          -0.4723481126076212,
          -0.463065900638793,
          -0.46237090988301793,
          -0.46669465874086846
         ],
         "xaxis": "x",
         "y": [
          -0.3528158843556075,
          -0.36320322444653497,
          -0.3727374446139484,
          -0.3724290768245018,
          -0.3500793266284122,
          -0.35842925142507787,
          -0.3293532030211672,
          -0.3467948175029348,
          -0.36370256766917125,
          -0.4100216697694094,
          -0.41471081068814725,
          -0.4030116690672147
         ],
         "yaxis": "y"
        },
        {
         "hovertemplate": "geo=RO<br>total=%{x}<br>carbon=%{y}<extra></extra>",
         "legendgroup": "RO",
         "marker": {
          "color": "#FFA15A",
          "symbol": "circle"
         },
         "mode": "markers",
         "name": "RO",
         "orientation": "v",
         "showlegend": true,
         "type": "scatter",
         "x": [
          -0.17321309088875328,
          -0.1633714620239918,
          -0.15352983315923024,
          -0.14368820429446877,
          -0.1342432067937147,
          -0.13047086913511224,
          -0.10892186007261884,
          -0.10338033353569907,
          -0.10462972903293108,
          -0.08571791837590642,
          -0.030589574881995287,
          -0.0972535033963628
         ],
         "xaxis": "x",
         "y": [
          -0.031276517733919366,
          -0.04728382982688895,
          -0.1053735409825281,
          -0.1036545040786421,
          -0.10978806118917848,
          -0.11923528201037256,
          -0.10323457484997471,
          -0.10228754104145518,
          -0.11884961586942146,
          -0.14017348587441555,
          -0.11951047033385284,
          -0.14804419185237477
         ],
         "yaxis": "y"
        },
        {
         "hovertemplate": "geo=SE<br>total=%{x}<br>carbon=%{y}<extra></extra>",
         "legendgroup": "SE",
         "marker": {
          "color": "#19d3f3",
          "symbol": "circle"
         },
         "mode": "markers",
         "name": "SE",
         "orientation": "v",
         "showlegend": true,
         "type": "scatter",
         "x": [
          -0.10411970508757988,
          -0.10691098765505457,
          -0.10970227022252914,
          -0.11249355279000382,
          -0.1298670374441669,
          -0.10717074291704895,
          -0.11091468267161278,
          -0.12386691581524925,
          -0.13185300731253882,
          -0.1459738700759558,
          -0.09464565546795259,
          -0.15614268304460052
         ],
         "xaxis": "x",
         "y": [
          -0.39516129389732807,
          -0.41069779814041313,
          -0.41869559746934404,
          -0.4275997689906492,
          -0.4290517705346983,
          -0.42767206204168917,
          -0.43126896383739904,
          -0.4349850124245801,
          -0.4427621657247839,
          -0.47341359374914355,
          -0.4642099298165352,
          -0.47270789798467383
         ],
         "yaxis": "y"
        },
        {
         "hovertemplate": "geo=SI<br>total=%{x}<br>carbon=%{y}<extra></extra>",
         "legendgroup": "SI",
         "marker": {
          "color": "#FF6692",
          "symbol": "circle"
         },
         "mode": "markers",
         "name": "SI",
         "orientation": "v",
         "showlegend": true,
         "type": "scatter",
         "x": [
          -0.5927101396899953,
          -0.5962942880369414,
          -0.5974260715528017,
          -0.6110443488226518,
          -0.6030665733240449,
          -0.6015632682206878,
          -0.6038017115917538,
          -0.6092440564431633,
          -0.611299785080974,
          -0.6088406653119339,
          -0.6035216678007437,
          -0.6121814710937642
         ],
         "xaxis": "x",
         "y": [
          -0.613774345019297,
          -0.6170348080621301,
          -0.6206088505990172,
          -0.629182001476196,
          -0.6281998273623529,
          -0.6237024874933763,
          -0.6232414838402779,
          -0.624035262572717,
          -0.6267103118653374,
          -0.633283561401221,
          -0.6325373072226773,
          -0.6347246751267336
         ],
         "yaxis": "y"
        },
        {
         "hovertemplate": "geo=SK<br>total=%{x}<br>carbon=%{y}<extra></extra>",
         "legendgroup": "SK",
         "marker": {
          "color": "#B6E880",
          "symbol": "circle"
         },
         "mode": "markers",
         "name": "SK",
         "orientation": "v",
         "showlegend": true,
         "type": "scatter",
         "x": [
          -0.5911946881164363,
          -0.5802846887399257,
          -0.5693746893634152,
          -0.5584646899869046,
          -0.540816236153298,
          -0.5375796610561785,
          -0.5319044265892169,
          -0.5358219827370135,
          -0.4910935725044086,
          -0.4833752101659332,
          -0.4665385508570576,
          -0.48782790227775097
         ],
         "xaxis": "x",
         "y": [
          -0.48367874258749255,
          -0.49598497039363904,
          -0.4976918810541315,
          -0.5080639472384866,
          -0.5041155907885063,
          -0.5018149070100149,
          -0.49596174992756625,
          -0.4968046528460083,
          -0.5087098890035958,
          -0.5234969398039228,
          -0.5026509469907066,
          -0.5237456051950444
         ],
         "yaxis": "y"
        }
       ],
       "layout": {
        "legend": {
         "title": {
          "text": "geo"
         },
         "tracegroupgap": 0
        },
        "margin": {
         "t": 60
        },
        "template": {
         "data": {
          "bar": [
           {
            "error_x": {
             "color": "#2a3f5f"
            },
            "error_y": {
             "color": "#2a3f5f"
            },
            "marker": {
             "line": {
              "color": "#E5ECF6",
              "width": 0.5
             },
             "pattern": {
              "fillmode": "overlay",
              "size": 10,
              "solidity": 0.2
             }
            },
            "type": "bar"
           }
          ],
          "barpolar": [
           {
            "marker": {
             "line": {
              "color": "#E5ECF6",
              "width": 0.5
             },
             "pattern": {
              "fillmode": "overlay",
              "size": 10,
              "solidity": 0.2
             }
            },
            "type": "barpolar"
           }
          ],
          "carpet": [
           {
            "aaxis": {
             "endlinecolor": "#2a3f5f",
             "gridcolor": "white",
             "linecolor": "white",
             "minorgridcolor": "white",
             "startlinecolor": "#2a3f5f"
            },
            "baxis": {
             "endlinecolor": "#2a3f5f",
             "gridcolor": "white",
             "linecolor": "white",
             "minorgridcolor": "white",
             "startlinecolor": "#2a3f5f"
            },
            "type": "carpet"
           }
          ],
          "choropleth": [
           {
            "colorbar": {
             "outlinewidth": 0,
             "ticks": ""
            },
            "type": "choropleth"
           }
          ],
          "contour": [
           {
            "colorbar": {
             "outlinewidth": 0,
             "ticks": ""
            },
            "colorscale": [
             [
              0,
              "#0d0887"
             ],
             [
              0.1111111111111111,
              "#46039f"
             ],
             [
              0.2222222222222222,
              "#7201a8"
             ],
             [
              0.3333333333333333,
              "#9c179e"
             ],
             [
              0.4444444444444444,
              "#bd3786"
             ],
             [
              0.5555555555555556,
              "#d8576b"
             ],
             [
              0.6666666666666666,
              "#ed7953"
             ],
             [
              0.7777777777777778,
              "#fb9f3a"
             ],
             [
              0.8888888888888888,
              "#fdca26"
             ],
             [
              1,
              "#f0f921"
             ]
            ],
            "type": "contour"
           }
          ],
          "contourcarpet": [
           {
            "colorbar": {
             "outlinewidth": 0,
             "ticks": ""
            },
            "type": "contourcarpet"
           }
          ],
          "heatmap": [
           {
            "colorbar": {
             "outlinewidth": 0,
             "ticks": ""
            },
            "colorscale": [
             [
              0,
              "#0d0887"
             ],
             [
              0.1111111111111111,
              "#46039f"
             ],
             [
              0.2222222222222222,
              "#7201a8"
             ],
             [
              0.3333333333333333,
              "#9c179e"
             ],
             [
              0.4444444444444444,
              "#bd3786"
             ],
             [
              0.5555555555555556,
              "#d8576b"
             ],
             [
              0.6666666666666666,
              "#ed7953"
             ],
             [
              0.7777777777777778,
              "#fb9f3a"
             ],
             [
              0.8888888888888888,
              "#fdca26"
             ],
             [
              1,
              "#f0f921"
             ]
            ],
            "type": "heatmap"
           }
          ],
          "heatmapgl": [
           {
            "colorbar": {
             "outlinewidth": 0,
             "ticks": ""
            },
            "colorscale": [
             [
              0,
              "#0d0887"
             ],
             [
              0.1111111111111111,
              "#46039f"
             ],
             [
              0.2222222222222222,
              "#7201a8"
             ],
             [
              0.3333333333333333,
              "#9c179e"
             ],
             [
              0.4444444444444444,
              "#bd3786"
             ],
             [
              0.5555555555555556,
              "#d8576b"
             ],
             [
              0.6666666666666666,
              "#ed7953"
             ],
             [
              0.7777777777777778,
              "#fb9f3a"
             ],
             [
              0.8888888888888888,
              "#fdca26"
             ],
             [
              1,
              "#f0f921"
             ]
            ],
            "type": "heatmapgl"
           }
          ],
          "histogram": [
           {
            "marker": {
             "pattern": {
              "fillmode": "overlay",
              "size": 10,
              "solidity": 0.2
             }
            },
            "type": "histogram"
           }
          ],
          "histogram2d": [
           {
            "colorbar": {
             "outlinewidth": 0,
             "ticks": ""
            },
            "colorscale": [
             [
              0,
              "#0d0887"
             ],
             [
              0.1111111111111111,
              "#46039f"
             ],
             [
              0.2222222222222222,
              "#7201a8"
             ],
             [
              0.3333333333333333,
              "#9c179e"
             ],
             [
              0.4444444444444444,
              "#bd3786"
             ],
             [
              0.5555555555555556,
              "#d8576b"
             ],
             [
              0.6666666666666666,
              "#ed7953"
             ],
             [
              0.7777777777777778,
              "#fb9f3a"
             ],
             [
              0.8888888888888888,
              "#fdca26"
             ],
             [
              1,
              "#f0f921"
             ]
            ],
            "type": "histogram2d"
           }
          ],
          "histogram2dcontour": [
           {
            "colorbar": {
             "outlinewidth": 0,
             "ticks": ""
            },
            "colorscale": [
             [
              0,
              "#0d0887"
             ],
             [
              0.1111111111111111,
              "#46039f"
             ],
             [
              0.2222222222222222,
              "#7201a8"
             ],
             [
              0.3333333333333333,
              "#9c179e"
             ],
             [
              0.4444444444444444,
              "#bd3786"
             ],
             [
              0.5555555555555556,
              "#d8576b"
             ],
             [
              0.6666666666666666,
              "#ed7953"
             ],
             [
              0.7777777777777778,
              "#fb9f3a"
             ],
             [
              0.8888888888888888,
              "#fdca26"
             ],
             [
              1,
              "#f0f921"
             ]
            ],
            "type": "histogram2dcontour"
           }
          ],
          "mesh3d": [
           {
            "colorbar": {
             "outlinewidth": 0,
             "ticks": ""
            },
            "type": "mesh3d"
           }
          ],
          "parcoords": [
           {
            "line": {
             "colorbar": {
              "outlinewidth": 0,
              "ticks": ""
             }
            },
            "type": "parcoords"
           }
          ],
          "pie": [
           {
            "automargin": true,
            "type": "pie"
           }
          ],
          "scatter": [
           {
            "fillpattern": {
             "fillmode": "overlay",
             "size": 10,
             "solidity": 0.2
            },
            "type": "scatter"
           }
          ],
          "scatter3d": [
           {
            "line": {
             "colorbar": {
              "outlinewidth": 0,
              "ticks": ""
             }
            },
            "marker": {
             "colorbar": {
              "outlinewidth": 0,
              "ticks": ""
             }
            },
            "type": "scatter3d"
           }
          ],
          "scattercarpet": [
           {
            "marker": {
             "colorbar": {
              "outlinewidth": 0,
              "ticks": ""
             }
            },
            "type": "scattercarpet"
           }
          ],
          "scattergeo": [
           {
            "marker": {
             "colorbar": {
              "outlinewidth": 0,
              "ticks": ""
             }
            },
            "type": "scattergeo"
           }
          ],
          "scattergl": [
           {
            "marker": {
             "colorbar": {
              "outlinewidth": 0,
              "ticks": ""
             }
            },
            "type": "scattergl"
           }
          ],
          "scattermapbox": [
           {
            "marker": {
             "colorbar": {
              "outlinewidth": 0,
              "ticks": ""
             }
            },
            "type": "scattermapbox"
           }
          ],
          "scatterpolar": [
           {
            "marker": {
             "colorbar": {
              "outlinewidth": 0,
              "ticks": ""
             }
            },
            "type": "scatterpolar"
           }
          ],
          "scatterpolargl": [
           {
            "marker": {
             "colorbar": {
              "outlinewidth": 0,
              "ticks": ""
             }
            },
            "type": "scatterpolargl"
           }
          ],
          "scatterternary": [
           {
            "marker": {
             "colorbar": {
              "outlinewidth": 0,
              "ticks": ""
             }
            },
            "type": "scatterternary"
           }
          ],
          "surface": [
           {
            "colorbar": {
             "outlinewidth": 0,
             "ticks": ""
            },
            "colorscale": [
             [
              0,
              "#0d0887"
             ],
             [
              0.1111111111111111,
              "#46039f"
             ],
             [
              0.2222222222222222,
              "#7201a8"
             ],
             [
              0.3333333333333333,
              "#9c179e"
             ],
             [
              0.4444444444444444,
              "#bd3786"
             ],
             [
              0.5555555555555556,
              "#d8576b"
             ],
             [
              0.6666666666666666,
              "#ed7953"
             ],
             [
              0.7777777777777778,
              "#fb9f3a"
             ],
             [
              0.8888888888888888,
              "#fdca26"
             ],
             [
              1,
              "#f0f921"
             ]
            ],
            "type": "surface"
           }
          ],
          "table": [
           {
            "cells": {
             "fill": {
              "color": "#EBF0F8"
             },
             "line": {
              "color": "white"
             }
            },
            "header": {
             "fill": {
              "color": "#C8D4E3"
             },
             "line": {
              "color": "white"
             }
            },
            "type": "table"
           }
          ]
         },
         "layout": {
          "annotationdefaults": {
           "arrowcolor": "#2a3f5f",
           "arrowhead": 0,
           "arrowwidth": 1
          },
          "autotypenumbers": "strict",
          "coloraxis": {
           "colorbar": {
            "outlinewidth": 0,
            "ticks": ""
           }
          },
          "colorscale": {
           "diverging": [
            [
             0,
             "#8e0152"
            ],
            [
             0.1,
             "#c51b7d"
            ],
            [
             0.2,
             "#de77ae"
            ],
            [
             0.3,
             "#f1b6da"
            ],
            [
             0.4,
             "#fde0ef"
            ],
            [
             0.5,
             "#f7f7f7"
            ],
            [
             0.6,
             "#e6f5d0"
            ],
            [
             0.7,
             "#b8e186"
            ],
            [
             0.8,
             "#7fbc41"
            ],
            [
             0.9,
             "#4d9221"
            ],
            [
             1,
             "#276419"
            ]
           ],
           "sequential": [
            [
             0,
             "#0d0887"
            ],
            [
             0.1111111111111111,
             "#46039f"
            ],
            [
             0.2222222222222222,
             "#7201a8"
            ],
            [
             0.3333333333333333,
             "#9c179e"
            ],
            [
             0.4444444444444444,
             "#bd3786"
            ],
            [
             0.5555555555555556,
             "#d8576b"
            ],
            [
             0.6666666666666666,
             "#ed7953"
            ],
            [
             0.7777777777777778,
             "#fb9f3a"
            ],
            [
             0.8888888888888888,
             "#fdca26"
            ],
            [
             1,
             "#f0f921"
            ]
           ],
           "sequentialminus": [
            [
             0,
             "#0d0887"
            ],
            [
             0.1111111111111111,
             "#46039f"
            ],
            [
             0.2222222222222222,
             "#7201a8"
            ],
            [
             0.3333333333333333,
             "#9c179e"
            ],
            [
             0.4444444444444444,
             "#bd3786"
            ],
            [
             0.5555555555555556,
             "#d8576b"
            ],
            [
             0.6666666666666666,
             "#ed7953"
            ],
            [
             0.7777777777777778,
             "#fb9f3a"
            ],
            [
             0.8888888888888888,
             "#fdca26"
            ],
            [
             1,
             "#f0f921"
            ]
           ]
          },
          "colorway": [
           "#636efa",
           "#EF553B",
           "#00cc96",
           "#ab63fa",
           "#FFA15A",
           "#19d3f3",
           "#FF6692",
           "#B6E880",
           "#FF97FF",
           "#FECB52"
          ],
          "font": {
           "color": "#2a3f5f"
          },
          "geo": {
           "bgcolor": "white",
           "lakecolor": "white",
           "landcolor": "#E5ECF6",
           "showlakes": true,
           "showland": true,
           "subunitcolor": "white"
          },
          "hoverlabel": {
           "align": "left"
          },
          "hovermode": "closest",
          "mapbox": {
           "style": "light"
          },
          "paper_bgcolor": "white",
          "plot_bgcolor": "#E5ECF6",
          "polar": {
           "angularaxis": {
            "gridcolor": "white",
            "linecolor": "white",
            "ticks": ""
           },
           "bgcolor": "#E5ECF6",
           "radialaxis": {
            "gridcolor": "white",
            "linecolor": "white",
            "ticks": ""
           }
          },
          "scene": {
           "xaxis": {
            "backgroundcolor": "#E5ECF6",
            "gridcolor": "white",
            "gridwidth": 2,
            "linecolor": "white",
            "showbackground": true,
            "ticks": "",
            "zerolinecolor": "white"
           },
           "yaxis": {
            "backgroundcolor": "#E5ECF6",
            "gridcolor": "white",
            "gridwidth": 2,
            "linecolor": "white",
            "showbackground": true,
            "ticks": "",
            "zerolinecolor": "white"
           },
           "zaxis": {
            "backgroundcolor": "#E5ECF6",
            "gridcolor": "white",
            "gridwidth": 2,
            "linecolor": "white",
            "showbackground": true,
            "ticks": "",
            "zerolinecolor": "white"
           }
          },
          "shapedefaults": {
           "line": {
            "color": "#2a3f5f"
           }
          },
          "ternary": {
           "aaxis": {
            "gridcolor": "white",
            "linecolor": "white",
            "ticks": ""
           },
           "baxis": {
            "gridcolor": "white",
            "linecolor": "white",
            "ticks": ""
           },
           "bgcolor": "#E5ECF6",
           "caxis": {
            "gridcolor": "white",
            "linecolor": "white",
            "ticks": ""
           }
          },
          "title": {
           "x": 0.05
          },
          "xaxis": {
           "automargin": true,
           "gridcolor": "white",
           "linecolor": "white",
           "ticks": "",
           "title": {
            "standoff": 15
           },
           "zerolinecolor": "white",
           "zerolinewidth": 2
          },
          "yaxis": {
           "automargin": true,
           "gridcolor": "white",
           "linecolor": "white",
           "ticks": "",
           "title": {
            "standoff": 15
           },
           "zerolinecolor": "white",
           "zerolinewidth": 2
          }
         }
        },
        "xaxis": {
         "anchor": "y",
         "domain": [
          0,
          1
         ],
         "title": {
          "text": "total"
         }
        },
        "yaxis": {
         "anchor": "x",
         "domain": [
          0,
          1
         ],
         "title": {
          "text": "carbon"
         }
        }
       }
      }
     },
     "metadata": {},
     "output_type": "display_data"
    }
   ],
   "source": [
    "px.scatter(df_merged_s, y=\"carbon\", x=\"total\", color=\"geo\")"
   ]
  },
  {
   "cell_type": "code",
   "execution_count": 753,
   "metadata": {},
   "outputs": [],
   "source": [
    "import matplotlib.cm as cm"
   ]
  },
  {
   "cell_type": "code",
   "execution_count": 756,
   "metadata": {},
   "outputs": [
    {
     "data": {
      "text/plain": [
       "Text(0, 0.5, 'Carbon Emissions')"
      ]
     },
     "execution_count": 756,
     "metadata": {},
     "output_type": "execute_result"
    },
    {
     "data": {
      "image/png": "[encoded data removed]",
      "text/plain": [
       "<Figure size 640x480 with 1 Axes>"
      ]
     },
     "metadata": {},
     "output_type": "display_data"
    }
   ],
   "source": [
    "colors = cm.rainbow(np.linspace(0, 1, len(df_merged_s)))\n",
    "plt.scatter(x=df_merged_s[\"total\"], y=df_merged_s[\"carbon\"], color=colors, alpha=0.5)\n",
    "plt.title(\"Transportation Gas Usage vs Carbon\")\n",
    "plt.xlabel(\"Oil & Gas Usage in Transportation (ktoes)\")\n",
    "plt.ylabel(\"Carbon Emissions\")"
   ]
  },
  {
   "cell_type": "code",
   "execution_count": 720,
   "metadata": {},
   "outputs": [],
   "source": [
    "from sklearn.metrics import r2_score"
   ]
  },
  {
   "cell_type": "code",
   "execution_count": 721,
   "metadata": {},
   "outputs": [],
   "source": [
    "from numpy.linalg import det"
   ]
  },
  {
   "cell_type": "code",
   "execution_count": 722,
   "metadata": {},
   "outputs": [],
   "source": [
    "np_remove = lambda a, i: np.concatenate([a[:i,], a[i + 1:,]])\n",
    "lin_reg = lambda X, Y: np.matmul(np.linalg.inv(np.matmul(X.T, X)), np.matmul(X.T, Y))\n",
    "\n",
    "def loo_cv_pred(X, Y):\n",
    "\t\"\"\"\n",
    "\tPredict Y values using leave one out cross validation\n",
    "\n",
    "\t:param X: The X features array (including bias column)\n",
    "\t:param Y: The true Y values\n",
    "\t:return: An array of the predicted Y-Vals\n",
    "\t\"\"\"\n",
    "\ty_pred = []\n",
    "\tfor i in range(len(X)):\n",
    "\t\tholdout_X = X[i]\n",
    "\t\t\n",
    "\t\tloo_X = np_remove(X, i)\n",
    "\t\tloo_y = np_remove(Y, i)\n",
    "\t\tloo_b = lin_reg(loo_X, loo_y)\n",
    "\n",
    "\t\ty_hat = np.matmul(holdout_X, loo_b)\n",
    "\t\ty_pred.append(y_hat)\n",
    "\t\n",
    "\treturn y_pred"
   ]
  },
  {
   "cell_type": "code",
   "execution_count": 723,
   "metadata": {},
   "outputs": [],
   "source": [
    "preds = loo_cv_pred(X, y)"
   ]
  },
  {
   "cell_type": "code",
   "execution_count": 724,
   "metadata": {},
   "outputs": [
    {
     "data": {
      "text/plain": [
       "0.8419084630885562"
      ]
     },
     "execution_count": 724,
     "metadata": {},
     "output_type": "execute_result"
    }
   ],
   "source": [
    "r2_score(y, preds)"
   ]
  },
  {
   "cell_type": "markdown",
   "metadata": {},
   "source": [
    "# Experiment: Model per country"
   ]
  },
  {
   "cell_type": "code",
   "execution_count": 725,
   "metadata": {},
   "outputs": [
    {
     "data": {
      "text/html": [
       "<div>\n",
       "<style scoped>\n",
       "    .dataframe tbody tr th:only-of-type {\n",
       "        vertical-align: middle;\n",
       "    }\n",
       "\n",
       "    .dataframe tbody tr th {\n",
       "        vertical-align: top;\n",
       "    }\n",
       "\n",
       "    .dataframe thead th {\n",
       "        text-align: right;\n",
       "    }\n",
       "</style>\n",
       "<table border=\"1\" class=\"dataframe\">\n",
       "  <thead>\n",
       "    <tr style=\"text-align: right;\">\n",
       "      <th></th>\n",
       "      <th>carbon</th>\n",
       "      <th>energy_heating</th>\n",
       "      <th>energy_cooling</th>\n",
       "      <th>energy_water_heating</th>\n",
       "      <th>energy_cooking</th>\n",
       "      <th>total</th>\n",
       "      <th>gas</th>\n",
       "      <th>geo</th>\n",
       "    </tr>\n",
       "  </thead>\n",
       "  <tbody>\n",
       "    <tr>\n",
       "      <th>0</th>\n",
       "      <td>-0.056699</td>\n",
       "      <td>0.056867</td>\n",
       "      <td>-0.568738</td>\n",
       "      <td>-0.197789</td>\n",
       "      <td>-0.478802</td>\n",
       "      <td>-0.034514</td>\n",
       "      <td>-0.335104</td>\n",
       "      <td>BE</td>\n",
       "    </tr>\n",
       "    <tr>\n",
       "      <th>1</th>\n",
       "      <td>-0.072725</td>\n",
       "      <td>0.049004</td>\n",
       "      <td>-0.550216</td>\n",
       "      <td>-0.195549</td>\n",
       "      <td>-0.478933</td>\n",
       "      <td>-0.040696</td>\n",
       "      <td>-0.344081</td>\n",
       "      <td>BE</td>\n",
       "    </tr>\n",
       "    <tr>\n",
       "      <th>2</th>\n",
       "      <td>-0.073381</td>\n",
       "      <td>0.04114</td>\n",
       "      <td>-0.531693</td>\n",
       "      <td>-0.193309</td>\n",
       "      <td>-0.479064</td>\n",
       "      <td>-0.046878</td>\n",
       "      <td>-0.344678</td>\n",
       "      <td>BE</td>\n",
       "    </tr>\n",
       "    <tr>\n",
       "      <th>3</th>\n",
       "      <td>-0.101798</td>\n",
       "      <td>0.033276</td>\n",
       "      <td>-0.513171</td>\n",
       "      <td>-0.19107</td>\n",
       "      <td>-0.479195</td>\n",
       "      <td>-0.05306</td>\n",
       "      <td>-0.319312</td>\n",
       "      <td>BE</td>\n",
       "    </tr>\n",
       "    <tr>\n",
       "      <th>4</th>\n",
       "      <td>-0.078167</td>\n",
       "      <td>0.025413</td>\n",
       "      <td>-0.494649</td>\n",
       "      <td>-0.18883</td>\n",
       "      <td>-0.479326</td>\n",
       "      <td>-0.059242</td>\n",
       "      <td>-0.296488</td>\n",
       "      <td>BE</td>\n",
       "    </tr>\n",
       "  </tbody>\n",
       "</table>\n",
       "</div>"
      ],
      "text/plain": [
       "     carbon energy_heating energy_cooling energy_water_heating energy_cooking  \\\n",
       "0 -0.056699       0.056867      -0.568738            -0.197789      -0.478802   \n",
       "1 -0.072725       0.049004      -0.550216            -0.195549      -0.478933   \n",
       "2 -0.073381        0.04114      -0.531693            -0.193309      -0.479064   \n",
       "3 -0.101798       0.033276      -0.513171             -0.19107      -0.479195   \n",
       "4 -0.078167       0.025413      -0.494649             -0.18883      -0.479326   \n",
       "\n",
       "      total       gas geo  \n",
       "0 -0.034514 -0.335104  BE  \n",
       "1 -0.040696 -0.344081  BE  \n",
       "2 -0.046878 -0.344678  BE  \n",
       "3  -0.05306 -0.319312  BE  \n",
       "4 -0.059242 -0.296488  BE  "
      ]
     },
     "execution_count": 725,
     "metadata": {},
     "output_type": "execute_result"
    }
   ],
   "source": [
    "df_be = df_merged_s.loc[df_merged_s[\"geo\"] == \"BE\"]\n",
    "df_be.head()"
   ]
  },
  {
   "cell_type": "code",
   "execution_count": 742,
   "metadata": {},
   "outputs": [
    {
     "data": {
      "text/plain": [
       "array([[ 1.        , -0.03451352],\n",
       "       [ 1.        , -0.04069572]])"
      ]
     },
     "execution_count": 742,
     "metadata": {},
     "output_type": "execute_result"
    }
   ],
   "source": [
    "X_be = np.array(np.pad(df_be.iloc[:, 5:6].to_numpy(), ((0,0), (1,0)), mode=\"constant\", constant_values=1), dtype=np.float64)\n",
    "y_be = np.array(df_be[\"carbon\"])\n",
    "X_be[0:2,]"
   ]
  },
  {
   "cell_type": "code",
   "execution_count": 743,
   "metadata": {},
   "outputs": [],
   "source": [
    "beta_be = lin_reg(X_be, y_be)"
   ]
  },
  {
   "cell_type": "code",
   "execution_count": 744,
   "metadata": {},
   "outputs": [
    {
     "name": "stdout",
     "output_type": "stream",
     "text": [
      "[0.015909982113676932 0.004008857952391476 0.007476999077431337\n",
      " -0.016814565780291363 0.010940996033058412]\n"
     ]
    },
    {
     "data": {
      "text/plain": [
       "0.0"
      ]
     },
     "execution_count": 744,
     "metadata": {},
     "output_type": "execute_result"
    }
   ],
   "source": [
    "res_be = y_be - np.matmul(X_be, beta_be)\n",
    "print(res_be[0:5])\n",
    "round(sum(res_be), 1)"
   ]
  },
  {
   "cell_type": "code",
   "execution_count": 745,
   "metadata": {},
   "outputs": [
    {
     "data": {
      "image/png": "[encoded data removed]",
      "text/plain": [
       "<Figure size 640x480 with 1 Axes>"
      ]
     },
     "metadata": {},
     "output_type": "display_data"
    }
   ],
   "source": [
    "# x values versus residuals\n",
    "plt.scatter(X_be[:, 1:2], res_be, alpha=0.5)\n",
    "plt.xlabel(\"Energy\")\n",
    "plt.ylabel(\"Carbon\")\n",
    "plt.title(\"Residual Plot vs. X Values\")\n",
    "plt.show()"
   ]
  },
  {
   "cell_type": "code",
   "execution_count": 746,
   "metadata": {},
   "outputs": [
    {
     "data": {
      "image/png": "[encoded data removed]",
      "text/plain": [
       "<Figure size 640x480 with 1 Axes>"
      ]
     },
     "metadata": {},
     "output_type": "display_data"
    }
   ],
   "source": [
    "# residuals versus order\n",
    "plt.scatter(range(len(X_be[:,1:2])), res_be, alpha=0.5)\n",
    "plt.xlabel(\"Index\")\n",
    "plt.ylabel(\"Residuals\")\n",
    "plt.title(\"Residual Plot vs. Order\")\n",
    "plt.show()"
   ]
  },
  {
   "cell_type": "code",
   "execution_count": 747,
   "metadata": {},
   "outputs": [
    {
     "data": {
      "application/vnd.plotly.v1+json": {
       "config": {
        "plotlyServerURL": "https://plot.ly"
       },
       "data": [
        {
         "hovertemplate": "total=%{x}<br>carbon=%{y}<extra></extra>",
         "legendgroup": "",
         "marker": {
          "color": "#636efa",
          "symbol": "circle"
         },
         "mode": "markers",
         "name": "",
         "orientation": "v",
         "showlegend": false,
         "type": "scatter",
         "x": [
          -0.03451352403139175,
          -0.04069572092524283,
          -0.04687791781909403,
          -0.05306011471294511,
          -0.0592423116067963,
          -0.0642143104647586,
          -0.07382501162546044,
          -0.07998346501588552,
          -0.095047145075093,
          -0.09483018117653078,
          -0.04114499124062597,
          -0.13875258967704102
         ],
         "xaxis": "x",
         "y": [
          -0.0566985935966168,
          -0.07272463686555179,
          -0.07338141484816153,
          -0.10179789881353377,
          -0.07816725610783361,
          -0.08640536146009997,
          -0.08675599049779897,
          -0.08116878515343734,
          -0.08662884554579156,
          -0.14256658710787662,
          -0.12342358327643835,
          -0.153828616355248
         ],
         "yaxis": "y"
        }
       ],
       "layout": {
        "legend": {
         "tracegroupgap": 0
        },
        "margin": {
         "t": 60
        },
        "template": {
         "data": {
          "bar": [
           {
            "error_x": {
             "color": "#2a3f5f"
            },
            "error_y": {
             "color": "#2a3f5f"
            },
            "marker": {
             "line": {
              "color": "#E5ECF6",
              "width": 0.5
             },
             "pattern": {
              "fillmode": "overlay",
              "size": 10,
              "solidity": 0.2
             }
            },
            "type": "bar"
           }
          ],
          "barpolar": [
           {
            "marker": {
             "line": {
              "color": "#E5ECF6",
              "width": 0.5
             },
             "pattern": {
              "fillmode": "overlay",
              "size": 10,
              "solidity": 0.2
             }
            },
            "type": "barpolar"
           }
          ],
          "carpet": [
           {
            "aaxis": {
             "endlinecolor": "#2a3f5f",
             "gridcolor": "white",
             "linecolor": "white",
             "minorgridcolor": "white",
             "startlinecolor": "#2a3f5f"
            },
            "baxis": {
             "endlinecolor": "#2a3f5f",
             "gridcolor": "white",
             "linecolor": "white",
             "minorgridcolor": "white",
             "startlinecolor": "#2a3f5f"
            },
            "type": "carpet"
           }
          ],
          "choropleth": [
           {
            "colorbar": {
             "outlinewidth": 0,
             "ticks": ""
            },
            "type": "choropleth"
           }
          ],
          "contour": [
           {
            "colorbar": {
             "outlinewidth": 0,
             "ticks": ""
            },
            "colorscale": [
             [
              0,
              "#0d0887"
             ],
             [
              0.1111111111111111,
              "#46039f"
             ],
             [
              0.2222222222222222,
              "#7201a8"
             ],
             [
              0.3333333333333333,
              "#9c179e"
             ],
             [
              0.4444444444444444,
              "#bd3786"
             ],
             [
              0.5555555555555556,
              "#d8576b"
             ],
             [
              0.6666666666666666,
              "#ed7953"
             ],
             [
              0.7777777777777778,
              "#fb9f3a"
             ],
             [
              0.8888888888888888,
              "#fdca26"
             ],
             [
              1,
              "#f0f921"
             ]
            ],
            "type": "contour"
           }
          ],
          "contourcarpet": [
           {
            "colorbar": {
             "outlinewidth": 0,
             "ticks": ""
            },
            "type": "contourcarpet"
           }
          ],
          "heatmap": [
           {
            "colorbar": {
             "outlinewidth": 0,
             "ticks": ""
            },
            "colorscale": [
             [
              0,
              "#0d0887"
             ],
             [
              0.1111111111111111,
              "#46039f"
             ],
             [
              0.2222222222222222,
              "#7201a8"
             ],
             [
              0.3333333333333333,
              "#9c179e"
             ],
             [
              0.4444444444444444,
              "#bd3786"
             ],
             [
              0.5555555555555556,
              "#d8576b"
             ],
             [
              0.6666666666666666,
              "#ed7953"
             ],
             [
              0.7777777777777778,
              "#fb9f3a"
             ],
             [
              0.8888888888888888,
              "#fdca26"
             ],
             [
              1,
              "#f0f921"
             ]
            ],
            "type": "heatmap"
           }
          ],
          "heatmapgl": [
           {
            "colorbar": {
             "outlinewidth": 0,
             "ticks": ""
            },
            "colorscale": [
             [
              0,
              "#0d0887"
             ],
             [
              0.1111111111111111,
              "#46039f"
             ],
             [
              0.2222222222222222,
              "#7201a8"
             ],
             [
              0.3333333333333333,
              "#9c179e"
             ],
             [
              0.4444444444444444,
              "#bd3786"
             ],
             [
              0.5555555555555556,
              "#d8576b"
             ],
             [
              0.6666666666666666,
              "#ed7953"
             ],
             [
              0.7777777777777778,
              "#fb9f3a"
             ],
             [
              0.8888888888888888,
              "#fdca26"
             ],
             [
              1,
              "#f0f921"
             ]
            ],
            "type": "heatmapgl"
           }
          ],
          "histogram": [
           {
            "marker": {
             "pattern": {
              "fillmode": "overlay",
              "size": 10,
              "solidity": 0.2
             }
            },
            "type": "histogram"
           }
          ],
          "histogram2d": [
           {
            "colorbar": {
             "outlinewidth": 0,
             "ticks": ""
            },
            "colorscale": [
             [
              0,
              "#0d0887"
             ],
             [
              0.1111111111111111,
              "#46039f"
             ],
             [
              0.2222222222222222,
              "#7201a8"
             ],
             [
              0.3333333333333333,
              "#9c179e"
             ],
             [
              0.4444444444444444,
              "#bd3786"
             ],
             [
              0.5555555555555556,
              "#d8576b"
             ],
             [
              0.6666666666666666,
              "#ed7953"
             ],
             [
              0.7777777777777778,
              "#fb9f3a"
             ],
             [
              0.8888888888888888,
              "#fdca26"
             ],
             [
              1,
              "#f0f921"
             ]
            ],
            "type": "histogram2d"
           }
          ],
          "histogram2dcontour": [
           {
            "colorbar": {
             "outlinewidth": 0,
             "ticks": ""
            },
            "colorscale": [
             [
              0,
              "#0d0887"
             ],
             [
              0.1111111111111111,
              "#46039f"
             ],
             [
              0.2222222222222222,
              "#7201a8"
             ],
             [
              0.3333333333333333,
              "#9c179e"
             ],
             [
              0.4444444444444444,
              "#bd3786"
             ],
             [
              0.5555555555555556,
              "#d8576b"
             ],
             [
              0.6666666666666666,
              "#ed7953"
             ],
             [
              0.7777777777777778,
              "#fb9f3a"
             ],
             [
              0.8888888888888888,
              "#fdca26"
             ],
             [
              1,
              "#f0f921"
             ]
            ],
            "type": "histogram2dcontour"
           }
          ],
          "mesh3d": [
           {
            "colorbar": {
             "outlinewidth": 0,
             "ticks": ""
            },
            "type": "mesh3d"
           }
          ],
          "parcoords": [
           {
            "line": {
             "colorbar": {
              "outlinewidth": 0,
              "ticks": ""
             }
            },
            "type": "parcoords"
           }
          ],
          "pie": [
           {
            "automargin": true,
            "type": "pie"
           }
          ],
          "scatter": [
           {
            "fillpattern": {
             "fillmode": "overlay",
             "size": 10,
             "solidity": 0.2
            },
            "type": "scatter"
           }
          ],
          "scatter3d": [
           {
            "line": {
             "colorbar": {
              "outlinewidth": 0,
              "ticks": ""
             }
            },
            "marker": {
             "colorbar": {
              "outlinewidth": 0,
              "ticks": ""
             }
            },
            "type": "scatter3d"
           }
          ],
          "scattercarpet": [
           {
            "marker": {
             "colorbar": {
              "outlinewidth": 0,
              "ticks": ""
             }
            },
            "type": "scattercarpet"
           }
          ],
          "scattergeo": [
           {
            "marker": {
             "colorbar": {
              "outlinewidth": 0,
              "ticks": ""
             }
            },
            "type": "scattergeo"
           }
          ],
          "scattergl": [
           {
            "marker": {
             "colorbar": {
              "outlinewidth": 0,
              "ticks": ""
             }
            },
            "type": "scattergl"
           }
          ],
          "scattermapbox": [
           {
            "marker": {
             "colorbar": {
              "outlinewidth": 0,
              "ticks": ""
             }
            },
            "type": "scattermapbox"
           }
          ],
          "scatterpolar": [
           {
            "marker": {
             "colorbar": {
              "outlinewidth": 0,
              "ticks": ""
             }
            },
            "type": "scatterpolar"
           }
          ],
          "scatterpolargl": [
           {
            "marker": {
             "colorbar": {
              "outlinewidth": 0,
              "ticks": ""
             }
            },
            "type": "scatterpolargl"
           }
          ],
          "scatterternary": [
           {
            "marker": {
             "colorbar": {
              "outlinewidth": 0,
              "ticks": ""
             }
            },
            "type": "scatterternary"
           }
          ],
          "surface": [
           {
            "colorbar": {
             "outlinewidth": 0,
             "ticks": ""
            },
            "colorscale": [
             [
              0,
              "#0d0887"
             ],
             [
              0.1111111111111111,
              "#46039f"
             ],
             [
              0.2222222222222222,
              "#7201a8"
             ],
             [
              0.3333333333333333,
              "#9c179e"
             ],
             [
              0.4444444444444444,
              "#bd3786"
             ],
             [
              0.5555555555555556,
              "#d8576b"
             ],
             [
              0.6666666666666666,
              "#ed7953"
             ],
             [
              0.7777777777777778,
              "#fb9f3a"
             ],
             [
              0.8888888888888888,
              "#fdca26"
             ],
             [
              1,
              "#f0f921"
             ]
            ],
            "type": "surface"
           }
          ],
          "table": [
           {
            "cells": {
             "fill": {
              "color": "#EBF0F8"
             },
             "line": {
              "color": "white"
             }
            },
            "header": {
             "fill": {
              "color": "#C8D4E3"
             },
             "line": {
              "color": "white"
             }
            },
            "type": "table"
           }
          ]
         },
         "layout": {
          "annotationdefaults": {
           "arrowcolor": "#2a3f5f",
           "arrowhead": 0,
           "arrowwidth": 1
          },
          "autotypenumbers": "strict",
          "coloraxis": {
           "colorbar": {
            "outlinewidth": 0,
            "ticks": ""
           }
          },
          "colorscale": {
           "diverging": [
            [
             0,
             "#8e0152"
            ],
            [
             0.1,
             "#c51b7d"
            ],
            [
             0.2,
             "#de77ae"
            ],
            [
             0.3,
             "#f1b6da"
            ],
            [
             0.4,
             "#fde0ef"
            ],
            [
             0.5,
             "#f7f7f7"
            ],
            [
             0.6,
             "#e6f5d0"
            ],
            [
             0.7,
             "#b8e186"
            ],
            [
             0.8,
             "#7fbc41"
            ],
            [
             0.9,
             "#4d9221"
            ],
            [
             1,
             "#276419"
            ]
           ],
           "sequential": [
            [
             0,
             "#0d0887"
            ],
            [
             0.1111111111111111,
             "#46039f"
            ],
            [
             0.2222222222222222,
             "#7201a8"
            ],
            [
             0.3333333333333333,
             "#9c179e"
            ],
            [
             0.4444444444444444,
             "#bd3786"
            ],
            [
             0.5555555555555556,
             "#d8576b"
            ],
            [
             0.6666666666666666,
             "#ed7953"
            ],
            [
             0.7777777777777778,
             "#fb9f3a"
            ],
            [
             0.8888888888888888,
             "#fdca26"
            ],
            [
             1,
             "#f0f921"
            ]
           ],
           "sequentialminus": [
            [
             0,
             "#0d0887"
            ],
            [
             0.1111111111111111,
             "#46039f"
            ],
            [
             0.2222222222222222,
             "#7201a8"
            ],
            [
             0.3333333333333333,
             "#9c179e"
            ],
            [
             0.4444444444444444,
             "#bd3786"
            ],
            [
             0.5555555555555556,
             "#d8576b"
            ],
            [
             0.6666666666666666,
             "#ed7953"
            ],
            [
             0.7777777777777778,
             "#fb9f3a"
            ],
            [
             0.8888888888888888,
             "#fdca26"
            ],
            [
             1,
             "#f0f921"
            ]
           ]
          },
          "colorway": [
           "#636efa",
           "#EF553B",
           "#00cc96",
           "#ab63fa",
           "#FFA15A",
           "#19d3f3",
           "#FF6692",
           "#B6E880",
           "#FF97FF",
           "#FECB52"
          ],
          "font": {
           "color": "#2a3f5f"
          },
          "geo": {
           "bgcolor": "white",
           "lakecolor": "white",
           "landcolor": "#E5ECF6",
           "showlakes": true,
           "showland": true,
           "subunitcolor": "white"
          },
          "hoverlabel": {
           "align": "left"
          },
          "hovermode": "closest",
          "mapbox": {
           "style": "light"
          },
          "paper_bgcolor": "white",
          "plot_bgcolor": "#E5ECF6",
          "polar": {
           "angularaxis": {
            "gridcolor": "white",
            "linecolor": "white",
            "ticks": ""
           },
           "bgcolor": "#E5ECF6",
           "radialaxis": {
            "gridcolor": "white",
            "linecolor": "white",
            "ticks": ""
           }
          },
          "scene": {
           "xaxis": {
            "backgroundcolor": "#E5ECF6",
            "gridcolor": "white",
            "gridwidth": 2,
            "linecolor": "white",
            "showbackground": true,
            "ticks": "",
            "zerolinecolor": "white"
           },
           "yaxis": {
            "backgroundcolor": "#E5ECF6",
            "gridcolor": "white",
            "gridwidth": 2,
            "linecolor": "white",
            "showbackground": true,
            "ticks": "",
            "zerolinecolor": "white"
           },
           "zaxis": {
            "backgroundcolor": "#E5ECF6",
            "gridcolor": "white",
            "gridwidth": 2,
            "linecolor": "white",
            "showbackground": true,
            "ticks": "",
            "zerolinecolor": "white"
           }
          },
          "shapedefaults": {
           "line": {
            "color": "#2a3f5f"
           }
          },
          "ternary": {
           "aaxis": {
            "gridcolor": "white",
            "linecolor": "white",
            "ticks": ""
           },
           "baxis": {
            "gridcolor": "white",
            "linecolor": "white",
            "ticks": ""
           },
           "bgcolor": "#E5ECF6",
           "caxis": {
            "gridcolor": "white",
            "linecolor": "white",
            "ticks": ""
           }
          },
          "title": {
           "x": 0.05
          },
          "xaxis": {
           "automargin": true,
           "gridcolor": "white",
           "linecolor": "white",
           "ticks": "",
           "title": {
            "standoff": 15
           },
           "zerolinecolor": "white",
           "zerolinewidth": 2
          },
          "yaxis": {
           "automargin": true,
           "gridcolor": "white",
           "linecolor": "white",
           "ticks": "",
           "title": {
            "standoff": 15
           },
           "zerolinecolor": "white",
           "zerolinewidth": 2
          }
         }
        },
        "xaxis": {
         "anchor": "y",
         "domain": [
          0,
          1
         ],
         "title": {
          "text": "total"
         }
        },
        "yaxis": {
         "anchor": "x",
         "domain": [
          0,
          1
         ],
         "title": {
          "text": "carbon"
         }
        }
       }
      }
     },
     "metadata": {},
     "output_type": "display_data"
    }
   ],
   "source": [
    "px.scatter(df_be, x=\"total\", y=\"carbon\")"
   ]
  },
  {
   "cell_type": "code",
   "execution_count": 748,
   "metadata": {},
   "outputs": [],
   "source": [
    "preds_be = loo_cv_pred(X_be, y_be)"
   ]
  },
  {
   "cell_type": "code",
   "execution_count": 749,
   "metadata": {},
   "outputs": [
    {
     "data": {
      "text/plain": [
       "0.1960374425066873"
      ]
     },
     "execution_count": 749,
     "metadata": {},
     "output_type": "execute_result"
    }
   ],
   "source": [
    "r2_score(y_be, preds_be)"
   ]
  }
 ],
 "metadata": {
  "kernelspec": {
   "display_name": "wafflers",
   "language": "python",
   "name": "python3"
  },
  "language_info": {
   "codemirror_mode": {
    "name": "ipython",
    "version": 3
   },
   "file_extension": ".py",
   "mimetype": "text/x-python",
   "name": "python",
   "nbconvert_exporter": "python",
   "pygments_lexer": "ipython3",
   "version": "3.11.9"
  }
 },
 "nbformat": 4,
 "nbformat_minor": 2
}
