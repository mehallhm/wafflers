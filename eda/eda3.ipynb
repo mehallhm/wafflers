{
 "cells": [
  {
   "cell_type": "code",
   "execution_count": 3,
   "metadata": {},
   "outputs": [
    {
     "name": "stderr",
     "output_type": "stream",
     "text": [
      "/opt/homebrew/Caskroom/miniconda/base/envs/wafflers/lib/python3.11/site-packages/pandasdmx/remote.py:11: RuntimeWarning: optional dependency requests_cache is not installed; cache options to Session() have no effect\n",
      "  warn(\n"
     ]
    }
   ],
   "source": [
    "import pandas as pd\n",
    "import numpy as np\n",
    "import plotly.express as px\n",
    "import seaborn as sns\n",
    "import matplotlib.pyplot as plt\n",
    "import pandasdmx as sdmx\n",
    "from functools import reduce"
   ]
  },
  {
   "cell_type": "markdown",
   "metadata": {},
   "source": [
    "# Data Fetching & Basic Manipulation"
   ]
  },
  {
   "cell_type": "code",
   "execution_count": 4,
   "metadata": {},
   "outputs": [],
   "source": [
    "estat = sdmx.Request(\"ESTAT\")"
   ]
  },
  {
   "cell_type": "markdown",
   "metadata": {},
   "source": [
    "## Carbon Data"
   ]
  },
  {
   "cell_type": "code",
   "execution_count": 5,
   "metadata": {},
   "outputs": [
    {
     "name": "stderr",
     "output_type": "stream",
     "text": [
      "2024-06-06 01:29:44,221 pandasdmx.reader.sdmxml - INFO: Use supplied dsd=… argument for non–structure-specific message\n"
     ]
    },
    {
     "data": {
      "text/html": [
       "<div>\n",
       "<style scoped>\n",
       "    .dataframe tbody tr th:only-of-type {\n",
       "        vertical-align: middle;\n",
       "    }\n",
       "\n",
       "    .dataframe tbody tr th {\n",
       "        vertical-align: top;\n",
       "    }\n",
       "\n",
       "    .dataframe thead th {\n",
       "        text-align: right;\n",
       "    }\n",
       "</style>\n",
       "<table border=\"1\" class=\"dataframe\">\n",
       "  <thead>\n",
       "    <tr style=\"text-align: right;\">\n",
       "      <th></th>\n",
       "      <th>year</th>\n",
       "      <th>geo</th>\n",
       "      <th>value</th>\n",
       "    </tr>\n",
       "  </thead>\n",
       "  <tbody>\n",
       "    <tr>\n",
       "      <th>0</th>\n",
       "      <td>1985</td>\n",
       "      <td>AT</td>\n",
       "      <td>NaN</td>\n",
       "    </tr>\n",
       "    <tr>\n",
       "      <th>1</th>\n",
       "      <td>1986</td>\n",
       "      <td>AT</td>\n",
       "      <td>NaN</td>\n",
       "    </tr>\n",
       "    <tr>\n",
       "      <th>2</th>\n",
       "      <td>1987</td>\n",
       "      <td>AT</td>\n",
       "      <td>NaN</td>\n",
       "    </tr>\n",
       "    <tr>\n",
       "      <th>3</th>\n",
       "      <td>1988</td>\n",
       "      <td>AT</td>\n",
       "      <td>NaN</td>\n",
       "    </tr>\n",
       "    <tr>\n",
       "      <th>4</th>\n",
       "      <td>1989</td>\n",
       "      <td>AT</td>\n",
       "      <td>NaN</td>\n",
       "    </tr>\n",
       "  </tbody>\n",
       "</table>\n",
       "</div>"
      ],
      "text/plain": [
       "   year geo  value\n",
       "0  1985  AT    NaN\n",
       "1  1986  AT    NaN\n",
       "2  1987  AT    NaN\n",
       "3  1988  AT    NaN\n",
       "4  1989  AT    NaN"
      ]
     },
     "execution_count": 5,
     "metadata": {},
     "output_type": "execute_result"
    }
   ],
   "source": [
    "resp = estat.data(\n",
    "\t\"ENV_AIR_GGE\",\n",
    "\tkey={\n",
    "\t\t\"unit\": \"THS_T\",\n",
    "\t\t\"freq\": \"A\",\n",
    "\t\t\"src_crf\": \"TOTX4_MEMONIA\",\n",
    "\t\t\"airpol\": \"GHG\"\n",
    "\t}\n",
    ")\n",
    "emission_df = resp.to_pandas(datetime={'dim': 'TIME_PERIOD'}).droplevel(level=['unit', 'freq', 'src_crf', 'airpol'], axis=1)\n",
    "emission_df.reset_index(inplace=True)\n",
    "emission_df[\"year\"] = emission_df[\"TIME_PERIOD\"].dt.year\n",
    "emission_df.drop(\"TIME_PERIOD\", inplace=True, axis=1)\n",
    "emission_melted_df = pd.melt(emission_df, id_vars=\"year\")\n",
    "\n",
    "emission_melted_df.head()"
   ]
  },
  {
   "cell_type": "markdown",
   "metadata": {},
   "source": [
    "## Energy Data"
   ]
  },
  {
   "cell_type": "code",
   "execution_count": 6,
   "metadata": {},
   "outputs": [],
   "source": [
    "def get_melted_energy_dfs(code: str) -> pd.DataFrame:\n",
    "\t\"\"\"\n",
    "\tA quick helper to get, parse, and melt the dataframes for a given energy `nrg_bal`.\n",
    "\n",
    "\t:param code: The `nrg_bal` code to fetch and melt\n",
    "\t:returns: A melted dataframe\n",
    "\t\"\"\"\n",
    "\tresp = estat.data(\n",
    "\t\t\"NRG_D_HHQ\",\n",
    "\t\tkey={\n",
    "\t\t\t\"siec\": \"TOTAL\",\n",
    "\t\t\t\"unit\": \"TJ\",\n",
    "\t\t\t\"nrg_bal\": code,\n",
    "\t\t\t\"freq\": \"A\",\n",
    "\t\t}\n",
    "\t)\n",
    "\thousehold_energy_df = resp.to_pandas(datetime={'dim': 'TIME_PERIOD', 'freq': 'freq'}).droplevel(level=[\"siec\", \"unit\", \"nrg_bal\"], axis=1)\n",
    "\n",
    "\thousehold_energy_df.reset_index(inplace=True)\n",
    "\thousehold_energy_df[\"year\"] = household_energy_df[\"TIME_PERIOD\"].dt.year\n",
    "\thousehold_energy_df.drop(\"TIME_PERIOD\", inplace=True, axis=1)\n",
    "\thousehold_energy_melted_df = pd.melt(household_energy_df, id_vars=\"year\")\n",
    "\thousehold_energy_melted_df.columns = [\"year\", \"geo\", code]\n",
    "\treturn household_energy_melted_df"
   ]
  },
  {
   "cell_type": "code",
   "execution_count": 7,
   "metadata": {},
   "outputs": [
    {
     "name": "stderr",
     "output_type": "stream",
     "text": [
      "2024-06-06 01:29:45,509 pandasdmx.reader.sdmxml - INFO: Use supplied dsd=… argument for non–structure-specific message\n",
      "/opt/homebrew/Caskroom/miniconda/base/envs/wafflers/lib/python3.11/functools.py:909: FutureWarning: 'A' is deprecated and will be removed in a future version, please use 'Y' instead.\n",
      "  return dispatch(args[0].__class__)(*args, **kw)\n",
      "2024-06-06 01:29:45,631 pandasdmx.reader.sdmxml - INFO: Use supplied dsd=… argument for non–structure-specific message\n",
      "/opt/homebrew/Caskroom/miniconda/base/envs/wafflers/lib/python3.11/functools.py:909: FutureWarning: 'A' is deprecated and will be removed in a future version, please use 'Y' instead.\n",
      "  return dispatch(args[0].__class__)(*args, **kw)\n",
      "2024-06-06 01:29:45,836 pandasdmx.reader.sdmxml - INFO: Use supplied dsd=… argument for non–structure-specific message\n",
      "/opt/homebrew/Caskroom/miniconda/base/envs/wafflers/lib/python3.11/functools.py:909: FutureWarning: 'A' is deprecated and will be removed in a future version, please use 'Y' instead.\n",
      "  return dispatch(args[0].__class__)(*args, **kw)\n",
      "2024-06-06 01:29:45,955 pandasdmx.reader.sdmxml - INFO: Use supplied dsd=… argument for non–structure-specific message\n",
      "/opt/homebrew/Caskroom/miniconda/base/envs/wafflers/lib/python3.11/functools.py:909: FutureWarning: 'A' is deprecated and will be removed in a future version, please use 'Y' instead.\n",
      "  return dispatch(args[0].__class__)(*args, **kw)\n",
      "2024-06-06 01:29:46,068 pandasdmx.reader.sdmxml - INFO: Use supplied dsd=… argument for non–structure-specific message\n",
      "/opt/homebrew/Caskroom/miniconda/base/envs/wafflers/lib/python3.11/functools.py:909: FutureWarning: 'A' is deprecated and will be removed in a future version, please use 'Y' instead.\n",
      "  return dispatch(args[0].__class__)(*args, **kw)\n"
     ]
    }
   ],
   "source": [
    "codes = [\"FC_OTH_HH_E_SH\", \"FC_OTH_HH_E_SC\", \"FC_OTH_HH_E_WH\", \"FC_OTH_HH_E_CK\", \"FC_OTH_HH_E\"]\n",
    "energy_dfs = [get_melted_energy_dfs(code) for code in codes]"
   ]
  },
  {
   "cell_type": "code",
   "execution_count": 8,
   "metadata": {},
   "outputs": [
    {
     "name": "stderr",
     "output_type": "stream",
     "text": [
      "2024-06-06 01:29:47,302 pandasdmx.reader.sdmxml - INFO: Use supplied dsd=… argument for non–structure-specific message\n"
     ]
    },
    {
     "data": {
      "text/html": [
       "<div>\n",
       "<style scoped>\n",
       "    .dataframe tbody tr th:only-of-type {\n",
       "        vertical-align: middle;\n",
       "    }\n",
       "\n",
       "    .dataframe tbody tr th {\n",
       "        vertical-align: top;\n",
       "    }\n",
       "\n",
       "    .dataframe thead th {\n",
       "        text-align: right;\n",
       "    }\n",
       "</style>\n",
       "<table border=\"1\" class=\"dataframe\">\n",
       "  <thead>\n",
       "    <tr style=\"text-align: right;\">\n",
       "      <th></th>\n",
       "      <th>year</th>\n",
       "      <th>geo</th>\n",
       "      <th>value</th>\n",
       "    </tr>\n",
       "  </thead>\n",
       "  <tbody>\n",
       "    <tr>\n",
       "      <th>0</th>\n",
       "      <td>2011</td>\n",
       "      <td>AL</td>\n",
       "      <td>115.592</td>\n",
       "    </tr>\n",
       "    <tr>\n",
       "      <th>1</th>\n",
       "      <td>2012</td>\n",
       "      <td>AL</td>\n",
       "      <td>100.745</td>\n",
       "    </tr>\n",
       "    <tr>\n",
       "      <th>2</th>\n",
       "      <td>2013</td>\n",
       "      <td>AL</td>\n",
       "      <td>109.229</td>\n",
       "    </tr>\n",
       "    <tr>\n",
       "      <th>3</th>\n",
       "      <td>2014</td>\n",
       "      <td>AL</td>\n",
       "      <td>109.229</td>\n",
       "    </tr>\n",
       "    <tr>\n",
       "      <th>4</th>\n",
       "      <td>2015</td>\n",
       "      <td>AL</td>\n",
       "      <td>109.229</td>\n",
       "    </tr>\n",
       "  </tbody>\n",
       "</table>\n",
       "</div>"
      ],
      "text/plain": [
       "   year geo    value\n",
       "0  2011  AL  115.592\n",
       "1  2012  AL  100.745\n",
       "2  2013  AL  109.229\n",
       "3  2014  AL  109.229\n",
       "4  2015  AL  109.229"
      ]
     },
     "execution_count": 8,
     "metadata": {},
     "output_type": "execute_result"
    }
   ],
   "source": [
    "resp = estat.data(\n",
    "\t\"TEN00127\",\n",
    "\tkey={\n",
    "\t\t\"unit\": \"KTOE\",\n",
    "\t\t\"freq\": \"A\",\n",
    "\t\t\"siec\": \"O4652XR5210B\",\n",
    "\t\t\"nrg_bal\": \"FC_TRA_ROAD_E\"\n",
    "\t}\n",
    ")\n",
    "gas_df = resp.to_pandas(datetime={'dim': 'TIME_PERIOD'}).droplevel(level=['unit', 'freq', 'siec', \"nrg_bal\"], axis=1)\n",
    "gas_df.reset_index(inplace=True)\n",
    "gas_df[\"year\"] = gas_df[\"TIME_PERIOD\"].dt.year\n",
    "gas_df.drop(\"TIME_PERIOD\", inplace=True, axis=1)\n",
    "gas_melted_df = pd.melt(gas_df, id_vars=\"year\")\n",
    "\n",
    "gas_melted_df.head()"
   ]
  },
  {
   "cell_type": "markdown",
   "metadata": {},
   "source": [
    "## Merge Datasets"
   ]
  },
  {
   "cell_type": "code",
   "execution_count": 9,
   "metadata": {},
   "outputs": [
    {
     "data": {
      "text/html": [
       "<div>\n",
       "<style scoped>\n",
       "    .dataframe tbody tr th:only-of-type {\n",
       "        vertical-align: middle;\n",
       "    }\n",
       "\n",
       "    .dataframe tbody tr th {\n",
       "        vertical-align: top;\n",
       "    }\n",
       "\n",
       "    .dataframe thead th {\n",
       "        text-align: right;\n",
       "    }\n",
       "</style>\n",
       "<table border=\"1\" class=\"dataframe\">\n",
       "  <thead>\n",
       "    <tr style=\"text-align: right;\">\n",
       "      <th></th>\n",
       "      <th>year</th>\n",
       "      <th>geo</th>\n",
       "      <th>carbon</th>\n",
       "      <th>energy_heating</th>\n",
       "      <th>energy_cooling</th>\n",
       "      <th>energy_water_heating</th>\n",
       "      <th>energy_cooking</th>\n",
       "      <th>household_total</th>\n",
       "      <th>gas</th>\n",
       "    </tr>\n",
       "  </thead>\n",
       "  <tbody>\n",
       "    <tr>\n",
       "      <th>0</th>\n",
       "      <td>2011</td>\n",
       "      <td>AT</td>\n",
       "      <td>84795.76</td>\n",
       "      <td>190731.846</td>\n",
       "      <td>25.123</td>\n",
       "      <td>41343.612</td>\n",
       "      <td>6891.695</td>\n",
       "      <td>274577.058</td>\n",
       "      <td>1632.260</td>\n",
       "    </tr>\n",
       "    <tr>\n",
       "      <th>1</th>\n",
       "      <td>2012</td>\n",
       "      <td>AT</td>\n",
       "      <td>81981.39</td>\n",
       "      <td>195419.278</td>\n",
       "      <td>34.215</td>\n",
       "      <td>41839.251</td>\n",
       "      <td>7026.774</td>\n",
       "      <td>279812.556</td>\n",
       "      <td>1585.826</td>\n",
       "    </tr>\n",
       "    <tr>\n",
       "      <th>2</th>\n",
       "      <td>2013</td>\n",
       "      <td>AT</td>\n",
       "      <td>82304.13</td>\n",
       "      <td>205494.885</td>\n",
       "      <td>31.035</td>\n",
       "      <td>41541.823</td>\n",
       "      <td>7353.560</td>\n",
       "      <td>289591.863</td>\n",
       "      <td>1554.830</td>\n",
       "    </tr>\n",
       "    <tr>\n",
       "      <th>3</th>\n",
       "      <td>2014</td>\n",
       "      <td>AT</td>\n",
       "      <td>78716.82</td>\n",
       "      <td>178513.717</td>\n",
       "      <td>27.645</td>\n",
       "      <td>42495.391</td>\n",
       "      <td>7152.047</td>\n",
       "      <td>261676.431</td>\n",
       "      <td>1524.254</td>\n",
       "    </tr>\n",
       "    <tr>\n",
       "      <th>4</th>\n",
       "      <td>2015</td>\n",
       "      <td>AT</td>\n",
       "      <td>81081.58</td>\n",
       "      <td>193886.979</td>\n",
       "      <td>25.714</td>\n",
       "      <td>42104.965</td>\n",
       "      <td>7179.133</td>\n",
       "      <td>278096.422</td>\n",
       "      <td>1539.983</td>\n",
       "    </tr>\n",
       "  </tbody>\n",
       "</table>\n",
       "</div>"
      ],
      "text/plain": [
       "   year geo    carbon  energy_heating  energy_cooling  energy_water_heating  \\\n",
       "0  2011  AT  84795.76      190731.846          25.123             41343.612   \n",
       "1  2012  AT  81981.39      195419.278          34.215             41839.251   \n",
       "2  2013  AT  82304.13      205494.885          31.035             41541.823   \n",
       "3  2014  AT  78716.82      178513.717          27.645             42495.391   \n",
       "4  2015  AT  81081.58      193886.979          25.714             42104.965   \n",
       "\n",
       "   energy_cooking  household_total       gas  \n",
       "0        6891.695       274577.058  1632.260  \n",
       "1        7026.774       279812.556  1585.826  \n",
       "2        7353.560       289591.863  1554.830  \n",
       "3        7152.047       261676.431  1524.254  \n",
       "4        7179.133       278096.422  1539.983  "
      ]
     },
     "execution_count": 9,
     "metadata": {},
     "output_type": "execute_result"
    }
   ],
   "source": [
    "to_merge_dfs = [emission_melted_df, *energy_dfs, gas_melted_df]\n",
    "columns = [\"year\", \"geo\", \"carbon\", \"energy_heating\", \"energy_cooling\", \"energy_water_heating\", \"energy_cooking\", \"household_total\", \"gas\"]\n",
    "res_carbon_df = reduce(lambda l, r: pd.merge(l, r, left_on=[\"year\", \"geo\"], right_on=[\"year\", \"geo\"]), to_merge_dfs)\n",
    "res_carbon_df.columns = columns\n",
    "res_carbon_df.head()"
   ]
  },
  {
   "cell_type": "code",
   "execution_count": 10,
   "metadata": {},
   "outputs": [
    {
     "data": {
      "text/html": [
       "<div>\n",
       "<style scoped>\n",
       "    .dataframe tbody tr th:only-of-type {\n",
       "        vertical-align: middle;\n",
       "    }\n",
       "\n",
       "    .dataframe tbody tr th {\n",
       "        vertical-align: top;\n",
       "    }\n",
       "\n",
       "    .dataframe thead th {\n",
       "        text-align: right;\n",
       "    }\n",
       "</style>\n",
       "<table border=\"1\" class=\"dataframe\">\n",
       "  <thead>\n",
       "    <tr style=\"text-align: right;\">\n",
       "      <th></th>\n",
       "      <th>year</th>\n",
       "      <th>geo</th>\n",
       "      <th>carbon</th>\n",
       "      <th>energy_heating</th>\n",
       "      <th>energy_cooling</th>\n",
       "      <th>energy_water_heating</th>\n",
       "      <th>energy_cooking</th>\n",
       "      <th>household_total</th>\n",
       "      <th>gas</th>\n",
       "    </tr>\n",
       "  </thead>\n",
       "  <tbody>\n",
       "    <tr>\n",
       "      <th>0</th>\n",
       "      <td>2011</td>\n",
       "      <td>AT</td>\n",
       "      <td>84795.76</td>\n",
       "      <td>190731.846</td>\n",
       "      <td>25.123</td>\n",
       "      <td>41343.612</td>\n",
       "      <td>6891.695</td>\n",
       "      <td>274577.058</td>\n",
       "      <td>1632.260</td>\n",
       "    </tr>\n",
       "    <tr>\n",
       "      <th>1</th>\n",
       "      <td>2012</td>\n",
       "      <td>AT</td>\n",
       "      <td>81981.39</td>\n",
       "      <td>195419.278</td>\n",
       "      <td>34.215</td>\n",
       "      <td>41839.251</td>\n",
       "      <td>7026.774</td>\n",
       "      <td>279812.556</td>\n",
       "      <td>1585.826</td>\n",
       "    </tr>\n",
       "    <tr>\n",
       "      <th>2</th>\n",
       "      <td>2013</td>\n",
       "      <td>AT</td>\n",
       "      <td>82304.13</td>\n",
       "      <td>205494.885</td>\n",
       "      <td>31.035</td>\n",
       "      <td>41541.823</td>\n",
       "      <td>7353.560</td>\n",
       "      <td>289591.863</td>\n",
       "      <td>1554.830</td>\n",
       "    </tr>\n",
       "    <tr>\n",
       "      <th>3</th>\n",
       "      <td>2014</td>\n",
       "      <td>AT</td>\n",
       "      <td>78716.82</td>\n",
       "      <td>178513.717</td>\n",
       "      <td>27.645</td>\n",
       "      <td>42495.391</td>\n",
       "      <td>7152.047</td>\n",
       "      <td>261676.431</td>\n",
       "      <td>1524.254</td>\n",
       "    </tr>\n",
       "    <tr>\n",
       "      <th>4</th>\n",
       "      <td>2015</td>\n",
       "      <td>AT</td>\n",
       "      <td>81081.58</td>\n",
       "      <td>193886.979</td>\n",
       "      <td>25.714</td>\n",
       "      <td>42104.965</td>\n",
       "      <td>7179.133</td>\n",
       "      <td>278096.422</td>\n",
       "      <td>1539.983</td>\n",
       "    </tr>\n",
       "  </tbody>\n",
       "</table>\n",
       "</div>"
      ],
      "text/plain": [
       "   year geo    carbon  energy_heating  energy_cooling  energy_water_heating  \\\n",
       "0  2011  AT  84795.76      190731.846          25.123             41343.612   \n",
       "1  2012  AT  81981.39      195419.278          34.215             41839.251   \n",
       "2  2013  AT  82304.13      205494.885          31.035             41541.823   \n",
       "3  2014  AT  78716.82      178513.717          27.645             42495.391   \n",
       "4  2015  AT  81081.58      193886.979          25.714             42104.965   \n",
       "\n",
       "   energy_cooking  household_total       gas  \n",
       "0        6891.695       274577.058  1632.260  \n",
       "1        7026.774       279812.556  1585.826  \n",
       "2        7353.560       289591.863  1554.830  \n",
       "3        7152.047       261676.431  1524.254  \n",
       "4        7179.133       278096.422  1539.983  "
      ]
     },
     "execution_count": 10,
     "metadata": {},
     "output_type": "execute_result"
    }
   ],
   "source": [
    "res_carbon_df.head()"
   ]
  },
  {
   "cell_type": "code",
   "execution_count": 11,
   "metadata": {},
   "outputs": [
    {
     "data": {
      "text/html": [
       "<div>\n",
       "<style scoped>\n",
       "    .dataframe tbody tr th:only-of-type {\n",
       "        vertical-align: middle;\n",
       "    }\n",
       "\n",
       "    .dataframe tbody tr th {\n",
       "        vertical-align: top;\n",
       "    }\n",
       "\n",
       "    .dataframe thead th {\n",
       "        text-align: right;\n",
       "    }\n",
       "</style>\n",
       "<table border=\"1\" class=\"dataframe\">\n",
       "  <thead>\n",
       "    <tr style=\"text-align: right;\">\n",
       "      <th></th>\n",
       "      <th>carbon</th>\n",
       "      <th>energy_heating</th>\n",
       "      <th>energy_cooling</th>\n",
       "      <th>energy_water_heating</th>\n",
       "      <th>energy_cooking</th>\n",
       "      <th>household_total</th>\n",
       "      <th>gas</th>\n",
       "    </tr>\n",
       "  </thead>\n",
       "  <tbody>\n",
       "    <tr>\n",
       "      <th>carbon</th>\n",
       "      <td>1.000000</td>\n",
       "      <td>0.953869</td>\n",
       "      <td>0.860313</td>\n",
       "      <td>0.953779</td>\n",
       "      <td>0.958319</td>\n",
       "      <td>0.955914</td>\n",
       "      <td>0.996808</td>\n",
       "    </tr>\n",
       "    <tr>\n",
       "      <th>energy_heating</th>\n",
       "      <td>0.953869</td>\n",
       "      <td>1.000000</td>\n",
       "      <td>0.927161</td>\n",
       "      <td>0.994903</td>\n",
       "      <td>0.993174</td>\n",
       "      <td>0.999384</td>\n",
       "      <td>0.957200</td>\n",
       "    </tr>\n",
       "    <tr>\n",
       "      <th>energy_cooling</th>\n",
       "      <td>0.860313</td>\n",
       "      <td>0.927161</td>\n",
       "      <td>1.000000</td>\n",
       "      <td>0.927569</td>\n",
       "      <td>0.933307</td>\n",
       "      <td>0.932779</td>\n",
       "      <td>0.871504</td>\n",
       "    </tr>\n",
       "    <tr>\n",
       "      <th>energy_water_heating</th>\n",
       "      <td>0.953779</td>\n",
       "      <td>0.994903</td>\n",
       "      <td>0.927569</td>\n",
       "      <td>1.000000</td>\n",
       "      <td>0.994355</td>\n",
       "      <td>0.996931</td>\n",
       "      <td>0.958940</td>\n",
       "    </tr>\n",
       "    <tr>\n",
       "      <th>energy_cooking</th>\n",
       "      <td>0.958319</td>\n",
       "      <td>0.993174</td>\n",
       "      <td>0.933307</td>\n",
       "      <td>0.994355</td>\n",
       "      <td>1.000000</td>\n",
       "      <td>0.995192</td>\n",
       "      <td>0.960886</td>\n",
       "    </tr>\n",
       "    <tr>\n",
       "      <th>household_total</th>\n",
       "      <td>0.955914</td>\n",
       "      <td>0.999384</td>\n",
       "      <td>0.932779</td>\n",
       "      <td>0.996931</td>\n",
       "      <td>0.995192</td>\n",
       "      <td>1.000000</td>\n",
       "      <td>0.959322</td>\n",
       "    </tr>\n",
       "    <tr>\n",
       "      <th>gas</th>\n",
       "      <td>0.996808</td>\n",
       "      <td>0.957200</td>\n",
       "      <td>0.871504</td>\n",
       "      <td>0.958940</td>\n",
       "      <td>0.960886</td>\n",
       "      <td>0.959322</td>\n",
       "      <td>1.000000</td>\n",
       "    </tr>\n",
       "  </tbody>\n",
       "</table>\n",
       "</div>"
      ],
      "text/plain": [
       "                        carbon  energy_heating  energy_cooling  \\\n",
       "carbon                1.000000        0.953869        0.860313   \n",
       "energy_heating        0.953869        1.000000        0.927161   \n",
       "energy_cooling        0.860313        0.927161        1.000000   \n",
       "energy_water_heating  0.953779        0.994903        0.927569   \n",
       "energy_cooking        0.958319        0.993174        0.933307   \n",
       "household_total       0.955914        0.999384        0.932779   \n",
       "gas                   0.996808        0.957200        0.871504   \n",
       "\n",
       "                      energy_water_heating  energy_cooking  household_total  \\\n",
       "carbon                            0.953779        0.958319         0.955914   \n",
       "energy_heating                    0.994903        0.993174         0.999384   \n",
       "energy_cooling                    0.927569        0.933307         0.932779   \n",
       "energy_water_heating              1.000000        0.994355         0.996931   \n",
       "energy_cooking                    0.994355        1.000000         0.995192   \n",
       "household_total                   0.996931        0.995192         1.000000   \n",
       "gas                               0.958940        0.960886         0.959322   \n",
       "\n",
       "                           gas  \n",
       "carbon                0.996808  \n",
       "energy_heating        0.957200  \n",
       "energy_cooling        0.871504  \n",
       "energy_water_heating  0.958940  \n",
       "energy_cooking        0.960886  \n",
       "household_total       0.959322  \n",
       "gas                   1.000000  "
      ]
     },
     "execution_count": 11,
     "metadata": {},
     "output_type": "execute_result"
    }
   ],
   "source": [
    "res_carbon_df.iloc[:, 2:].corr()"
   ]
  },
  {
   "cell_type": "code",
   "execution_count": 14,
   "metadata": {},
   "outputs": [],
   "source": [
    "import matplotlib.cm as cm"
   ]
  },
  {
   "cell_type": "code",
   "execution_count": 24,
   "metadata": {},
   "outputs": [
    {
     "data": {
      "text/plain": [
       "Text(0, 0.5, 'Greenhouse Gas Emissions (ktonne CO2 equivelent)')"
      ]
     },
     "execution_count": 24,
     "metadata": {},
     "output_type": "execute_result"
    },
    {
     "data": {
      "image/png": "[encoded data removed]",
      "text/plain": [
       "<Figure size 640x480 with 1 Axes>"
      ]
     },
     "metadata": {},
     "output_type": "display_data"
    }
   ],
   "source": [
    "colors = cm.rainbow(np.linspace(0, 1, len(res_carbon_df)))\n",
    "plt.scatter(x=res_carbon_df[\"energy_cooling\"], y=res_carbon_df[\"carbon\"], color=colors, alpha=0.5)\n",
    "plt.title(\"Energy Used for Cooling vs. Greenhouse Emissions\")\n",
    "plt.xlabel(\"Household Energy for Cooling (TJ)\")\n",
    "plt.ylabel(\"Greenhouse Gas Emissions (ktonne CO2 equivelent)\")\n"
   ]
  },
  {
   "cell_type": "code",
   "execution_count": 22,
   "metadata": {},
   "outputs": [],
   "source": [
    "res_carbon_df.drop(res_carbon_df[(res_carbon_df.geo == \"EU27_2020\") | (res_carbon_df.geo == \"EU20\")].index, inplace=True)"
   ]
  },
  {
   "cell_type": "code",
   "execution_count": 25,
   "metadata": {},
   "outputs": [],
   "source": [
    "res_carbon_df.drop(\"year\", axis=1, inplace=True)"
   ]
  },
  {
   "cell_type": "markdown",
   "metadata": {},
   "source": [
    "## Missing Data"
   ]
  },
  {
   "cell_type": "code",
   "execution_count": 26,
   "metadata": {},
   "outputs": [
    {
     "data": {
      "text/html": [
       "<div>\n",
       "<style scoped>\n",
       "    .dataframe tbody tr th:only-of-type {\n",
       "        vertical-align: middle;\n",
       "    }\n",
       "\n",
       "    .dataframe tbody tr th {\n",
       "        vertical-align: top;\n",
       "    }\n",
       "\n",
       "    .dataframe thead th {\n",
       "        text-align: right;\n",
       "    }\n",
       "</style>\n",
       "<table border=\"1\" class=\"dataframe\">\n",
       "  <thead>\n",
       "    <tr style=\"text-align: right;\">\n",
       "      <th></th>\n",
       "      <th>geo</th>\n",
       "      <th>carbon</th>\n",
       "      <th>energy_heating</th>\n",
       "      <th>energy_cooling</th>\n",
       "      <th>energy_water_heating</th>\n",
       "      <th>energy_cooking</th>\n",
       "      <th>household_total</th>\n",
       "      <th>gas</th>\n",
       "    </tr>\n",
       "  </thead>\n",
       "  <tbody>\n",
       "    <tr>\n",
       "      <th>0</th>\n",
       "      <td>AT</td>\n",
       "      <td>84795.76</td>\n",
       "      <td>190731.846</td>\n",
       "      <td>25.123</td>\n",
       "      <td>41343.612</td>\n",
       "      <td>6891.695</td>\n",
       "      <td>274577.058</td>\n",
       "      <td>1632.26</td>\n",
       "    </tr>\n",
       "    <tr>\n",
       "      <th>1</th>\n",
       "      <td>AT</td>\n",
       "      <td>81981.39</td>\n",
       "      <td>195419.278</td>\n",
       "      <td>34.215</td>\n",
       "      <td>41839.251</td>\n",
       "      <td>7026.774</td>\n",
       "      <td>279812.556</td>\n",
       "      <td>1585.826</td>\n",
       "    </tr>\n",
       "    <tr>\n",
       "      <th>2</th>\n",
       "      <td>AT</td>\n",
       "      <td>82304.13</td>\n",
       "      <td>205494.885</td>\n",
       "      <td>31.035</td>\n",
       "      <td>41541.823</td>\n",
       "      <td>7353.56</td>\n",
       "      <td>289591.863</td>\n",
       "      <td>1554.83</td>\n",
       "    </tr>\n",
       "    <tr>\n",
       "      <th>3</th>\n",
       "      <td>AT</td>\n",
       "      <td>78716.82</td>\n",
       "      <td>178513.717</td>\n",
       "      <td>27.645</td>\n",
       "      <td>42495.391</td>\n",
       "      <td>7152.047</td>\n",
       "      <td>261676.431</td>\n",
       "      <td>1524.254</td>\n",
       "    </tr>\n",
       "    <tr>\n",
       "      <th>4</th>\n",
       "      <td>AT</td>\n",
       "      <td>81081.58</td>\n",
       "      <td>193886.979</td>\n",
       "      <td>25.714</td>\n",
       "      <td>42104.965</td>\n",
       "      <td>7179.133</td>\n",
       "      <td>278096.422</td>\n",
       "      <td>1539.983</td>\n",
       "    </tr>\n",
       "  </tbody>\n",
       "</table>\n",
       "</div>"
      ],
      "text/plain": [
       "  geo    carbon energy_heating energy_cooling energy_water_heating  \\\n",
       "0  AT  84795.76     190731.846         25.123            41343.612   \n",
       "1  AT  81981.39     195419.278         34.215            41839.251   \n",
       "2  AT  82304.13     205494.885         31.035            41541.823   \n",
       "3  AT  78716.82     178513.717         27.645            42495.391   \n",
       "4  AT  81081.58     193886.979         25.714            42104.965   \n",
       "\n",
       "  energy_cooking household_total       gas  \n",
       "0       6891.695      274577.058   1632.26  \n",
       "1       7026.774      279812.556  1585.826  \n",
       "2        7353.56      289591.863   1554.83  \n",
       "3       7152.047      261676.431  1524.254  \n",
       "4       7179.133      278096.422  1539.983  "
      ]
     },
     "execution_count": 26,
     "metadata": {},
     "output_type": "execute_result"
    }
   ],
   "source": [
    "\n",
    "def fill_holes():\n",
    "\t\"\"\"\n",
    "\t\"\"\"\n",
    "\tlin_reg = lambda X, Y: np.matmul(np.linalg.inv(np.matmul(X.T, X)), np.matmul(X.T, Y))\n",
    "\n",
    "\tdfs = []\n",
    "\n",
    "\tfor name, group in res_carbon_df.groupby('geo'):\n",
    "\t\tcols = [[name for _ in range(len(group.index))]]\n",
    "\t\tfor i in range(1, len(group.columns)):\n",
    "\t\t\td = group.iloc[:, i:i+1].to_numpy()\n",
    "\n",
    "\t\t\tmissing_mask = np.isnan(d) | (d == 0)\n",
    "\t\t\tpresent_mask = ~missing_mask\n",
    "\n",
    "\t\t\tmissing_mask = missing_mask.reshape(1, -1)[0]\n",
    "\t\t\tpresent_mask = present_mask.reshape(1, -1)[0]\n",
    "\n",
    "\t\t\tif not np.any(missing_mask):\n",
    "\t\t\t\td = d.reshape(1, -1)[0]\n",
    "\t\t\t\tcols.append(d)\n",
    "\t\t\t\tcontinue\n",
    "\n",
    "\t\t\tif not np.any(present_mask):\n",
    "\t\t\t\td = d.reshape(1, -1)[0]\n",
    "\t\t\t\tcols.append(d)\n",
    "\t\t\t\tcontinue\n",
    "\n",
    "\t\t\tx_present = np.pad(np.arange(len(d))[present_mask].reshape(-1, 1), ((0, 0), (1, 0)), mode=\"constant\", constant_values=1)\n",
    "\t\t\ty_present = d[present_mask]\n",
    "\n",
    "\t\t\tw = lin_reg(x_present, y_present)\n",
    "\n",
    "\t\t\tx_missing = np.pad(np.arange(len(d))[missing_mask].reshape(-1, 1), ((0, 0), (1, 0)), mode=\"constant\", constant_values=1)\n",
    "\t\t\ty_missing_pred = np.matmul(x_missing, w)\n",
    "\n",
    "\t\t\td[missing_mask] = y_missing_pred\n",
    "\t\t\td = d.reshape(1, -1)[0]\n",
    "\n",
    "\t\t\tcols.append(d)\n",
    "\t\t# print(cols)\n",
    "\t\tdfs.append(pd.DataFrame(cols).T)\t\n",
    "\t\t# print(dfs)\n",
    "\tdf = pd.concat(dfs, axis=0)\n",
    "\tdf.columns = res_carbon_df.columns\n",
    "\treturn df\n",
    "\n",
    "res_carbon_df = fill_holes()\n",
    "res_carbon_df.head()"
   ]
  },
  {
   "cell_type": "markdown",
   "metadata": {},
   "source": [
    "## Standardize"
   ]
  },
  {
   "cell_type": "code",
   "execution_count": 27,
   "metadata": {},
   "outputs": [
    {
     "data": {
      "text/html": [
       "<div>\n",
       "<style scoped>\n",
       "    .dataframe tbody tr th:only-of-type {\n",
       "        vertical-align: middle;\n",
       "    }\n",
       "\n",
       "    .dataframe tbody tr th {\n",
       "        vertical-align: top;\n",
       "    }\n",
       "\n",
       "    .dataframe thead th {\n",
       "        text-align: right;\n",
       "    }\n",
       "</style>\n",
       "<table border=\"1\" class=\"dataframe\">\n",
       "  <thead>\n",
       "    <tr style=\"text-align: right;\">\n",
       "      <th></th>\n",
       "      <th>carbon</th>\n",
       "      <th>energy_heating</th>\n",
       "      <th>energy_cooling</th>\n",
       "      <th>energy_water_heating</th>\n",
       "      <th>energy_cooking</th>\n",
       "      <th>household_total</th>\n",
       "      <th>gas</th>\n",
       "      <th>geo</th>\n",
       "    </tr>\n",
       "  </thead>\n",
       "  <tbody>\n",
       "    <tr>\n",
       "      <th>0</th>\n",
       "      <td>-0.277234</td>\n",
       "      <td>-0.150436</td>\n",
       "      <td>-0.519111</td>\n",
       "      <td>-0.165819</td>\n",
       "      <td>-0.442083</td>\n",
       "      <td>-0.193489</td>\n",
       "      <td>-0.208284</td>\n",
       "      <td>AT</td>\n",
       "    </tr>\n",
       "    <tr>\n",
       "      <th>1</th>\n",
       "      <td>-0.291775</td>\n",
       "      <td>-0.137877</td>\n",
       "      <td>-0.515819</td>\n",
       "      <td>-0.159561</td>\n",
       "      <td>-0.438278</td>\n",
       "      <td>-0.183995</td>\n",
       "      <td>-0.22177</td>\n",
       "      <td>AT</td>\n",
       "    </tr>\n",
       "    <tr>\n",
       "      <th>2</th>\n",
       "      <td>-0.290107</td>\n",
       "      <td>-0.110884</td>\n",
       "      <td>-0.51697</td>\n",
       "      <td>-0.163316</td>\n",
       "      <td>-0.429072</td>\n",
       "      <td>-0.166262</td>\n",
       "      <td>-0.230772</td>\n",
       "      <td>AT</td>\n",
       "    </tr>\n",
       "    <tr>\n",
       "      <th>3</th>\n",
       "      <td>-0.308642</td>\n",
       "      <td>-0.183169</td>\n",
       "      <td>-0.518198</td>\n",
       "      <td>-0.151277</td>\n",
       "      <td>-0.434749</td>\n",
       "      <td>-0.216883</td>\n",
       "      <td>-0.239653</td>\n",
       "      <td>AT</td>\n",
       "    </tr>\n",
       "    <tr>\n",
       "      <th>4</th>\n",
       "      <td>-0.296424</td>\n",
       "      <td>-0.141983</td>\n",
       "      <td>-0.518897</td>\n",
       "      <td>-0.156206</td>\n",
       "      <td>-0.433986</td>\n",
       "      <td>-0.187107</td>\n",
       "      <td>-0.235084</td>\n",
       "      <td>AT</td>\n",
       "    </tr>\n",
       "  </tbody>\n",
       "</table>\n",
       "</div>"
      ],
      "text/plain": [
       "     carbon energy_heating energy_cooling energy_water_heating energy_cooking  \\\n",
       "0 -0.277234      -0.150436      -0.519111            -0.165819      -0.442083   \n",
       "1 -0.291775      -0.137877      -0.515819            -0.159561      -0.438278   \n",
       "2 -0.290107      -0.110884       -0.51697            -0.163316      -0.429072   \n",
       "3 -0.308642      -0.183169      -0.518198            -0.151277      -0.434749   \n",
       "4 -0.296424      -0.141983      -0.518897            -0.156206      -0.433986   \n",
       "\n",
       "  household_total       gas geo  \n",
       "0       -0.193489 -0.208284  AT  \n",
       "1       -0.183995  -0.22177  AT  \n",
       "2       -0.166262 -0.230772  AT  \n",
       "3       -0.216883 -0.239653  AT  \n",
       "4       -0.187107 -0.235084  AT  "
      ]
     },
     "execution_count": 27,
     "metadata": {},
     "output_type": "execute_result"
    }
   ],
   "source": [
    "df_merged_s = pd.DataFrame()\n",
    "for feat in res_carbon_df.columns:\n",
    "\tif feat == \"geo\": continue\n",
    "\tdf_merged_s[f'{feat}'] = ((res_carbon_df[feat] - res_carbon_df[feat].mean()) / res_carbon_df[feat].std())\n",
    "df_merged_s[\"geo\"] = res_carbon_df[\"geo\"]\n",
    "# df_merged_s[\"year\"] = res_carbon_df[\"year\"]\n",
    "df_merged_s.head()"
   ]
  },
  {
   "cell_type": "markdown",
   "metadata": {},
   "source": [
    "## Dummies"
   ]
  },
  {
   "cell_type": "code",
   "execution_count": 29,
   "metadata": {},
   "outputs": [
    {
     "name": "stdout",
     "output_type": "stream",
     "text": [
      "(336, 35)\n"
     ]
    },
    {
     "data": {
      "text/html": [
       "<div>\n",
       "<style scoped>\n",
       "    .dataframe tbody tr th:only-of-type {\n",
       "        vertical-align: middle;\n",
       "    }\n",
       "\n",
       "    .dataframe tbody tr th {\n",
       "        vertical-align: top;\n",
       "    }\n",
       "\n",
       "    .dataframe thead th {\n",
       "        text-align: right;\n",
       "    }\n",
       "</style>\n",
       "<table border=\"1\" class=\"dataframe\">\n",
       "  <thead>\n",
       "    <tr style=\"text-align: right;\">\n",
       "      <th></th>\n",
       "      <th>carbon</th>\n",
       "      <th>energy_heating</th>\n",
       "      <th>energy_cooling</th>\n",
       "      <th>energy_water_heating</th>\n",
       "      <th>energy_cooking</th>\n",
       "      <th>household_total</th>\n",
       "      <th>gas</th>\n",
       "      <th>geo_AT</th>\n",
       "      <th>geo_BE</th>\n",
       "      <th>geo_BG</th>\n",
       "      <th>...</th>\n",
       "      <th>geo_LV</th>\n",
       "      <th>geo_MT</th>\n",
       "      <th>geo_NL</th>\n",
       "      <th>geo_NO</th>\n",
       "      <th>geo_PL</th>\n",
       "      <th>geo_PT</th>\n",
       "      <th>geo_RO</th>\n",
       "      <th>geo_SE</th>\n",
       "      <th>geo_SI</th>\n",
       "      <th>geo_SK</th>\n",
       "    </tr>\n",
       "  </thead>\n",
       "  <tbody>\n",
       "    <tr>\n",
       "      <th>0</th>\n",
       "      <td>-0.277234</td>\n",
       "      <td>-0.150436</td>\n",
       "      <td>-0.519111</td>\n",
       "      <td>-0.165819</td>\n",
       "      <td>-0.442083</td>\n",
       "      <td>-0.193489</td>\n",
       "      <td>-0.208284</td>\n",
       "      <td>1</td>\n",
       "      <td>0</td>\n",
       "      <td>0</td>\n",
       "      <td>...</td>\n",
       "      <td>0</td>\n",
       "      <td>0</td>\n",
       "      <td>0</td>\n",
       "      <td>0</td>\n",
       "      <td>0</td>\n",
       "      <td>0</td>\n",
       "      <td>0</td>\n",
       "      <td>0</td>\n",
       "      <td>0</td>\n",
       "      <td>0</td>\n",
       "    </tr>\n",
       "    <tr>\n",
       "      <th>1</th>\n",
       "      <td>-0.291775</td>\n",
       "      <td>-0.137877</td>\n",
       "      <td>-0.515819</td>\n",
       "      <td>-0.159561</td>\n",
       "      <td>-0.438278</td>\n",
       "      <td>-0.183995</td>\n",
       "      <td>-0.22177</td>\n",
       "      <td>1</td>\n",
       "      <td>0</td>\n",
       "      <td>0</td>\n",
       "      <td>...</td>\n",
       "      <td>0</td>\n",
       "      <td>0</td>\n",
       "      <td>0</td>\n",
       "      <td>0</td>\n",
       "      <td>0</td>\n",
       "      <td>0</td>\n",
       "      <td>0</td>\n",
       "      <td>0</td>\n",
       "      <td>0</td>\n",
       "      <td>0</td>\n",
       "    </tr>\n",
       "    <tr>\n",
       "      <th>2</th>\n",
       "      <td>-0.290107</td>\n",
       "      <td>-0.110884</td>\n",
       "      <td>-0.51697</td>\n",
       "      <td>-0.163316</td>\n",
       "      <td>-0.429072</td>\n",
       "      <td>-0.166262</td>\n",
       "      <td>-0.230772</td>\n",
       "      <td>1</td>\n",
       "      <td>0</td>\n",
       "      <td>0</td>\n",
       "      <td>...</td>\n",
       "      <td>0</td>\n",
       "      <td>0</td>\n",
       "      <td>0</td>\n",
       "      <td>0</td>\n",
       "      <td>0</td>\n",
       "      <td>0</td>\n",
       "      <td>0</td>\n",
       "      <td>0</td>\n",
       "      <td>0</td>\n",
       "      <td>0</td>\n",
       "    </tr>\n",
       "    <tr>\n",
       "      <th>3</th>\n",
       "      <td>-0.308642</td>\n",
       "      <td>-0.183169</td>\n",
       "      <td>-0.518198</td>\n",
       "      <td>-0.151277</td>\n",
       "      <td>-0.434749</td>\n",
       "      <td>-0.216883</td>\n",
       "      <td>-0.239653</td>\n",
       "      <td>1</td>\n",
       "      <td>0</td>\n",
       "      <td>0</td>\n",
       "      <td>...</td>\n",
       "      <td>0</td>\n",
       "      <td>0</td>\n",
       "      <td>0</td>\n",
       "      <td>0</td>\n",
       "      <td>0</td>\n",
       "      <td>0</td>\n",
       "      <td>0</td>\n",
       "      <td>0</td>\n",
       "      <td>0</td>\n",
       "      <td>0</td>\n",
       "    </tr>\n",
       "    <tr>\n",
       "      <th>4</th>\n",
       "      <td>-0.296424</td>\n",
       "      <td>-0.141983</td>\n",
       "      <td>-0.518897</td>\n",
       "      <td>-0.156206</td>\n",
       "      <td>-0.433986</td>\n",
       "      <td>-0.187107</td>\n",
       "      <td>-0.235084</td>\n",
       "      <td>1</td>\n",
       "      <td>0</td>\n",
       "      <td>0</td>\n",
       "      <td>...</td>\n",
       "      <td>0</td>\n",
       "      <td>0</td>\n",
       "      <td>0</td>\n",
       "      <td>0</td>\n",
       "      <td>0</td>\n",
       "      <td>0</td>\n",
       "      <td>0</td>\n",
       "      <td>0</td>\n",
       "      <td>0</td>\n",
       "      <td>0</td>\n",
       "    </tr>\n",
       "  </tbody>\n",
       "</table>\n",
       "<p>5 rows × 35 columns</p>\n",
       "</div>"
      ],
      "text/plain": [
       "     carbon energy_heating energy_cooling energy_water_heating energy_cooking  \\\n",
       "0 -0.277234      -0.150436      -0.519111            -0.165819      -0.442083   \n",
       "1 -0.291775      -0.137877      -0.515819            -0.159561      -0.438278   \n",
       "2 -0.290107      -0.110884       -0.51697            -0.163316      -0.429072   \n",
       "3 -0.308642      -0.183169      -0.518198            -0.151277      -0.434749   \n",
       "4 -0.296424      -0.141983      -0.518897            -0.156206      -0.433986   \n",
       "\n",
       "  household_total       gas  geo_AT  geo_BE  geo_BG  ...  geo_LV  geo_MT  \\\n",
       "0       -0.193489 -0.208284       1       0       0  ...       0       0   \n",
       "1       -0.183995  -0.22177       1       0       0  ...       0       0   \n",
       "2       -0.166262 -0.230772       1       0       0  ...       0       0   \n",
       "3       -0.216883 -0.239653       1       0       0  ...       0       0   \n",
       "4       -0.187107 -0.235084       1       0       0  ...       0       0   \n",
       "\n",
       "   geo_NL  geo_NO  geo_PL  geo_PT  geo_RO  geo_SE  geo_SI  geo_SK  \n",
       "0       0       0       0       0       0       0       0       0  \n",
       "1       0       0       0       0       0       0       0       0  \n",
       "2       0       0       0       0       0       0       0       0  \n",
       "3       0       0       0       0       0       0       0       0  \n",
       "4       0       0       0       0       0       0       0       0  \n",
       "\n",
       "[5 rows x 35 columns]"
      ]
     },
     "execution_count": 29,
     "metadata": {},
     "output_type": "execute_result"
    }
   ],
   "source": [
    "df_dummies = pd.get_dummies(df_merged_s, dtype=int, columns=[\"geo\"])\n",
    "print(df_dummies.shape)\n",
    "df_dummies.head()"
   ]
  },
  {
   "cell_type": "code",
   "execution_count": 30,
   "metadata": {},
   "outputs": [
    {
     "name": "stderr",
     "output_type": "stream",
     "text": [
      "/var/folders/jk/vqmr1l1d1dnflmyh1qdjmhk40000gn/T/ipykernel_97545/3693932479.py:1: FutureWarning: Downcasting object dtype arrays on .fillna, .ffill, .bfill is deprecated and will change in a future version. Call result.infer_objects(copy=False) instead. To opt-in to the future behavior, set `pd.set_option('future.no_silent_downcasting', True)`\n",
      "  df_dummies = df_dummies.fillna(0)\n"
     ]
    }
   ],
   "source": [
    "df_dummies = df_dummies.fillna(0)"
   ]
  },
  {
   "cell_type": "code",
   "execution_count": 31,
   "metadata": {},
   "outputs": [],
   "source": [
    "df_dummies.drop([\"energy_cooling\", \"energy_heating\", \"energy_water_heating\", \"energy_cooking\"], axis=1, inplace=True)"
   ]
  },
  {
   "cell_type": "markdown",
   "metadata": {},
   "source": [
    "## Linear Regression"
   ]
  },
  {
   "cell_type": "code",
   "execution_count": 43,
   "metadata": {},
   "outputs": [
    {
     "data": {
      "text/plain": [
       "array([[ 1.        , -0.15506195, -0.21718148,  0.        ,  0.        ,\n",
       "         0.        ,  0.        ,  1.        ,  0.        ,  0.        ,\n",
       "         0.        ,  0.        ,  0.        ,  0.        ,  0.        ,\n",
       "         0.        ,  0.        ,  0.        ,  0.        ,  0.        ,\n",
       "         0.        ,  0.        ,  0.        ,  0.        ,  0.        ,\n",
       "         0.        ,  0.        ,  0.        ,  0.        ,  0.        ,\n",
       "         0.        ],\n",
       "       [ 1.        , -0.14198966, -0.25949037,  0.        ,  0.        ,\n",
       "         0.        ,  0.        ,  1.        ,  0.        ,  0.        ,\n",
       "         0.        ,  0.        ,  0.        ,  0.        ,  0.        ,\n",
       "         0.        ,  0.        ,  0.        ,  0.        ,  0.        ,\n",
       "         0.        ,  0.        ,  0.        ,  0.        ,  0.        ,\n",
       "         0.        ,  0.        ,  0.        ,  0.        ,  0.        ,\n",
       "         0.        ]])"
      ]
     },
     "execution_count": 43,
     "metadata": {},
     "output_type": "execute_result"
    }
   ],
   "source": [
    "X = np.pad(df_dummies.iloc[:, 1:].to_numpy(), ((0,0), (1,0)), mode=\"constant\", constant_values=1)\n",
    "y = np.array(df_dummies[\"carbon\"])\n",
    "X[56:58,]"
   ]
  },
  {
   "cell_type": "code",
   "execution_count": 44,
   "metadata": {},
   "outputs": [
    {
     "data": {
      "text/plain": [
       "array([  4.88508124,  11.90934986,   4.345609  ,  -4.94743023,\n",
       "        -3.93159802,  -0.56534299,   1.50409325,  -3.03722218,\n",
       "       -66.98241677,  -3.2859403 ,   2.73019393,  -1.59730943,\n",
       "       -14.18092016,  -5.02689332, -38.15626913,  -0.97102755,\n",
       "        -4.95647721,   1.94370399, -34.24900068,   1.07903285,\n",
       "         0.81998587,   2.20177111,   4.81320064, -10.74424902,\n",
       "        -2.00751748, -17.99937653,   1.31870399,  -3.93838325,\n",
       "        -6.4031752 ,   2.67108654,   1.30513352])"
      ]
     },
     "execution_count": 44,
     "metadata": {},
     "output_type": "execute_result"
    }
   ],
   "source": [
    "m = np.matmul(np.linalg.inv(np.matmul(X.T, X)), np.matmul(X.T, y))\n",
    "np.set_printoptions(suppress=True) #this just prevents python from printing it out in inconvenient scientific notation\n",
    "m"
   ]
  },
  {
   "cell_type": "code",
   "execution_count": 45,
   "metadata": {},
   "outputs": [
    {
     "name": "stdout",
     "output_type": "stream",
     "text": [
      "[2.99456721 2.92556497 2.75515702 3.37808212 3.01583775]\n"
     ]
    },
    {
     "data": {
      "text/plain": [
       "789.7"
      ]
     },
     "execution_count": 45,
     "metadata": {},
     "output_type": "execute_result"
    }
   ],
   "source": [
    "# get the residuals\n",
    "res = y - np.matmul(X, m)\n",
    "print(res[0:5])\n",
    "round(sum(res), 1)"
   ]
  },
  {
   "cell_type": "code",
   "execution_count": 65,
   "metadata": {},
   "outputs": [
    {
     "data": {
      "image/png": "[encoded data removed]",
      "text/plain": [
       "<Figure size 640x480 with 1 Axes>"
      ]
     },
     "metadata": {},
     "output_type": "display_data"
    }
   ],
   "source": [
    "# x values versus residuals\n",
    "plt.scatter(X[:, 1:2], res, alpha=0.5)\n",
    "plt.xlabel(\"Household Energy\")\n",
    "plt.ylabel(\"Residuals\")\n",
    "plt.title(\"Residual Plot vs. Energy Values\")\n",
    "plt.show()"
   ]
  },
  {
   "cell_type": "code",
   "execution_count": 66,
   "metadata": {},
   "outputs": [
    {
     "data": {
      "image/png": "[encoded data removed]",
      "text/plain": [
       "<Figure size 640x480 with 1 Axes>"
      ]
     },
     "metadata": {},
     "output_type": "display_data"
    }
   ],
   "source": [
    "# x values versus residuals\n",
    "plt.scatter(X[:, 2:3], res, alpha=0.5)\n",
    "plt.xlabel(\"Gasoline Consumption\")\n",
    "plt.ylabel(\"Residuals\")\n",
    "plt.title(\"Residual Plot vs. Gasonline\")\n",
    "plt.show()"
   ]
  },
  {
   "cell_type": "code",
   "execution_count": 48,
   "metadata": {},
   "outputs": [
    {
     "data": {
      "image/png": "[encoded data removed]",
      "text/plain": [
       "<Figure size 640x480 with 1 Axes>"
      ]
     },
     "metadata": {},
     "output_type": "display_data"
    }
   ],
   "source": [
    "# residuals versus order\n",
    "plt.scatter(range(len(X[:,1:2])), res, alpha=0.5)\n",
    "plt.xlabel(\"Index\")\n",
    "plt.ylabel(\"Residuals\")\n",
    "plt.title(\"Residual Plot vs. Order\")\n",
    "plt.show()"
   ]
  },
  {
   "cell_type": "code",
   "execution_count": 49,
   "metadata": {},
   "outputs": [
    {
     "data": {
      "application/vnd.plotly.v1+json": {
       "config": {
        "plotlyServerURL": "https://plot.ly"
       },
       "data": [
        {
         "hovertemplate": "geo=AT<br>household_total=%{x}<br>carbon=%{y}<br>gas=%{z}<extra></extra>",
         "legendgroup": "AT",
         "marker": {
          "color": "#636efa",
          "symbol": "circle"
         },
         "mode": "markers",
         "name": "AT",
         "scene": "scene",
         "showlegend": true,
         "type": "scatter3d",
         "x": [
          -0.1934894003478778,
          -0.1839954224540129,
          -0.16626176569866338,
          -0.21688321456669657,
          -0.18710743553450873,
          -0.16546114497375647,
          -0.16269920965479664,
          -0.1950022174777777,
          -0.1835491119331727,
          -0.16271857298870504,
          -0.09930638539780132,
          -0.18623912111651328
         ],
         "y": [
          -0.277234018744133,
          -0.29177478262618195,
          -0.2901073095734943,
          -0.3086415562012344,
          -0.29642375370983703,
          -0.2906172543906855,
          -0.2789785260138857,
          -0.2945082315115228,
          -0.2865807337490753,
          -0.3274206486738245,
          -0.3092604649109743,
          -0.3287450585465578
         ],
         "z": [
          -0.20828364286260462,
          -0.22176981305727322,
          -0.2307722106830205,
          -0.23965262460110182,
          -0.2350843347490119,
          -0.24032237324366768,
          -0.24524935328377537,
          -0.22831104416216028,
          -0.23017449051545733,
          -0.3074392613884705,
          -0.2867029023974562,
          -0.2729114824962236
         ]
        },
        {
         "hovertemplate": "geo=BE<br>household_total=%{x}<br>carbon=%{y}<br>gas=%{z}<extra></extra>",
         "legendgroup": "BE",
         "marker": {
          "color": "#EF553B",
          "symbol": "circle"
         },
         "mode": "markers",
         "name": "BE",
         "scene": "scene",
         "showlegend": true,
         "type": "scatter3d",
         "x": [
          -0.03356971850481728,
          -0.039760144245446716,
          -0.045950569986076266,
          -0.052140995726705705,
          -0.058331421467335255,
          -0.06331003833140232,
          -0.07293353186812225,
          -0.0791001825014064,
          -0.09418391315383401,
          -0.09396666046429532,
          -0.04021001256452511,
          -0.1379475321253766
         ],
         "y": [
          -0.05559045641183317,
          -0.07163671999278103,
          -0.07229432664254888,
          -0.10074666413473658,
          -0.07708620627375727,
          -0.08533470577371326,
          -0.08568577720560927,
          -0.08009152239598367,
          -0.08555847183280695,
          -0.1415667909272685,
          -0.12239963406542592,
          -0.15284302965488766
         ],
         "z": [
          -0.3348763016165351,
          -0.343866791308915,
          -0.3444639306016797,
          -0.31906227566724127,
          -0.2962065949742307,
          -0.26481960611698285,
          -0.2646610272970172,
          -0.2147014380728297,
          -0.15749746880028073,
          -0.24771110067943392,
          -0.15235353202296723,
          -0.07866782122035297
         ]
        },
        {
         "hovertemplate": "geo=BG<br>household_total=%{x}<br>carbon=%{y}<br>gas=%{z}<extra></extra>",
         "legendgroup": "BG",
         "marker": {
          "color": "#00cc96",
          "symbol": "circle"
         },
         "mode": "markers",
         "name": "BG",
         "scene": "scene",
         "showlegend": true,
         "type": "scatter3d",
         "x": [
          -0.511141512963769,
          -0.5127910902129206,
          -0.5212573461938892,
          -0.5270307133348169,
          -0.524939453325467,
          -0.5204391374398029,
          -0.5153601030400424,
          -0.5221205196630525,
          -0.5272330092180176,
          -0.510536795937007,
          -0.5089934450164768,
          -0.5323159405839298
         ],
         "y": [
          -0.3774834348621981,
          -0.40394796922402987,
          -0.4316566242746118,
          -0.41621139291842424,
          -0.39966732606355165,
          -0.4126840421018818,
          -0.40297752408712,
          -0.42529176896362786,
          -0.4322720196867256,
          -0.4650968627390841,
          -0.43328906768332215,
          -0.41008337520034854
         ],
         "z": [
          -0.5184460980342357,
          -0.5254662604104112,
          -0.5538524500590767,
          -0.5355389198522277,
          -0.5312657143977296,
          -0.5392016258935974,
          -0.5356945942982013,
          -0.5436668104689697,
          -0.5450301236208362,
          -0.5489731017524385,
          -0.5367442350589269,
          -0.5300978656155277
         ]
        },
        {
         "hovertemplate": "geo=CY<br>household_total=%{x}<br>carbon=%{y}<br>gas=%{z}<extra></extra>",
         "legendgroup": "CY",
         "marker": {
          "color": "#ab63fa",
          "symbol": "circle"
         },
         "mode": "markers",
         "name": "CY",
         "scene": "scene",
         "showlegend": true,
         "type": "scatter3d",
         "x": [
          -0.6675310911935185,
          -0.6671897628372806,
          -0.6668484344810428,
          -0.6665071061248049,
          -0.6661657777685671,
          -0.6658244494123294,
          -0.6654831210560915,
          -0.6659525353817948,
          -0.664059585433588,
          -0.6637770943753766,
          -0.6644615568574632,
          -0.6640449078886682
         ],
         "y": [
          -0.6634900413759615,
          -0.6663977084906406,
          -0.6703284168743372,
          -0.6684009081311811,
          -0.6682900842575363,
          -0.6654111951837057,
          -0.6639139620674562,
          -0.6642375471120427,
          -0.6640326391946182,
          -0.6696028175822771,
          -0.6673704786039208,
          -0.6658821320640196
         ],
         "z": [
          -0.5640392513987804,
          -0.5680345082622396,
          -0.5751025928092839,
          -0.5775608549561521,
          -0.576331723882718,
          -0.573565888530092,
          -0.5745191040742818,
          -0.5773752654580603,
          -0.5788890251827149,
          -0.5949295923033884,
          -0.588510054468768,
          -0.5870474117263734
         ]
        },
        {
         "hovertemplate": "geo=CZ<br>household_total=%{x}<br>carbon=%{y}<br>gas=%{z}<extra></extra>",
         "legendgroup": "CZ",
         "marker": {
          "color": "#FFA15A",
          "symbol": "circle"
         },
         "mode": "markers",
         "name": "CZ",
         "scene": "scene",
         "showlegend": true,
         "type": "scatter3d",
         "x": [
          -0.19267387456289178,
          -0.18608490240928882,
          -0.1794959302556859,
          -0.17290695810208304,
          -0.17604249248067216,
          -0.15323393584525796,
          -0.14151630989603117,
          -0.14727891821882072,
          -0.1550619538869974,
          -0.14198965981300443,
          -0.09035769987700133,
          -0.1405716972691767
         ],
         "y": [
          0.013373612673918464,
          -0.007411004415582246,
          -0.03598398234831106,
          -0.047214703205216396,
          -0.03871345294075191,
          -0.030544002637381724,
          -0.025824197273648746,
          -0.03461043797495475,
          -0.06498661591424774,
          -0.12433246442116251,
          -0.09589035682500363,
          -0.10309540693002622
         ],
         "z": [
          -0.16075704773155455,
          -0.19616949894177876,
          -0.22523095554359499,
          -0.22987011212109087,
          -0.22623441675784708,
          -0.2125879251188175,
          -0.21757822051195175,
          -0.2172433461906688,
          -0.2171814830246382,
          -0.2594903702789768,
          -0.24234730279092245,
          -0.2226138241393619
         ]
        },
        {
         "hovertemplate": "geo=DE<br>household_total=%{x}<br>carbon=%{y}<br>gas=%{z}<extra></extra>",
         "legendgroup": "DE",
         "marker": {
          "color": "#19d3f3",
          "symbol": "circle"
         },
         "mode": "markers",
         "name": "DE",
         "scene": "scene",
         "showlegend": true,
         "type": "scatter3d",
         "x": [
          3.5598795528970233,
          3.8009081642500204,
          4.051972462619545,
          3.388452974786385,
          3.470935683435311,
          3.627000660342409,
          3.61682987970821,
          3.5448981479802937,
          3.6904758431437115,
          3.708311051319009,
          3.769153653052868,
          3.6565443241747833
         ],
         "y": [
          4.077388288182616,
          4.139927362568609,
          4.230269021050538,
          4.015562568213134,
          4.058970238707243,
          4.045176567232143,
          3.9824692678892326,
          3.8416882287131036,
          3.556475265799834,
          3.136956736230497,
          3.303878879722297,
          3.301081984815121
         ],
         "z": [
          4.771887392972773,
          4.434489751565525,
          4.426636324291031,
          4.45321744550364,
          4.2336880138156125,
          4.237207534219175,
          4.3093600259913885,
          4.084690433212238,
          4.134551854595494,
          3.6494296197055838,
          3.614819937466762,
          3.774963053264615
         ]
        },
        {
         "hovertemplate": "geo=DK<br>household_total=%{x}<br>carbon=%{y}<br>gas=%{z}<extra></extra>",
         "legendgroup": "DK",
         "marker": {
          "color": "#FF6692",
          "symbol": "circle"
         },
         "mode": "markers",
         "name": "DK",
         "scene": "scene",
         "showlegend": true,
         "type": "scatter3d",
         "x": [
          -0.33156455501116705,
          -0.33503436580367835,
          -0.33850417659618964,
          -0.34197398738870094,
          -0.35776407903528057,
          -0.34151799707905706,
          -0.3462890297087289,
          -0.3566088887921331,
          -0.3579839683878182,
          -0.3665451406099774,
          -0.3483563276377018,
          -0.38563965638932174
         ],
         "y": [
          -0.395191023224988,
          -0.4186971026549879,
          -0.40998128290462715,
          -0.4306668560007586,
          -0.4450616630329023,
          -0.4337064784409805,
          -0.4452780924998946,
          -0.44547349384727214,
          -0.4653469268642315,
          -0.4902740835178223,
          -0.4836645890265547,
          -0.486752932638267
         ],
         "z": [
          -0.23479709216119848,
          -0.28098070475832626,
          -0.2943498286811154,
          -0.2986035748298667,
          -0.27885383168395067,
          -0.28219618527399776,
          -0.30124800734962504,
          -0.30003310770875197,
          -0.2996813880183152,
          -0.34093976319973057,
          -0.33203437166531763,
          -0.33425069945864827
         ]
        },
        {
         "hovertemplate": "geo=EE<br>household_total=%{x}<br>carbon=%{y}<br>gas=%{z}<extra></extra>",
         "legendgroup": "EE",
         "marker": {
          "color": "#B6E880",
          "symbol": "circle"
         },
         "mode": "markers",
         "name": "EE",
         "scene": "scene",
         "showlegend": true,
         "type": "scatter3d",
         "x": [
          -0.6207305788308869,
          -0.6179325770811249,
          -0.6208181200319008,
          -0.6239415810171508,
          -0.6258677467536323,
          -0.6204198134607911,
          -0.6198740224066226,
          -0.619960568058815,
          -0.6179787186836067,
          -0.6197918216268823,
          -0.6181692293722888,
          -0.6182084021330201
         ],
         "y": [
          -0.6058538771593884,
          -0.6113743010527256,
          -0.6018628227223505,
          -0.6061920837220361,
          -0.6220050746738435,
          -0.6137029457189488,
          -0.6071420690668886,
          -0.6111795196990468,
          -0.6392881740175814,
          -0.6563587188549441,
          -0.6496776667576168,
          -0.6423622577742234
         ],
         "z": [
          -0.604520125662525,
          -0.6078775819973307,
          -0.6124560371583928,
          -0.6121507874518287,
          -0.6124560371583928,
          -0.608488081410459,
          -0.6048253753690891,
          -0.6032991268362687,
          -0.6029938771297045,
          -0.6200866989476965,
          -0.6243599044021945,
          -0.6210024480673887
         ]
        },
        {
         "hovertemplate": "geo=EL<br>household_total=%{x}<br>carbon=%{y}<br>gas=%{z}<extra></extra>",
         "legendgroup": "EL",
         "marker": {
          "color": "#FF97FF",
          "symbol": "circle"
         },
         "mode": "markers",
         "name": "EL",
         "scene": "scene",
         "showlegend": true,
         "type": "scatter3d",
         "x": [
          -0.39140131631132086,
          -0.389231349361013,
          -0.4092484021638149,
          -0.3848914154603972,
          -0.361155268304688,
          -0.36944729054819786,
          -0.35987443762420745,
          -0.39853237449119633,
          -0.3823046766405322,
          -0.3687989597788032,
          -0.3722149743002434,
          -0.366497512031114
         ],
         "y": [
          -0.10065134010355953,
          -0.1190465531443633,
          -0.1685081521095519,
          -0.18427128523475436,
          -0.2040339460442104,
          -0.22192355422371413,
          -0.20019251675312852,
          -0.214702022619534,
          -0.24866424411218085,
          -0.3165351093086774,
          -0.2992509249759666,
          -0.2904236613582624
         ],
         "z": [
          0.3334425176330974,
          0.19914281205387246,
          0.12375165284312849,
          0.08529309419004584,
          0.06514806574381232,
          0.054465197326266944,
          0.02943646401240726,
          0.015523060403508569,
          -0.001131491379083485,
          -0.13617355495067557,
          -0.09833798451888695,
          -0.059865484870642555
         ]
        },
        {
         "hovertemplate": "geo=ES<br>household_total=%{x}<br>carbon=%{y}<br>gas=%{z}<extra></extra>",
         "legendgroup": "ES",
         "marker": {
          "color": "#FECB52",
          "symbol": "circle"
         },
         "mode": "markers",
         "name": "ES",
         "scene": "scene",
         "showlegend": true,
         "type": "scatter3d",
         "x": [
          0.49556181469073624,
          0.48770953307119946,
          0.4389329685465241,
          0.43121800556907475,
          0.46785330457334817,
          0.3966264613055244,
          0.4012066713441513,
          0.4609433108200296,
          0.4055034727513359,
          0.4138957444037665,
          0.42789072545652573,
          0.392727585658425
         ],
         "y": [
          1.1867851050747313,
          1.1477217304275018,
          1.0084535275423727,
          1.0189888221338887,
          1.079434384463895,
          1.0263238642510746,
          1.100214299934514,
          1.0748136230935312,
          0.9800265064595491,
          0.7153551747720265,
          0.8182480890229776,
          0.8826212081020454
         ],
         "z": [
          0.8360563448901073,
          0.6842461685128342,
          0.652593429435314,
          0.6341550111468067,
          0.6421449439989266,
          0.702070021264624,
          0.7315717809636346,
          0.7908822926926147,
          0.8876842065353262,
          0.5607083303237379,
          0.8498181401766209,
          1.0085250430354076
         ]
        },
        {
         "hovertemplate": "geo=FI<br>household_total=%{x}<br>carbon=%{y}<br>gas=%{z}<extra></extra>",
         "legendgroup": "FI",
         "marker": {
          "color": "#636efa",
          "symbol": "circle"
         },
         "mode": "markers",
         "name": "FI",
         "scene": "scene",
         "showlegend": true,
         "type": "scatter3d",
         "x": [
          -0.31458094449181395,
          -0.30877346957107366,
          -0.3029659946503334,
          -0.2971585197295931,
          -0.3153739311861906,
          -0.28570598151569915,
          -0.25381739219694033,
          -0.25811556452381346,
          -0.2636188078979002,
          -0.2897755584246578,
          -0.23880049206594556,
          -0.26299133287895327
         ],
         "y": [
          -0.3552715922782609,
          -0.38426797424106884,
          -0.3815285837494486,
          -0.4032978541647882,
          -0.4211611642782381,
          -0.40641688746458676,
          -0.420244090265559,
          -0.41392278951190964,
          -0.4299424450299545,
          -0.4646091343627636,
          -0.46510223601780626,
          -0.4707446436713653
         ],
         "z": [
          -0.27250254663814344,
          -0.2886102047980332,
          -0.27982941090787905,
          -0.29488249087125673,
          -0.29698990463988567,
          -0.29849524167996333,
          -0.3135486120807402,
          -0.31896759307510053,
          -0.32709635500404016,
          -0.35479449845398986,
          -0.35238590110238566,
          -0.3755680334321022
         ]
        },
        {
         "hovertemplate": "geo=FR<br>household_total=%{x}<br>carbon=%{y}<br>gas=%{z}<extra></extra>",
         "legendgroup": "FR",
         "marker": {
          "color": "#EF553B",
          "symbol": "circle"
         },
         "mode": "markers",
         "name": "FR",
         "scene": "scene",
         "showlegend": true,
         "type": "scatter3d",
         "x": [
          2.3278174326560643,
          2.629229804725984,
          2.8035589426000413,
          2.184758766152709,
          2.357892006898474,
          2.5054299123039736,
          2.454306920809446,
          2.3609660241056427,
          2.3503576553364525,
          2.2769982739575974,
          2.5111570326660413,
          2.1310355516475132
         ],
         "y": [
          1.8598255679815,
          1.8655914577133859,
          1.8624284565271205,
          1.6957700686879815,
          1.719757883221881,
          1.728463576408496,
          1.7432436578582482,
          1.6478546823412403,
          1.6004539940967146,
          1.3395995502830327,
          1.458067067908636,
          1.4015890002551168
         ],
         "z": [
          1.435284463429942,
          1.3103072174903883,
          1.2437828216399627,
          1.2544775979908755,
          1.2774291230256234,
          1.32287182981738,
          1.390051452440411,
          1.4548503597021616,
          1.6001184336623502,
          1.268679405937184,
          1.6159455292946083,
          1.8915270555299382
         ]
        },
        {
         "hovertemplate": "geo=HR<br>household_total=%{x}<br>carbon=%{y}<br>gas=%{z}<extra></extra>",
         "legendgroup": "HR",
         "marker": {
          "color": "#00cc96",
          "symbol": "circle"
         },
         "mode": "markers",
         "name": "HR",
         "scene": "scene",
         "showlegend": true,
         "type": "scatter3d",
         "x": [
          -0.4922723285078426,
          -0.49853055512561584,
          -0.5033488536569848,
          -0.5230717710954359,
          -0.5079327539357786,
          -0.5093272422000179,
          -0.5105007349463624,
          -0.5174701352195197,
          -0.5220256505698936,
          -0.5191872629042791,
          -0.5066065233276215,
          -0.5178358588740095
         ],
         "y": [
          -0.5622172223258881,
          -0.570650066618928,
          -0.5764875139568737,
          -0.5799830384302155,
          -0.5775062669361417,
          -0.5763293122314188,
          -0.5714562134256791,
          -0.5765977178368198,
          -0.5761982868964243,
          -0.5838955603320831,
          -0.5811004737398618,
          -0.5796755215556539
         ],
         "z": [
          -0.49007791550432095,
          -0.5036793893464738,
          -0.5076975907644701,
          -0.521299064606623,
          -0.5216083804367759,
          -0.5206807233837163,
          -0.5271473120770077,
          -0.5315564422343335,
          -0.538526939815245,
          -0.562924552660633,
          -0.5485839156375044,
          -0.5387976274713038
         ]
        },
        {
         "hovertemplate": "geo=HU<br>household_total=%{x}<br>carbon=%{y}<br>gas=%{z}<extra></extra>",
         "legendgroup": "HU",
         "marker": {
          "color": "#ab63fa",
          "symbol": "circle"
         },
         "mode": "markers",
         "name": "HU",
         "scene": "scene",
         "showlegend": true,
         "type": "scatter3d",
         "x": [
          -0.22838617034686343,
          -0.2292818848088931,
          -0.23017759927092285,
          -0.23107331373295256,
          -0.23881015741242725,
          -0.2239845350323213,
          -0.21353667811000318,
          -0.24967364962086058,
          -0.2604000589273643,
          -0.23734790110628026,
          -0.20744051922414553,
          -0.2496387310632899
         ],
         "y": [
          -0.37660557545096257,
          -0.3948159787034084,
          -0.41034728585143393,
          -0.40840453559651785,
          -0.39176560970574226,
          -0.3888594409091684,
          -0.37617586815161314,
          -0.3755784008906204,
          -0.3768882925775755,
          -0.3898741122632531,
          -0.38404580983236347,
          -0.40363027411958124
         ],
         "z": [
          -0.3206588100506692,
          -0.32401655682287417,
          -0.3432458361494154,
          -0.3212693094637974,
          -0.30967069192655977,
          -0.30295577925694833,
          -0.2937988689348242,
          -0.2767063375542315,
          -0.24465744186419627,
          -0.3023452798438202,
          -0.27914804476934496,
          -0.2547298108686134
         ]
        },
        {
         "hovertemplate": "geo=IE<br>household_total=%{x}<br>carbon=%{y}<br>gas=%{z}<extra></extra>",
         "legendgroup": "IE",
         "marker": {
          "color": "#FFA15A",
          "symbol": "circle"
         },
         "mode": "markers",
         "name": "IE",
         "scene": "scene",
         "showlegend": true,
         "type": "scatter3d",
         "x": [
          -0.47538980362733374,
          -0.47431047780524865,
          -0.4732311519831637,
          -0.4721518261610786,
          -0.47945638553530057,
          -0.46782159867762674,
          -0.4744931122468634,
          -0.4604252385238368,
          -0.4657752671156372,
          -0.44816866523856935,
          -0.45863382548849135,
          -0.4835847868672461
         ],
         "y": [
          -0.4019000783710405,
          -0.39801013457303436,
          -0.3977674070399883,
          -0.3991820776620259,
          -0.38476303920949084,
          -0.37266117553975275,
          -0.37326980268732235,
          -0.3704248582684963,
          -0.3835671230308158,
          -0.40569273482449036,
          -0.38943040343954116,
          -0.38648527837223146
         ],
         "z": [
          -0.2882884001597144,
          -0.3105588494933276,
          -0.33839698376969385,
          -0.3405621945807645,
          -0.3866499628361547,
          -0.3912894098510498,
          -0.4199323461606121,
          -0.4431554301636165,
          -0.4557604132890982,
          -0.5145760196898338,
          -0.504613436022316,
          -0.47986090867509984
         ]
        },
        {
         "hovertemplate": "geo=IT<br>household_total=%{x}<br>carbon=%{y}<br>gas=%{z}<extra></extra>",
         "legendgroup": "IT",
         "marker": {
          "color": "#19d3f3",
          "symbol": "circle"
         },
         "mode": "markers",
         "name": "IT",
         "scene": "scene",
         "showlegend": true,
         "type": "scatter3d",
         "x": [
          1.8870362698240395,
          1.8637731623619236,
          1.840510054899808,
          1.817246947437692,
          1.7756697956355818,
          1.7521806462834455,
          1.8063544635937443,
          1.7309569852379605,
          1.6727071117911272,
          1.6360863307538207,
          1.740146798486156,
          1.5864015790834871
         ],
         "y": [
          1.9631076316106766,
          1.861232488682304,
          1.6749188539420106,
          1.5637000959771896,
          1.6209776455051987,
          1.6068659172626585,
          1.5765145907374563,
          1.5596751485512885,
          1.501039451160107,
          1.262789564272356,
          1.444946709590338,
          1.4518835090883844
         ],
         "z": [
          2.1953274794719917,
          1.8647667344420202,
          1.7570214298346774,
          1.7847971200702144,
          1.6968918846399397,
          1.5393946535488403,
          1.4763627674238504,
          1.5365747968399621,
          1.5574029340491249,
          1.0832147959270726,
          1.4566824388163448,
          1.7117640221036128
         ]
        },
        {
         "hovertemplate": "geo=LT<br>household_total=%{x}<br>carbon=%{y}<br>gas=%{z}<extra></extra>",
         "legendgroup": "LT",
         "marker": {
          "color": "#FF6692",
          "symbol": "circle"
         },
         "mode": "markers",
         "name": "LT",
         "scene": "scene",
         "showlegend": true,
         "type": "scatter3d",
         "x": [
          -0.5930512253153065,
          -0.5911750222961195,
          -0.5892988192769325,
          -0.5874226162577455,
          -0.5855464132385585,
          -0.5836702102193716,
          -0.5809137741742842,
          -0.5768870548260665,
          -0.5815060822018017,
          -0.582535363626513,
          -0.5676799835849127,
          -0.5730987394997257
         ],
         "y": [
          -0.6058334173673309,
          -0.6058456622428805,
          -0.6115687724095552,
          -0.6119702699956132,
          -0.6103997742906325,
          -0.609849994878299,
          -0.6090460697156351,
          -0.6103753878718166,
          -0.6092990788108514,
          -0.6109166423707927,
          -0.6099359156717123,
          -0.6158878035132122
         ],
         "z": [
          -0.6074724218254403,
          -0.6152401700671686,
          -0.6214543686605511,
          -0.6226971502917479,
          -0.6243070447955392,
          -0.6197245235108884,
          -0.6207111393559865,
          -0.6148826416287476,
          -0.611925698467445,
          -0.6135431443436158,
          -0.6134214510733491,
          -0.6061939163941413
         ]
        },
        {
         "hovertemplate": "geo=LU<br>household_total=%{x}<br>carbon=%{y}<br>gas=%{z}<extra></extra>",
         "legendgroup": "LU",
         "marker": {
          "color": "#B6E880",
          "symbol": "circle"
         },
         "mode": "markers",
         "name": "LU",
         "scene": "scene",
         "showlegend": true,
         "type": "scatter3d",
         "x": [
          -0.6552064000642164,
          -0.6542170856632304,
          -0.6536189766144382,
          -0.6559077506085513,
          -0.6527988529249139,
          -0.6515656399429818,
          -0.6507680874669017,
          -0.6534321090178916,
          -0.6562798755150264,
          -0.6536053326994423,
          -0.6549479726359885,
          -0.6566653813955518
         ],
         "y": [
          -0.6468576254190225,
          -0.648555013167673,
          -0.6512269793445581,
          -0.6533041132336701,
          -0.6549221417888854,
          -0.6553462691449464,
          -0.6533774274885429,
          -0.6511960829919056,
          -0.6505343430508129,
          -0.6601310705147612,
          -0.6571426492208248,
          -0.6629242971258862
         ],
         "z": [
          -0.5752222530177562,
          -0.5780133564241129,
          -0.5873244890052146,
          -0.591172494107277,
          -0.5973349948436012,
          -0.5997311033870395,
          -0.595041120264683,
          -0.5870082026774808,
          -0.5827826289564524,
          -0.6063237419115859,
          -0.5902529693013951,
          -0.5887859699980125
         ]
        },
        {
         "hovertemplate": "geo=LV<br>household_total=%{x}<br>carbon=%{y}<br>gas=%{z}<extra></extra>",
         "legendgroup": "LV",
         "marker": {
          "color": "#FF97FF",
          "symbol": "circle"
         },
         "mode": "markers",
         "name": "LV",
         "scene": "scene",
         "showlegend": true,
         "type": "scatter3d",
         "x": [
          -0.5909110990135465,
          -0.5871492573069592,
          -0.5954755724899279,
          -0.5976710749837996,
          -0.6076775048333216,
          -0.6047870711809583,
          -0.6007774357406587,
          -0.5981575320535626,
          -0.601450776727441,
          -0.6069717151204711,
          -0.6001664371453765,
          -0.6070609808514109
         ],
         "y": [
          -0.6561818656523863,
          -0.6570957880304303,
          -0.6574922223346156,
          -0.6581327791576688,
          -0.6579816556936076,
          -0.6577600596124594,
          -0.6573003342848639,
          -0.6545763919695701,
          -0.6552191704367103,
          -0.6601437287194433,
          -0.6585716830302157,
          -0.6607355127048644
         ],
         "z": [
          -0.6030481889233559,
          -0.6149439239199799,
          -0.621349230322039,
          -0.6225693578360978,
          -0.6228743171052628,
          -0.6243994038884862,
          -0.6266529076689151,
          -0.6289406830624502,
          -0.6316649858669897,
          -0.6336902058516437,
          -0.634188596428679,
          -0.6411657740697722
         ]
        },
        {
         "hovertemplate": "geo=MT<br>household_total=%{x}<br>carbon=%{y}<br>gas=%{z}<extra></extra>",
         "legendgroup": "MT",
         "marker": {
          "color": "#FECB52",
          "symbol": "circle"
         },
         "mode": "markers",
         "name": "MT",
         "scene": "scene",
         "showlegend": true,
         "type": "scatter3d",
         "x": [
          -0.6871718442365206,
          -0.6867584164238363,
          -0.6863449886111521,
          -0.6859315607984678,
          -0.6853927060746321,
          -0.6854853573969192,
          -0.6844873006628398,
          -0.6843401897372622,
          -0.6836952391190574,
          -0.6833607854898452,
          -0.6830901285875699,
          -0.682717378062983
         ],
         "y": [
          -0.6984135114323207,
          -0.6975506868682789,
          -0.6990195036066708,
          -0.6988679668134772,
          -0.7023786294662958,
          -0.7037885468033098,
          -0.7027047978179602,
          -0.7024582469904389,
          -0.7017152878748149,
          -0.7035554808387355,
          -0.7032108160083929,
          -0.7016612450907437
         ],
         "z": [
          -0.6608760177293964,
          -0.6611742969383796,
          -0.6608760177293964,
          -0.6608760177293964,
          -0.6596829008934637,
          -0.6596829008934637,
          -0.6594104706130097,
          -0.6592338846742933,
          -0.6578848029549877,
          -0.6617513960505992,
          -0.6600851566913621,
          -0.6578731854590195
         ]
        },
        {
         "hovertemplate": "geo=NL<br>household_total=%{x}<br>carbon=%{y}<br>gas=%{z}<extra></extra>",
         "legendgroup": "NL",
         "marker": {
          "color": "#636efa",
          "symbol": "circle"
         },
         "mode": "markers",
         "name": "NL",
         "scene": "scene",
         "showlegend": true,
         "type": "scatter3d",
         "x": [
          0.08915952942072047,
          0.1336358162775723,
          0.1750691818674929,
          0.0007793110502304061,
          0.030543587776089332,
          0.051685495948134444,
          0.03440990589397065,
          0.031926987185969216,
          0.015205032893080925,
          -0.0012400210101143208,
          0.07311352920359748,
          -0.0410170980099212
         ],
         "y": [
          0.3745225771472465,
          0.3501189535060769,
          0.3484741102233924,
          0.3079547320408776,
          0.3473224719280337,
          0.351858604158523,
          0.33967572797881973,
          0.31347267595942,
          0.28172347030818634,
          0.1688658106669597,
          0.18582093334407865,
          0.12681504804862473
         ],
         "z": [
          0.5092227830041295,
          0.45686679479910436,
          0.4280629561703827,
          0.3940530271609177,
          0.417153837018857,
          0.4527948624622552,
          0.4898029767437098,
          0.5076985675331034,
          0.5312399709256361,
          0.3297228858614835,
          0.3600160874733267,
          0.3846024846281977
         ]
        },
        {
         "hovertemplate": "geo=NO<br>household_total=%{x}<br>carbon=%{y}<br>gas=%{z}<extra></extra>",
         "legendgroup": "NO",
         "marker": {
          "color": "#EF553B",
          "symbol": "circle"
         },
         "mode": "markers",
         "name": "NO",
         "scene": "scene",
         "showlegend": true,
         "type": "scatter3d",
         "x": [
          -0.3678426217991625,
          -0.3487404462780661,
          -0.3522790166675401,
          -0.37269205797864363,
          -0.3586772529919749,
          -0.3484251329363051,
          -0.34348722891565014,
          -0.3417112604874313,
          -0.3475152647819816,
          -0.3451545972931942,
          -0.3261456370573785,
          -0.35507424575036567
         ],
         "y": [
          -0.4305433222562901,
          -0.43274621153395765,
          -0.43102572902003006,
          -0.428529996052004,
          -0.4261441569670747,
          -0.43084298587733455,
          -0.434061114836644,
          -0.4327428015686147,
          -0.4422166669479347,
          -0.4570064616322999,
          -0.4581731864409939,
          -0.4556905766729239
         ],
         "z": [
          -0.36545267969260276,
          -0.38791075158610216,
          -0.40881004595807013,
          -0.4227821179216081,
          -0.43895773843291175,
          -0.453962024913223,
          -0.4613440722888076,
          -0.47087041898272003,
          -0.4892797935313066,
          -0.5013788347073739,
          -0.5151905852265508,
          -0.5137018031182279
         ]
        },
        {
         "hovertemplate": "geo=PL<br>household_total=%{x}<br>carbon=%{y}<br>gas=%{z}<extra></extra>",
         "legendgroup": "PL",
         "marker": {
          "color": "#00cc96",
          "symbol": "circle"
         },
         "mode": "markers",
         "name": "PL",
         "scene": "scene",
         "showlegend": true,
         "type": "scatter3d",
         "x": [
          0.718608684247193,
          0.7411720300795448,
          0.7637353759118969,
          0.7862987217442486,
          0.7523560423569808,
          0.8171508622955577,
          0.8305560359798612,
          1.0198807957155664,
          0.9010788303852324,
          0.9092054029322509,
          0.988337128702425,
          0.8841051255507475
         ],
         "y": [
          1.3887109044745902,
          1.3489499335840258,
          1.3265508012369358,
          1.2621154244572892,
          1.2756032840404992,
          1.3323553372427082,
          1.4105423292582255,
          1.4133447007764068,
          1.2976420450502126,
          1.2108783702035537,
          1.35702111488615,
          1.2657147462090237
         ],
         "z": [
          0.48326755438680685,
          0.43332132528298284,
          0.38056540477925305,
          0.3444573559979337,
          0.37896306164784105,
          0.4386209365062701,
          0.5429753844778992,
          0.5917909407866194,
          0.6349833386093386,
          0.5453044019821213,
          0.675139213423373,
          0.7557448856994372
         ]
        },
        {
         "hovertemplate": "geo=PT<br>household_total=%{x}<br>carbon=%{y}<br>gas=%{z}<extra></extra>",
         "legendgroup": "PT",
         "marker": {
          "color": "#ab63fa",
          "symbol": "circle"
         },
         "mode": "markers",
         "name": "PT",
         "scene": "scene",
         "showlegend": true,
         "type": "scatter3d",
         "x": [
          -0.48061838866901685,
          -0.4868418381733142,
          -0.4914049516103219,
          -0.4806305728084184,
          -0.4825207827306338,
          -0.47737817827716555,
          -0.47872561099246413,
          -0.47229770404905497,
          -0.4719870891899832,
          -0.46269252208246126,
          -0.4619966062554631,
          -0.46632611026273224
         ],
         "y": [
          -0.35208136303539345,
          -0.3624818089974394,
          -0.37202805864108407,
          -0.37171930177912516,
          -0.34934135255007454,
          -0.3577018125787897,
          -0.32858907846519,
          -0.34605269930753646,
          -0.3629817822493096,
          -0.4093593258925353,
          -0.4140543831744614,
          -0.40234048056169275
         ],
         "z": [
          -0.30295577925694833,
          -0.33897263069491745,
          -0.3478242913104775,
          -0.3499607488190269,
          -0.3630856148890849,
          -0.3679690293193118,
          -0.3686756635115767,
          -0.3721693349866094,
          -0.36087480540633915,
          -0.4162769010542225,
          -0.3931653450125126,
          -0.36754818552786434
         ]
        },
        {
         "hovertemplate": "geo=RO<br>household_total=%{x}<br>carbon=%{y}<br>gas=%{z}<extra></extra>",
         "legendgroup": "RO",
         "marker": {
          "color": "#FFA15A",
          "symbol": "circle"
         },
         "mode": "markers",
         "name": "RO",
         "scene": "scene",
         "showlegend": true,
         "type": "scatter3d",
         "x": [
          -0.1724539021745338,
          -0.16259917355617856,
          -0.15274444493782324,
          -0.142889716319468,
          -0.1334321470034531,
          -0.12965478815430592,
          -0.10807709616617212,
          -0.1025281935502349,
          -0.10377925206213448,
          -0.08484226873674128,
          -0.02964054636157722,
          -0.09639320826033981
         ],
         "y": [
          -0.030136305114336744,
          -0.04616381388589851,
          -0.10432681774795269,
          -0.1026056119080433,
          -0.1087469078244997,
          -0.11820604835347524,
          -0.10218515284803299,
          -0.10123692415199359,
          -0.11781989561146036,
          -0.13917067028016883,
          -0.11848158388641139,
          -0.147051306852222
         ],
         "z": [
          -0.29148582548755836,
          -0.2957113992085868,
          -0.3141228068189678,
          -0.2890711289505709,
          -0.3138210423611942,
          -0.29722051193485416,
          -0.2951775752688487,
          -0.2988858799818936,
          -0.29829513031191135,
          -0.32387772774605433,
          -0.2999549800483659,
          -0.2905407421905465
         ]
        },
        {
         "hovertemplate": "geo=SE<br>household_total=%{x}<br>carbon=%{y}<br>gas=%{z}<extra></extra>",
         "legendgroup": "SE",
         "marker": {
          "color": "#19d3f3",
          "symbol": "circle"
         },
         "mode": "markers",
         "name": "SE",
         "scene": "scene",
         "showlegend": true,
         "type": "scatter3d",
         "x": [
          -0.10326854924663863,
          -0.10606354716594653,
          -0.10885854508525432,
          -0.1116535430045622,
          -0.12905015272990628,
          -0.10632364817659426,
          -0.11007257132251827,
          -0.12304204460648133,
          -0.1310387660342661,
          -0.14517842444881704,
          -0.09378188914176976,
          -0.15536077267123535
         ],
         "y": [
          -0.39448020044941395,
          -0.410036307345388,
          -0.41804419762410194,
          -0.4269596036793064,
          -0.42841343723664604,
          -0.4270319879436311,
          -0.4306334280071697,
          -0.43435416519156883,
          -0.4421411310489749,
          -0.47283123246438263,
          -0.46361595612356743,
          -0.47212464631241646
         ],
         "z": [
          0.18407404847093767,
          0.10837996305282334,
          0.06383906438559696,
          0.032977767220909594,
          0.013373823649394283,
          -0.017420672913476147,
          -0.04889072686689646,
          -0.0900311844642348,
          -0.10425709871467763,
          -0.15440576268574727,
          -0.1282765620663012,
          -0.17038417620299098
         ]
        },
        {
         "hovertemplate": "geo=SI<br>household_total=%{x}<br>carbon=%{y}<br>gas=%{z}<extra></extra>",
         "legendgroup": "SI",
         "marker": {
          "color": "#FF6692",
          "symbol": "circle"
         },
         "mode": "markers",
         "name": "SI",
         "scene": "scene",
         "showlegend": true,
         "type": "scatter3d",
         "x": [
          -0.5925093248027227,
          -0.5960982438498073,
          -0.5972315338322681,
          -0.6108679377840992,
          -0.6028795434240525,
          -0.6013742373382664,
          -0.6036156602015483,
          -0.6090652491156536,
          -0.6111237140422415,
          -0.6086613210484665,
          -0.603335243656728,
          -0.6120065736279913
         ],
         "y": [
          -0.6133690791121921,
          -0.6166336559327634,
          -0.6202122078955912,
          -0.6287961756526922,
          -0.6278127623142509,
          -0.6233097480805011,
          -0.6228481627718094,
          -0.6236429430274175,
          -0.6263213674719976,
          -0.6329029105806816,
          -0.6321557148414497,
          -0.6343458425821521
         ],
         "z": [
          -0.513225195346133,
          -0.5296514633329502,
          -0.5433397779574652,
          -0.5524653210404753,
          -0.5555073623597447,
          -0.5564199166680458,
          -0.5595307916509268,
          -0.558728022679525,
          -0.5639515393042207,
          -0.5888550940990231,
          -0.5761002452755518,
          -0.5586632551395024
         ]
        },
        {
         "hovertemplate": "geo=SK<br>household_total=%{x}<br>carbon=%{y}<br>gas=%{z}<extra></extra>",
         "legendgroup": "SK",
         "marker": {
          "color": "#B6E880",
          "symbol": "circle"
         },
         "mode": "markers",
         "name": "SK",
         "scene": "scene",
         "showlegend": true,
         "type": "scatter3d",
         "x": [
          -0.5909918560791095,
          -0.5800673348886285,
          -0.5691428136981476,
          -0.5582182925076665,
          -0.540546347603658,
          -0.5373054644456633,
          -0.5316226759270173,
          -0.5355454465592181,
          -0.49075750033305554,
          -0.483028864426437,
          -0.46616979459067415,
          -0.48748748331829245
         ],
         "y": [
          -0.48310933300321607,
          -0.49543108777143086,
          -0.49714015206807377,
          -0.5075253048522181,
          -0.5035719666985187,
          -0.5012683801109519,
          -0.49540783800772914,
          -0.49625180443010164,
          -0.5081720616122586,
          -0.522977769468224,
          -0.502105474936497,
          -0.5232267486043988
         ],
         "z": [
          -0.5168359130930451,
          -0.5212351683787979,
          -0.5189296763039115,
          -0.5221503366236918,
          -0.5148252149783514,
          -0.505386870816398,
          -0.5054231754912986,
          -0.5165585453768047,
          -0.5229586239056783,
          -0.5360704202927721,
          -0.533341180052446,
          -0.5257372385038692
         ]
        }
       ],
       "layout": {
        "legend": {
         "title": {
          "text": "geo"
         },
         "tracegroupgap": 0
        },
        "margin": {
         "t": 60
        },
        "scene": {
         "domain": {
          "x": [
           0,
           1
          ],
          "y": [
           0,
           1
          ]
         },
         "xaxis": {
          "title": {
           "text": "household_total"
          }
         },
         "yaxis": {
          "title": {
           "text": "carbon"
          }
         },
         "zaxis": {
          "title": {
           "text": "gas"
          }
         }
        },
        "template": {
         "data": {
          "bar": [
           {
            "error_x": {
             "color": "#2a3f5f"
            },
            "error_y": {
             "color": "#2a3f5f"
            },
            "marker": {
             "line": {
              "color": "#E5ECF6",
              "width": 0.5
             },
             "pattern": {
              "fillmode": "overlay",
              "size": 10,
              "solidity": 0.2
             }
            },
            "type": "bar"
           }
          ],
          "barpolar": [
           {
            "marker": {
             "line": {
              "color": "#E5ECF6",
              "width": 0.5
             },
             "pattern": {
              "fillmode": "overlay",
              "size": 10,
              "solidity": 0.2
             }
            },
            "type": "barpolar"
           }
          ],
          "carpet": [
           {
            "aaxis": {
             "endlinecolor": "#2a3f5f",
             "gridcolor": "white",
             "linecolor": "white",
             "minorgridcolor": "white",
             "startlinecolor": "#2a3f5f"
            },
            "baxis": {
             "endlinecolor": "#2a3f5f",
             "gridcolor": "white",
             "linecolor": "white",
             "minorgridcolor": "white",
             "startlinecolor": "#2a3f5f"
            },
            "type": "carpet"
           }
          ],
          "choropleth": [
           {
            "colorbar": {
             "outlinewidth": 0,
             "ticks": ""
            },
            "type": "choropleth"
           }
          ],
          "contour": [
           {
            "colorbar": {
             "outlinewidth": 0,
             "ticks": ""
            },
            "colorscale": [
             [
              0,
              "#0d0887"
             ],
             [
              0.1111111111111111,
              "#46039f"
             ],
             [
              0.2222222222222222,
              "#7201a8"
             ],
             [
              0.3333333333333333,
              "#9c179e"
             ],
             [
              0.4444444444444444,
              "#bd3786"
             ],
             [
              0.5555555555555556,
              "#d8576b"
             ],
             [
              0.6666666666666666,
              "#ed7953"
             ],
             [
              0.7777777777777778,
              "#fb9f3a"
             ],
             [
              0.8888888888888888,
              "#fdca26"
             ],
             [
              1,
              "#f0f921"
             ]
            ],
            "type": "contour"
           }
          ],
          "contourcarpet": [
           {
            "colorbar": {
             "outlinewidth": 0,
             "ticks": ""
            },
            "type": "contourcarpet"
           }
          ],
          "heatmap": [
           {
            "colorbar": {
             "outlinewidth": 0,
             "ticks": ""
            },
            "colorscale": [
             [
              0,
              "#0d0887"
             ],
             [
              0.1111111111111111,
              "#46039f"
             ],
             [
              0.2222222222222222,
              "#7201a8"
             ],
             [
              0.3333333333333333,
              "#9c179e"
             ],
             [
              0.4444444444444444,
              "#bd3786"
             ],
             [
              0.5555555555555556,
              "#d8576b"
             ],
             [
              0.6666666666666666,
              "#ed7953"
             ],
             [
              0.7777777777777778,
              "#fb9f3a"
             ],
             [
              0.8888888888888888,
              "#fdca26"
             ],
             [
              1,
              "#f0f921"
             ]
            ],
            "type": "heatmap"
           }
          ],
          "heatmapgl": [
           {
            "colorbar": {
             "outlinewidth": 0,
             "ticks": ""
            },
            "colorscale": [
             [
              0,
              "#0d0887"
             ],
             [
              0.1111111111111111,
              "#46039f"
             ],
             [
              0.2222222222222222,
              "#7201a8"
             ],
             [
              0.3333333333333333,
              "#9c179e"
             ],
             [
              0.4444444444444444,
              "#bd3786"
             ],
             [
              0.5555555555555556,
              "#d8576b"
             ],
             [
              0.6666666666666666,
              "#ed7953"
             ],
             [
              0.7777777777777778,
              "#fb9f3a"
             ],
             [
              0.8888888888888888,
              "#fdca26"
             ],
             [
              1,
              "#f0f921"
             ]
            ],
            "type": "heatmapgl"
           }
          ],
          "histogram": [
           {
            "marker": {
             "pattern": {
              "fillmode": "overlay",
              "size": 10,
              "solidity": 0.2
             }
            },
            "type": "histogram"
           }
          ],
          "histogram2d": [
           {
            "colorbar": {
             "outlinewidth": 0,
             "ticks": ""
            },
            "colorscale": [
             [
              0,
              "#0d0887"
             ],
             [
              0.1111111111111111,
              "#46039f"
             ],
             [
              0.2222222222222222,
              "#7201a8"
             ],
             [
              0.3333333333333333,
              "#9c179e"
             ],
             [
              0.4444444444444444,
              "#bd3786"
             ],
             [
              0.5555555555555556,
              "#d8576b"
             ],
             [
              0.6666666666666666,
              "#ed7953"
             ],
             [
              0.7777777777777778,
              "#fb9f3a"
             ],
             [
              0.8888888888888888,
              "#fdca26"
             ],
             [
              1,
              "#f0f921"
             ]
            ],
            "type": "histogram2d"
           }
          ],
          "histogram2dcontour": [
           {
            "colorbar": {
             "outlinewidth": 0,
             "ticks": ""
            },
            "colorscale": [
             [
              0,
              "#0d0887"
             ],
             [
              0.1111111111111111,
              "#46039f"
             ],
             [
              0.2222222222222222,
              "#7201a8"
             ],
             [
              0.3333333333333333,
              "#9c179e"
             ],
             [
              0.4444444444444444,
              "#bd3786"
             ],
             [
              0.5555555555555556,
              "#d8576b"
             ],
             [
              0.6666666666666666,
              "#ed7953"
             ],
             [
              0.7777777777777778,
              "#fb9f3a"
             ],
             [
              0.8888888888888888,
              "#fdca26"
             ],
             [
              1,
              "#f0f921"
             ]
            ],
            "type": "histogram2dcontour"
           }
          ],
          "mesh3d": [
           {
            "colorbar": {
             "outlinewidth": 0,
             "ticks": ""
            },
            "type": "mesh3d"
           }
          ],
          "parcoords": [
           {
            "line": {
             "colorbar": {
              "outlinewidth": 0,
              "ticks": ""
             }
            },
            "type": "parcoords"
           }
          ],
          "pie": [
           {
            "automargin": true,
            "type": "pie"
           }
          ],
          "scatter": [
           {
            "fillpattern": {
             "fillmode": "overlay",
             "size": 10,
             "solidity": 0.2
            },
            "type": "scatter"
           }
          ],
          "scatter3d": [
           {
            "line": {
             "colorbar": {
              "outlinewidth": 0,
              "ticks": ""
             }
            },
            "marker": {
             "colorbar": {
              "outlinewidth": 0,
              "ticks": ""
             }
            },
            "type": "scatter3d"
           }
          ],
          "scattercarpet": [
           {
            "marker": {
             "colorbar": {
              "outlinewidth": 0,
              "ticks": ""
             }
            },
            "type": "scattercarpet"
           }
          ],
          "scattergeo": [
           {
            "marker": {
             "colorbar": {
              "outlinewidth": 0,
              "ticks": ""
             }
            },
            "type": "scattergeo"
           }
          ],
          "scattergl": [
           {
            "marker": {
             "colorbar": {
              "outlinewidth": 0,
              "ticks": ""
             }
            },
            "type": "scattergl"
           }
          ],
          "scattermapbox": [
           {
            "marker": {
             "colorbar": {
              "outlinewidth": 0,
              "ticks": ""
             }
            },
            "type": "scattermapbox"
           }
          ],
          "scatterpolar": [
           {
            "marker": {
             "colorbar": {
              "outlinewidth": 0,
              "ticks": ""
             }
            },
            "type": "scatterpolar"
           }
          ],
          "scatterpolargl": [
           {
            "marker": {
             "colorbar": {
              "outlinewidth": 0,
              "ticks": ""
             }
            },
            "type": "scatterpolargl"
           }
          ],
          "scatterternary": [
           {
            "marker": {
             "colorbar": {
              "outlinewidth": 0,
              "ticks": ""
             }
            },
            "type": "scatterternary"
           }
          ],
          "surface": [
           {
            "colorbar": {
             "outlinewidth": 0,
             "ticks": ""
            },
            "colorscale": [
             [
              0,
              "#0d0887"
             ],
             [
              0.1111111111111111,
              "#46039f"
             ],
             [
              0.2222222222222222,
              "#7201a8"
             ],
             [
              0.3333333333333333,
              "#9c179e"
             ],
             [
              0.4444444444444444,
              "#bd3786"
             ],
             [
              0.5555555555555556,
              "#d8576b"
             ],
             [
              0.6666666666666666,
              "#ed7953"
             ],
             [
              0.7777777777777778,
              "#fb9f3a"
             ],
             [
              0.8888888888888888,
              "#fdca26"
             ],
             [
              1,
              "#f0f921"
             ]
            ],
            "type": "surface"
           }
          ],
          "table": [
           {
            "cells": {
             "fill": {
              "color": "#EBF0F8"
             },
             "line": {
              "color": "white"
             }
            },
            "header": {
             "fill": {
              "color": "#C8D4E3"
             },
             "line": {
              "color": "white"
             }
            },
            "type": "table"
           }
          ]
         },
         "layout": {
          "annotationdefaults": {
           "arrowcolor": "#2a3f5f",
           "arrowhead": 0,
           "arrowwidth": 1
          },
          "autotypenumbers": "strict",
          "coloraxis": {
           "colorbar": {
            "outlinewidth": 0,
            "ticks": ""
           }
          },
          "colorscale": {
           "diverging": [
            [
             0,
             "#8e0152"
            ],
            [
             0.1,
             "#c51b7d"
            ],
            [
             0.2,
             "#de77ae"
            ],
            [
             0.3,
             "#f1b6da"
            ],
            [
             0.4,
             "#fde0ef"
            ],
            [
             0.5,
             "#f7f7f7"
            ],
            [
             0.6,
             "#e6f5d0"
            ],
            [
             0.7,
             "#b8e186"
            ],
            [
             0.8,
             "#7fbc41"
            ],
            [
             0.9,
             "#4d9221"
            ],
            [
             1,
             "#276419"
            ]
           ],
           "sequential": [
            [
             0,
             "#0d0887"
            ],
            [
             0.1111111111111111,
             "#46039f"
            ],
            [
             0.2222222222222222,
             "#7201a8"
            ],
            [
             0.3333333333333333,
             "#9c179e"
            ],
            [
             0.4444444444444444,
             "#bd3786"
            ],
            [
             0.5555555555555556,
             "#d8576b"
            ],
            [
             0.6666666666666666,
             "#ed7953"
            ],
            [
             0.7777777777777778,
             "#fb9f3a"
            ],
            [
             0.8888888888888888,
             "#fdca26"
            ],
            [
             1,
             "#f0f921"
            ]
           ],
           "sequentialminus": [
            [
             0,
             "#0d0887"
            ],
            [
             0.1111111111111111,
             "#46039f"
            ],
            [
             0.2222222222222222,
             "#7201a8"
            ],
            [
             0.3333333333333333,
             "#9c179e"
            ],
            [
             0.4444444444444444,
             "#bd3786"
            ],
            [
             0.5555555555555556,
             "#d8576b"
            ],
            [
             0.6666666666666666,
             "#ed7953"
            ],
            [
             0.7777777777777778,
             "#fb9f3a"
            ],
            [
             0.8888888888888888,
             "#fdca26"
            ],
            [
             1,
             "#f0f921"
            ]
           ]
          },
          "colorway": [
           "#636efa",
           "#EF553B",
           "#00cc96",
           "#ab63fa",
           "#FFA15A",
           "#19d3f3",
           "#FF6692",
           "#B6E880",
           "#FF97FF",
           "#FECB52"
          ],
          "font": {
           "color": "#2a3f5f"
          },
          "geo": {
           "bgcolor": "white",
           "lakecolor": "white",
           "landcolor": "#E5ECF6",
           "showlakes": true,
           "showland": true,
           "subunitcolor": "white"
          },
          "hoverlabel": {
           "align": "left"
          },
          "hovermode": "closest",
          "mapbox": {
           "style": "light"
          },
          "paper_bgcolor": "white",
          "plot_bgcolor": "#E5ECF6",
          "polar": {
           "angularaxis": {
            "gridcolor": "white",
            "linecolor": "white",
            "ticks": ""
           },
           "bgcolor": "#E5ECF6",
           "radialaxis": {
            "gridcolor": "white",
            "linecolor": "white",
            "ticks": ""
           }
          },
          "scene": {
           "xaxis": {
            "backgroundcolor": "#E5ECF6",
            "gridcolor": "white",
            "gridwidth": 2,
            "linecolor": "white",
            "showbackground": true,
            "ticks": "",
            "zerolinecolor": "white"
           },
           "yaxis": {
            "backgroundcolor": "#E5ECF6",
            "gridcolor": "white",
            "gridwidth": 2,
            "linecolor": "white",
            "showbackground": true,
            "ticks": "",
            "zerolinecolor": "white"
           },
           "zaxis": {
            "backgroundcolor": "#E5ECF6",
            "gridcolor": "white",
            "gridwidth": 2,
            "linecolor": "white",
            "showbackground": true,
            "ticks": "",
            "zerolinecolor": "white"
           }
          },
          "shapedefaults": {
           "line": {
            "color": "#2a3f5f"
           }
          },
          "ternary": {
           "aaxis": {
            "gridcolor": "white",
            "linecolor": "white",
            "ticks": ""
           },
           "baxis": {
            "gridcolor": "white",
            "linecolor": "white",
            "ticks": ""
           },
           "bgcolor": "#E5ECF6",
           "caxis": {
            "gridcolor": "white",
            "linecolor": "white",
            "ticks": ""
           }
          },
          "title": {
           "x": 0.05
          },
          "xaxis": {
           "automargin": true,
           "gridcolor": "white",
           "linecolor": "white",
           "ticks": "",
           "title": {
            "standoff": 15
           },
           "zerolinecolor": "white",
           "zerolinewidth": 2
          },
          "yaxis": {
           "automargin": true,
           "gridcolor": "white",
           "linecolor": "white",
           "ticks": "",
           "title": {
            "standoff": 15
           },
           "zerolinecolor": "white",
           "zerolinewidth": 2
          }
         }
        }
       }
      }
     },
     "metadata": {},
     "output_type": "display_data"
    }
   ],
   "source": [
    "px.scatter_3d(df_merged_s, y=\"carbon\", x=\"household_total\", z=\"gas\", color=\"geo\")"
   ]
  },
  {
   "cell_type": "code",
   "execution_count": 50,
   "metadata": {},
   "outputs": [],
   "source": [
    "import matplotlib.cm as cm"
   ]
  },
  {
   "cell_type": "code",
   "execution_count": 71,
   "metadata": {},
   "outputs": [
    {
     "data": {
      "text/plain": [
       "Text(0, 0.5, 'Greenhouse Emissions (ktonnes)')"
      ]
     },
     "execution_count": 71,
     "metadata": {},
     "output_type": "execute_result"
    },
    {
     "data": {
      "image/png": "[encoded data removed]",
      "text/plain": [
       "<Figure size 640x480 with 1 Axes>"
      ]
     },
     "metadata": {},
     "output_type": "display_data"
    }
   ],
   "source": [
    "colors = cm.rainbow(np.linspace(0, 1, len(df_merged_s)))\n",
    "plt.scatter(x=df_merged_s[\"gas\"], y=df_merged_s[\"carbon\"], color=colors, alpha=0.5)\n",
    "plt.title(\"Transportation Gas Usage vs Greenhouse Emissions\")\n",
    "plt.xlabel(\"Oil & Gas Usage in Transportation (ktoes)\")\n",
    "plt.ylabel(\"Greenhouse Emissions (ktonnes)\")"
   ]
  },
  {
   "cell_type": "code",
   "execution_count": 52,
   "metadata": {},
   "outputs": [],
   "source": [
    "from sklearn.metrics import r2_score"
   ]
  },
  {
   "cell_type": "code",
   "execution_count": 53,
   "metadata": {},
   "outputs": [],
   "source": [
    "from numpy.linalg import det"
   ]
  },
  {
   "cell_type": "code",
   "execution_count": 60,
   "metadata": {},
   "outputs": [],
   "source": [
    "np_remove = lambda a, i: np.concatenate([a[:i,], a[i + 1:,]])\n",
    "lin_reg = lambda X, Y: np.matmul(np.linalg.inv(np.matmul(X.T, X)), np.matmul(X.T, Y))\n",
    "\n",
    "def loo_cv_pred(X, Y):\n",
    "\t\"\"\"\n",
    "\tPredict Y values using leave one out cross validation\n",
    "\n",
    "\t:param X: The X features array (including bias column)\n",
    "\t:param Y: The true Y values\n",
    "\t:return: An array of the predicted Y-Vals\n",
    "\t\"\"\"\n",
    "\ty_pred = []\n",
    "\tfor i in range(len(X)):\n",
    "\t\tholdout_X = X[i]\n",
    "\t\t\n",
    "\t\tloo_X = np_remove(X, i)\n",
    "\t\tloo_y = np_remove(Y, i)\n",
    "\t\tloo_b = lin_reg(loo_X, loo_y)\n",
    "\n",
    "\t\ty_hat = np.matmul(holdout_X, loo_b)\n",
    "\t\ty_pred.append(y_hat)\n",
    "\t\n",
    "\treturn y_pred"
   ]
  },
  {
   "cell_type": "code",
   "execution_count": 61,
   "metadata": {},
   "outputs": [
    {
     "name": "stdout",
     "output_type": "stream",
     "text": [
      "(31,)\n",
      "(31,)\n",
      "(31,)\n",
      "(31,)\n",
      "(31,)\n",
      "(31,)\n",
      "(31,)\n",
      "(31,)\n",
      "(31,)\n",
      "(31,)\n",
      "(31,)\n",
      "(31,)\n",
      "(31,)\n",
      "(31,)\n",
      "(31,)\n",
      "(31,)\n",
      "(31,)\n",
      "(31,)\n",
      "(31,)\n",
      "(31,)\n",
      "(31,)\n",
      "(31,)\n",
      "(31,)\n",
      "(31,)\n",
      "(31,)\n",
      "(31,)\n",
      "(31,)\n",
      "(31,)\n",
      "(31,)\n",
      "(31,)\n",
      "(31,)\n",
      "(31,)\n",
      "(31,)\n",
      "(31,)\n",
      "(31,)\n",
      "(31,)\n",
      "(31,)\n",
      "(31,)\n",
      "(31,)\n",
      "(31,)\n",
      "(31,)\n",
      "(31,)\n",
      "(31,)\n",
      "(31,)\n",
      "(31,)\n",
      "(31,)\n",
      "(31,)\n",
      "(31,)\n",
      "(31,)\n",
      "(31,)\n",
      "(31,)\n",
      "(31,)\n",
      "(31,)\n",
      "(31,)\n",
      "(31,)\n",
      "(31,)\n",
      "(31,)\n",
      "(31,)\n",
      "(31,)\n",
      "(31,)\n",
      "(31,)\n",
      "(31,)\n",
      "(31,)\n",
      "(31,)\n",
      "(31,)\n",
      "(31,)\n",
      "(31,)\n",
      "(31,)\n",
      "(31,)\n",
      "(31,)\n",
      "(31,)\n",
      "(31,)\n",
      "(31,)\n",
      "(31,)\n",
      "(31,)\n",
      "(31,)\n",
      "(31,)\n",
      "(31,)\n",
      "(31,)\n",
      "(31,)\n",
      "(31,)\n",
      "(31,)\n",
      "(31,)\n",
      "(31,)\n",
      "(31,)\n",
      "(31,)\n",
      "(31,)\n",
      "(31,)\n",
      "(31,)\n",
      "(31,)\n",
      "(31,)\n",
      "(31,)\n",
      "(31,)\n",
      "(31,)\n",
      "(31,)\n",
      "(31,)\n",
      "(31,)\n",
      "(31,)\n",
      "(31,)\n",
      "(31,)\n",
      "(31,)\n",
      "(31,)\n",
      "(31,)\n",
      "(31,)\n",
      "(31,)\n",
      "(31,)\n",
      "(31,)\n",
      "(31,)\n",
      "(31,)\n",
      "(31,)\n",
      "(31,)\n",
      "(31,)\n",
      "(31,)\n",
      "(31,)\n",
      "(31,)\n",
      "(31,)\n",
      "(31,)\n",
      "(31,)\n",
      "(31,)\n",
      "(31,)\n",
      "(31,)\n",
      "(31,)\n",
      "(31,)\n",
      "(31,)\n",
      "(31,)\n",
      "(31,)\n",
      "(31,)\n",
      "(31,)\n",
      "(31,)\n",
      "(31,)\n",
      "(31,)\n",
      "(31,)\n",
      "(31,)\n",
      "(31,)\n",
      "(31,)\n",
      "(31,)\n",
      "(31,)\n",
      "(31,)\n",
      "(31,)\n",
      "(31,)\n",
      "(31,)\n",
      "(31,)\n",
      "(31,)\n",
      "(31,)\n",
      "(31,)\n",
      "(31,)\n",
      "(31,)\n",
      "(31,)\n",
      "(31,)\n",
      "(31,)\n",
      "(31,)\n",
      "(31,)\n",
      "(31,)\n",
      "(31,)\n",
      "(31,)\n",
      "(31,)\n",
      "(31,)\n",
      "(31,)\n",
      "(31,)\n",
      "(31,)\n",
      "(31,)\n",
      "(31,)\n",
      "(31,)\n",
      "(31,)\n",
      "(31,)\n",
      "(31,)\n",
      "(31,)\n",
      "(31,)\n",
      "(31,)\n",
      "(31,)\n",
      "(31,)\n",
      "(31,)\n",
      "(31,)\n",
      "(31,)\n",
      "(31,)\n",
      "(31,)\n",
      "(31,)\n",
      "(31,)\n",
      "(31,)\n",
      "(31,)\n",
      "(31,)\n",
      "(31,)\n",
      "(31,)\n",
      "(31,)\n",
      "(31,)\n",
      "(31,)\n",
      "(31,)\n",
      "(31,)\n",
      "(31,)\n",
      "(31,)\n",
      "(31,)\n",
      "(31,)\n",
      "(31,)\n",
      "(31,)\n",
      "(31,)\n",
      "(31,)\n",
      "(31,)\n",
      "(31,)\n",
      "(31,)\n",
      "(31,)\n",
      "(31,)\n",
      "(31,)\n",
      "(31,)\n",
      "(31,)\n",
      "(31,)\n",
      "(31,)\n",
      "(31,)\n",
      "(31,)\n",
      "(31,)\n",
      "(31,)\n",
      "(31,)\n",
      "(31,)\n",
      "(31,)\n",
      "(31,)\n",
      "(31,)\n",
      "(31,)\n",
      "(31,)\n",
      "(31,)\n",
      "(31,)\n",
      "(31,)\n",
      "(31,)\n",
      "(31,)\n",
      "(31,)\n",
      "(31,)\n",
      "(31,)\n",
      "(31,)\n",
      "(31,)\n",
      "(31,)\n",
      "(31,)\n",
      "(31,)\n",
      "(31,)\n",
      "(31,)\n",
      "(31,)\n",
      "(31,)\n",
      "(31,)\n",
      "(31,)\n",
      "(31,)\n",
      "(31,)\n",
      "(31,)\n",
      "(31,)\n",
      "(31,)\n",
      "(31,)\n",
      "(31,)\n",
      "(31,)\n",
      "(31,)\n",
      "(31,)\n",
      "(31,)\n",
      "(31,)\n",
      "(31,)\n",
      "(31,)\n",
      "(31,)\n",
      "(31,)\n",
      "(31,)\n",
      "(31,)\n",
      "(31,)\n",
      "(31,)\n",
      "(31,)\n",
      "(31,)\n",
      "(31,)\n",
      "(31,)\n",
      "(31,)\n",
      "(31,)\n",
      "(31,)\n",
      "(31,)\n",
      "(31,)\n",
      "(31,)\n",
      "(31,)\n",
      "(31,)\n",
      "(31,)\n",
      "(31,)\n",
      "(31,)\n",
      "(31,)\n",
      "(31,)\n",
      "(31,)\n",
      "(31,)\n",
      "(31,)\n",
      "(31,)\n",
      "(31,)\n",
      "(31,)\n",
      "(31,)\n",
      "(31,)\n",
      "(31,)\n",
      "(31,)\n",
      "(31,)\n",
      "(31,)\n",
      "(31,)\n",
      "(31,)\n",
      "(31,)\n",
      "(31,)\n",
      "(31,)\n",
      "(31,)\n",
      "(31,)\n",
      "(31,)\n",
      "(31,)\n",
      "(31,)\n",
      "(31,)\n",
      "(31,)\n",
      "(31,)\n",
      "(31,)\n",
      "(31,)\n",
      "(31,)\n",
      "(31,)\n",
      "(31,)\n",
      "(31,)\n",
      "(31,)\n",
      "(31,)\n",
      "(31,)\n",
      "(31,)\n",
      "(31,)\n",
      "(31,)\n",
      "(31,)\n",
      "(31,)\n",
      "(31,)\n",
      "(31,)\n",
      "(31,)\n",
      "(31,)\n",
      "(31,)\n",
      "(31,)\n",
      "(31,)\n",
      "(31,)\n",
      "(31,)\n",
      "(31,)\n",
      "(31,)\n",
      "(31,)\n",
      "(31,)\n",
      "(31,)\n",
      "(31,)\n",
      "(31,)\n",
      "(31,)\n",
      "(31,)\n",
      "(31,)\n",
      "(31,)\n",
      "(31,)\n",
      "(31,)\n",
      "(31,)\n",
      "(31,)\n"
     ]
    },
    {
     "data": {
      "text/plain": [
       "[9.312309954476866,\n",
       " -3.319029950308874,\n",
       " 0.40936063240213016,\n",
       " -1.2318379599422562,\n",
       " -1.6296754835627567,\n",
       " -6.116470823215938,\n",
       " 0.7901643333450394,\n",
       " 2.6185385994553063,\n",
       " 1.1634322574345237,\n",
       " 0.8232133710834137,\n",
       " 0.3000635551722315,\n",
       " -2.761932447995645,\n",
       " -0.06367480474389842,\n",
       " 5.026412885412768,\n",
       " -7.231512982910489,\n",
       " -0.43386834078451253,\n",
       " 1.844479083633165,\n",
       " 8.13620446791802,\n",
       " -14.886636570200494,\n",
       " -2.7958639423266707,\n",
       " 6.109786577763444,\n",
       " 1.2671627819990139,\n",
       " -4.776989436113844,\n",
       " -1.7122694229302322,\n",
       " 26.986701934447353,\n",
       " -7.493957212583879,\n",
       " -0.28498263627614584,\n",
       " 1.2836118948656443,\n",
       " 2.520208382140652,\n",
       " 2.1589159692433135,\n",
       " 0.939576871096933,\n",
       " -11.29382841027843,\n",
       " -0.5342812935414614,\n",
       " 1.0123551457640687,\n",
       " -22.539435302470906,\n",
       " 8.787757817567584,\n",
       " -1.038344681643749,\n",
       " -22.824815211174595,\n",
       " -26.423034750581166,\n",
       " 2.400762019210572,\n",
       " 2.1918197644724273,\n",
       " -10.2061297722217,\n",
       " -2.219064538014134,\n",
       " 1.440897554066325,\n",
       " -1.151874502207284,\n",
       " -4.21866958827294,\n",
       " -0.9008863131155858,\n",
       " -32.828490826153605,\n",
       " -0.9661049887271496,\n",
       " -24.668389970263007,\n",
       " 2.3609939640756608,\n",
       " -1.9793162792690229,\n",
       " 3.4059240062483394,\n",
       " 0.6185075635576371,\n",
       " 0.5286900275730639,\n",
       " -3.1059985097028857,\n",
       " -0.2667843514099877,\n",
       " -2.7904409847404246,\n",
       " -10.950037607405491,\n",
       " 1.6439790980951865,\n",
       " 6.089445146783589,\n",
       " 52.109744246705986,\n",
       " 111.59879458462365,\n",
       " 2.784920384653006,\n",
       " 20.56158064812321,\n",
       " -6.725411379409707,\n",
       " 1.6939629234887335,\n",
       " 10.29301235541864,\n",
       " 6.990375275221277,\n",
       " 3.172387947265115,\n",
       " 4.170765282977552,\n",
       " 0.6629244093020912,\n",
       " 2.8304457079901724,\n",
       " -1.8664227483395828,\n",
       " -20.102071933852073,\n",
       " -2.945349208364391,\n",
       " -1.7237620132780673,\n",
       " 1.2282869635018203,\n",
       " 3.841293032096047,\n",
       " 3.0130515294704505,\n",
       " -5.922363568360751,\n",
       " 1.2620553064717512,\n",
       " -93.92650234890675,\n",
       " -6.222982731718728,\n",
       " -1.8696534230688915,\n",
       " -1.733543324543767,\n",
       " -1.153659222484638,\n",
       " 3.754739267970331,\n",
       " 8.779258780211467,\n",
       " -4.66039315017507,\n",
       " -0.9157372264133998,\n",
       " -0.08801394058957257,\n",
       " 3.0454062729430653,\n",
       " -1.3711251042216546,\n",
       " -47.336897699903375,\n",
       " 10.335607225261533,\n",
       " -22.528862773467086,\n",
       " 0.8679850780778207,\n",
       " 11.285207959996733,\n",
       " -1.087455698768296,\n",
       " 0.9597528747870401,\n",
       " -2.0607454150266022,\n",
       " 2.438296642825693,\n",
       " -0.44331372172789507,\n",
       " -14.901423264279742,\n",
       " 1.55834261750865,\n",
       " -7.82564325691926,\n",
       " 1.1189649482615582,\n",
       " 4.3602416625831495,\n",
       " 6.97318394066423,\n",
       " 18.88058246053027,\n",
       " 6.281069006699905,\n",
       " -2.868130381951296,\n",
       " 10.85914764979374,\n",
       " 4.537262032266516,\n",
       " 2.644285081528512,\n",
       " -3.0771386403039074,\n",
       " 2.015793104310827,\n",
       " 13.808256951524104,\n",
       " 51.93057029427298,\n",
       " 5.222586661333407,\n",
       " 60.792806678341805,\n",
       " -0.7309324200512926,\n",
       " 1.3947334446170405,\n",
       " -1.844679897036519,\n",
       " -0.0031017189846060944,\n",
       " 7.800372296713311,\n",
       " -1.4619197657669425,\n",
       " 0.0012267707613524692,\n",
       " -2.452760853707666,\n",
       " -1.0035628464789061,\n",
       " 1.685348819583064,\n",
       " 6.26898781077503,\n",
       " -0.2563048472165015,\n",
       " -11.585934490692267,\n",
       " 78.39419188336632,\n",
       " -4.571812916807573,\n",
       " -19.321679085396227,\n",
       " 3.755095056960691,\n",
       " -23.607037811020916,\n",
       " -2.120684725555691,\n",
       " 30.284194216445485,\n",
       " 2.8198716815030904,\n",
       " 16.15635520063846,\n",
       " -1.8569294714357323,\n",
       " 4.77090512835686,\n",
       " 64.48327416093716,\n",
       " -4.829409080691249,\n",
       " -10.302728241893874,\n",
       " 6.723312965716843,\n",
       " -4.120472646120817,\n",
       " 38.40081294915184,\n",
       " -16.64299735182854,\n",
       " -20.884692406534924,\n",
       " 5.0647414538223146,\n",
       " 4.271520827110059,\n",
       " 40.68905143221966,\n",
       " -30.266446559142878,\n",
       " -13.886304684162127,\n",
       " 7.405946689657327,\n",
       " 8.945855382351109,\n",
       " 2.1128416714244,\n",
       " 1.8950374038728692,\n",
       " -44.823964295860165,\n",
       " -0.7203296890715833,\n",
       " 46.01939590254652,\n",
       " 0.3416364711598181,\n",
       " -4.044464774842944,\n",
       " 0.2382123808548915,\n",
       " -16.75785720638858,\n",
       " -1.1765973200673787,\n",
       " 29.070450076758213,\n",
       " 41.48439557842943,\n",
       " 2.2101003380736177,\n",
       " 1.2824360950578315,\n",
       " -3.112676284937656,\n",
       " -4.398256544994503,\n",
       " 6.478427966845624,\n",
       " 12.815059166981793,\n",
       " 8.142994042635252,\n",
       " -11.922626798286501,\n",
       " -4.18078352473843,\n",
       " -0.9887355483675115,\n",
       " -1.6353691636387353,\n",
       " 2.9668724524361565,\n",
       " 2.9733895657726963,\n",
       " -3.654965596140798,\n",
       " 3.4749718319559655,\n",
       " 3.38820790420408,\n",
       " -1.0152922957679955,\n",
       " 2.9703657251413276,\n",
       " 5.803798784189709,\n",
       " 7.53070457497742,\n",
       " -5.590767480012243,\n",
       " -5.119017568101675,\n",
       " -0.3134507535822184,\n",
       " -3.103863386252428,\n",
       " 6.722944320504346,\n",
       " -323.134465409054,\n",
       " 15.30733998016558,\n",
       " 9.355898585657165,\n",
       " 8.80251739444045,\n",
       " 26.74011688702056,\n",
       " 4.131408862808556,\n",
       " -2.956624242467722,\n",
       " 3.8703536797663283,\n",
       " -1.6392209600638,\n",
       " 2.2941975592591124,\n",
       " 0.5828657855114541,\n",
       " -1.3558481304841612,\n",
       " 28.32250153609982,\n",
       " -8.821344505923427,\n",
       " 36.80474153404356,\n",
       " -3.580313702633269,\n",
       " -2.424952204718487,\n",
       " 26.470181890912556,\n",
       " 159.54650096939525,\n",
       " -0.43283872156206993,\n",
       " 1.6261898947252718,\n",
       " -0.8036680344414151,\n",
       " -1.7672885883721219,\n",
       " -8.407114149381627,\n",
       " -5.763201154334425,\n",
       " -10.126294047380643,\n",
       " -3.786442961397237,\n",
       " 4.5548119056673695,\n",
       " 21.60842216976482,\n",
       " -1.5676215890862455,\n",
       " -3.9326568600678122,\n",
       " -4.417456916099285,\n",
       " 1.6377216538610657,\n",
       " 1.9059494732479116,\n",
       " -1.759958727115987,\n",
       " -4.307263410879386,\n",
       " -1.0934711859049813,\n",
       " -0.6313772328388394,\n",
       " 10.997845353574235,\n",
       " -4.255199668746133,\n",
       " -0.21662436364265503,\n",
       " -1.0551874735631062,\n",
       " 1.4809552783433517,\n",
       " -0.16914446167793584,\n",
       " -0.8333659491032606,\n",
       " -2.689002877948957,\n",
       " 14.845395948046388,\n",
       " -2.0588368471645566,\n",
       " -12.053808086141458,\n",
       " 8.605794652852477,\n",
       " -0.42825303036703133,\n",
       " 3.3942733729923873,\n",
       " 1.2443914699761107,\n",
       " 8.89757309612195,\n",
       " -0.7282367524696269,\n",
       " 32.75349024948851,\n",
       " -3.149450837181761,\n",
       " 3.4271058378424204,\n",
       " -1.1017603519363393,\n",
       " -5.074432339048332,\n",
       " -0.9371959618442496,\n",
       " -1.2059793499226998,\n",
       " 0.7644242687828786,\n",
       " 22.616062523674955,\n",
       " 2.91480688641726,\n",
       " 0.11229389873576623,\n",
       " 1.0121501692526529,\n",
       " 3.071291838914613,\n",
       " 0.9319818009786833,\n",
       " 9.5129377148269,\n",
       " 0.02156970957000759,\n",
       " -0.9245758915765827,\n",
       " 2.884033091345067,\n",
       " 0.07959291161216697,\n",
       " 3.132010852102951,\n",
       " 1.2279345496950675,\n",
       " -0.15859824107023002,\n",
       " 1.6415014428682015,\n",
       " -0.27938063174655525,\n",
       " 2.7121625408641314,\n",
       " -1.4072241944765764,\n",
       " -1.6396475241521742,\n",
       " -3.379027143368356,\n",
       " -6.585683484614638,\n",
       " 4.627055058872216,\n",
       " 2.1994793535967254,\n",
       " -4.070636259727401,\n",
       " -2.4597314966092796,\n",
       " 2.626823683047789,\n",
       " -2.3678295687752797,\n",
       " 3.061013786501775,\n",
       " -43.4353005998456,\n",
       " 3.4731271865525315,\n",
       " 0.9277750346397333,\n",
       " 1.6521935436958217,\n",
       " 1136.6324883264751,\n",
       " 0.26829141235593923,\n",
       " 1.826111521433555,\n",
       " 2.2746779840383518,\n",
       " 1.8874782311839438,\n",
       " 0.35914930449060734,\n",
       " -17.200935965386712,\n",
       " 3.0132726402727172,\n",
       " -2.6874460156759206,\n",
       " -1.490055592978667,\n",
       " 17.029116777804564,\n",
       " 0.055582048991594135,\n",
       " -0.5162334689451846,\n",
       " 5.501174779069544,\n",
       " -0.9063143055849174,\n",
       " 1.5185213867390992,\n",
       " -2.927593254465638,\n",
       " 1.5332591605564048,\n",
       " -5.461679201829682,\n",
       " -0.6175956579353006,\n",
       " -3.4641342656864893,\n",
       " 0.6998717974537119,\n",
       " -9.195916927661147,\n",
       " -2.7439408707523096,\n",
       " -2.4255772730909264,\n",
       " 2.7478742059501613,\n",
       " 0.49705553950229664,\n",
       " -0.9743572322300764,\n",
       " -47.91467046657994,\n",
       " -2.941478739540134,\n",
       " 0.1512309368396263,\n",
       " -5.011507258365128,\n",
       " -0.4665421423547016,\n",
       " -3.765413153751876,\n",
       " -0.7432884336557142,\n",
       " -0.49542319141974245,\n",
       " 5.161964118370179,\n",
       " 2.050913875730515,\n",
       " -0.06385082902354,\n",
       " -4.603081600819895,\n",
       " 12.213436357510592,\n",
       " 15.652070685456877,\n",
       " -4.5415554528087085]"
      ]
     },
     "execution_count": 61,
     "metadata": {},
     "output_type": "execute_result"
    }
   ],
   "source": [
    "preds = loo_cv_pred(X, y)\n",
    "preds"
   ]
  },
  {
   "cell_type": "code",
   "execution_count": 56,
   "metadata": {},
   "outputs": [
    {
     "data": {
      "text/plain": [
       "array([-0.27723402, -0.29177478, -0.29010731, -0.30864156, -0.29642375,\n",
       "       -0.29061725, -0.27897853, -0.29450823, -0.28658073, -0.32742065,\n",
       "       -0.30926046, -0.32874506, -0.05559046, -0.07163672, -0.07229433,\n",
       "       -0.10074666, -0.07708621, -0.08533471, -0.08568578, -0.08009152,\n",
       "       -0.08555847, -0.14156679, -0.12239963, -0.15284303, -0.37748343,\n",
       "       -0.40394797, -0.43165662, -0.41621139, -0.39966733, -0.41268404,\n",
       "       -0.40297752, -0.42529177, -0.43227202, -0.46509686, -0.43328907,\n",
       "       -0.41008338, -0.66349004, -0.66639771, -0.67032842, -0.66840091,\n",
       "       -0.66829008, -0.6654112 , -0.66391396, -0.66423755, -0.66403264,\n",
       "       -0.66960282, -0.66737048, -0.66588213,  0.01337361, -0.007411  ,\n",
       "       -0.03598398, -0.0472147 , -0.03871345, -0.030544  , -0.0258242 ,\n",
       "       -0.03461044, -0.06498662, -0.12433246, -0.09589036, -0.10309541,\n",
       "        4.07738829,  4.13992736,  4.23026902,  4.01556257,  4.05897024,\n",
       "        4.04517657,  3.98246927,  3.84168823,  3.55647527,  3.13695674,\n",
       "        3.30387888,  3.30108198, -0.39519102, -0.4186971 , -0.40998128,\n",
       "       -0.43066686, -0.44506166, -0.43370648, -0.44527809, -0.44547349,\n",
       "       -0.46534693, -0.49027408, -0.48366459, -0.48675293, -0.60585388,\n",
       "       -0.6113743 , -0.60186282, -0.60619208, -0.62200507, -0.61370295,\n",
       "       -0.60714207, -0.61117952, -0.63928817, -0.65635872, -0.64967767,\n",
       "       -0.64236226, -0.10065134, -0.11904655, -0.16850815, -0.18427129,\n",
       "       -0.20403395, -0.22192355, -0.20019252, -0.21470202, -0.24866424,\n",
       "       -0.31653511, -0.29925092, -0.29042366,  1.18678511,  1.14772173,\n",
       "        1.00845353,  1.01898882,  1.07943438,  1.02632386,  1.1002143 ,\n",
       "        1.07481362,  0.98002651,  0.71535517,  0.81824809,  0.88262121,\n",
       "       -0.35527159, -0.38426797, -0.38152858, -0.40329785, -0.42116116,\n",
       "       -0.40641689, -0.42024409, -0.41392279, -0.42994245, -0.46460913,\n",
       "       -0.46510224, -0.47074464,  1.85982557,  1.86559146,  1.86242846,\n",
       "        1.69577007,  1.71975788,  1.72846358,  1.74324366,  1.64785468,\n",
       "        1.60045399,  1.33959955,  1.45806707,  1.401589  , -0.56221722,\n",
       "       -0.57065007, -0.57648751, -0.57998304, -0.57750627, -0.57632931,\n",
       "       -0.57145621, -0.57659772, -0.57619829, -0.58389556, -0.58110047,\n",
       "       -0.57967552, -0.37660558, -0.39481598, -0.41034729, -0.40840454,\n",
       "       -0.39176561, -0.38885944, -0.37617587, -0.3755784 , -0.37688829,\n",
       "       -0.38987411, -0.38404581, -0.40363027, -0.40190008, -0.39801013,\n",
       "       -0.39776741, -0.39918208, -0.38476304, -0.37266118, -0.3732698 ,\n",
       "       -0.37042486, -0.38356712, -0.40569273, -0.3894304 , -0.38648528,\n",
       "        1.96310763,  1.86123249,  1.67491885,  1.5637001 ,  1.62097765,\n",
       "        1.60686592,  1.57651459,  1.55967515,  1.50103945,  1.26278956,\n",
       "        1.44494671,  1.45188351, -0.60583342, -0.60584566, -0.61156877,\n",
       "       -0.61197027, -0.61039977, -0.60984999, -0.60904607, -0.61037539,\n",
       "       -0.60929908, -0.61091664, -0.60993592, -0.6158878 , -0.64685763,\n",
       "       -0.64855501, -0.65122698, -0.65330411, -0.65492214, -0.65534627,\n",
       "       -0.65337743, -0.65119608, -0.65053434, -0.66013107, -0.65714265,\n",
       "       -0.6629243 , -0.65618187, -0.65709579, -0.65749222, -0.65813278,\n",
       "       -0.65798166, -0.65776006, -0.65730033, -0.65457639, -0.65521917,\n",
       "       -0.66014373, -0.65857168, -0.66073551, -0.69841351, -0.69755069,\n",
       "       -0.6990195 , -0.69886797, -0.70237863, -0.70378855, -0.7027048 ,\n",
       "       -0.70245825, -0.70171529, -0.70355548, -0.70321082, -0.70166125,\n",
       "        0.37452258,  0.35011895,  0.34847411,  0.30795473,  0.34732247,\n",
       "        0.3518586 ,  0.33967573,  0.31347268,  0.28172347,  0.16886581,\n",
       "        0.18582093,  0.12681505, -0.43054332, -0.43274621, -0.43102573,\n",
       "       -0.42853   , -0.42614416, -0.43084299, -0.43406111, -0.4327428 ,\n",
       "       -0.44221667, -0.45700646, -0.45817319, -0.45569058,  1.3887109 ,\n",
       "        1.34894993,  1.3265508 ,  1.26211542,  1.27560328,  1.33235534,\n",
       "        1.41054233,  1.4133447 ,  1.29764205,  1.21087837,  1.35702111,\n",
       "        1.26571475, -0.35208136, -0.36248181, -0.37202806, -0.3717193 ,\n",
       "       -0.34934135, -0.35770181, -0.32858908, -0.3460527 , -0.36298178,\n",
       "       -0.40935933, -0.41405438, -0.40234048, -0.03013631, -0.04616381,\n",
       "       -0.10432682, -0.10260561, -0.10874691, -0.11820605, -0.10218515,\n",
       "       -0.10123692, -0.1178199 , -0.13917067, -0.11848158, -0.14705131,\n",
       "       -0.3944802 , -0.41003631, -0.4180442 , -0.4269596 , -0.42841344,\n",
       "       -0.42703199, -0.43063343, -0.43435417, -0.44214113, -0.47283123,\n",
       "       -0.46361596, -0.47212465, -0.61336908, -0.61663366, -0.62021221,\n",
       "       -0.62879618, -0.62781276, -0.62330975, -0.62284816, -0.62364294,\n",
       "       -0.62632137, -0.63290291, -0.63215571, -0.63434584, -0.48310933,\n",
       "       -0.49543109, -0.49714015, -0.5075253 , -0.50357197, -0.50126838,\n",
       "       -0.49540784, -0.4962518 , -0.50817206, -0.52297777, -0.50210547,\n",
       "       -0.52322675])"
      ]
     },
     "execution_count": 56,
     "metadata": {},
     "output_type": "execute_result"
    }
   ],
   "source": [
    "y"
   ]
  },
  {
   "cell_type": "code",
   "execution_count": 57,
   "metadata": {},
   "outputs": [
    {
     "data": {
      "text/plain": [
       "-4476.691935155938"
      ]
     },
     "execution_count": 57,
     "metadata": {},
     "output_type": "execute_result"
    }
   ],
   "source": [
    "r2_score(y, preds)"
   ]
  },
  {
   "cell_type": "code",
   "execution_count": 58,
   "metadata": {},
   "outputs": [
    {
     "data": {
      "text/plain": [
       "-4.195576792520727"
      ]
     },
     "execution_count": 58,
     "metadata": {},
     "output_type": "execute_result"
    }
   ],
   "source": [
    "(y - preds).mean()"
   ]
  },
  {
   "cell_type": "markdown",
   "metadata": {},
   "source": [
    "# Experiment: Model per country"
   ]
  },
  {
   "cell_type": "code",
   "execution_count": 38,
   "metadata": {},
   "outputs": [
    {
     "data": {
      "text/html": [
       "<div>\n",
       "<style scoped>\n",
       "    .dataframe tbody tr th:only-of-type {\n",
       "        vertical-align: middle;\n",
       "    }\n",
       "\n",
       "    .dataframe tbody tr th {\n",
       "        vertical-align: top;\n",
       "    }\n",
       "\n",
       "    .dataframe thead th {\n",
       "        text-align: right;\n",
       "    }\n",
       "</style>\n",
       "<table border=\"1\" class=\"dataframe\">\n",
       "  <thead>\n",
       "    <tr style=\"text-align: right;\">\n",
       "      <th></th>\n",
       "      <th>carbon</th>\n",
       "      <th>energy_heating</th>\n",
       "      <th>energy_cooling</th>\n",
       "      <th>energy_water_heating</th>\n",
       "      <th>energy_cooking</th>\n",
       "      <th>total</th>\n",
       "      <th>gas</th>\n",
       "      <th>geo</th>\n",
       "    </tr>\n",
       "  </thead>\n",
       "  <tbody>\n",
       "    <tr>\n",
       "      <th>0</th>\n",
       "      <td>-0.05559</td>\n",
       "      <td>0.057893</td>\n",
       "      <td>-0.567774</td>\n",
       "      <td>-0.197473</td>\n",
       "      <td>-0.477695</td>\n",
       "      <td>-0.03357</td>\n",
       "      <td>-0.334876</td>\n",
       "      <td>BE</td>\n",
       "    </tr>\n",
       "    <tr>\n",
       "      <th>1</th>\n",
       "      <td>-0.071637</td>\n",
       "      <td>0.050019</td>\n",
       "      <td>-0.549232</td>\n",
       "      <td>-0.19523</td>\n",
       "      <td>-0.477826</td>\n",
       "      <td>-0.03976</td>\n",
       "      <td>-0.343867</td>\n",
       "      <td>BE</td>\n",
       "    </tr>\n",
       "    <tr>\n",
       "      <th>2</th>\n",
       "      <td>-0.072294</td>\n",
       "      <td>0.042145</td>\n",
       "      <td>-0.53069</td>\n",
       "      <td>-0.192987</td>\n",
       "      <td>-0.477957</td>\n",
       "      <td>-0.045951</td>\n",
       "      <td>-0.344464</td>\n",
       "      <td>BE</td>\n",
       "    </tr>\n",
       "    <tr>\n",
       "      <th>3</th>\n",
       "      <td>-0.100747</td>\n",
       "      <td>0.03427</td>\n",
       "      <td>-0.512148</td>\n",
       "      <td>-0.190744</td>\n",
       "      <td>-0.478088</td>\n",
       "      <td>-0.052141</td>\n",
       "      <td>-0.319062</td>\n",
       "      <td>BE</td>\n",
       "    </tr>\n",
       "    <tr>\n",
       "      <th>4</th>\n",
       "      <td>-0.077086</td>\n",
       "      <td>0.026396</td>\n",
       "      <td>-0.493606</td>\n",
       "      <td>-0.188501</td>\n",
       "      <td>-0.478219</td>\n",
       "      <td>-0.058331</td>\n",
       "      <td>-0.296207</td>\n",
       "      <td>BE</td>\n",
       "    </tr>\n",
       "  </tbody>\n",
       "</table>\n",
       "</div>"
      ],
      "text/plain": [
       "     carbon energy_heating energy_cooling energy_water_heating energy_cooking  \\\n",
       "0  -0.05559       0.057893      -0.567774            -0.197473      -0.477695   \n",
       "1 -0.071637       0.050019      -0.549232             -0.19523      -0.477826   \n",
       "2 -0.072294       0.042145       -0.53069            -0.192987      -0.477957   \n",
       "3 -0.100747        0.03427      -0.512148            -0.190744      -0.478088   \n",
       "4 -0.077086       0.026396      -0.493606            -0.188501      -0.478219   \n",
       "\n",
       "      total       gas geo  \n",
       "0  -0.03357 -0.334876  BE  \n",
       "1  -0.03976 -0.343867  BE  \n",
       "2 -0.045951 -0.344464  BE  \n",
       "3 -0.052141 -0.319062  BE  \n",
       "4 -0.058331 -0.296207  BE  "
      ]
     },
     "execution_count": 38,
     "metadata": {},
     "output_type": "execute_result"
    }
   ],
   "source": [
    "df_be = df_merged_s.loc[df_merged_s[\"geo\"] == \"BE\"]\n",
    "df_be.head()"
   ]
  },
  {
   "cell_type": "code",
   "execution_count": 39,
   "metadata": {},
   "outputs": [
    {
     "data": {
      "text/plain": [
       "array([[ 1.        , -0.03356972],\n",
       "       [ 1.        , -0.03976014]])"
      ]
     },
     "execution_count": 39,
     "metadata": {},
     "output_type": "execute_result"
    }
   ],
   "source": [
    "X_be = np.array(np.pad(df_be.iloc[:, 5:6].to_numpy(), ((0,0), (1,0)), mode=\"constant\", constant_values=1), dtype=np.float64)\n",
    "y_be = np.array(df_be[\"carbon\"])\n",
    "X_be[0:2,]"
   ]
  },
  {
   "cell_type": "code",
   "execution_count": 40,
   "metadata": {},
   "outputs": [],
   "source": [
    "beta_be = lin_reg(X_be, y_be)"
   ]
  },
  {
   "cell_type": "code",
   "execution_count": 41,
   "metadata": {},
   "outputs": [
    {
     "name": "stdout",
     "output_type": "stream",
     "text": [
      "[0.015930055989496518 0.00401391599181232 0.007486432925308192\n",
      " -0.016835780983615864 0.010954800460627176]\n"
     ]
    },
    {
     "data": {
      "text/plain": [
       "0.0"
      ]
     },
     "execution_count": 41,
     "metadata": {},
     "output_type": "execute_result"
    }
   ],
   "source": [
    "res_be = y_be - np.matmul(X_be, beta_be)\n",
    "print(res_be[0:5])\n",
    "round(sum(res_be), 1)"
   ]
  },
  {
   "cell_type": "code",
   "execution_count": 42,
   "metadata": {},
   "outputs": [
    {
     "data": {
      "image/png": "[encoded data removed]",
      "text/plain": [
       "<Figure size 640x480 with 1 Axes>"
      ]
     },
     "metadata": {},
     "output_type": "display_data"
    }
   ],
   "source": [
    "# x values versus residuals\n",
    "plt.scatter(X_be[:, 1:2], res_be, alpha=0.5)\n",
    "plt.xlabel(\"Energy\")\n",
    "plt.ylabel(\"Carbon\")\n",
    "plt.title(\"Residual Plot vs. X Values\")\n",
    "plt.show()"
   ]
  },
  {
   "cell_type": "code",
   "execution_count": 43,
   "metadata": {},
   "outputs": [
    {
     "data": {
      "image/png": "[encoded data removed]",
      "text/plain": [
       "<Figure size 640x480 with 1 Axes>"
      ]
     },
     "metadata": {},
     "output_type": "display_data"
    }
   ],
   "source": [
    "# residuals versus order\n",
    "plt.scatter(range(len(X_be[:,1:2])), res_be, alpha=0.5)\n",
    "plt.xlabel(\"Index\")\n",
    "plt.ylabel(\"Residuals\")\n",
    "plt.title(\"Residual Plot vs. Order\")\n",
    "plt.show()"
   ]
  },
  {
   "cell_type": "code",
   "execution_count": 44,
   "metadata": {},
   "outputs": [
    {
     "data": {
      "application/vnd.plotly.v1+json": {
       "config": {
        "plotlyServerURL": "https://plot.ly"
       },
       "data": [
        {
         "hovertemplate": "total=%{x}<br>carbon=%{y}<extra></extra>",
         "legendgroup": "",
         "marker": {
          "color": "#636efa",
          "symbol": "circle"
         },
         "mode": "markers",
         "name": "",
         "orientation": "v",
         "showlegend": false,
         "type": "scatter",
         "x": [
          -0.03356971850481728,
          -0.039760144245446716,
          -0.045950569986076266,
          -0.052140995726705705,
          -0.058331421467335255,
          -0.06331003833140232,
          -0.07293353186812225,
          -0.0791001825014064,
          -0.09418391315383401,
          -0.09396666046429532,
          -0.04021001256452511,
          -0.1379475321253766
         ],
         "xaxis": "x",
         "y": [
          -0.05559045641183317,
          -0.07163671999278103,
          -0.07229432664254888,
          -0.10074666413473658,
          -0.07708620627375727,
          -0.08533470577371326,
          -0.08568577720560927,
          -0.08009152239598367,
          -0.08555847183280695,
          -0.1415667909272685,
          -0.12239963406542592,
          -0.15284302965488766
         ],
         "yaxis": "y"
        }
       ],
       "layout": {
        "legend": {
         "tracegroupgap": 0
        },
        "margin": {
         "t": 60
        },
        "template": {
         "data": {
          "bar": [
           {
            "error_x": {
             "color": "#2a3f5f"
            },
            "error_y": {
             "color": "#2a3f5f"
            },
            "marker": {
             "line": {
              "color": "#E5ECF6",
              "width": 0.5
             },
             "pattern": {
              "fillmode": "overlay",
              "size": 10,
              "solidity": 0.2
             }
            },
            "type": "bar"
           }
          ],
          "barpolar": [
           {
            "marker": {
             "line": {
              "color": "#E5ECF6",
              "width": 0.5
             },
             "pattern": {
              "fillmode": "overlay",
              "size": 10,
              "solidity": 0.2
             }
            },
            "type": "barpolar"
           }
          ],
          "carpet": [
           {
            "aaxis": {
             "endlinecolor": "#2a3f5f",
             "gridcolor": "white",
             "linecolor": "white",
             "minorgridcolor": "white",
             "startlinecolor": "#2a3f5f"
            },
            "baxis": {
             "endlinecolor": "#2a3f5f",
             "gridcolor": "white",
             "linecolor": "white",
             "minorgridcolor": "white",
             "startlinecolor": "#2a3f5f"
            },
            "type": "carpet"
           }
          ],
          "choropleth": [
           {
            "colorbar": {
             "outlinewidth": 0,
             "ticks": ""
            },
            "type": "choropleth"
           }
          ],
          "contour": [
           {
            "colorbar": {
             "outlinewidth": 0,
             "ticks": ""
            },
            "colorscale": [
             [
              0,
              "#0d0887"
             ],
             [
              0.1111111111111111,
              "#46039f"
             ],
             [
              0.2222222222222222,
              "#7201a8"
             ],
             [
              0.3333333333333333,
              "#9c179e"
             ],
             [
              0.4444444444444444,
              "#bd3786"
             ],
             [
              0.5555555555555556,
              "#d8576b"
             ],
             [
              0.6666666666666666,
              "#ed7953"
             ],
             [
              0.7777777777777778,
              "#fb9f3a"
             ],
             [
              0.8888888888888888,
              "#fdca26"
             ],
             [
              1,
              "#f0f921"
             ]
            ],
            "type": "contour"
           }
          ],
          "contourcarpet": [
           {
            "colorbar": {
             "outlinewidth": 0,
             "ticks": ""
            },
            "type": "contourcarpet"
           }
          ],
          "heatmap": [
           {
            "colorbar": {
             "outlinewidth": 0,
             "ticks": ""
            },
            "colorscale": [
             [
              0,
              "#0d0887"
             ],
             [
              0.1111111111111111,
              "#46039f"
             ],
             [
              0.2222222222222222,
              "#7201a8"
             ],
             [
              0.3333333333333333,
              "#9c179e"
             ],
             [
              0.4444444444444444,
              "#bd3786"
             ],
             [
              0.5555555555555556,
              "#d8576b"
             ],
             [
              0.6666666666666666,
              "#ed7953"
             ],
             [
              0.7777777777777778,
              "#fb9f3a"
             ],
             [
              0.8888888888888888,
              "#fdca26"
             ],
             [
              1,
              "#f0f921"
             ]
            ],
            "type": "heatmap"
           }
          ],
          "heatmapgl": [
           {
            "colorbar": {
             "outlinewidth": 0,
             "ticks": ""
            },
            "colorscale": [
             [
              0,
              "#0d0887"
             ],
             [
              0.1111111111111111,
              "#46039f"
             ],
             [
              0.2222222222222222,
              "#7201a8"
             ],
             [
              0.3333333333333333,
              "#9c179e"
             ],
             [
              0.4444444444444444,
              "#bd3786"
             ],
             [
              0.5555555555555556,
              "#d8576b"
             ],
             [
              0.6666666666666666,
              "#ed7953"
             ],
             [
              0.7777777777777778,
              "#fb9f3a"
             ],
             [
              0.8888888888888888,
              "#fdca26"
             ],
             [
              1,
              "#f0f921"
             ]
            ],
            "type": "heatmapgl"
           }
          ],
          "histogram": [
           {
            "marker": {
             "pattern": {
              "fillmode": "overlay",
              "size": 10,
              "solidity": 0.2
             }
            },
            "type": "histogram"
           }
          ],
          "histogram2d": [
           {
            "colorbar": {
             "outlinewidth": 0,
             "ticks": ""
            },
            "colorscale": [
             [
              0,
              "#0d0887"
             ],
             [
              0.1111111111111111,
              "#46039f"
             ],
             [
              0.2222222222222222,
              "#7201a8"
             ],
             [
              0.3333333333333333,
              "#9c179e"
             ],
             [
              0.4444444444444444,
              "#bd3786"
             ],
             [
              0.5555555555555556,
              "#d8576b"
             ],
             [
              0.6666666666666666,
              "#ed7953"
             ],
             [
              0.7777777777777778,
              "#fb9f3a"
             ],
             [
              0.8888888888888888,
              "#fdca26"
             ],
             [
              1,
              "#f0f921"
             ]
            ],
            "type": "histogram2d"
           }
          ],
          "histogram2dcontour": [
           {
            "colorbar": {
             "outlinewidth": 0,
             "ticks": ""
            },
            "colorscale": [
             [
              0,
              "#0d0887"
             ],
             [
              0.1111111111111111,
              "#46039f"
             ],
             [
              0.2222222222222222,
              "#7201a8"
             ],
             [
              0.3333333333333333,
              "#9c179e"
             ],
             [
              0.4444444444444444,
              "#bd3786"
             ],
             [
              0.5555555555555556,
              "#d8576b"
             ],
             [
              0.6666666666666666,
              "#ed7953"
             ],
             [
              0.7777777777777778,
              "#fb9f3a"
             ],
             [
              0.8888888888888888,
              "#fdca26"
             ],
             [
              1,
              "#f0f921"
             ]
            ],
            "type": "histogram2dcontour"
           }
          ],
          "mesh3d": [
           {
            "colorbar": {
             "outlinewidth": 0,
             "ticks": ""
            },
            "type": "mesh3d"
           }
          ],
          "parcoords": [
           {
            "line": {
             "colorbar": {
              "outlinewidth": 0,
              "ticks": ""
             }
            },
            "type": "parcoords"
           }
          ],
          "pie": [
           {
            "automargin": true,
            "type": "pie"
           }
          ],
          "scatter": [
           {
            "fillpattern": {
             "fillmode": "overlay",
             "size": 10,
             "solidity": 0.2
            },
            "type": "scatter"
           }
          ],
          "scatter3d": [
           {
            "line": {
             "colorbar": {
              "outlinewidth": 0,
              "ticks": ""
             }
            },
            "marker": {
             "colorbar": {
              "outlinewidth": 0,
              "ticks": ""
             }
            },
            "type": "scatter3d"
           }
          ],
          "scattercarpet": [
           {
            "marker": {
             "colorbar": {
              "outlinewidth": 0,
              "ticks": ""
             }
            },
            "type": "scattercarpet"
           }
          ],
          "scattergeo": [
           {
            "marker": {
             "colorbar": {
              "outlinewidth": 0,
              "ticks": ""
             }
            },
            "type": "scattergeo"
           }
          ],
          "scattergl": [
           {
            "marker": {
             "colorbar": {
              "outlinewidth": 0,
              "ticks": ""
             }
            },
            "type": "scattergl"
           }
          ],
          "scattermapbox": [
           {
            "marker": {
             "colorbar": {
              "outlinewidth": 0,
              "ticks": ""
             }
            },
            "type": "scattermapbox"
           }
          ],
          "scatterpolar": [
           {
            "marker": {
             "colorbar": {
              "outlinewidth": 0,
              "ticks": ""
             }
            },
            "type": "scatterpolar"
           }
          ],
          "scatterpolargl": [
           {
            "marker": {
             "colorbar": {
              "outlinewidth": 0,
              "ticks": ""
             }
            },
            "type": "scatterpolargl"
           }
          ],
          "scatterternary": [
           {
            "marker": {
             "colorbar": {
              "outlinewidth": 0,
              "ticks": ""
             }
            },
            "type": "scatterternary"
           }
          ],
          "surface": [
           {
            "colorbar": {
             "outlinewidth": 0,
             "ticks": ""
            },
            "colorscale": [
             [
              0,
              "#0d0887"
             ],
             [
              0.1111111111111111,
              "#46039f"
             ],
             [
              0.2222222222222222,
              "#7201a8"
             ],
             [
              0.3333333333333333,
              "#9c179e"
             ],
             [
              0.4444444444444444,
              "#bd3786"
             ],
             [
              0.5555555555555556,
              "#d8576b"
             ],
             [
              0.6666666666666666,
              "#ed7953"
             ],
             [
              0.7777777777777778,
              "#fb9f3a"
             ],
             [
              0.8888888888888888,
              "#fdca26"
             ],
             [
              1,
              "#f0f921"
             ]
            ],
            "type": "surface"
           }
          ],
          "table": [
           {
            "cells": {
             "fill": {
              "color": "#EBF0F8"
             },
             "line": {
              "color": "white"
             }
            },
            "header": {
             "fill": {
              "color": "#C8D4E3"
             },
             "line": {
              "color": "white"
             }
            },
            "type": "table"
           }
          ]
         },
         "layout": {
          "annotationdefaults": {
           "arrowcolor": "#2a3f5f",
           "arrowhead": 0,
           "arrowwidth": 1
          },
          "autotypenumbers": "strict",
          "coloraxis": {
           "colorbar": {
            "outlinewidth": 0,
            "ticks": ""
           }
          },
          "colorscale": {
           "diverging": [
            [
             0,
             "#8e0152"
            ],
            [
             0.1,
             "#c51b7d"
            ],
            [
             0.2,
             "#de77ae"
            ],
            [
             0.3,
             "#f1b6da"
            ],
            [
             0.4,
             "#fde0ef"
            ],
            [
             0.5,
             "#f7f7f7"
            ],
            [
             0.6,
             "#e6f5d0"
            ],
            [
             0.7,
             "#b8e186"
            ],
            [
             0.8,
             "#7fbc41"
            ],
            [
             0.9,
             "#4d9221"
            ],
            [
             1,
             "#276419"
            ]
           ],
           "sequential": [
            [
             0,
             "#0d0887"
            ],
            [
             0.1111111111111111,
             "#46039f"
            ],
            [
             0.2222222222222222,
             "#7201a8"
            ],
            [
             0.3333333333333333,
             "#9c179e"
            ],
            [
             0.4444444444444444,
             "#bd3786"
            ],
            [
             0.5555555555555556,
             "#d8576b"
            ],
            [
             0.6666666666666666,
             "#ed7953"
            ],
            [
             0.7777777777777778,
             "#fb9f3a"
            ],
            [
             0.8888888888888888,
             "#fdca26"
            ],
            [
             1,
             "#f0f921"
            ]
           ],
           "sequentialminus": [
            [
             0,
             "#0d0887"
            ],
            [
             0.1111111111111111,
             "#46039f"
            ],
            [
             0.2222222222222222,
             "#7201a8"
            ],
            [
             0.3333333333333333,
             "#9c179e"
            ],
            [
             0.4444444444444444,
             "#bd3786"
            ],
            [
             0.5555555555555556,
             "#d8576b"
            ],
            [
             0.6666666666666666,
             "#ed7953"
            ],
            [
             0.7777777777777778,
             "#fb9f3a"
            ],
            [
             0.8888888888888888,
             "#fdca26"
            ],
            [
             1,
             "#f0f921"
            ]
           ]
          },
          "colorway": [
           "#636efa",
           "#EF553B",
           "#00cc96",
           "#ab63fa",
           "#FFA15A",
           "#19d3f3",
           "#FF6692",
           "#B6E880",
           "#FF97FF",
           "#FECB52"
          ],
          "font": {
           "color": "#2a3f5f"
          },
          "geo": {
           "bgcolor": "white",
           "lakecolor": "white",
           "landcolor": "#E5ECF6",
           "showlakes": true,
           "showland": true,
           "subunitcolor": "white"
          },
          "hoverlabel": {
           "align": "left"
          },
          "hovermode": "closest",
          "mapbox": {
           "style": "light"
          },
          "paper_bgcolor": "white",
          "plot_bgcolor": "#E5ECF6",
          "polar": {
           "angularaxis": {
            "gridcolor": "white",
            "linecolor": "white",
            "ticks": ""
           },
           "bgcolor": "#E5ECF6",
           "radialaxis": {
            "gridcolor": "white",
            "linecolor": "white",
            "ticks": ""
           }
          },
          "scene": {
           "xaxis": {
            "backgroundcolor": "#E5ECF6",
            "gridcolor": "white",
            "gridwidth": 2,
            "linecolor": "white",
            "showbackground": true,
            "ticks": "",
            "zerolinecolor": "white"
           },
           "yaxis": {
            "backgroundcolor": "#E5ECF6",
            "gridcolor": "white",
            "gridwidth": 2,
            "linecolor": "white",
            "showbackground": true,
            "ticks": "",
            "zerolinecolor": "white"
           },
           "zaxis": {
            "backgroundcolor": "#E5ECF6",
            "gridcolor": "white",
            "gridwidth": 2,
            "linecolor": "white",
            "showbackground": true,
            "ticks": "",
            "zerolinecolor": "white"
           }
          },
          "shapedefaults": {
           "line": {
            "color": "#2a3f5f"
           }
          },
          "ternary": {
           "aaxis": {
            "gridcolor": "white",
            "linecolor": "white",
            "ticks": ""
           },
           "baxis": {
            "gridcolor": "white",
            "linecolor": "white",
            "ticks": ""
           },
           "bgcolor": "#E5ECF6",
           "caxis": {
            "gridcolor": "white",
            "linecolor": "white",
            "ticks": ""
           }
          },
          "title": {
           "x": 0.05
          },
          "xaxis": {
           "automargin": true,
           "gridcolor": "white",
           "linecolor": "white",
           "ticks": "",
           "title": {
            "standoff": 15
           },
           "zerolinecolor": "white",
           "zerolinewidth": 2
          },
          "yaxis": {
           "automargin": true,
           "gridcolor": "white",
           "linecolor": "white",
           "ticks": "",
           "title": {
            "standoff": 15
           },
           "zerolinecolor": "white",
           "zerolinewidth": 2
          }
         }
        },
        "xaxis": {
         "anchor": "y",
         "domain": [
          0,
          1
         ],
         "title": {
          "text": "total"
         }
        },
        "yaxis": {
         "anchor": "x",
         "domain": [
          0,
          1
         ],
         "title": {
          "text": "carbon"
         }
        }
       }
      }
     },
     "metadata": {},
     "output_type": "display_data"
    }
   ],
   "source": [
    "px.scatter(df_be, x=\"total\", y=\"carbon\")"
   ]
  },
  {
   "cell_type": "code",
   "execution_count": 45,
   "metadata": {},
   "outputs": [],
   "source": [
    "preds_be = loo_cv_pred(X_be, y_be)"
   ]
  },
  {
   "cell_type": "code",
   "execution_count": 46,
   "metadata": {},
   "outputs": [
    {
     "data": {
      "text/plain": [
       "0.19603744250668642"
      ]
     },
     "execution_count": 46,
     "metadata": {},
     "output_type": "execute_result"
    }
   ],
   "source": [
    "r2_score(y_be, preds_be)"
   ]
  }
 ],
 "metadata": {
  "kernelspec": {
   "display_name": "wafflers",
   "language": "python",
   "name": "python3"
  },
  "language_info": {
   "codemirror_mode": {
    "name": "ipython",
    "version": 3
   },
   "file_extension": ".py",
   "mimetype": "text/x-python",
   "name": "python",
   "nbconvert_exporter": "python",
   "pygments_lexer": "ipython3",
   "version": "3.11.9"
  }
 },
 "nbformat": 4,
 "nbformat_minor": 2
}
