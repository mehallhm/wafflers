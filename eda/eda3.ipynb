{
 "cells": [
  {
   "cell_type": "code",
   "execution_count": 178,
   "metadata": {},
   "outputs": [],
   "source": [
    "import pandas as pd\n",
    "import numpy as np\n",
    "import plotly.express as px\n",
    "import seaborn as sns\n",
    "import matplotlib.pyplot as plt\n",
    "import pandasdmx as sdmx\n",
    "from functools import reduce"
   ]
  },
  {
   "cell_type": "markdown",
   "metadata": {},
   "source": [
    "# Data Fetching & Basic Manipulation"
   ]
  },
  {
   "cell_type": "code",
   "execution_count": 75,
   "metadata": {},
   "outputs": [],
   "source": [
    "estat = sdmx.Request(\"ESTAT\")"
   ]
  },
  {
   "cell_type": "markdown",
   "metadata": {},
   "source": [
    "## Carbon Data"
   ]
  },
  {
   "cell_type": "code",
   "execution_count": 132,
   "metadata": {},
   "outputs": [
    {
     "name": "stderr",
     "output_type": "stream",
     "text": [
      "2024-06-04 23:17:27,003 pandasdmx.reader.sdmxml - INFO: Use supplied dsd=… argument for non–structure-specific message\n"
     ]
    },
    {
     "data": {
      "text/html": [
       "<div>\n",
       "<style scoped>\n",
       "    .dataframe tbody tr th:only-of-type {\n",
       "        vertical-align: middle;\n",
       "    }\n",
       "\n",
       "    .dataframe tbody tr th {\n",
       "        vertical-align: top;\n",
       "    }\n",
       "\n",
       "    .dataframe thead th {\n",
       "        text-align: right;\n",
       "    }\n",
       "</style>\n",
       "<table border=\"1\" class=\"dataframe\">\n",
       "  <thead>\n",
       "    <tr style=\"text-align: right;\">\n",
       "      <th></th>\n",
       "      <th>year</th>\n",
       "      <th>geo</th>\n",
       "      <th>value</th>\n",
       "    </tr>\n",
       "  </thead>\n",
       "  <tbody>\n",
       "    <tr>\n",
       "      <th>0</th>\n",
       "      <td>1985</td>\n",
       "      <td>AT</td>\n",
       "      <td>NaN</td>\n",
       "    </tr>\n",
       "    <tr>\n",
       "      <th>1</th>\n",
       "      <td>1986</td>\n",
       "      <td>AT</td>\n",
       "      <td>NaN</td>\n",
       "    </tr>\n",
       "    <tr>\n",
       "      <th>2</th>\n",
       "      <td>1987</td>\n",
       "      <td>AT</td>\n",
       "      <td>NaN</td>\n",
       "    </tr>\n",
       "    <tr>\n",
       "      <th>3</th>\n",
       "      <td>1988</td>\n",
       "      <td>AT</td>\n",
       "      <td>NaN</td>\n",
       "    </tr>\n",
       "    <tr>\n",
       "      <th>4</th>\n",
       "      <td>1989</td>\n",
       "      <td>AT</td>\n",
       "      <td>NaN</td>\n",
       "    </tr>\n",
       "  </tbody>\n",
       "</table>\n",
       "</div>"
      ],
      "text/plain": [
       "   year geo  value\n",
       "0  1985  AT    NaN\n",
       "1  1986  AT    NaN\n",
       "2  1987  AT    NaN\n",
       "3  1988  AT    NaN\n",
       "4  1989  AT    NaN"
      ]
     },
     "execution_count": 132,
     "metadata": {},
     "output_type": "execute_result"
    }
   ],
   "source": [
    "resp = estat.data(\n",
    "\t\"ENV_AIR_GGE\",\n",
    "\tkey={\n",
    "\t\t\"unit\": \"THS_T\",\n",
    "\t\t\"freq\": \"A\",\n",
    "\t\t\"src_crf\": \"TOTX4_MEMONIA\",\n",
    "\t\t\"airpol\": \"GHG\"\n",
    "\t}\n",
    ")\n",
    "emission_df = resp.to_pandas(datetime={'dim': 'TIME_PERIOD'}).droplevel(level=['unit', 'freq', 'src_crf', 'airpol'], axis=1)\n",
    "emission_df.reset_index(inplace=True)\n",
    "emission_df[\"year\"] = emission_df[\"TIME_PERIOD\"].dt.year\n",
    "emission_df.drop(\"TIME_PERIOD\", inplace=True, axis=1)\n",
    "emission_melted_df = pd.melt(emission_df, id_vars=\"year\")\n",
    "\n",
    "emission_melted_df.head()"
   ]
  },
  {
   "cell_type": "code",
   "execution_count": null,
   "metadata": {},
   "outputs": [],
   "source": [
    "px.scatter(emission_melted_df, x=\"TIME_PERIOD\", y=\"value\", color=\"geo\")"
   ]
  },
  {
   "cell_type": "markdown",
   "metadata": {},
   "source": [
    "## Energy Data"
   ]
  },
  {
   "cell_type": "code",
   "execution_count": 153,
   "metadata": {},
   "outputs": [],
   "source": [
    "def get_melted_energy_dfs(code: str) -> pd.DataFrame:\n",
    "\t\"\"\"\n",
    "\tA quick helper to get, parse, and melt the dataframes for a given energy `nrg_bal`.\n",
    "\n",
    "\t:param code: The `nrg_bal` code to fetch and melt\n",
    "\t:returns: A melted dataframe\n",
    "\t\"\"\"\n",
    "\tresp = estat.data(\n",
    "\t\t\"NRG_D_HHQ\",\n",
    "\t\tkey={\n",
    "\t\t\t\"siec\": \"TOTAL\",\n",
    "\t\t\t\"unit\": \"TJ\",\n",
    "\t\t\t\"nrg_bal\": code,\n",
    "\t\t\t\"freq\": \"A\",\n",
    "\t\t}\n",
    "\t)\n",
    "\thousehold_energy_df = resp.to_pandas(datetime={'dim': 'TIME_PERIOD', 'freq': 'freq'}).droplevel(level=[\"siec\", \"unit\", \"nrg_bal\"], axis=1)\n",
    "\n",
    "\thousehold_energy_df.reset_index(inplace=True)\n",
    "\thousehold_energy_df[\"year\"] = household_energy_df[\"TIME_PERIOD\"].dt.year\n",
    "\thousehold_energy_df.drop(\"TIME_PERIOD\", inplace=True, axis=1)\n",
    "\thousehold_energy_melted_df = pd.melt(household_energy_df, id_vars=\"year\")\n",
    "\thousehold_energy_melted_df.columns = [\"year\", \"geo\", code]\n",
    "\treturn household_energy_melted_df"
   ]
  },
  {
   "cell_type": "code",
   "execution_count": 154,
   "metadata": {},
   "outputs": [
    {
     "name": "stderr",
     "output_type": "stream",
     "text": [
      "2024-06-04 23:30:27,284 pandasdmx.reader.sdmxml - INFO: Use supplied dsd=… argument for non–structure-specific message\n",
      "/opt/homebrew/Caskroom/miniconda/base/envs/wafflers/lib/python3.11/functools.py:909: FutureWarning:\n",
      "\n",
      "'A' is deprecated and will be removed in a future version, please use 'Y' instead.\n",
      "\n",
      "2024-06-04 23:30:27,461 pandasdmx.reader.sdmxml - INFO: Use supplied dsd=… argument for non–structure-specific message\n",
      "/opt/homebrew/Caskroom/miniconda/base/envs/wafflers/lib/python3.11/functools.py:909: FutureWarning:\n",
      "\n",
      "'A' is deprecated and will be removed in a future version, please use 'Y' instead.\n",
      "\n",
      "2024-06-04 23:30:27,608 pandasdmx.reader.sdmxml - INFO: Use supplied dsd=… argument for non–structure-specific message\n",
      "/opt/homebrew/Caskroom/miniconda/base/envs/wafflers/lib/python3.11/functools.py:909: FutureWarning:\n",
      "\n",
      "'A' is deprecated and will be removed in a future version, please use 'Y' instead.\n",
      "\n",
      "2024-06-04 23:30:27,745 pandasdmx.reader.sdmxml - INFO: Use supplied dsd=… argument for non–structure-specific message\n",
      "/opt/homebrew/Caskroom/miniconda/base/envs/wafflers/lib/python3.11/functools.py:909: FutureWarning:\n",
      "\n",
      "'A' is deprecated and will be removed in a future version, please use 'Y' instead.\n",
      "\n"
     ]
    }
   ],
   "source": [
    "codes = [\"FC_OTH_HH_E_SH\", \"FC_OTH_HH_E_SC\", \"FC_OTH_HH_E_WH\", \"FC_OTH_HH_E_CK\"]\n",
    "energy_dfs = [get_melted_energy_dfs(code) for code in codes]"
   ]
  },
  {
   "cell_type": "markdown",
   "metadata": {},
   "source": [
    "## Merge Datasets"
   ]
  },
  {
   "cell_type": "code",
   "execution_count": 199,
   "metadata": {},
   "outputs": [
    {
     "data": {
      "text/html": [
       "<div>\n",
       "<style scoped>\n",
       "    .dataframe tbody tr th:only-of-type {\n",
       "        vertical-align: middle;\n",
       "    }\n",
       "\n",
       "    .dataframe tbody tr th {\n",
       "        vertical-align: top;\n",
       "    }\n",
       "\n",
       "    .dataframe thead th {\n",
       "        text-align: right;\n",
       "    }\n",
       "</style>\n",
       "<table border=\"1\" class=\"dataframe\">\n",
       "  <thead>\n",
       "    <tr style=\"text-align: right;\">\n",
       "      <th></th>\n",
       "      <th>year</th>\n",
       "      <th>geo</th>\n",
       "      <th>carbon</th>\n",
       "      <th>energy_heating</th>\n",
       "      <th>energy_cooling</th>\n",
       "      <th>energy_water_heating</th>\n",
       "      <th>energy_cooking</th>\n",
       "    </tr>\n",
       "  </thead>\n",
       "  <tbody>\n",
       "    <tr>\n",
       "      <th>0</th>\n",
       "      <td>2010</td>\n",
       "      <td>AT</td>\n",
       "      <td>86862.05</td>\n",
       "      <td>211567.042</td>\n",
       "      <td>21.359</td>\n",
       "      <td>40387.965</td>\n",
       "      <td>7011.298</td>\n",
       "    </tr>\n",
       "    <tr>\n",
       "      <th>1</th>\n",
       "      <td>2011</td>\n",
       "      <td>AT</td>\n",
       "      <td>84795.76</td>\n",
       "      <td>190731.846</td>\n",
       "      <td>25.123</td>\n",
       "      <td>41343.612</td>\n",
       "      <td>6891.695</td>\n",
       "    </tr>\n",
       "    <tr>\n",
       "      <th>2</th>\n",
       "      <td>2012</td>\n",
       "      <td>AT</td>\n",
       "      <td>81981.39</td>\n",
       "      <td>195419.278</td>\n",
       "      <td>34.215</td>\n",
       "      <td>41839.251</td>\n",
       "      <td>7026.774</td>\n",
       "    </tr>\n",
       "    <tr>\n",
       "      <th>3</th>\n",
       "      <td>2013</td>\n",
       "      <td>AT</td>\n",
       "      <td>82304.13</td>\n",
       "      <td>205494.885</td>\n",
       "      <td>31.035</td>\n",
       "      <td>41541.823</td>\n",
       "      <td>7353.560</td>\n",
       "    </tr>\n",
       "    <tr>\n",
       "      <th>4</th>\n",
       "      <td>2014</td>\n",
       "      <td>AT</td>\n",
       "      <td>78716.82</td>\n",
       "      <td>178513.717</td>\n",
       "      <td>27.645</td>\n",
       "      <td>42495.391</td>\n",
       "      <td>7152.047</td>\n",
       "    </tr>\n",
       "  </tbody>\n",
       "</table>\n",
       "</div>"
      ],
      "text/plain": [
       "   year geo    carbon  energy_heating  energy_cooling  energy_water_heating  \\\n",
       "0  2010  AT  86862.05      211567.042          21.359             40387.965   \n",
       "1  2011  AT  84795.76      190731.846          25.123             41343.612   \n",
       "2  2012  AT  81981.39      195419.278          34.215             41839.251   \n",
       "3  2013  AT  82304.13      205494.885          31.035             41541.823   \n",
       "4  2014  AT  78716.82      178513.717          27.645             42495.391   \n",
       "\n",
       "   energy_cooking  \n",
       "0        7011.298  \n",
       "1        6891.695  \n",
       "2        7026.774  \n",
       "3        7353.560  \n",
       "4        7152.047  "
      ]
     },
     "execution_count": 199,
     "metadata": {},
     "output_type": "execute_result"
    }
   ],
   "source": [
    "to_merge_dfs = [emission_melted_df, *energy_dfs]\n",
    "columns = [\"year\", \"geo\", \"carbon\", \"energy_heating\", \"energy_cooling\", \"energy_water_heating\", \"energy_cooking\"]\n",
    "res_carbon_df = reduce(lambda l, r: pd.merge(l, r, left_on=[\"year\", \"geo\"], right_on=[\"year\", \"geo\"]), to_merge_dfs)\n",
    "res_carbon_df.columns = columns\n",
    "res_carbon_df.head()"
   ]
  },
  {
   "cell_type": "code",
   "execution_count": 200,
   "metadata": {},
   "outputs": [
    {
     "data": {
      "text/html": [
       "<div>\n",
       "<style scoped>\n",
       "    .dataframe tbody tr th:only-of-type {\n",
       "        vertical-align: middle;\n",
       "    }\n",
       "\n",
       "    .dataframe tbody tr th {\n",
       "        vertical-align: top;\n",
       "    }\n",
       "\n",
       "    .dataframe thead th {\n",
       "        text-align: right;\n",
       "    }\n",
       "</style>\n",
       "<table border=\"1\" class=\"dataframe\">\n",
       "  <thead>\n",
       "    <tr style=\"text-align: right;\">\n",
       "      <th></th>\n",
       "      <th>carbon</th>\n",
       "      <th>energy_heating</th>\n",
       "      <th>energy_cooling</th>\n",
       "      <th>energy_water_heating</th>\n",
       "      <th>energy_cooking</th>\n",
       "    </tr>\n",
       "  </thead>\n",
       "  <tbody>\n",
       "    <tr>\n",
       "      <th>carbon</th>\n",
       "      <td>1.000000</td>\n",
       "      <td>0.950484</td>\n",
       "      <td>0.844733</td>\n",
       "      <td>0.947675</td>\n",
       "      <td>0.952764</td>\n",
       "    </tr>\n",
       "    <tr>\n",
       "      <th>energy_heating</th>\n",
       "      <td>0.950484</td>\n",
       "      <td>1.000000</td>\n",
       "      <td>0.920472</td>\n",
       "      <td>0.994126</td>\n",
       "      <td>0.992522</td>\n",
       "    </tr>\n",
       "    <tr>\n",
       "      <th>energy_cooling</th>\n",
       "      <td>0.844733</td>\n",
       "      <td>0.920472</td>\n",
       "      <td>1.000000</td>\n",
       "      <td>0.924791</td>\n",
       "      <td>0.929758</td>\n",
       "    </tr>\n",
       "    <tr>\n",
       "      <th>energy_water_heating</th>\n",
       "      <td>0.947675</td>\n",
       "      <td>0.994126</td>\n",
       "      <td>0.924791</td>\n",
       "      <td>1.000000</td>\n",
       "      <td>0.994235</td>\n",
       "    </tr>\n",
       "    <tr>\n",
       "      <th>energy_cooking</th>\n",
       "      <td>0.952764</td>\n",
       "      <td>0.992522</td>\n",
       "      <td>0.929758</td>\n",
       "      <td>0.994235</td>\n",
       "      <td>1.000000</td>\n",
       "    </tr>\n",
       "  </tbody>\n",
       "</table>\n",
       "</div>"
      ],
      "text/plain": [
       "                        carbon  energy_heating  energy_cooling  \\\n",
       "carbon                1.000000        0.950484        0.844733   \n",
       "energy_heating        0.950484        1.000000        0.920472   \n",
       "energy_cooling        0.844733        0.920472        1.000000   \n",
       "energy_water_heating  0.947675        0.994126        0.924791   \n",
       "energy_cooking        0.952764        0.992522        0.929758   \n",
       "\n",
       "                      energy_water_heating  energy_cooking  \n",
       "carbon                            0.947675        0.952764  \n",
       "energy_heating                    0.994126        0.992522  \n",
       "energy_cooling                    0.924791        0.929758  \n",
       "energy_water_heating              1.000000        0.994235  \n",
       "energy_cooking                    0.994235        1.000000  "
      ]
     },
     "execution_count": 200,
     "metadata": {},
     "output_type": "execute_result"
    }
   ],
   "source": [
    "res_carbon_df.iloc[:, 2:].corr()"
   ]
  },
  {
   "cell_type": "markdown",
   "metadata": {},
   "source": [
    "## Standardize"
   ]
  },
  {
   "cell_type": "code",
   "execution_count": 202,
   "metadata": {},
   "outputs": [],
   "source": [
    "res_carbon_df.drop(res_carbon_df[(res_carbon_df.geo == \"EU27_2020\") | (res_carbon_df.geo == \"EU20\")].index, inplace=True)"
   ]
  },
  {
   "cell_type": "code",
   "execution_count": 230,
   "metadata": {},
   "outputs": [],
   "source": [
    "# TEST\n",
    "res_carbon_df.drop(\"year\", axis=1, inplace=True)"
   ]
  },
  {
   "cell_type": "code",
   "execution_count": 289,
   "metadata": {},
   "outputs": [],
   "source": [
    "res_carbon_df.to_clipboard()"
   ]
  },
  {
   "cell_type": "code",
   "execution_count": 231,
   "metadata": {},
   "outputs": [
    {
     "data": {
      "text/html": [
       "<div>\n",
       "<style scoped>\n",
       "    .dataframe tbody tr th:only-of-type {\n",
       "        vertical-align: middle;\n",
       "    }\n",
       "\n",
       "    .dataframe tbody tr th {\n",
       "        vertical-align: top;\n",
       "    }\n",
       "\n",
       "    .dataframe thead th {\n",
       "        text-align: right;\n",
       "    }\n",
       "</style>\n",
       "<table border=\"1\" class=\"dataframe\">\n",
       "  <thead>\n",
       "    <tr style=\"text-align: right;\">\n",
       "      <th></th>\n",
       "      <th>carbon</th>\n",
       "      <th>energy_heating</th>\n",
       "      <th>energy_cooling</th>\n",
       "      <th>energy_water_heating</th>\n",
       "      <th>energy_cooking</th>\n",
       "      <th>geo</th>\n",
       "    </tr>\n",
       "  </thead>\n",
       "  <tbody>\n",
       "    <tr>\n",
       "      <th>0</th>\n",
       "      <td>-0.270778</td>\n",
       "      <td>0.005791</td>\n",
       "      <td>-0.467261</td>\n",
       "      <td>-0.075604</td>\n",
       "      <td>-0.354672</td>\n",
       "      <td>AT</td>\n",
       "    </tr>\n",
       "    <tr>\n",
       "      <th>1</th>\n",
       "      <td>-0.281369</td>\n",
       "      <td>-0.049254</td>\n",
       "      <td>-0.465859</td>\n",
       "      <td>-0.063681</td>\n",
       "      <td>-0.358060</td>\n",
       "      <td>AT</td>\n",
       "    </tr>\n",
       "    <tr>\n",
       "      <th>2</th>\n",
       "      <td>-0.295793</td>\n",
       "      <td>-0.036870</td>\n",
       "      <td>-0.462471</td>\n",
       "      <td>-0.057498</td>\n",
       "      <td>-0.354234</td>\n",
       "      <td>AT</td>\n",
       "    </tr>\n",
       "    <tr>\n",
       "      <th>3</th>\n",
       "      <td>-0.294139</td>\n",
       "      <td>-0.010251</td>\n",
       "      <td>-0.463656</td>\n",
       "      <td>-0.061208</td>\n",
       "      <td>-0.344978</td>\n",
       "      <td>AT</td>\n",
       "    </tr>\n",
       "    <tr>\n",
       "      <th>4</th>\n",
       "      <td>-0.312524</td>\n",
       "      <td>-0.081533</td>\n",
       "      <td>-0.464919</td>\n",
       "      <td>-0.049312</td>\n",
       "      <td>-0.350685</td>\n",
       "      <td>AT</td>\n",
       "    </tr>\n",
       "  </tbody>\n",
       "</table>\n",
       "</div>"
      ],
      "text/plain": [
       "     carbon  energy_heating  energy_cooling  energy_water_heating  \\\n",
       "0 -0.270778        0.005791       -0.467261             -0.075604   \n",
       "1 -0.281369       -0.049254       -0.465859             -0.063681   \n",
       "2 -0.295793       -0.036870       -0.462471             -0.057498   \n",
       "3 -0.294139       -0.010251       -0.463656             -0.061208   \n",
       "4 -0.312524       -0.081533       -0.464919             -0.049312   \n",
       "\n",
       "   energy_cooking geo  \n",
       "0       -0.354672  AT  \n",
       "1       -0.358060  AT  \n",
       "2       -0.354234  AT  \n",
       "3       -0.344978  AT  \n",
       "4       -0.350685  AT  "
      ]
     },
     "execution_count": 231,
     "metadata": {},
     "output_type": "execute_result"
    }
   ],
   "source": [
    "df_merged_s = pd.DataFrame()\n",
    "for feat in res_carbon_df.columns:\n",
    "\tif feat == \"geo\": continue\n",
    "\tdf_merged_s[f'{feat}'] = ((res_carbon_df[feat] - res_carbon_df[feat].mean()) / res_carbon_df[feat].std())\n",
    "df_merged_s[\"geo\"] = res_carbon_df[\"geo\"]\n",
    "# df_merged_s[\"year\"] = res_carbon_df[\"year\"]\n",
    "df_merged_s.head()"
   ]
  },
  {
   "cell_type": "markdown",
   "metadata": {},
   "source": [
    "## Dummies"
   ]
  },
  {
   "cell_type": "code",
   "execution_count": 232,
   "metadata": {},
   "outputs": [
    {
     "name": "stdout",
     "output_type": "stream",
     "text": [
      "(364, 33)\n"
     ]
    },
    {
     "data": {
      "text/html": [
       "<div>\n",
       "<style scoped>\n",
       "    .dataframe tbody tr th:only-of-type {\n",
       "        vertical-align: middle;\n",
       "    }\n",
       "\n",
       "    .dataframe tbody tr th {\n",
       "        vertical-align: top;\n",
       "    }\n",
       "\n",
       "    .dataframe thead th {\n",
       "        text-align: right;\n",
       "    }\n",
       "</style>\n",
       "<table border=\"1\" class=\"dataframe\">\n",
       "  <thead>\n",
       "    <tr style=\"text-align: right;\">\n",
       "      <th></th>\n",
       "      <th>carbon</th>\n",
       "      <th>energy_heating</th>\n",
       "      <th>energy_cooling</th>\n",
       "      <th>energy_water_heating</th>\n",
       "      <th>energy_cooking</th>\n",
       "      <th>geo_AT</th>\n",
       "      <th>geo_BE</th>\n",
       "      <th>geo_BG</th>\n",
       "      <th>geo_CY</th>\n",
       "      <th>geo_CZ</th>\n",
       "      <th>...</th>\n",
       "      <th>geo_LV</th>\n",
       "      <th>geo_MT</th>\n",
       "      <th>geo_NL</th>\n",
       "      <th>geo_NO</th>\n",
       "      <th>geo_PL</th>\n",
       "      <th>geo_PT</th>\n",
       "      <th>geo_RO</th>\n",
       "      <th>geo_SE</th>\n",
       "      <th>geo_SI</th>\n",
       "      <th>geo_SK</th>\n",
       "    </tr>\n",
       "  </thead>\n",
       "  <tbody>\n",
       "    <tr>\n",
       "      <th>0</th>\n",
       "      <td>-0.270778</td>\n",
       "      <td>0.005791</td>\n",
       "      <td>-0.467261</td>\n",
       "      <td>-0.075604</td>\n",
       "      <td>-0.354672</td>\n",
       "      <td>1</td>\n",
       "      <td>0</td>\n",
       "      <td>0</td>\n",
       "      <td>0</td>\n",
       "      <td>0</td>\n",
       "      <td>...</td>\n",
       "      <td>0</td>\n",
       "      <td>0</td>\n",
       "      <td>0</td>\n",
       "      <td>0</td>\n",
       "      <td>0</td>\n",
       "      <td>0</td>\n",
       "      <td>0</td>\n",
       "      <td>0</td>\n",
       "      <td>0</td>\n",
       "      <td>0</td>\n",
       "    </tr>\n",
       "    <tr>\n",
       "      <th>1</th>\n",
       "      <td>-0.281369</td>\n",
       "      <td>-0.049254</td>\n",
       "      <td>-0.465859</td>\n",
       "      <td>-0.063681</td>\n",
       "      <td>-0.358060</td>\n",
       "      <td>1</td>\n",
       "      <td>0</td>\n",
       "      <td>0</td>\n",
       "      <td>0</td>\n",
       "      <td>0</td>\n",
       "      <td>...</td>\n",
       "      <td>0</td>\n",
       "      <td>0</td>\n",
       "      <td>0</td>\n",
       "      <td>0</td>\n",
       "      <td>0</td>\n",
       "      <td>0</td>\n",
       "      <td>0</td>\n",
       "      <td>0</td>\n",
       "      <td>0</td>\n",
       "      <td>0</td>\n",
       "    </tr>\n",
       "    <tr>\n",
       "      <th>2</th>\n",
       "      <td>-0.295793</td>\n",
       "      <td>-0.036870</td>\n",
       "      <td>-0.462471</td>\n",
       "      <td>-0.057498</td>\n",
       "      <td>-0.354234</td>\n",
       "      <td>1</td>\n",
       "      <td>0</td>\n",
       "      <td>0</td>\n",
       "      <td>0</td>\n",
       "      <td>0</td>\n",
       "      <td>...</td>\n",
       "      <td>0</td>\n",
       "      <td>0</td>\n",
       "      <td>0</td>\n",
       "      <td>0</td>\n",
       "      <td>0</td>\n",
       "      <td>0</td>\n",
       "      <td>0</td>\n",
       "      <td>0</td>\n",
       "      <td>0</td>\n",
       "      <td>0</td>\n",
       "    </tr>\n",
       "    <tr>\n",
       "      <th>3</th>\n",
       "      <td>-0.294139</td>\n",
       "      <td>-0.010251</td>\n",
       "      <td>-0.463656</td>\n",
       "      <td>-0.061208</td>\n",
       "      <td>-0.344978</td>\n",
       "      <td>1</td>\n",
       "      <td>0</td>\n",
       "      <td>0</td>\n",
       "      <td>0</td>\n",
       "      <td>0</td>\n",
       "      <td>...</td>\n",
       "      <td>0</td>\n",
       "      <td>0</td>\n",
       "      <td>0</td>\n",
       "      <td>0</td>\n",
       "      <td>0</td>\n",
       "      <td>0</td>\n",
       "      <td>0</td>\n",
       "      <td>0</td>\n",
       "      <td>0</td>\n",
       "      <td>0</td>\n",
       "    </tr>\n",
       "    <tr>\n",
       "      <th>4</th>\n",
       "      <td>-0.312524</td>\n",
       "      <td>-0.081533</td>\n",
       "      <td>-0.464919</td>\n",
       "      <td>-0.049312</td>\n",
       "      <td>-0.350685</td>\n",
       "      <td>1</td>\n",
       "      <td>0</td>\n",
       "      <td>0</td>\n",
       "      <td>0</td>\n",
       "      <td>0</td>\n",
       "      <td>...</td>\n",
       "      <td>0</td>\n",
       "      <td>0</td>\n",
       "      <td>0</td>\n",
       "      <td>0</td>\n",
       "      <td>0</td>\n",
       "      <td>0</td>\n",
       "      <td>0</td>\n",
       "      <td>0</td>\n",
       "      <td>0</td>\n",
       "      <td>0</td>\n",
       "    </tr>\n",
       "  </tbody>\n",
       "</table>\n",
       "<p>5 rows × 33 columns</p>\n",
       "</div>"
      ],
      "text/plain": [
       "     carbon  energy_heating  energy_cooling  energy_water_heating  \\\n",
       "0 -0.270778        0.005791       -0.467261             -0.075604   \n",
       "1 -0.281369       -0.049254       -0.465859             -0.063681   \n",
       "2 -0.295793       -0.036870       -0.462471             -0.057498   \n",
       "3 -0.294139       -0.010251       -0.463656             -0.061208   \n",
       "4 -0.312524       -0.081533       -0.464919             -0.049312   \n",
       "\n",
       "   energy_cooking  geo_AT  geo_BE  geo_BG  geo_CY  geo_CZ  ...  geo_LV  \\\n",
       "0       -0.354672       1       0       0       0       0  ...       0   \n",
       "1       -0.358060       1       0       0       0       0  ...       0   \n",
       "2       -0.354234       1       0       0       0       0  ...       0   \n",
       "3       -0.344978       1       0       0       0       0  ...       0   \n",
       "4       -0.350685       1       0       0       0       0  ...       0   \n",
       "\n",
       "   geo_MT  geo_NL  geo_NO  geo_PL  geo_PT  geo_RO  geo_SE  geo_SI  geo_SK  \n",
       "0       0       0       0       0       0       0       0       0       0  \n",
       "1       0       0       0       0       0       0       0       0       0  \n",
       "2       0       0       0       0       0       0       0       0       0  \n",
       "3       0       0       0       0       0       0       0       0       0  \n",
       "4       0       0       0       0       0       0       0       0       0  \n",
       "\n",
       "[5 rows x 33 columns]"
      ]
     },
     "execution_count": 232,
     "metadata": {},
     "output_type": "execute_result"
    }
   ],
   "source": [
    "df_dummies = pd.get_dummies(df_merged_s, dtype=int)\n",
    "print(df_dummies.shape)\n",
    "df_dummies.head()"
   ]
  },
  {
   "cell_type": "code",
   "execution_count": 288,
   "metadata": {},
   "outputs": [],
   "source": [
    "df_dummies = df_dummies.fillna(0)"
   ]
  },
  {
   "cell_type": "markdown",
   "metadata": {},
   "source": [
    "## Linear Regression"
   ]
  },
  {
   "cell_type": "code",
   "execution_count": 234,
   "metadata": {},
   "outputs": [
    {
     "data": {
      "text/plain": [
       "array([[ 1.        ,  0.00579135, -0.46726144, -0.07560401, -0.35467208,\n",
       "         1.        ,  0.        ,  0.        ,  0.        ,  0.        ,\n",
       "         0.        ,  0.        ,  0.        ,  0.        ,  0.        ,\n",
       "         0.        ,  0.        ,  0.        ,  0.        ,  0.        ,\n",
       "         0.        ,  0.        ,  0.        ,  0.        ,  0.        ,\n",
       "         0.        ,  0.        ,  0.        ,  0.        ,  0.        ,\n",
       "         0.        ,  0.        ,  0.        ],\n",
       "       [ 1.        , -0.04925367, -0.46585892, -0.0636813 , -0.35805979,\n",
       "         1.        ,  0.        ,  0.        ,  0.        ,  0.        ,\n",
       "         0.        ,  0.        ,  0.        ,  0.        ,  0.        ,\n",
       "         0.        ,  0.        ,  0.        ,  0.        ,  0.        ,\n",
       "         0.        ,  0.        ,  0.        ,  0.        ,  0.        ,\n",
       "         0.        ,  0.        ,  0.        ,  0.        ,  0.        ,\n",
       "         0.        ,  0.        ,  0.        ]])"
      ]
     },
     "execution_count": 234,
     "metadata": {},
     "output_type": "execute_result"
    }
   ],
   "source": [
    "X = np.pad(df_dummies.iloc[:, 1:].to_numpy(), ((0,0), (1,0)), mode=\"constant\", constant_values=1)\n",
    "y = np.array(df_dummies[\"carbon\"])\n",
    "X[0:2,]"
   ]
  },
  {
   "cell_type": "code",
   "execution_count": 235,
   "metadata": {},
   "outputs": [
    {
     "data": {
      "text/plain": [
       "array([ 0.37222448,  0.5223011 , -0.05161035, -0.61810575,  0.12303269,\n",
       "       -0.36377837, -0.8083168 , -0.98725832, -1.43894754, -0.72166141,\n",
       "        3.67563685, -0.82824913, -1.18894754, -1.10229215,  1.04523083,\n",
       "       -0.90493835,  0.51144635, -1.31676292, -0.98725832, -0.88219065,\n",
       "        0.85654786, -0.72729215, -1.32672908, -1.15060293, -1.47729215,\n",
       "       -0.42639073, -0.9560645 ,  0.75277552, -0.86484897, -0.68179675,\n",
       "       -0.78990451, -1.21169524, -1.04964596])"
      ]
     },
     "execution_count": 235,
     "metadata": {},
     "output_type": "execute_result"
    }
   ],
   "source": [
    "m = np.matmul(np.linalg.inv(np.matmul(X.T, X)), np.matmul(X.T, y))\n",
    "np.set_printoptions(suppress=True) #this just prevents python from printing it out in inconvenient scientific notation\n",
    "m"
   ]
  },
  {
   "cell_type": "code",
   "execution_count": 236,
   "metadata": {},
   "outputs": [
    {
     "name": "stdout",
     "output_type": "stream",
     "text": [
      "[-0.30945998 -0.28344126 -0.30080717 -0.31654979 -0.28971399]\n"
     ]
    },
    {
     "data": {
      "text/plain": [
       "64.1"
      ]
     },
     "execution_count": 236,
     "metadata": {},
     "output_type": "execute_result"
    }
   ],
   "source": [
    "# get the residuals\n",
    "res = y - np.matmul(X, m)\n",
    "print(res[0:5])\n",
    "round(sum(res), 1)"
   ]
  },
  {
   "cell_type": "code",
   "execution_count": 237,
   "metadata": {},
   "outputs": [
    {
     "data": {
      "image/png": "[encoded data removed]",
      "text/plain": [
       "<Figure size 640x480 with 1 Axes>"
      ]
     },
     "metadata": {},
     "output_type": "display_data"
    }
   ],
   "source": [
    "# x values versus residuals\n",
    "plt.scatter(X[:, 1:2], res, alpha=0.5)\n",
    "plt.xlabel(\"Energy\")\n",
    "plt.ylabel(\"Carbon\")\n",
    "plt.title(\"Residual Plot vs. X Values\")\n",
    "plt.show()"
   ]
  },
  {
   "cell_type": "code",
   "execution_count": 238,
   "metadata": {},
   "outputs": [
    {
     "data": {
      "image/png": "[encoded data removed]",
      "text/plain": [
       "<Figure size 640x480 with 1 Axes>"
      ]
     },
     "metadata": {},
     "output_type": "display_data"
    }
   ],
   "source": [
    "# residuals versus order\n",
    "plt.scatter(range(len(X[:,1:2])), res, alpha=0.5)\n",
    "plt.xlabel(\"Index\")\n",
    "plt.ylabel(\"Residuals\")\n",
    "plt.title(\"Residual Plot vs. Order\")\n",
    "plt.show()"
   ]
  },
  {
   "cell_type": "code",
   "execution_count": 244,
   "metadata": {},
   "outputs": [
    {
     "data": {
      "application/vnd.plotly.v1+json": {
       "config": {
        "plotlyServerURL": "https://plot.ly"
       },
       "data": [
        {
         "hovertemplate": "geo=AT<br>energy_heating=%{x}<br>carbon=%{y}<extra></extra>",
         "legendgroup": "AT",
         "marker": {
          "color": "#636efa",
          "symbol": "circle"
         },
         "mode": "markers",
         "name": "AT",
         "orientation": "v",
         "showlegend": true,
         "type": "scatter",
         "x": [
          0.0057913523616195265,
          -0.04925367308990639,
          -0.036869829244986614,
          -0.010250831096153564,
          -0.08153305370024604,
          -0.040918048299626066,
          -0.014613003309646584,
          -0.010766344639981287,
          -0.05253841808675039,
          -0.041062870703033036,
          -0.024569076583633147,
          0.051810161750387974,
          -0.04839624953674346
         ],
         "xaxis": "x",
         "y": [
          -0.27077849119025227,
          -0.2813685320038584,
          -0.2957925930817268,
          -0.29413850301102845,
          -0.3125239955174324,
          -0.30040425196043735,
          -0.29464435505904835,
          -0.2830990380222363,
          -0.29850410356324025,
          -0.29064023115270116,
          -0.33115236875894943,
          -0.3131379369240413,
          -0.33246614904253
         ],
         "yaxis": "y"
        },
        {
         "hovertemplate": "geo=BE<br>energy_heating=%{x}<br>carbon=%{y}<extra></extra>",
         "legendgroup": "BE",
         "marker": {
          "color": "#EF553B",
          "symbol": "circle"
         },
         "mode": "markers",
         "name": "BE",
         "orientation": "v",
         "showlegend": true,
         "type": "scatter",
         "x": [
          -0.553152907706491,
          -0.553152907706491,
          -0.553152907706491,
          -0.553152907706491,
          -0.553152907706491,
          -0.553152907706491,
          0.1173130624289136,
          0.10651308433205275,
          0.10092063368839105,
          0.08206209476115468,
          0.07673103882014894,
          0.1530083754645151,
          0.021906664303737063
         ],
         "xaxis": "x",
         "y": [
          -0.01001350298613722,
          -0.06150386006979122,
          -0.0774213378474823,
          -0.07807366660808986,
          -0.10629764831389903,
          -0.08282708706378353,
          -0.09100938488205791,
          -0.09135763864763995,
          -0.08580828280129302,
          -0.09123135501579385,
          -0.14679015660561925,
          -0.12777683354316233,
          -0.1579758933011033
         ],
         "yaxis": "y"
        },
        {
         "hovertemplate": "geo=BG<br>energy_heating=%{x}<br>carbon=%{y}<extra></extra>",
         "legendgroup": "BG",
         "marker": {
          "color": "#00cc96",
          "symbol": "circle"
         },
         "mode": "markers",
         "name": "BG",
         "orientation": "v",
         "showlegend": true,
         "type": "scatter",
         "x": [
          -0.41974747227988884,
          -0.40893513261589487,
          -0.41048537722624545,
          -0.4195754380488538,
          -0.4287572265078939,
          -0.424953322110705,
          -0.41907903354864096,
          -0.4143722935492503,
          -0.42307454884120727,
          -0.42849395075462904,
          -0.409438836754917,
          -0.4118395434460227,
          -0.4442905435051706
         ],
         "xaxis": "x",
         "y": [
          -0.4083849061732035,
          -0.3808133557309499,
          -0.4070654882274869,
          -0.4345517562170653,
          -0.41923048683599173,
          -0.4028192011066622,
          -0.41573144620555497,
          -0.4061028317920303,
          -0.42823798463655255,
          -0.43516221252344467,
          -0.4677236064707857,
          -0.4361710977884164,
          -0.4131516520121277
         ],
         "yaxis": "y"
        },
        {
         "hovertemplate": "geo=CY<br>energy_heating=%{x}<br>carbon=%{y}<extra></extra>",
         "legendgroup": "CY",
         "marker": {
          "color": "#ab63fa",
          "symbol": "circle"
         },
         "mode": "markers",
         "name": "CY",
         "orientation": "v",
         "showlegend": true,
         "type": "scatter",
         "x": [
          -0.553152907706491,
          -0.553152907706491,
          -0.553152907706491,
          -0.553152907706491,
          -0.553152907706491,
          -0.553152907706491,
          -0.553152907706491,
          -0.553152907706491,
          -0.5403928299624743,
          -0.5384537230514674,
          -0.5382391934566071,
          -0.5394363817759951,
          -0.5384484524110676
         ],
         "xaxis": "x",
         "y": [
          -0.663133688854638,
          -0.6645245001035858,
          -0.6674088305553042,
          -0.671307991442974,
          -0.6693959527038174,
          -0.6692860182921657,
          -0.6664302349114449,
          -0.6649450184474563,
          -0.6652660064288899,
          -0.6650627430831505,
          -0.6705882157426305,
          -0.6683737933070892,
          -0.6668973920966224
         ],
         "yaxis": "y"
        },
        {
         "hovertemplate": "geo=CZ<br>energy_heating=%{x}<br>carbon=%{y}<extra></extra>",
         "legendgroup": "CZ",
         "marker": {
          "color": "#FFA15A",
          "symbol": "circle"
         },
         "mode": "markers",
         "name": "CZ",
         "orientation": "v",
         "showlegend": true,
         "type": "scatter",
         "x": [
          -0.553152907706491,
          -0.553152907706491,
          -0.553152907706491,
          -0.553152907706491,
          -0.553152907706491,
          -0.04781510264983166,
          -0.015996006140934563,
          -0.00017952233697435,
          -0.010358338950684854,
          -0.015914217426399434,
          -0.0059569447184572265,
          0.05482205401579696,
          0.0025569122589375014
         ],
         "xaxis": "x",
         "y": [
          0.014304091374173235,
          0.006906709879649978,
          -0.013711091826708576,
          -0.042054745724222506,
          -0.05319532987114469,
          -0.04476230984224082,
          -0.036658426779130546,
          -0.03197650212961603,
          -0.04069222528890256,
          -0.070824606879217,
          -0.1296941511841372,
          -0.10148031727017286,
          -0.10862754032028016
         ],
         "yaxis": "y"
        },
        {
         "hovertemplate": "geo=DE<br>energy_heating=%{x}<br>carbon=%{y}<extra></extra>",
         "legendgroup": "DE",
         "marker": {
          "color": "#19d3f3",
          "symbol": "circle"
         },
         "mode": "markers",
         "name": "DE",
         "orientation": "v",
         "showlegend": true,
         "type": "scatter",
         "x": [
          4.392558780753839,
          3.5233304118090696,
          3.8728605677284262,
          4.324453478261057,
          3.4105075008346466,
          3.5614809001037573,
          3.7623687962756827,
          3.6734129037674084,
          3.541855822485712,
          3.72808943880205,
          3.743977872791798,
          3.7312401906461132,
          3.635085617850888
         ],
         "xaxis": "x",
         "y": [
          4.165294426517055,
          4.038303985593536,
          4.100341127246771,
          4.1899577120692495,
          3.9769744730413152,
          4.020033757652076,
          4.006350792887719,
          3.9441467764352596,
          3.8044956326470603,
          3.521571762165978,
          3.105420248882964,
          3.2710026909406897,
          3.2682282436491485
         ],
         "yaxis": "y"
        },
        {
         "hovertemplate": "geo=DK<br>energy_heating=%{x}<br>carbon=%{y}<extra></extra>",
         "legendgroup": "DK",
         "marker": {
          "color": "#FF6692",
          "symbol": "circle"
         },
         "mode": "markers",
         "name": "DK",
         "orientation": "v",
         "showlegend": true,
         "type": "scatter",
         "x": [
          -0.553152907706491,
          -0.553152907706491,
          -0.553152907706491,
          -0.553152907706491,
          -0.553152907706491,
          -0.25660733992145596,
          -0.23452258256217628,
          -0.23873741197580037,
          -0.25263908136924307,
          -0.26236947348289186,
          -0.2743204484822231,
          -0.2527297892226203,
          -0.29767842876274886
         ],
         "xaxis": "x",
         "y": [
          -0.3718855027209283,
          -0.39837882465393765,
          -0.42169624649985016,
          -0.41305037909957576,
          -0.43356993173034636,
          -0.4478492073942678,
          -0.4365851584465676,
          -0.448063899818701,
          -0.44825773289323095,
          -0.46797166360476905,
          -0.4926987572420479,
          -0.48614230993231794,
          -0.48920586678848677
         ],
         "yaxis": "y"
        },
        {
         "hovertemplate": "geo=EE<br>energy_heating=%{x}<br>carbon=%{y}<extra></extra>",
         "legendgroup": "EE",
         "marker": {
          "color": "#B6E880",
          "symbol": "circle"
         },
         "mode": "markers",
         "name": "EE",
         "orientation": "v",
         "showlegend": true,
         "type": "scatter",
         "x": [
          -0.47029745518327115,
          -0.47890049562331083,
          -0.4754379807762297,
          -0.4784412550822481,
          -0.4813917780715431,
          -0.4836389730678759,
          -0.47842435204601846,
          -0.4779718510556625,
          -0.47749496509744166,
          -0.4762283126437016,
          -0.4779684958108967,
          -0.47734239656989813,
          -0.47552045639126805
         ],
         "xaxis": "x",
         "y": [
          -0.6073146322800259,
          -0.6073509183235921,
          -0.6128270358136452,
          -0.6033918957143328,
          -0.6076864104721572,
          -0.6233724878449031,
          -0.6151369909966545,
          -0.6086287713239242,
          -0.6126338177568028,
          -0.6405168746578066,
          -0.6574504129068243,
          -0.6508229823056549,
          -0.6435662861071616
         ],
         "yaxis": "y"
        },
        {
         "hovertemplate": "geo=EL<br>energy_heating=%{x}<br>carbon=%{y}<extra></extra>",
         "legendgroup": "EL",
         "marker": {
          "color": "#FF97FF",
          "symbol": "circle"
         },
         "mode": "markers",
         "name": "EL",
         "orientation": "v",
         "showlegend": true,
         "type": "scatter",
         "x": [
          -0.553152907706491,
          -0.553152907706491,
          -0.553152907706491,
          -0.3567487862725314,
          -0.553152907706491,
          -0.25182339758935174,
          -0.2861750513409505,
          -0.2800201322202149,
          -0.3226455950006528,
          -0.3006598781262395,
          -0.2859027639814682,
          -0.3047227123100478,
          -0.28215208380557993
         ],
         "xaxis": "x",
         "y": [
          -0.09152476970423495,
          -0.10620308934443637,
          -0.12445066413440446,
          -0.17351528895536553,
          -0.1891519086557366,
          -0.20875595620709694,
          -0.22650198407285818,
          -0.20494535786643603,
          -0.21933841180255645,
          -0.2530280556977302,
          -0.32035419570957746,
          -0.3032087326157206,
          -0.29445231578610703
         ],
         "yaxis": "y"
        },
        {
         "hovertemplate": "geo=ES<br>energy_heating=%{x}<br>carbon=%{y}<extra></extra>",
         "legendgroup": "ES",
         "marker": {
          "color": "#FECB52",
          "symbol": "circle"
         },
         "mode": "markers",
         "name": "ES",
         "orientation": "v",
         "showlegend": true,
         "type": "scatter",
         "x": [
          0.25243181528725916,
          0.16811872026729993,
          0.16143495380719874,
          0.1477577925593883,
          0.14808728287924003,
          0.19045680389024758,
          0.08959129307678726,
          0.08504920048609697,
          0.1155716745439128,
          0.07575173005653697,
          0.08605572371926204,
          0.09283471836643664,
          0.07031543567458562
         ],
         "xaxis": "x",
         "y": [
          1.165988621922277,
          1.1709005119354658,
          1.1321506562614532,
          0.994000206882379,
          1.0044509461897526,
          1.0644113781179858,
          1.0117271179483518,
          1.0850245159402139,
          1.0598277025440594,
          0.965801338398812,
          0.7032542339420379,
          0.8053213393344724,
          0.869177805810464
         ],
         "yaxis": "y"
        },
        {
         "hovertemplate": "geo=FI<br>energy_heating=%{x}<br>carbon=%{y}<extra></extra>",
         "legendgroup": "FI",
         "marker": {
          "color": "#636efa",
          "symbol": "circle"
         },
         "mode": "markers",
         "name": "FI",
         "orientation": "v",
         "showlegend": true,
         "type": "scatter",
         "x": [
          -0.553152907706491,
          -0.553152907706491,
          -0.553152907706491,
          -0.553152907706491,
          -0.553152907706491,
          -0.20109201483076522,
          -0.16291225400693865,
          -0.12260299858800852,
          -0.1305765528391837,
          -0.14141907121259492,
          -0.18091173931327942,
          -0.11290701490572184,
          -0.14314359833216628
         ],
         "xaxis": "x",
         "y": [
          -0.32063684758848626,
          -0.3587797833078233,
          -0.3875434430344682,
          -0.3848260386334489,
          -0.40642059093060406,
          -0.4241405317961179,
          -0.40951459116230726,
          -0.4232308181332656,
          -0.41696025154530403,
          -0.43285133481390403,
          -0.46723979255657017,
          -0.4677289366240779,
          -0.4733260588441589
         ],
         "yaxis": "y"
        },
        {
         "hovertemplate": "geo=FR<br>energy_heating=%{x}<br>carbon=%{y}<extra></extra>",
         "legendgroup": "FR",
         "marker": {
          "color": "#EF553B",
          "symbol": "circle"
         },
         "mode": "markers",
         "name": "FR",
         "orientation": "v",
         "showlegend": true,
         "type": "scatter",
         "x": [
          3.1562576439596217,
          2.43041402208785,
          2.8735859313814993,
          3.1181375060994765,
          2.240820003968087,
          2.474151822482052,
          2.6777606081631156,
          2.5837882812797175,
          2.434724285758699,
          2.43293336970549,
          2.249065325119517,
          2.6373422201057712,
          2.214246034789166
         ],
         "xaxis": "x",
         "y": [
          1.9620982675870644,
          1.83853921534835,
          1.8442588285912038,
          1.8411212133551575,
          1.6758004100720165,
          1.6995957006611646,
          1.708231522772542,
          1.7228929806778095,
          1.6282695881123612,
          1.5812493333363307,
          1.3224884827700845,
          1.4400051912343974,
          1.3839804112432956
         ],
         "yaxis": "y"
        },
        {
         "hovertemplate": "geo=HR<br>energy_heating=%{x}<br>carbon=%{y}<extra></extra>",
         "legendgroup": "HR",
         "marker": {
          "color": "#00cc96",
          "symbol": "circle"
         },
         "mode": "markers",
         "name": "HR",
         "orientation": "v",
         "showlegend": true,
         "type": "scatter",
         "x": [
          -0.34244691543627903,
          -0.352832224908962,
          -0.360480629523081,
          -0.3643112517079207,
          -0.38930242247648766,
          -0.36751120412149035,
          -0.36818987238638645,
          -0.3722267760761976,
          -0.38064515916749264,
          -0.3859097099301602,
          -0.3805811902371664,
          -0.36798467142874514,
          -0.38242827361613996
         ],
         "xaxis": "x",
         "y": [
          -0.5631651775665873,
          -0.5640644871802251,
          -0.5724296502576013,
          -0.5782202467918945,
          -0.5816877165143697,
          -0.579230823355507,
          -0.5780633147786183,
          -0.5732293270058539,
          -0.5783295661858586,
          -0.5779333410406468,
          -0.5855688368832045,
          -0.5827961833932526,
          -0.5813826677413388
         ],
         "yaxis": "y"
        },
        {
         "hovertemplate": "geo=HU<br>energy_heating=%{x}<br>carbon=%{y}<extra></extra>",
         "legendgroup": "HU",
         "marker": {
          "color": "#ab63fa",
          "symbol": "circle"
         },
         "mode": "markers",
         "name": "HU",
         "orientation": "v",
         "showlegend": true,
         "type": "scatter",
         "x": [
          -0.553152907706491,
          -0.553152907706491,
          -0.553152907706491,
          -0.553152907706491,
          -0.553152907706491,
          -0.07076123059824281,
          -0.04955636372243183,
          -0.03795299736468762,
          -0.09150177915311723,
          -0.10926864560403751,
          -0.08206335674029341,
          -0.0363026026609653,
          -0.09018116802292296
         ],
         "xaxis": "x",
         "y": [
          -0.3713724242150796,
          -0.37994254193683585,
          -0.39800679020443647,
          -0.4134134445411333,
          -0.4114862866171574,
          -0.39498090318163087,
          -0.39209805902265743,
          -0.37951628342788135,
          -0.3789236113829673,
          -0.3802229900023642,
          -0.39310458671982673,
          -0.3873230616964251,
          -0.4067503429140853
         ],
         "yaxis": "y"
        },
        {
         "hovertemplate": "geo=IE<br>energy_heating=%{x}<br>carbon=%{y}<extra></extra>",
         "legendgroup": "IE",
         "marker": {
          "color": "#FFA15A",
          "symbol": "circle"
         },
         "mode": "markers",
         "name": "IE",
         "orientation": "v",
         "showlegend": true,
         "type": "scatter",
         "x": [
          -0.553152907706491,
          -0.553152907706491,
          -0.553152907706491,
          -0.553152907706491,
          -0.553152907706491,
          -0.36136338121133815,
          -0.34827938760924615,
          -0.3617103663586222,
          -0.34408988368879134,
          -0.352260166244093,
          -0.33607454739354437,
          -0.34881532059149506,
          -0.37795067834077845
         ],
         "xaxis": "x",
         "y": [
          -0.3823980513059016,
          -0.40503403355399525,
          -0.4011753100792826,
          -0.400934530654602,
          -0.40233784726319693,
          -0.3880345346579865,
          -0.3760297994085656,
          -0.3766335417718558,
          -0.3738114306095291,
          -0.3868482167901532,
          -0.40879625050323465,
          -0.39266443906142817,
          -0.3897429512910862
         ],
         "yaxis": "y"
        },
        {
         "hovertemplate": "geo=IT<br>energy_heating=%{x}<br>carbon=%{y}<extra></extra>",
         "legendgroup": "IT",
         "marker": {
          "color": "#19d3f3",
          "symbol": "circle"
         },
         "mode": "markers",
         "name": "IT",
         "orientation": "v",
         "showlegend": true,
         "type": "scatter",
         "x": [
          null,
          null,
          null,
          null,
          null,
          1.8760237564826112,
          1.8568130146061914,
          1.9081584441438695,
          1.7921164030222125,
          1.7311046322008874,
          1.6662045580459255,
          1.817715121434341,
          1.681515498931055
         ],
         "xaxis": "x",
         "y": [
          2.006766130959644,
          1.9409923468426775,
          1.8399348442358503,
          1.6551165452157188,
          1.5447904185484866,
          1.6016082638476994,
          1.587609795009624,
          1.5575020653782863,
          1.5407977749723072,
          1.4826326821770155,
          1.2462949664874927,
          1.4269901356787338,
          1.4338712610760227
         ],
         "yaxis": "y"
        },
        {
         "hovertemplate": "geo=LT<br>energy_heating=%{x}<br>carbon=%{y}<extra></extra>",
         "legendgroup": "LT",
         "marker": {
          "color": "#FF6692",
          "symbol": "circle"
         },
         "mode": "markers",
         "name": "LT",
         "orientation": "v",
         "showlegend": true,
         "type": "scatter",
         "x": [
          -0.553152907706491,
          -0.553152907706491,
          -0.553152907706491,
          -0.553152907706491,
          -0.553152907706491,
          -0.553152907706491,
          -0.553152907706491,
          -0.440055204827675,
          -0.43532946146166984,
          -0.4407575262472075,
          -0.4437743272092896,
          -0.4307606642929538,
          -0.43595037988771895
         ],
         "xaxis": "x",
         "y": [
          -0.6092968855385126,
          -0.6073306227399026,
          -0.6073427693392319,
          -0.6130199463616439,
          -0.6134182215658143,
          -0.6118603305117455,
          -0.6113149635772998,
          -0.6105174906424276,
          -0.6118361398160347,
          -0.6107684691104269,
          -0.6123730502572765,
          -0.611400194778501,
          -0.6173043133276235
         ],
         "yaxis": "y"
        },
        {
         "hovertemplate": "geo=LU<br>energy_heating=%{x}<br>carbon=%{y}<extra></extra>",
         "legendgroup": "LU",
         "marker": {
          "color": "#B6E880",
          "symbol": "circle"
         },
         "mode": "markers",
         "name": "LU",
         "orientation": "v",
         "showlegend": true,
         "type": "scatter",
         "x": [
          -0.506576364170271,
          -0.510875682345793,
          -0.510585427254301,
          -0.5092743244122265,
          -0.513071959521361,
          -0.5088757662467747,
          -0.5068670921663401,
          -0.5059295363856249,
          -0.5096070563740686,
          -0.5138707402650227,
          -0.5086897060358484,
          -0.510493501473493,
          -0.5130629056443433
         ],
         "xaxis": "x",
         "y": [
          -0.646980146787871,
          -0.6480255743537786,
          -0.6497093390279018,
          -0.6523598602553987,
          -0.6544203232631537,
          -0.656025365673269,
          -0.6564460890230355,
          -0.654493049104708,
          -0.6523292118739685,
          -0.6516727829954438,
          -0.6611924880267961,
          -0.6582280515212727,
          -0.6639632964636853
         ],
         "yaxis": "y"
        },
        {
         "hovertemplate": "geo=LV<br>energy_heating=%{x}<br>carbon=%{y}<extra></extra>",
         "legendgroup": "LV",
         "marker": {
          "color": "#FF97FF",
          "symbol": "circle"
         },
         "mode": "markers",
         "name": "LV",
         "orientation": "v",
         "showlegend": true,
         "type": "scatter",
         "x": [
          -0.45207263745069426,
          -0.4554410627803823,
          -0.4511729932939075,
          -0.4609137866663302,
          -0.46325106337981226,
          -0.4746500319251189,
          -0.4720802261816668,
          -0.466505611173764,
          -0.4635215595141361,
          -0.46691526278234324,
          -0.4742817053075843,
          -0.46757320514551665,
          -0.47398061039776634
         ],
         "xaxis": "x",
         "y": [
          -0.6531851114891591,
          -0.6572749791114473,
          -0.6581815664343877,
          -0.6585748189941099,
          -0.6592102347683094,
          -0.6590603242069661,
          -0.6588405066351367,
          -0.6583844710198092,
          -0.6556823908095052,
          -0.6563200103970852,
          -0.6612050446379172,
          -0.6596456160396295,
          -0.6617920790206951
         ],
         "yaxis": "y"
        },
        {
         "hovertemplate": "geo=MT<br>energy_heating=%{x}<br>carbon=%{y}<extra></extra>",
         "legendgroup": "MT",
         "marker": {
          "color": "#FECB52",
          "symbol": "circle"
         },
         "mode": "markers",
         "name": "MT",
         "orientation": "v",
         "showlegend": true,
         "type": "scatter",
         "x": [
          -0.553152907706491,
          -0.553152907706491,
          -0.553152907706491,
          -0.553152907706491,
          -0.553152907706491,
          -0.5519200216963348,
          -0.5520632853639845,
          -0.5510353229093435,
          -0.5513050528854138,
          -0.5509466202770508,
          -0.5507353481757308,
          -0.5505461255805647,
          -0.5504486649668557
         ],
         "xaxis": "x",
         "y": [
          -0.6992548051775885,
          -0.6991676776718505,
          -0.6983117780566599,
          -0.6997688062099686,
          -0.6996184856368337,
          -0.7031009720411802,
          -0.7044995735141704,
          -0.7034245225963118,
          -0.703179950562558,
          -0.7024429543669626,
          -0.704268378115121,
          -0.7039264795323105,
          -0.7023893453251968
         ],
         "yaxis": "y"
        },
        {
         "hovertemplate": "geo=NL<br>energy_heating=%{x}<br>carbon=%{y}<extra></extra>",
         "legendgroup": "NL",
         "marker": {
          "color": "#636efa",
          "symbol": "circle"
         },
         "mode": "markers",
         "name": "NL",
         "orientation": "v",
         "showlegend": true,
         "type": "scatter",
         "x": [
          0.4339877184343182,
          0.19284873146453704,
          0.2529635898795385,
          0.312938928234633,
          0.06445033308578985,
          0.1130160400862274,
          0.14618672957993956,
          0.12340841935024374,
          0.12315622647240605,
          0.10037446588864395,
          0.07512167321186983,
          0.18159515069459006,
          0.021171649062175626
         ],
         "xaxis": "x",
         "y": [
          0.43579775079429894,
          0.3651571267097576,
          0.3409493642581509,
          0.3393177223330487,
          0.29912354887127,
          0.3381753269784021,
          0.3426750526379762,
          0.33058995507738054,
          0.3045972062905729,
          0.2731028167796782,
          0.16115094210684952,
          0.17796998456303265,
          0.11943767495679243
         ],
         "yaxis": "y"
        },
        {
         "hovertemplate": "geo=NO<br>energy_heating=%{x}<br>carbon=%{y}<extra></extra>",
         "legendgroup": "NO",
         "marker": {
          "color": "#EF553B",
          "symbol": "circle"
         },
         "mode": "markers",
         "name": "NO",
         "orientation": "v",
         "showlegend": true,
         "type": "scatter",
         "x": [
          -0.18518950730647485,
          -0.23694799389407337,
          -0.211386603240446,
          -0.22300145933006937,
          -0.2541668564073629,
          -0.2358527759543906,
          -0.2231335423710664,
          -0.2167537425932717,
          -0.21538493746700055,
          -0.22244715704320897,
          -0.21937879363065896,
          -0.1981996828817943,
          -0.22557552649856655
         ],
         "xaxis": "x",
         "y": [
          -0.42873635396937376,
          -0.43344738945609956,
          -0.43563259855148173,
          -0.43392592446849687,
          -0.43145022201868954,
          -0.4290835314540026,
          -0.43374464800508794,
          -0.43693694856385307,
          -0.4356292159542001,
          -0.44502704498046713,
          -0.45969813816283966,
          -0.46085549894788364,
          -0.45839281437246304
         ],
         "yaxis": "y"
        },
        {
         "hovertemplate": "geo=PL<br>energy_heating=%{x}<br>carbon=%{y}<extra></extra>",
         "legendgroup": "PL",
         "marker": {
          "color": "#00cc96",
          "symbol": "circle"
         },
         "mode": "markers",
         "name": "PL",
         "orientation": "v",
         "showlegend": true,
         "type": "scatter",
         "x": [
          -0.553152907706491,
          -0.553152907706491,
          -0.553152907706491,
          -0.553152907706491,
          -0.553152907706491,
          0.8321046691995626,
          0.9075619153331168,
          0.9128039040561783,
          1.153426822677879,
          0.9874329780303069,
          0.9890426183987874,
          1.0474207413587349,
          0.8877044117201761
         ],
         "xaxis": "x",
         "y": [
          1.3785323795609745,
          1.371205673849047,
          1.3317638207735787,
          1.3095444617573346,
          1.245626237255217,
          1.2590058445451828,
          1.315302411102713,
          1.3928618816693803,
          1.395641761617161,
          1.2808677245305318,
          1.1948004067829738,
          1.3397702235332103,
          1.2491966711888847
         ],
         "yaxis": "y"
        },
        {
         "hovertemplate": "geo=PT<br>energy_heating=%{x}<br>carbon=%{y}<extra></extra>",
         "legendgroup": "PT",
         "marker": {
          "color": "#ab63fa",
          "symbol": "circle"
         },
         "mode": "markers",
         "name": "PT",
         "orientation": "v",
         "showlegend": true,
         "type": "scatter",
         "x": [
          -0.48836099660346355,
          -0.49185485260696726,
          -0.49210828190571076,
          -0.49208926004562126,
          -0.4695597900909222,
          -0.46984755913097737,
          -0.468750082345409,
          -0.4688087277968352,
          -0.46641495087503704,
          -0.46607109640889277,
          -0.45157930022542087,
          -0.4502794229227243,
          -0.4475278210353161
         ],
         "xaxis": "x",
         "y": [
          -0.3488956290451166,
          -0.3556151585449984,
          -0.36593213150532694,
          -0.37540176384661683,
          -0.37509548503821083,
          -0.3528971391262916,
          -0.3611904988886449,
          -0.33231142084263415,
          -0.3496348803055662,
          -0.36642809201887183,
          -0.4124334138560031,
          -0.4170907890494891,
          -0.4054709011180602
         ],
         "yaxis": "y"
        },
        {
         "hovertemplate": "geo=RO<br>energy_heating=%{x}<br>carbon=%{y}<extra></extra>",
         "legendgroup": "RO",
         "marker": {
          "color": "#FFA15A",
          "symbol": "circle"
         },
         "mode": "markers",
         "name": "RO",
         "orientation": "v",
         "showlegend": true,
         "type": "scatter",
         "x": [
          -0.553152907706491,
          -0.553152907706491,
          -0.553152907706491,
          -0.553152907706491,
          -0.553152907706491,
          -0.03462539506029177,
          -0.029933780081597357,
          -0.014297171742109219,
          -0.0133496030655968,
          -0.02020484895248047,
          -0.003891841761681954,
          0.04801119775297232,
          -0.016226043835617928
         ],
         "xaxis": "x",
         "y": [
          -0.07431857361373143,
          -0.03625400139808462,
          -0.052152874890726925,
          -0.1098490679507265,
          -0.10814167634710614,
          -0.11423368279977873,
          -0.12361690515596611,
          -0.10772459185199107,
          -0.10678397355033878,
          -0.12323385163956282,
          -0.14441326699761353,
          -0.12389022926661346,
          -0.15223065432126773
         ],
         "yaxis": "y"
        },
        {
         "hovertemplate": "geo=SE<br>energy_heating=%{x}<br>carbon=%{y}<extra></extra>",
         "legendgroup": "SE",
         "marker": {
          "color": "#19d3f3",
          "symbol": "circle"
         },
         "mode": "markers",
         "name": "SE",
         "orientation": "v",
         "showlegend": true,
         "type": "scatter",
         "x": [
          -0.553152907706491,
          -0.553152907706491,
          -0.553152907706491,
          -0.553152907706491,
          -0.553152907706491,
          -0.09266464358274355,
          -0.07557883898078058,
          -0.08529943483648321,
          -0.09918669517090814,
          -0.10217521168380704,
          -0.11088097016833047,
          -0.08356053564484417,
          -0.11445907187663096
         ],
         "xaxis": "x",
         "y": [
          -0.37619513666357196,
          -0.39767370687514764,
          -0.4131049619193469,
          -0.4210485816233733,
          -0.4298924334675686,
          -0.4313345986934279,
          -0.42996423678259155,
          -0.43353677202669194,
          -0.4372276469241741,
          -0.4449521153255325,
          -0.4753959008716491,
          -0.4662545854725696,
          -0.4746949857137242
         ],
         "yaxis": "y"
        },
        {
         "hovertemplate": "geo=SI<br>energy_heating=%{x}<br>carbon=%{y}<extra></extra>",
         "legendgroup": "SI",
         "marker": {
          "color": "#FF6692",
          "symbol": "circle"
         },
         "mode": "markers",
         "name": "SI",
         "orientation": "v",
         "showlegend": true,
         "type": "scatter",
         "x": [
          -0.44785336167727413,
          -0.4545351229162909,
          -0.4591428224308151,
          -0.46085500119287837,
          -0.4792574276182667,
          -0.4678815442137188,
          -0.46592788557974335,
          -0.4695114032343193,
          -0.477350002672009,
          -0.4800054675501395,
          -0.47779253039544295,
          -0.47080695306384557,
          -0.4821623377722219
         ],
         "xaxis": "x",
         "y": [
          -0.614406144977935,
          -0.6148058039719024,
          -0.6180441796057607,
          -0.6215940104468953,
          -0.6301090840856148,
          -0.6291335635301933,
          -0.6246666900654297,
          -0.6242088093970396,
          -0.6249972108210203,
          -0.6276541384827626,
          -0.6341828587450784,
          -0.633441659928618,
          -0.6356142099099312
         ],
         "yaxis": "y"
        },
        {
         "hovertemplate": "geo=SK<br>energy_heating=%{x}<br>carbon=%{y}<extra></extra>",
         "legendgroup": "SK",
         "marker": {
          "color": "#B6E880",
          "symbol": "circle"
         },
         "mode": "markers",
         "name": "SK",
         "orientation": "v",
         "showlegend": true,
         "type": "scatter",
         "x": [
          -0.553152907706491,
          -0.553152907706491,
          -0.553152907706491,
          -0.553152907706491,
          -0.553152907706491,
          -0.40277009492236165,
          -0.3995692046254125,
          -0.3942552181619121,
          -0.4009034454467459,
          -0.340312216248901,
          -0.33125022852147495,
          -0.3084059547080685,
          -0.3448673520233777
         ],
         "xaxis": "x",
         "y": [
          -0.4800902283778629,
          -0.48559151034163217,
          -0.4978143718642417,
          -0.49950971937148064,
          -0.509811521895516,
          -0.50588991286225,
          -0.503604814644113,
          -0.4977913087009581,
          -0.498628501528152,
          -0.5104530878465913,
          -0.5251399664829445,
          -0.5044351910252699,
          -0.5253869473359747
         ],
         "yaxis": "y"
        }
       ],
       "layout": {
        "legend": {
         "title": {
          "text": "geo"
         },
         "tracegroupgap": 0
        },
        "margin": {
         "t": 60
        },
        "template": {
         "data": {
          "bar": [
           {
            "error_x": {
             "color": "#2a3f5f"
            },
            "error_y": {
             "color": "#2a3f5f"
            },
            "marker": {
             "line": {
              "color": "#E5ECF6",
              "width": 0.5
             },
             "pattern": {
              "fillmode": "overlay",
              "size": 10,
              "solidity": 0.2
             }
            },
            "type": "bar"
           }
          ],
          "barpolar": [
           {
            "marker": {
             "line": {
              "color": "#E5ECF6",
              "width": 0.5
             },
             "pattern": {
              "fillmode": "overlay",
              "size": 10,
              "solidity": 0.2
             }
            },
            "type": "barpolar"
           }
          ],
          "carpet": [
           {
            "aaxis": {
             "endlinecolor": "#2a3f5f",
             "gridcolor": "white",
             "linecolor": "white",
             "minorgridcolor": "white",
             "startlinecolor": "#2a3f5f"
            },
            "baxis": {
             "endlinecolor": "#2a3f5f",
             "gridcolor": "white",
             "linecolor": "white",
             "minorgridcolor": "white",
             "startlinecolor": "#2a3f5f"
            },
            "type": "carpet"
           }
          ],
          "choropleth": [
           {
            "colorbar": {
             "outlinewidth": 0,
             "ticks": ""
            },
            "type": "choropleth"
           }
          ],
          "contour": [
           {
            "colorbar": {
             "outlinewidth": 0,
             "ticks": ""
            },
            "colorscale": [
             [
              0,
              "#0d0887"
             ],
             [
              0.1111111111111111,
              "#46039f"
             ],
             [
              0.2222222222222222,
              "#7201a8"
             ],
             [
              0.3333333333333333,
              "#9c179e"
             ],
             [
              0.4444444444444444,
              "#bd3786"
             ],
             [
              0.5555555555555556,
              "#d8576b"
             ],
             [
              0.6666666666666666,
              "#ed7953"
             ],
             [
              0.7777777777777778,
              "#fb9f3a"
             ],
             [
              0.8888888888888888,
              "#fdca26"
             ],
             [
              1,
              "#f0f921"
             ]
            ],
            "type": "contour"
           }
          ],
          "contourcarpet": [
           {
            "colorbar": {
             "outlinewidth": 0,
             "ticks": ""
            },
            "type": "contourcarpet"
           }
          ],
          "heatmap": [
           {
            "colorbar": {
             "outlinewidth": 0,
             "ticks": ""
            },
            "colorscale": [
             [
              0,
              "#0d0887"
             ],
             [
              0.1111111111111111,
              "#46039f"
             ],
             [
              0.2222222222222222,
              "#7201a8"
             ],
             [
              0.3333333333333333,
              "#9c179e"
             ],
             [
              0.4444444444444444,
              "#bd3786"
             ],
             [
              0.5555555555555556,
              "#d8576b"
             ],
             [
              0.6666666666666666,
              "#ed7953"
             ],
             [
              0.7777777777777778,
              "#fb9f3a"
             ],
             [
              0.8888888888888888,
              "#fdca26"
             ],
             [
              1,
              "#f0f921"
             ]
            ],
            "type": "heatmap"
           }
          ],
          "heatmapgl": [
           {
            "colorbar": {
             "outlinewidth": 0,
             "ticks": ""
            },
            "colorscale": [
             [
              0,
              "#0d0887"
             ],
             [
              0.1111111111111111,
              "#46039f"
             ],
             [
              0.2222222222222222,
              "#7201a8"
             ],
             [
              0.3333333333333333,
              "#9c179e"
             ],
             [
              0.4444444444444444,
              "#bd3786"
             ],
             [
              0.5555555555555556,
              "#d8576b"
             ],
             [
              0.6666666666666666,
              "#ed7953"
             ],
             [
              0.7777777777777778,
              "#fb9f3a"
             ],
             [
              0.8888888888888888,
              "#fdca26"
             ],
             [
              1,
              "#f0f921"
             ]
            ],
            "type": "heatmapgl"
           }
          ],
          "histogram": [
           {
            "marker": {
             "pattern": {
              "fillmode": "overlay",
              "size": 10,
              "solidity": 0.2
             }
            },
            "type": "histogram"
           }
          ],
          "histogram2d": [
           {
            "colorbar": {
             "outlinewidth": 0,
             "ticks": ""
            },
            "colorscale": [
             [
              0,
              "#0d0887"
             ],
             [
              0.1111111111111111,
              "#46039f"
             ],
             [
              0.2222222222222222,
              "#7201a8"
             ],
             [
              0.3333333333333333,
              "#9c179e"
             ],
             [
              0.4444444444444444,
              "#bd3786"
             ],
             [
              0.5555555555555556,
              "#d8576b"
             ],
             [
              0.6666666666666666,
              "#ed7953"
             ],
             [
              0.7777777777777778,
              "#fb9f3a"
             ],
             [
              0.8888888888888888,
              "#fdca26"
             ],
             [
              1,
              "#f0f921"
             ]
            ],
            "type": "histogram2d"
           }
          ],
          "histogram2dcontour": [
           {
            "colorbar": {
             "outlinewidth": 0,
             "ticks": ""
            },
            "colorscale": [
             [
              0,
              "#0d0887"
             ],
             [
              0.1111111111111111,
              "#46039f"
             ],
             [
              0.2222222222222222,
              "#7201a8"
             ],
             [
              0.3333333333333333,
              "#9c179e"
             ],
             [
              0.4444444444444444,
              "#bd3786"
             ],
             [
              0.5555555555555556,
              "#d8576b"
             ],
             [
              0.6666666666666666,
              "#ed7953"
             ],
             [
              0.7777777777777778,
              "#fb9f3a"
             ],
             [
              0.8888888888888888,
              "#fdca26"
             ],
             [
              1,
              "#f0f921"
             ]
            ],
            "type": "histogram2dcontour"
           }
          ],
          "mesh3d": [
           {
            "colorbar": {
             "outlinewidth": 0,
             "ticks": ""
            },
            "type": "mesh3d"
           }
          ],
          "parcoords": [
           {
            "line": {
             "colorbar": {
              "outlinewidth": 0,
              "ticks": ""
             }
            },
            "type": "parcoords"
           }
          ],
          "pie": [
           {
            "automargin": true,
            "type": "pie"
           }
          ],
          "scatter": [
           {
            "fillpattern": {
             "fillmode": "overlay",
             "size": 10,
             "solidity": 0.2
            },
            "type": "scatter"
           }
          ],
          "scatter3d": [
           {
            "line": {
             "colorbar": {
              "outlinewidth": 0,
              "ticks": ""
             }
            },
            "marker": {
             "colorbar": {
              "outlinewidth": 0,
              "ticks": ""
             }
            },
            "type": "scatter3d"
           }
          ],
          "scattercarpet": [
           {
            "marker": {
             "colorbar": {
              "outlinewidth": 0,
              "ticks": ""
             }
            },
            "type": "scattercarpet"
           }
          ],
          "scattergeo": [
           {
            "marker": {
             "colorbar": {
              "outlinewidth": 0,
              "ticks": ""
             }
            },
            "type": "scattergeo"
           }
          ],
          "scattergl": [
           {
            "marker": {
             "colorbar": {
              "outlinewidth": 0,
              "ticks": ""
             }
            },
            "type": "scattergl"
           }
          ],
          "scattermapbox": [
           {
            "marker": {
             "colorbar": {
              "outlinewidth": 0,
              "ticks": ""
             }
            },
            "type": "scattermapbox"
           }
          ],
          "scatterpolar": [
           {
            "marker": {
             "colorbar": {
              "outlinewidth": 0,
              "ticks": ""
             }
            },
            "type": "scatterpolar"
           }
          ],
          "scatterpolargl": [
           {
            "marker": {
             "colorbar": {
              "outlinewidth": 0,
              "ticks": ""
             }
            },
            "type": "scatterpolargl"
           }
          ],
          "scatterternary": [
           {
            "marker": {
             "colorbar": {
              "outlinewidth": 0,
              "ticks": ""
             }
            },
            "type": "scatterternary"
           }
          ],
          "surface": [
           {
            "colorbar": {
             "outlinewidth": 0,
             "ticks": ""
            },
            "colorscale": [
             [
              0,
              "#0d0887"
             ],
             [
              0.1111111111111111,
              "#46039f"
             ],
             [
              0.2222222222222222,
              "#7201a8"
             ],
             [
              0.3333333333333333,
              "#9c179e"
             ],
             [
              0.4444444444444444,
              "#bd3786"
             ],
             [
              0.5555555555555556,
              "#d8576b"
             ],
             [
              0.6666666666666666,
              "#ed7953"
             ],
             [
              0.7777777777777778,
              "#fb9f3a"
             ],
             [
              0.8888888888888888,
              "#fdca26"
             ],
             [
              1,
              "#f0f921"
             ]
            ],
            "type": "surface"
           }
          ],
          "table": [
           {
            "cells": {
             "fill": {
              "color": "#EBF0F8"
             },
             "line": {
              "color": "white"
             }
            },
            "header": {
             "fill": {
              "color": "#C8D4E3"
             },
             "line": {
              "color": "white"
             }
            },
            "type": "table"
           }
          ]
         },
         "layout": {
          "annotationdefaults": {
           "arrowcolor": "#2a3f5f",
           "arrowhead": 0,
           "arrowwidth": 1
          },
          "autotypenumbers": "strict",
          "coloraxis": {
           "colorbar": {
            "outlinewidth": 0,
            "ticks": ""
           }
          },
          "colorscale": {
           "diverging": [
            [
             0,
             "#8e0152"
            ],
            [
             0.1,
             "#c51b7d"
            ],
            [
             0.2,
             "#de77ae"
            ],
            [
             0.3,
             "#f1b6da"
            ],
            [
             0.4,
             "#fde0ef"
            ],
            [
             0.5,
             "#f7f7f7"
            ],
            [
             0.6,
             "#e6f5d0"
            ],
            [
             0.7,
             "#b8e186"
            ],
            [
             0.8,
             "#7fbc41"
            ],
            [
             0.9,
             "#4d9221"
            ],
            [
             1,
             "#276419"
            ]
           ],
           "sequential": [
            [
             0,
             "#0d0887"
            ],
            [
             0.1111111111111111,
             "#46039f"
            ],
            [
             0.2222222222222222,
             "#7201a8"
            ],
            [
             0.3333333333333333,
             "#9c179e"
            ],
            [
             0.4444444444444444,
             "#bd3786"
            ],
            [
             0.5555555555555556,
             "#d8576b"
            ],
            [
             0.6666666666666666,
             "#ed7953"
            ],
            [
             0.7777777777777778,
             "#fb9f3a"
            ],
            [
             0.8888888888888888,
             "#fdca26"
            ],
            [
             1,
             "#f0f921"
            ]
           ],
           "sequentialminus": [
            [
             0,
             "#0d0887"
            ],
            [
             0.1111111111111111,
             "#46039f"
            ],
            [
             0.2222222222222222,
             "#7201a8"
            ],
            [
             0.3333333333333333,
             "#9c179e"
            ],
            [
             0.4444444444444444,
             "#bd3786"
            ],
            [
             0.5555555555555556,
             "#d8576b"
            ],
            [
             0.6666666666666666,
             "#ed7953"
            ],
            [
             0.7777777777777778,
             "#fb9f3a"
            ],
            [
             0.8888888888888888,
             "#fdca26"
            ],
            [
             1,
             "#f0f921"
            ]
           ]
          },
          "colorway": [
           "#636efa",
           "#EF553B",
           "#00cc96",
           "#ab63fa",
           "#FFA15A",
           "#19d3f3",
           "#FF6692",
           "#B6E880",
           "#FF97FF",
           "#FECB52"
          ],
          "font": {
           "color": "#2a3f5f"
          },
          "geo": {
           "bgcolor": "white",
           "lakecolor": "white",
           "landcolor": "#E5ECF6",
           "showlakes": true,
           "showland": true,
           "subunitcolor": "white"
          },
          "hoverlabel": {
           "align": "left"
          },
          "hovermode": "closest",
          "mapbox": {
           "style": "light"
          },
          "paper_bgcolor": "white",
          "plot_bgcolor": "#E5ECF6",
          "polar": {
           "angularaxis": {
            "gridcolor": "white",
            "linecolor": "white",
            "ticks": ""
           },
           "bgcolor": "#E5ECF6",
           "radialaxis": {
            "gridcolor": "white",
            "linecolor": "white",
            "ticks": ""
           }
          },
          "scene": {
           "xaxis": {
            "backgroundcolor": "#E5ECF6",
            "gridcolor": "white",
            "gridwidth": 2,
            "linecolor": "white",
            "showbackground": true,
            "ticks": "",
            "zerolinecolor": "white"
           },
           "yaxis": {
            "backgroundcolor": "#E5ECF6",
            "gridcolor": "white",
            "gridwidth": 2,
            "linecolor": "white",
            "showbackground": true,
            "ticks": "",
            "zerolinecolor": "white"
           },
           "zaxis": {
            "backgroundcolor": "#E5ECF6",
            "gridcolor": "white",
            "gridwidth": 2,
            "linecolor": "white",
            "showbackground": true,
            "ticks": "",
            "zerolinecolor": "white"
           }
          },
          "shapedefaults": {
           "line": {
            "color": "#2a3f5f"
           }
          },
          "ternary": {
           "aaxis": {
            "gridcolor": "white",
            "linecolor": "white",
            "ticks": ""
           },
           "baxis": {
            "gridcolor": "white",
            "linecolor": "white",
            "ticks": ""
           },
           "bgcolor": "#E5ECF6",
           "caxis": {
            "gridcolor": "white",
            "linecolor": "white",
            "ticks": ""
           }
          },
          "title": {
           "x": 0.05
          },
          "xaxis": {
           "automargin": true,
           "gridcolor": "white",
           "linecolor": "white",
           "ticks": "",
           "title": {
            "standoff": 15
           },
           "zerolinecolor": "white",
           "zerolinewidth": 2
          },
          "yaxis": {
           "automargin": true,
           "gridcolor": "white",
           "linecolor": "white",
           "ticks": "",
           "title": {
            "standoff": 15
           },
           "zerolinecolor": "white",
           "zerolinewidth": 2
          }
         }
        },
        "xaxis": {
         "anchor": "y",
         "domain": [
          0,
          1
         ],
         "title": {
          "text": "energy_heating"
         }
        },
        "yaxis": {
         "anchor": "x",
         "domain": [
          0,
          1
         ],
         "title": {
          "text": "carbon"
         }
        }
       }
      }
     },
     "metadata": {},
     "output_type": "display_data"
    }
   ],
   "source": [
    "px.scatter(df_merged_s, y=\"carbon\", x=\"energy_heating\", color=\"geo\")"
   ]
  },
  {
   "cell_type": "code",
   "execution_count": 213,
   "metadata": {},
   "outputs": [],
   "source": [
    "from sklearn.metrics import r2_score"
   ]
  },
  {
   "cell_type": "code",
   "execution_count": 246,
   "metadata": {},
   "outputs": [],
   "source": [
    "np_remove = lambda a, i: np.concatenate([a[:i,], a[i + 1:,]])\n",
    "lin_reg = lambda X, Y: np.matmul(np.linalg.inv(np.matmul(X.T, X)), np.matmul(X.T, Y))\n",
    "\n",
    "def loo_cv_pred(X, Y):\n",
    "\t\"\"\"\n",
    "\tPredict Y values using leave one out cross validation\n",
    "\n",
    "\t:param X: The X features array (including bias column)\n",
    "\t:param Y: The true Y values\n",
    "\t:return: An array of the predicted Y-Vals\n",
    "\t\"\"\"\n",
    "\ty_pred = []\n",
    "\tfor i in range(len(X)):\n",
    "\t\tholdout_X = X[i]\n",
    "\t\t\n",
    "\t\tloo_X = np_remove(X, i)\n",
    "\t\tloo_y = np_remove(Y, i)\n",
    "\t\tloo_b = lin_reg(loo_X, loo_y)\n",
    "\n",
    "\t\ty_hat = np.matmul(holdout_X, loo_b)\n",
    "\t\ty_pred.append(y_hat)\n",
    "\t\n",
    "\treturn y_pred"
   ]
  },
  {
   "cell_type": "code",
   "execution_count": 247,
   "metadata": {},
   "outputs": [],
   "source": [
    "preds = loo_cv_pred(X, y)"
   ]
  },
  {
   "cell_type": "code",
   "execution_count": 248,
   "metadata": {},
   "outputs": [
    {
     "data": {
      "text/plain": [
       "0.6267042262195361"
      ]
     },
     "execution_count": 248,
     "metadata": {},
     "output_type": "execute_result"
    }
   ],
   "source": [
    "r2_score(y, preds)"
   ]
  },
  {
   "cell_type": "markdown",
   "metadata": {},
   "source": [
    "# Experiment: Model per country"
   ]
  },
  {
   "cell_type": "code",
   "execution_count": 279,
   "metadata": {},
   "outputs": [
    {
     "data": {
      "text/html": [
       "<div>\n",
       "<style scoped>\n",
       "    .dataframe tbody tr th:only-of-type {\n",
       "        vertical-align: middle;\n",
       "    }\n",
       "\n",
       "    .dataframe tbody tr th {\n",
       "        vertical-align: top;\n",
       "    }\n",
       "\n",
       "    .dataframe thead th {\n",
       "        text-align: right;\n",
       "    }\n",
       "</style>\n",
       "<table border=\"1\" class=\"dataframe\">\n",
       "  <thead>\n",
       "    <tr style=\"text-align: right;\">\n",
       "      <th></th>\n",
       "      <th>carbon</th>\n",
       "      <th>energy_heating</th>\n",
       "      <th>energy_cooling</th>\n",
       "      <th>energy_water_heating</th>\n",
       "      <th>energy_cooking</th>\n",
       "      <th>geo</th>\n",
       "    </tr>\n",
       "  </thead>\n",
       "  <tbody>\n",
       "    <tr>\n",
       "      <th>156</th>\n",
       "      <td>1.962098</td>\n",
       "      <td>3.156258</td>\n",
       "      <td>0.049519</td>\n",
       "      <td>1.422028</td>\n",
       "      <td>1.976399</td>\n",
       "      <td>FR</td>\n",
       "    </tr>\n",
       "    <tr>\n",
       "      <th>157</th>\n",
       "      <td>1.838539</td>\n",
       "      <td>2.430414</td>\n",
       "      <td>1.000927</td>\n",
       "      <td>1.636463</td>\n",
       "      <td>2.337869</td>\n",
       "      <td>FR</td>\n",
       "    </tr>\n",
       "    <tr>\n",
       "      <th>158</th>\n",
       "      <td>1.844259</td>\n",
       "      <td>2.873586</td>\n",
       "      <td>1.000302</td>\n",
       "      <td>1.614002</td>\n",
       "      <td>2.229544</td>\n",
       "      <td>FR</td>\n",
       "    </tr>\n",
       "    <tr>\n",
       "      <th>159</th>\n",
       "      <td>1.841121</td>\n",
       "      <td>3.118138</td>\n",
       "      <td>1.073088</td>\n",
       "      <td>1.635543</td>\n",
       "      <td>2.142887</td>\n",
       "      <td>FR</td>\n",
       "    </tr>\n",
       "    <tr>\n",
       "      <th>160</th>\n",
       "      <td>1.675800</td>\n",
       "      <td>2.240820</td>\n",
       "      <td>1.143476</td>\n",
       "      <td>1.616531</td>\n",
       "      <td>2.043686</td>\n",
       "      <td>FR</td>\n",
       "    </tr>\n",
       "    <tr>\n",
       "      <th>161</th>\n",
       "      <td>1.699596</td>\n",
       "      <td>2.474152</td>\n",
       "      <td>1.236836</td>\n",
       "      <td>1.629732</td>\n",
       "      <td>2.059423</td>\n",
       "      <td>FR</td>\n",
       "    </tr>\n",
       "    <tr>\n",
       "      <th>162</th>\n",
       "      <td>1.708232</td>\n",
       "      <td>2.677761</td>\n",
       "      <td>1.628912</td>\n",
       "      <td>1.660820</td>\n",
       "      <td>2.041405</td>\n",
       "      <td>FR</td>\n",
       "    </tr>\n",
       "    <tr>\n",
       "      <th>163</th>\n",
       "      <td>1.722893</td>\n",
       "      <td>2.583788</td>\n",
       "      <td>1.621449</td>\n",
       "      <td>1.696977</td>\n",
       "      <td>2.089008</td>\n",
       "      <td>FR</td>\n",
       "    </tr>\n",
       "    <tr>\n",
       "      <th>164</th>\n",
       "      <td>1.628270</td>\n",
       "      <td>2.434724</td>\n",
       "      <td>1.853032</td>\n",
       "      <td>1.704964</td>\n",
       "      <td>2.100902</td>\n",
       "      <td>FR</td>\n",
       "    </tr>\n",
       "    <tr>\n",
       "      <th>165</th>\n",
       "      <td>1.581249</td>\n",
       "      <td>2.432933</td>\n",
       "      <td>2.190273</td>\n",
       "      <td>1.693026</td>\n",
       "      <td>2.052831</td>\n",
       "      <td>FR</td>\n",
       "    </tr>\n",
       "    <tr>\n",
       "      <th>166</th>\n",
       "      <td>1.322488</td>\n",
       "      <td>2.249065</td>\n",
       "      <td>2.887347</td>\n",
       "      <td>1.799113</td>\n",
       "      <td>2.171680</td>\n",
       "      <td>FR</td>\n",
       "    </tr>\n",
       "    <tr>\n",
       "      <th>167</th>\n",
       "      <td>1.440005</td>\n",
       "      <td>2.637342</td>\n",
       "      <td>3.278921</td>\n",
       "      <td>1.689769</td>\n",
       "      <td>2.022219</td>\n",
       "      <td>FR</td>\n",
       "    </tr>\n",
       "    <tr>\n",
       "      <th>168</th>\n",
       "      <td>1.383980</td>\n",
       "      <td>2.214246</td>\n",
       "      <td>3.167601</td>\n",
       "      <td>1.415021</td>\n",
       "      <td>1.610834</td>\n",
       "      <td>FR</td>\n",
       "    </tr>\n",
       "  </tbody>\n",
       "</table>\n",
       "</div>"
      ],
      "text/plain": [
       "       carbon  energy_heating  energy_cooling  energy_water_heating  \\\n",
       "156  1.962098        3.156258        0.049519              1.422028   \n",
       "157  1.838539        2.430414        1.000927              1.636463   \n",
       "158  1.844259        2.873586        1.000302              1.614002   \n",
       "159  1.841121        3.118138        1.073088              1.635543   \n",
       "160  1.675800        2.240820        1.143476              1.616531   \n",
       "161  1.699596        2.474152        1.236836              1.629732   \n",
       "162  1.708232        2.677761        1.628912              1.660820   \n",
       "163  1.722893        2.583788        1.621449              1.696977   \n",
       "164  1.628270        2.434724        1.853032              1.704964   \n",
       "165  1.581249        2.432933        2.190273              1.693026   \n",
       "166  1.322488        2.249065        2.887347              1.799113   \n",
       "167  1.440005        2.637342        3.278921              1.689769   \n",
       "168  1.383980        2.214246        3.167601              1.415021   \n",
       "\n",
       "     energy_cooking geo  \n",
       "156        1.976399  FR  \n",
       "157        2.337869  FR  \n",
       "158        2.229544  FR  \n",
       "159        2.142887  FR  \n",
       "160        2.043686  FR  \n",
       "161        2.059423  FR  \n",
       "162        2.041405  FR  \n",
       "163        2.089008  FR  \n",
       "164        2.100902  FR  \n",
       "165        2.052831  FR  \n",
       "166        2.171680  FR  \n",
       "167        2.022219  FR  \n",
       "168        1.610834  FR  "
      ]
     },
     "execution_count": 279,
     "metadata": {},
     "output_type": "execute_result"
    }
   ],
   "source": [
    "df_be = df_merged_s.loc[df_merged_s[\"geo\"] == \"FR\"]\n",
    "df_be"
   ]
  },
  {
   "cell_type": "code",
   "execution_count": 280,
   "metadata": {},
   "outputs": [
    {
     "data": {
      "text/plain": [
       "array([[1.        , 3.15625764, 0.04951903, 1.4220275 , 1.97639861],\n",
       "       [1.        , 2.43041402, 1.00092731, 1.63646348, 2.33786898]])"
      ]
     },
     "execution_count": 280,
     "metadata": {},
     "output_type": "execute_result"
    }
   ],
   "source": [
    "X_be = np.pad(df_be.iloc[:, 1:5].to_numpy(), ((0,0), (1,0)), mode=\"constant\", constant_values=1)\n",
    "y_be = np.array(df_be[\"carbon\"])\n",
    "X_be[0:2,]"
   ]
  },
  {
   "cell_type": "code",
   "execution_count": 281,
   "metadata": {},
   "outputs": [],
   "source": [
    "beta_be = lin_reg(X_be, y_be)"
   ]
  },
  {
   "cell_type": "code",
   "execution_count": 282,
   "metadata": {},
   "outputs": [
    {
     "name": "stdout",
     "output_type": "stream",
     "text": [
      "[-0.05395949  0.03933248  0.00048339 -0.0018462  -0.02048255]\n"
     ]
    },
    {
     "data": {
      "text/plain": [
       "0.0"
      ]
     },
     "execution_count": 282,
     "metadata": {},
     "output_type": "execute_result"
    }
   ],
   "source": [
    "res_be = y_be - np.matmul(X_be, beta_be)\n",
    "print(res_be[0:5])\n",
    "round(sum(res_be), 1)"
   ]
  },
  {
   "cell_type": "code",
   "execution_count": 283,
   "metadata": {},
   "outputs": [
    {
     "data": {
      "image/png": "[encoded data removed]",
      "text/plain": [
       "<Figure size 640x480 with 1 Axes>"
      ]
     },
     "metadata": {},
     "output_type": "display_data"
    }
   ],
   "source": [
    "# x values versus residuals\n",
    "plt.scatter(X_be[:, 1:2], res_be, alpha=0.5)\n",
    "plt.xlabel(\"Energy\")\n",
    "plt.ylabel(\"Carbon\")\n",
    "plt.title(\"Residual Plot vs. X Values\")\n",
    "plt.show()"
   ]
  },
  {
   "cell_type": "code",
   "execution_count": 284,
   "metadata": {},
   "outputs": [
    {
     "data": {
      "image/png": "[encoded data removed]",
      "text/plain": [
       "<Figure size 640x480 with 1 Axes>"
      ]
     },
     "metadata": {},
     "output_type": "display_data"
    }
   ],
   "source": [
    "# residuals versus order\n",
    "plt.scatter(range(len(X_be[:,1:2])), res_be, alpha=0.5)\n",
    "plt.xlabel(\"Index\")\n",
    "plt.ylabel(\"Residuals\")\n",
    "plt.title(\"Residual Plot vs. Order\")\n",
    "plt.show()"
   ]
  },
  {
   "cell_type": "code",
   "execution_count": 285,
   "metadata": {},
   "outputs": [
    {
     "data": {
      "application/vnd.plotly.v1+json": {
       "config": {
        "plotlyServerURL": "https://plot.ly"
       },
       "data": [
        {
         "hovertemplate": "energy_heating=%{x}<br>carbon=%{y}<extra></extra>",
         "legendgroup": "",
         "marker": {
          "color": "#636efa",
          "symbol": "circle"
         },
         "mode": "markers",
         "name": "",
         "orientation": "v",
         "showlegend": false,
         "type": "scatter",
         "x": [
          3.1562576439596217,
          2.43041402208785,
          2.8735859313814993,
          3.1181375060994765,
          2.240820003968087,
          2.474151822482052,
          2.6777606081631156,
          2.5837882812797175,
          2.434724285758699,
          2.43293336970549,
          2.249065325119517,
          2.6373422201057712,
          2.214246034789166
         ],
         "xaxis": "x",
         "y": [
          1.9620982675870644,
          1.83853921534835,
          1.8442588285912038,
          1.8411212133551575,
          1.6758004100720165,
          1.6995957006611646,
          1.708231522772542,
          1.7228929806778095,
          1.6282695881123612,
          1.5812493333363307,
          1.3224884827700845,
          1.4400051912343974,
          1.3839804112432956
         ],
         "yaxis": "y"
        }
       ],
       "layout": {
        "legend": {
         "tracegroupgap": 0
        },
        "margin": {
         "t": 60
        },
        "template": {
         "data": {
          "bar": [
           {
            "error_x": {
             "color": "#2a3f5f"
            },
            "error_y": {
             "color": "#2a3f5f"
            },
            "marker": {
             "line": {
              "color": "#E5ECF6",
              "width": 0.5
             },
             "pattern": {
              "fillmode": "overlay",
              "size": 10,
              "solidity": 0.2
             }
            },
            "type": "bar"
           }
          ],
          "barpolar": [
           {
            "marker": {
             "line": {
              "color": "#E5ECF6",
              "width": 0.5
             },
             "pattern": {
              "fillmode": "overlay",
              "size": 10,
              "solidity": 0.2
             }
            },
            "type": "barpolar"
           }
          ],
          "carpet": [
           {
            "aaxis": {
             "endlinecolor": "#2a3f5f",
             "gridcolor": "white",
             "linecolor": "white",
             "minorgridcolor": "white",
             "startlinecolor": "#2a3f5f"
            },
            "baxis": {
             "endlinecolor": "#2a3f5f",
             "gridcolor": "white",
             "linecolor": "white",
             "minorgridcolor": "white",
             "startlinecolor": "#2a3f5f"
            },
            "type": "carpet"
           }
          ],
          "choropleth": [
           {
            "colorbar": {
             "outlinewidth": 0,
             "ticks": ""
            },
            "type": "choropleth"
           }
          ],
          "contour": [
           {
            "colorbar": {
             "outlinewidth": 0,
             "ticks": ""
            },
            "colorscale": [
             [
              0,
              "#0d0887"
             ],
             [
              0.1111111111111111,
              "#46039f"
             ],
             [
              0.2222222222222222,
              "#7201a8"
             ],
             [
              0.3333333333333333,
              "#9c179e"
             ],
             [
              0.4444444444444444,
              "#bd3786"
             ],
             [
              0.5555555555555556,
              "#d8576b"
             ],
             [
              0.6666666666666666,
              "#ed7953"
             ],
             [
              0.7777777777777778,
              "#fb9f3a"
             ],
             [
              0.8888888888888888,
              "#fdca26"
             ],
             [
              1,
              "#f0f921"
             ]
            ],
            "type": "contour"
           }
          ],
          "contourcarpet": [
           {
            "colorbar": {
             "outlinewidth": 0,
             "ticks": ""
            },
            "type": "contourcarpet"
           }
          ],
          "heatmap": [
           {
            "colorbar": {
             "outlinewidth": 0,
             "ticks": ""
            },
            "colorscale": [
             [
              0,
              "#0d0887"
             ],
             [
              0.1111111111111111,
              "#46039f"
             ],
             [
              0.2222222222222222,
              "#7201a8"
             ],
             [
              0.3333333333333333,
              "#9c179e"
             ],
             [
              0.4444444444444444,
              "#bd3786"
             ],
             [
              0.5555555555555556,
              "#d8576b"
             ],
             [
              0.6666666666666666,
              "#ed7953"
             ],
             [
              0.7777777777777778,
              "#fb9f3a"
             ],
             [
              0.8888888888888888,
              "#fdca26"
             ],
             [
              1,
              "#f0f921"
             ]
            ],
            "type": "heatmap"
           }
          ],
          "heatmapgl": [
           {
            "colorbar": {
             "outlinewidth": 0,
             "ticks": ""
            },
            "colorscale": [
             [
              0,
              "#0d0887"
             ],
             [
              0.1111111111111111,
              "#46039f"
             ],
             [
              0.2222222222222222,
              "#7201a8"
             ],
             [
              0.3333333333333333,
              "#9c179e"
             ],
             [
              0.4444444444444444,
              "#bd3786"
             ],
             [
              0.5555555555555556,
              "#d8576b"
             ],
             [
              0.6666666666666666,
              "#ed7953"
             ],
             [
              0.7777777777777778,
              "#fb9f3a"
             ],
             [
              0.8888888888888888,
              "#fdca26"
             ],
             [
              1,
              "#f0f921"
             ]
            ],
            "type": "heatmapgl"
           }
          ],
          "histogram": [
           {
            "marker": {
             "pattern": {
              "fillmode": "overlay",
              "size": 10,
              "solidity": 0.2
             }
            },
            "type": "histogram"
           }
          ],
          "histogram2d": [
           {
            "colorbar": {
             "outlinewidth": 0,
             "ticks": ""
            },
            "colorscale": [
             [
              0,
              "#0d0887"
             ],
             [
              0.1111111111111111,
              "#46039f"
             ],
             [
              0.2222222222222222,
              "#7201a8"
             ],
             [
              0.3333333333333333,
              "#9c179e"
             ],
             [
              0.4444444444444444,
              "#bd3786"
             ],
             [
              0.5555555555555556,
              "#d8576b"
             ],
             [
              0.6666666666666666,
              "#ed7953"
             ],
             [
              0.7777777777777778,
              "#fb9f3a"
             ],
             [
              0.8888888888888888,
              "#fdca26"
             ],
             [
              1,
              "#f0f921"
             ]
            ],
            "type": "histogram2d"
           }
          ],
          "histogram2dcontour": [
           {
            "colorbar": {
             "outlinewidth": 0,
             "ticks": ""
            },
            "colorscale": [
             [
              0,
              "#0d0887"
             ],
             [
              0.1111111111111111,
              "#46039f"
             ],
             [
              0.2222222222222222,
              "#7201a8"
             ],
             [
              0.3333333333333333,
              "#9c179e"
             ],
             [
              0.4444444444444444,
              "#bd3786"
             ],
             [
              0.5555555555555556,
              "#d8576b"
             ],
             [
              0.6666666666666666,
              "#ed7953"
             ],
             [
              0.7777777777777778,
              "#fb9f3a"
             ],
             [
              0.8888888888888888,
              "#fdca26"
             ],
             [
              1,
              "#f0f921"
             ]
            ],
            "type": "histogram2dcontour"
           }
          ],
          "mesh3d": [
           {
            "colorbar": {
             "outlinewidth": 0,
             "ticks": ""
            },
            "type": "mesh3d"
           }
          ],
          "parcoords": [
           {
            "line": {
             "colorbar": {
              "outlinewidth": 0,
              "ticks": ""
             }
            },
            "type": "parcoords"
           }
          ],
          "pie": [
           {
            "automargin": true,
            "type": "pie"
           }
          ],
          "scatter": [
           {
            "fillpattern": {
             "fillmode": "overlay",
             "size": 10,
             "solidity": 0.2
            },
            "type": "scatter"
           }
          ],
          "scatter3d": [
           {
            "line": {
             "colorbar": {
              "outlinewidth": 0,
              "ticks": ""
             }
            },
            "marker": {
             "colorbar": {
              "outlinewidth": 0,
              "ticks": ""
             }
            },
            "type": "scatter3d"
           }
          ],
          "scattercarpet": [
           {
            "marker": {
             "colorbar": {
              "outlinewidth": 0,
              "ticks": ""
             }
            },
            "type": "scattercarpet"
           }
          ],
          "scattergeo": [
           {
            "marker": {
             "colorbar": {
              "outlinewidth": 0,
              "ticks": ""
             }
            },
            "type": "scattergeo"
           }
          ],
          "scattergl": [
           {
            "marker": {
             "colorbar": {
              "outlinewidth": 0,
              "ticks": ""
             }
            },
            "type": "scattergl"
           }
          ],
          "scattermapbox": [
           {
            "marker": {
             "colorbar": {
              "outlinewidth": 0,
              "ticks": ""
             }
            },
            "type": "scattermapbox"
           }
          ],
          "scatterpolar": [
           {
            "marker": {
             "colorbar": {
              "outlinewidth": 0,
              "ticks": ""
             }
            },
            "type": "scatterpolar"
           }
          ],
          "scatterpolargl": [
           {
            "marker": {
             "colorbar": {
              "outlinewidth": 0,
              "ticks": ""
             }
            },
            "type": "scatterpolargl"
           }
          ],
          "scatterternary": [
           {
            "marker": {
             "colorbar": {
              "outlinewidth": 0,
              "ticks": ""
             }
            },
            "type": "scatterternary"
           }
          ],
          "surface": [
           {
            "colorbar": {
             "outlinewidth": 0,
             "ticks": ""
            },
            "colorscale": [
             [
              0,
              "#0d0887"
             ],
             [
              0.1111111111111111,
              "#46039f"
             ],
             [
              0.2222222222222222,
              "#7201a8"
             ],
             [
              0.3333333333333333,
              "#9c179e"
             ],
             [
              0.4444444444444444,
              "#bd3786"
             ],
             [
              0.5555555555555556,
              "#d8576b"
             ],
             [
              0.6666666666666666,
              "#ed7953"
             ],
             [
              0.7777777777777778,
              "#fb9f3a"
             ],
             [
              0.8888888888888888,
              "#fdca26"
             ],
             [
              1,
              "#f0f921"
             ]
            ],
            "type": "surface"
           }
          ],
          "table": [
           {
            "cells": {
             "fill": {
              "color": "#EBF0F8"
             },
             "line": {
              "color": "white"
             }
            },
            "header": {
             "fill": {
              "color": "#C8D4E3"
             },
             "line": {
              "color": "white"
             }
            },
            "type": "table"
           }
          ]
         },
         "layout": {
          "annotationdefaults": {
           "arrowcolor": "#2a3f5f",
           "arrowhead": 0,
           "arrowwidth": 1
          },
          "autotypenumbers": "strict",
          "coloraxis": {
           "colorbar": {
            "outlinewidth": 0,
            "ticks": ""
           }
          },
          "colorscale": {
           "diverging": [
            [
             0,
             "#8e0152"
            ],
            [
             0.1,
             "#c51b7d"
            ],
            [
             0.2,
             "#de77ae"
            ],
            [
             0.3,
             "#f1b6da"
            ],
            [
             0.4,
             "#fde0ef"
            ],
            [
             0.5,
             "#f7f7f7"
            ],
            [
             0.6,
             "#e6f5d0"
            ],
            [
             0.7,
             "#b8e186"
            ],
            [
             0.8,
             "#7fbc41"
            ],
            [
             0.9,
             "#4d9221"
            ],
            [
             1,
             "#276419"
            ]
           ],
           "sequential": [
            [
             0,
             "#0d0887"
            ],
            [
             0.1111111111111111,
             "#46039f"
            ],
            [
             0.2222222222222222,
             "#7201a8"
            ],
            [
             0.3333333333333333,
             "#9c179e"
            ],
            [
             0.4444444444444444,
             "#bd3786"
            ],
            [
             0.5555555555555556,
             "#d8576b"
            ],
            [
             0.6666666666666666,
             "#ed7953"
            ],
            [
             0.7777777777777778,
             "#fb9f3a"
            ],
            [
             0.8888888888888888,
             "#fdca26"
            ],
            [
             1,
             "#f0f921"
            ]
           ],
           "sequentialminus": [
            [
             0,
             "#0d0887"
            ],
            [
             0.1111111111111111,
             "#46039f"
            ],
            [
             0.2222222222222222,
             "#7201a8"
            ],
            [
             0.3333333333333333,
             "#9c179e"
            ],
            [
             0.4444444444444444,
             "#bd3786"
            ],
            [
             0.5555555555555556,
             "#d8576b"
            ],
            [
             0.6666666666666666,
             "#ed7953"
            ],
            [
             0.7777777777777778,
             "#fb9f3a"
            ],
            [
             0.8888888888888888,
             "#fdca26"
            ],
            [
             1,
             "#f0f921"
            ]
           ]
          },
          "colorway": [
           "#636efa",
           "#EF553B",
           "#00cc96",
           "#ab63fa",
           "#FFA15A",
           "#19d3f3",
           "#FF6692",
           "#B6E880",
           "#FF97FF",
           "#FECB52"
          ],
          "font": {
           "color": "#2a3f5f"
          },
          "geo": {
           "bgcolor": "white",
           "lakecolor": "white",
           "landcolor": "#E5ECF6",
           "showlakes": true,
           "showland": true,
           "subunitcolor": "white"
          },
          "hoverlabel": {
           "align": "left"
          },
          "hovermode": "closest",
          "mapbox": {
           "style": "light"
          },
          "paper_bgcolor": "white",
          "plot_bgcolor": "#E5ECF6",
          "polar": {
           "angularaxis": {
            "gridcolor": "white",
            "linecolor": "white",
            "ticks": ""
           },
           "bgcolor": "#E5ECF6",
           "radialaxis": {
            "gridcolor": "white",
            "linecolor": "white",
            "ticks": ""
           }
          },
          "scene": {
           "xaxis": {
            "backgroundcolor": "#E5ECF6",
            "gridcolor": "white",
            "gridwidth": 2,
            "linecolor": "white",
            "showbackground": true,
            "ticks": "",
            "zerolinecolor": "white"
           },
           "yaxis": {
            "backgroundcolor": "#E5ECF6",
            "gridcolor": "white",
            "gridwidth": 2,
            "linecolor": "white",
            "showbackground": true,
            "ticks": "",
            "zerolinecolor": "white"
           },
           "zaxis": {
            "backgroundcolor": "#E5ECF6",
            "gridcolor": "white",
            "gridwidth": 2,
            "linecolor": "white",
            "showbackground": true,
            "ticks": "",
            "zerolinecolor": "white"
           }
          },
          "shapedefaults": {
           "line": {
            "color": "#2a3f5f"
           }
          },
          "ternary": {
           "aaxis": {
            "gridcolor": "white",
            "linecolor": "white",
            "ticks": ""
           },
           "baxis": {
            "gridcolor": "white",
            "linecolor": "white",
            "ticks": ""
           },
           "bgcolor": "#E5ECF6",
           "caxis": {
            "gridcolor": "white",
            "linecolor": "white",
            "ticks": ""
           }
          },
          "title": {
           "x": 0.05
          },
          "xaxis": {
           "automargin": true,
           "gridcolor": "white",
           "linecolor": "white",
           "ticks": "",
           "title": {
            "standoff": 15
           },
           "zerolinecolor": "white",
           "zerolinewidth": 2
          },
          "yaxis": {
           "automargin": true,
           "gridcolor": "white",
           "linecolor": "white",
           "ticks": "",
           "title": {
            "standoff": 15
           },
           "zerolinecolor": "white",
           "zerolinewidth": 2
          }
         }
        },
        "xaxis": {
         "anchor": "y",
         "domain": [
          0,
          1
         ],
         "title": {
          "text": "energy_heating"
         }
        },
        "yaxis": {
         "anchor": "x",
         "domain": [
          0,
          1
         ],
         "title": {
          "text": "carbon"
         }
        }
       }
      }
     },
     "metadata": {},
     "output_type": "display_data"
    }
   ],
   "source": [
    "px.scatter(df_be, x=\"energy_heating\", y=\"carbon\")"
   ]
  },
  {
   "cell_type": "code",
   "execution_count": 286,
   "metadata": {},
   "outputs": [],
   "source": [
    "preds_be = loo_cv_pred(X_be, y_be)"
   ]
  },
  {
   "cell_type": "code",
   "execution_count": 287,
   "metadata": {},
   "outputs": [
    {
     "data": {
      "text/plain": [
       "0.8016784112747927"
      ]
     },
     "execution_count": 287,
     "metadata": {},
     "output_type": "execute_result"
    }
   ],
   "source": [
    "r2_score(y_be, preds_be)"
   ]
  },
  {
   "cell_type": "code",
   "execution_count": null,
   "metadata": {},
   "outputs": [],
   "source": []
  }
 ],
 "metadata": {
  "kernelspec": {
   "display_name": "wafflers",
   "language": "python",
   "name": "python3"
  },
  "language_info": {
   "codemirror_mode": {
    "name": "ipython",
    "version": 3
   },
   "file_extension": ".py",
   "mimetype": "text/x-python",
   "name": "python",
   "nbconvert_exporter": "python",
   "pygments_lexer": "ipython3",
   "version": "3.11.9"
  }
 },
 "nbformat": 4,
 "nbformat_minor": 2
}
