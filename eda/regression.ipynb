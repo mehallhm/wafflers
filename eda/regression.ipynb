{
 "cells": [
  {
   "cell_type": "code",
   "execution_count": 1,
   "metadata": {},
   "outputs": [],
   "source": [
    "import pandas as pd\n",
    "import numpy as np"
   ]
  },
  {
   "cell_type": "code",
   "execution_count": null,
   "metadata": {},
   "outputs": [],
   "source": [
    "def standardize_feats(df: pd.DataFrame) -> pd.DataFrame:\n",
    "\t\"\"\"\n",
    "\tStandardize all numerical columns of the inputed dataframe\n",
    "\t:param df: The dataframe to standardize\n",
    "\t:returns: A new dataframe with all numerical columns standardized\n",
    "\t\"\"\"\n",
    "\tfor feat in df.columns:\n",
    "\t\tpass"
   ]
  }
 ],
 "metadata": {
  "kernelspec": {
   "display_name": "wafflers",
   "language": "python",
   "name": "python3"
  },
  "language_info": {
   "codemirror_mode": {
    "name": "ipython",
    "version": 3
   },
   "file_extension": ".py",
   "mimetype": "text/x-python",
   "name": "python",
   "nbconvert_exporter": "python",
   "pygments_lexer": "ipython3",
   "version": "3.11.9"
  }
 },
 "nbformat": 4,
 "nbformat_minor": 2
}
